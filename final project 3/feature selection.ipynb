{
 "cells": [
  {
   "cell_type": "code",
   "execution_count": 2,
   "metadata": {},
   "outputs": [],
   "source": [
    "import pandas as pd\n",
    "import numpy as np\n",
    "import random\n",
    "import pandas as pd\n",
    "pd.options.display.float_format = '{:.2f}'.format # suppress scientific notation\n",
    "import numpy as np\n",
    "import datetime as dt\n",
    "from scipy.stats.mstats import mode\n",
    "from scipy import stats\n",
    "from scipy.stats import ks_2samp\n",
    "import scipy.integrate as integrate\n",
    "from sklearn.model_selection import train_test_split\n",
    "from sklearn.linear_model import LogisticRegression\n",
    "from sklearn.metrics import classification_report\n",
    "from sklearn.metrics import roc_auc_score\n",
    "from sklearn.metrics import confusion_matrix\n",
    "from sklearn.feature_selection import RFECV\n",
    "from sklearn.model_selection import StratifiedKFold\n",
    "from sklearn.feature_selection import RFE\n",
    "import matplotlib.pyplot as plt"
   ]
  },
  {
   "cell_type": "code",
   "execution_count": 3,
   "metadata": {},
   "outputs": [
    {
     "name": "stdout",
     "output_type": "stream",
     "text": [
      "CPU times: user 41.4 s, sys: 14.2 s, total: 55.6 s\n",
      "Wall time: 52 s\n"
     ]
    }
   ],
   "source": [
    "%%time\n",
    "data=pd.read_csv('data_after_KS.csv')\n",
    "df = pd.read_csv('final dataset.csv')"
   ]
  },
  {
   "cell_type": "code",
   "execution_count": 10,
   "metadata": {},
   "outputs": [
    {
     "data": {
      "text/html": [
       "<div>\n",
       "<style scoped>\n",
       "    .dataframe tbody tr th:only-of-type {\n",
       "        vertical-align: middle;\n",
       "    }\n",
       "\n",
       "    .dataframe tbody tr th {\n",
       "        vertical-align: top;\n",
       "    }\n",
       "\n",
       "    .dataframe thead th {\n",
       "        text-align: right;\n",
       "    }\n",
       "</style>\n",
       "<table border=\"1\" class=\"dataframe\">\n",
       "  <thead>\n",
       "    <tr style=\"text-align: right;\">\n",
       "      <th></th>\n",
       "      <th>Unnamed: 0</th>\n",
       "      <th>fraud_label</th>\n",
       "      <th>Days_since_per_zip5_strfulladdress</th>\n",
       "      <th>Days_since_per_addressfulladdress</th>\n",
       "      <th>Days_since_per_fulladdress</th>\n",
       "      <th>Days_since_per_addresszip5_str</th>\n",
       "      <th>dataaddressfulladdress14agg</th>\n",
       "      <th>datazip5_strfulladdress14agg</th>\n",
       "      <th>datafulladdress14agg</th>\n",
       "      <th>dataaddresszip5_str14agg</th>\n",
       "      <th>...</th>\n",
       "      <th>datazip5_strhomephone0agg</th>\n",
       "      <th>datafirstnamelastname0agg</th>\n",
       "      <th>datassnnameDOB0agg</th>\n",
       "      <th>datadob_strnameDOB0agg</th>\n",
       "      <th>datanameDOB0agg</th>\n",
       "      <th>datalastnamenameDOB0agg</th>\n",
       "      <th>datafirstnamenameDOB0agg</th>\n",
       "      <th>datassnlastname0agg</th>\n",
       "      <th>datassnfirstname0agg</th>\n",
       "      <th>datassndob_str0agg</th>\n",
       "    </tr>\n",
       "  </thead>\n",
       "  <tbody>\n",
       "    <tr>\n",
       "      <th>0</th>\n",
       "      <td>1</td>\n",
       "      <td>0</td>\n",
       "      <td>365</td>\n",
       "      <td>365</td>\n",
       "      <td>365</td>\n",
       "      <td>365</td>\n",
       "      <td>1</td>\n",
       "      <td>1</td>\n",
       "      <td>1</td>\n",
       "      <td>1</td>\n",
       "      <td>...</td>\n",
       "      <td>1</td>\n",
       "      <td>1</td>\n",
       "      <td>1</td>\n",
       "      <td>1</td>\n",
       "      <td>1</td>\n",
       "      <td>1</td>\n",
       "      <td>1</td>\n",
       "      <td>1</td>\n",
       "      <td>1</td>\n",
       "      <td>1</td>\n",
       "    </tr>\n",
       "    <tr>\n",
       "      <th>1</th>\n",
       "      <td>2</td>\n",
       "      <td>1</td>\n",
       "      <td>365</td>\n",
       "      <td>365</td>\n",
       "      <td>365</td>\n",
       "      <td>365</td>\n",
       "      <td>1</td>\n",
       "      <td>1</td>\n",
       "      <td>1</td>\n",
       "      <td>1</td>\n",
       "      <td>...</td>\n",
       "      <td>1</td>\n",
       "      <td>1</td>\n",
       "      <td>1</td>\n",
       "      <td>1</td>\n",
       "      <td>1</td>\n",
       "      <td>1</td>\n",
       "      <td>1</td>\n",
       "      <td>1</td>\n",
       "      <td>1</td>\n",
       "      <td>1</td>\n",
       "    </tr>\n",
       "    <tr>\n",
       "      <th>2</th>\n",
       "      <td>3</td>\n",
       "      <td>0</td>\n",
       "      <td>365</td>\n",
       "      <td>365</td>\n",
       "      <td>365</td>\n",
       "      <td>365</td>\n",
       "      <td>1</td>\n",
       "      <td>1</td>\n",
       "      <td>1</td>\n",
       "      <td>1</td>\n",
       "      <td>...</td>\n",
       "      <td>1</td>\n",
       "      <td>1</td>\n",
       "      <td>1</td>\n",
       "      <td>1</td>\n",
       "      <td>1</td>\n",
       "      <td>1</td>\n",
       "      <td>1</td>\n",
       "      <td>1</td>\n",
       "      <td>1</td>\n",
       "      <td>1</td>\n",
       "    </tr>\n",
       "    <tr>\n",
       "      <th>3</th>\n",
       "      <td>4</td>\n",
       "      <td>0</td>\n",
       "      <td>365</td>\n",
       "      <td>365</td>\n",
       "      <td>365</td>\n",
       "      <td>365</td>\n",
       "      <td>1</td>\n",
       "      <td>1</td>\n",
       "      <td>1</td>\n",
       "      <td>1</td>\n",
       "      <td>...</td>\n",
       "      <td>1</td>\n",
       "      <td>1</td>\n",
       "      <td>1</td>\n",
       "      <td>1</td>\n",
       "      <td>1</td>\n",
       "      <td>1</td>\n",
       "      <td>1</td>\n",
       "      <td>1</td>\n",
       "      <td>1</td>\n",
       "      <td>1</td>\n",
       "    </tr>\n",
       "    <tr>\n",
       "      <th>4</th>\n",
       "      <td>5</td>\n",
       "      <td>0</td>\n",
       "      <td>365</td>\n",
       "      <td>365</td>\n",
       "      <td>365</td>\n",
       "      <td>365</td>\n",
       "      <td>1</td>\n",
       "      <td>1</td>\n",
       "      <td>1</td>\n",
       "      <td>1</td>\n",
       "      <td>...</td>\n",
       "      <td>1</td>\n",
       "      <td>1</td>\n",
       "      <td>1</td>\n",
       "      <td>1</td>\n",
       "      <td>1</td>\n",
       "      <td>1</td>\n",
       "      <td>1</td>\n",
       "      <td>1</td>\n",
       "      <td>1</td>\n",
       "      <td>1</td>\n",
       "    </tr>\n",
       "  </tbody>\n",
       "</table>\n",
       "<p>5 rows × 126 columns</p>\n",
       "</div>"
      ],
      "text/plain": [
       "   Unnamed: 0  fraud_label  Days_since_per_zip5_strfulladdress  \\\n",
       "0           1            0                                 365   \n",
       "1           2            1                                 365   \n",
       "2           3            0                                 365   \n",
       "3           4            0                                 365   \n",
       "4           5            0                                 365   \n",
       "\n",
       "   Days_since_per_addressfulladdress  Days_since_per_fulladdress  \\\n",
       "0                                365                         365   \n",
       "1                                365                         365   \n",
       "2                                365                         365   \n",
       "3                                365                         365   \n",
       "4                                365                         365   \n",
       "\n",
       "   Days_since_per_addresszip5_str  dataaddressfulladdress14agg  \\\n",
       "0                             365                            1   \n",
       "1                             365                            1   \n",
       "2                             365                            1   \n",
       "3                             365                            1   \n",
       "4                             365                            1   \n",
       "\n",
       "   datazip5_strfulladdress14agg  datafulladdress14agg  \\\n",
       "0                             1                     1   \n",
       "1                             1                     1   \n",
       "2                             1                     1   \n",
       "3                             1                     1   \n",
       "4                             1                     1   \n",
       "\n",
       "   dataaddresszip5_str14agg         ...          datazip5_strhomephone0agg  \\\n",
       "0                         1         ...                                  1   \n",
       "1                         1         ...                                  1   \n",
       "2                         1         ...                                  1   \n",
       "3                         1         ...                                  1   \n",
       "4                         1         ...                                  1   \n",
       "\n",
       "   datafirstnamelastname0agg  datassnnameDOB0agg  datadob_strnameDOB0agg  \\\n",
       "0                          1                   1                       1   \n",
       "1                          1                   1                       1   \n",
       "2                          1                   1                       1   \n",
       "3                          1                   1                       1   \n",
       "4                          1                   1                       1   \n",
       "\n",
       "   datanameDOB0agg  datalastnamenameDOB0agg  datafirstnamenameDOB0agg  \\\n",
       "0                1                        1                         1   \n",
       "1                1                        1                         1   \n",
       "2                1                        1                         1   \n",
       "3                1                        1                         1   \n",
       "4                1                        1                         1   \n",
       "\n",
       "   datassnlastname0agg  datassnfirstname0agg  datassndob_str0agg  \n",
       "0                    1                     1                   1  \n",
       "1                    1                     1                   1  \n",
       "2                    1                     1                   1  \n",
       "3                    1                     1                   1  \n",
       "4                    1                     1                   1  \n",
       "\n",
       "[5 rows x 126 columns]"
      ]
     },
     "execution_count": 10,
     "metadata": {},
     "output_type": "execute_result"
    }
   ],
   "source": [
    "data.head()"
   ]
  },
  {
   "cell_type": "code",
   "execution_count": 5,
   "metadata": {},
   "outputs": [],
   "source": [
    "ks_fdr= pd.read_csv('KSFDR_ranking-1.csv')"
   ]
  },
  {
   "cell_type": "code",
   "execution_count": 8,
   "metadata": {},
   "outputs": [
    {
     "data": {
      "text/html": [
       "<div>\n",
       "<style scoped>\n",
       "    .dataframe tbody tr th:only-of-type {\n",
       "        vertical-align: middle;\n",
       "    }\n",
       "\n",
       "    .dataframe tbody tr th {\n",
       "        vertical-align: top;\n",
       "    }\n",
       "\n",
       "    .dataframe thead th {\n",
       "        text-align: right;\n",
       "    }\n",
       "</style>\n",
       "<table border=\"1\" class=\"dataframe\">\n",
       "  <thead>\n",
       "    <tr style=\"text-align: right;\">\n",
       "      <th></th>\n",
       "      <th>field</th>\n",
       "      <th>ks</th>\n",
       "      <th>FDR</th>\n",
       "      <th>rank_ks</th>\n",
       "      <th>rank_FDR</th>\n",
       "      <th>average_rank</th>\n",
       "    </tr>\n",
       "  </thead>\n",
       "  <tbody>\n",
       "    <tr>\n",
       "      <th>0</th>\n",
       "      <td>fraud_label</td>\n",
       "      <td>1.00</td>\n",
       "      <td>100.00%</td>\n",
       "      <td>256.00</td>\n",
       "      <td>256.00</td>\n",
       "      <td>256.00</td>\n",
       "    </tr>\n",
       "    <tr>\n",
       "      <th>1</th>\n",
       "      <td>Days_since_per_zip5_strfulladdress</td>\n",
       "      <td>0.33</td>\n",
       "      <td>35.44%</td>\n",
       "      <td>254.50</td>\n",
       "      <td>254.50</td>\n",
       "      <td>254.50</td>\n",
       "    </tr>\n",
       "    <tr>\n",
       "      <th>2</th>\n",
       "      <td>Days_since_per_addressfulladdress</td>\n",
       "      <td>0.33</td>\n",
       "      <td>35.44%</td>\n",
       "      <td>254.50</td>\n",
       "      <td>254.50</td>\n",
       "      <td>254.50</td>\n",
       "    </tr>\n",
       "    <tr>\n",
       "      <th>3</th>\n",
       "      <td>Days_since_per_fulladdress</td>\n",
       "      <td>0.33</td>\n",
       "      <td>35.37%</td>\n",
       "      <td>253.00</td>\n",
       "      <td>253.00</td>\n",
       "      <td>253.00</td>\n",
       "    </tr>\n",
       "    <tr>\n",
       "      <th>4</th>\n",
       "      <td>Days_since_per_addresszip5_str</td>\n",
       "      <td>0.33</td>\n",
       "      <td>35.34%</td>\n",
       "      <td>252.00</td>\n",
       "      <td>252.00</td>\n",
       "      <td>252.00</td>\n",
       "    </tr>\n",
       "    <tr>\n",
       "      <th>5</th>\n",
       "      <td>dataaddressfulladdress14agg</td>\n",
       "      <td>0.32</td>\n",
       "      <td>34.05%</td>\n",
       "      <td>249.50</td>\n",
       "      <td>249.50</td>\n",
       "      <td>249.50</td>\n",
       "    </tr>\n",
       "    <tr>\n",
       "      <th>6</th>\n",
       "      <td>datazip5_strfulladdress14agg</td>\n",
       "      <td>0.32</td>\n",
       "      <td>34.05%</td>\n",
       "      <td>249.50</td>\n",
       "      <td>249.50</td>\n",
       "      <td>249.50</td>\n",
       "    </tr>\n",
       "    <tr>\n",
       "      <th>7</th>\n",
       "      <td>datafulladdress14agg</td>\n",
       "      <td>0.32</td>\n",
       "      <td>34.05%</td>\n",
       "      <td>249.50</td>\n",
       "      <td>249.50</td>\n",
       "      <td>249.50</td>\n",
       "    </tr>\n",
       "    <tr>\n",
       "      <th>8</th>\n",
       "      <td>dataaddresszip5_str14agg</td>\n",
       "      <td>0.32</td>\n",
       "      <td>34.05%</td>\n",
       "      <td>249.50</td>\n",
       "      <td>249.50</td>\n",
       "      <td>249.50</td>\n",
       "    </tr>\n",
       "    <tr>\n",
       "      <th>9</th>\n",
       "      <td>datazip5_strfulladdress7agg</td>\n",
       "      <td>0.30</td>\n",
       "      <td>31.97%</td>\n",
       "      <td>245.50</td>\n",
       "      <td>245.50</td>\n",
       "      <td>245.50</td>\n",
       "    </tr>\n",
       "    <tr>\n",
       "      <th>10</th>\n",
       "      <td>datafulladdress7agg</td>\n",
       "      <td>0.30</td>\n",
       "      <td>31.97%</td>\n",
       "      <td>245.50</td>\n",
       "      <td>245.50</td>\n",
       "      <td>245.50</td>\n",
       "    </tr>\n",
       "    <tr>\n",
       "      <th>11</th>\n",
       "      <td>dataaddressfulladdress7agg</td>\n",
       "      <td>0.30</td>\n",
       "      <td>31.97%</td>\n",
       "      <td>245.50</td>\n",
       "      <td>245.50</td>\n",
       "      <td>245.50</td>\n",
       "    </tr>\n",
       "    <tr>\n",
       "      <th>12</th>\n",
       "      <td>dataaddresszip5_str7agg</td>\n",
       "      <td>0.30</td>\n",
       "      <td>31.97%</td>\n",
       "      <td>245.50</td>\n",
       "      <td>245.50</td>\n",
       "      <td>245.50</td>\n",
       "    </tr>\n",
       "    <tr>\n",
       "      <th>13</th>\n",
       "      <td>dataaddresszip5_str3agg</td>\n",
       "      <td>0.28</td>\n",
       "      <td>29.70%</td>\n",
       "      <td>241.50</td>\n",
       "      <td>241.50</td>\n",
       "      <td>241.50</td>\n",
       "    </tr>\n",
       "    <tr>\n",
       "      <th>14</th>\n",
       "      <td>dataaddressfulladdress3agg</td>\n",
       "      <td>0.28</td>\n",
       "      <td>29.70%</td>\n",
       "      <td>241.50</td>\n",
       "      <td>241.50</td>\n",
       "      <td>241.50</td>\n",
       "    </tr>\n",
       "    <tr>\n",
       "      <th>15</th>\n",
       "      <td>datafulladdress3agg</td>\n",
       "      <td>0.28</td>\n",
       "      <td>29.70%</td>\n",
       "      <td>241.50</td>\n",
       "      <td>241.50</td>\n",
       "      <td>241.50</td>\n",
       "    </tr>\n",
       "    <tr>\n",
       "      <th>16</th>\n",
       "      <td>datazip5_strfulladdress3agg</td>\n",
       "      <td>0.28</td>\n",
       "      <td>29.70%</td>\n",
       "      <td>241.50</td>\n",
       "      <td>241.50</td>\n",
       "      <td>241.50</td>\n",
       "    </tr>\n",
       "    <tr>\n",
       "      <th>17</th>\n",
       "      <td>datazip5_strfulladdress1agg</td>\n",
       "      <td>0.25</td>\n",
       "      <td>26.76%</td>\n",
       "      <td>237.50</td>\n",
       "      <td>237.50</td>\n",
       "      <td>237.50</td>\n",
       "    </tr>\n",
       "    <tr>\n",
       "      <th>18</th>\n",
       "      <td>dataaddressfulladdress1agg</td>\n",
       "      <td>0.25</td>\n",
       "      <td>26.76%</td>\n",
       "      <td>237.50</td>\n",
       "      <td>237.50</td>\n",
       "      <td>237.50</td>\n",
       "    </tr>\n",
       "    <tr>\n",
       "      <th>19</th>\n",
       "      <td>datafulladdress1agg</td>\n",
       "      <td>0.25</td>\n",
       "      <td>26.76%</td>\n",
       "      <td>237.50</td>\n",
       "      <td>237.50</td>\n",
       "      <td>237.50</td>\n",
       "    </tr>\n",
       "    <tr>\n",
       "      <th>20</th>\n",
       "      <td>dataaddresszip5_str1agg</td>\n",
       "      <td>0.25</td>\n",
       "      <td>26.76%</td>\n",
       "      <td>237.50</td>\n",
       "      <td>237.50</td>\n",
       "      <td>237.50</td>\n",
       "    </tr>\n",
       "    <tr>\n",
       "      <th>21</th>\n",
       "      <td>smoothed_zip3</td>\n",
       "      <td>0.24</td>\n",
       "      <td>9.17%</td>\n",
       "      <td>235.00</td>\n",
       "      <td>132.00</td>\n",
       "      <td>183.50</td>\n",
       "    </tr>\n",
       "    <tr>\n",
       "      <th>22</th>\n",
       "      <td>Days_since_per_lastnamedob_str</td>\n",
       "      <td>0.23</td>\n",
       "      <td>25.27%</td>\n",
       "      <td>234.00</td>\n",
       "      <td>235.00</td>\n",
       "      <td>234.50</td>\n",
       "    </tr>\n",
       "    <tr>\n",
       "      <th>23</th>\n",
       "      <td>Days_since_per_ssndob_str</td>\n",
       "      <td>0.23</td>\n",
       "      <td>25.25%</td>\n",
       "      <td>233.00</td>\n",
       "      <td>234.00</td>\n",
       "      <td>233.50</td>\n",
       "    </tr>\n",
       "    <tr>\n",
       "      <th>24</th>\n",
       "      <td>Days_since_per_nameDOB</td>\n",
       "      <td>0.23</td>\n",
       "      <td>25.18%</td>\n",
       "      <td>232.00</td>\n",
       "      <td>231.00</td>\n",
       "      <td>231.50</td>\n",
       "    </tr>\n",
       "    <tr>\n",
       "      <th>25</th>\n",
       "      <td>Days_since_per_dob_strnameDOB</td>\n",
       "      <td>0.23</td>\n",
       "      <td>25.13%</td>\n",
       "      <td>230.00</td>\n",
       "      <td>227.50</td>\n",
       "      <td>228.75</td>\n",
       "    </tr>\n",
       "    <tr>\n",
       "      <th>26</th>\n",
       "      <td>Days_since_per_firstnamenameDOB</td>\n",
       "      <td>0.23</td>\n",
       "      <td>25.13%</td>\n",
       "      <td>230.00</td>\n",
       "      <td>227.50</td>\n",
       "      <td>228.75</td>\n",
       "    </tr>\n",
       "    <tr>\n",
       "      <th>27</th>\n",
       "      <td>Days_since_per_lastnamenameDOB</td>\n",
       "      <td>0.23</td>\n",
       "      <td>25.13%</td>\n",
       "      <td>230.00</td>\n",
       "      <td>227.50</td>\n",
       "      <td>228.75</td>\n",
       "    </tr>\n",
       "    <tr>\n",
       "      <th>28</th>\n",
       "      <td>Days_since_per_addresshomephone</td>\n",
       "      <td>0.23</td>\n",
       "      <td>25.13%</td>\n",
       "      <td>228.00</td>\n",
       "      <td>227.50</td>\n",
       "      <td>227.75</td>\n",
       "    </tr>\n",
       "    <tr>\n",
       "      <th>29</th>\n",
       "      <td>Days_since_per_firstnamedob_str</td>\n",
       "      <td>0.23</td>\n",
       "      <td>25.22%</td>\n",
       "      <td>227.00</td>\n",
       "      <td>233.00</td>\n",
       "      <td>230.00</td>\n",
       "    </tr>\n",
       "    <tr>\n",
       "      <th>...</th>\n",
       "      <td>...</td>\n",
       "      <td>...</td>\n",
       "      <td>...</td>\n",
       "      <td>...</td>\n",
       "      <td>...</td>\n",
       "      <td>...</td>\n",
       "    </tr>\n",
       "    <tr>\n",
       "      <th>225</th>\n",
       "      <td>datadob_strfulladdress1agg</td>\n",
       "      <td>0.01</td>\n",
       "      <td>4.44%</td>\n",
       "      <td>31.00</td>\n",
       "      <td>53.00</td>\n",
       "      <td>42.00</td>\n",
       "    </tr>\n",
       "    <tr>\n",
       "      <th>226</th>\n",
       "      <td>datahomephonenameDOB1agg</td>\n",
       "      <td>0.01</td>\n",
       "      <td>4.44%</td>\n",
       "      <td>30.00</td>\n",
       "      <td>53.00</td>\n",
       "      <td>41.50</td>\n",
       "    </tr>\n",
       "    <tr>\n",
       "      <th>227</th>\n",
       "      <td>datanameDOBfulladdress1agg</td>\n",
       "      <td>0.01</td>\n",
       "      <td>4.43%</td>\n",
       "      <td>28.50</td>\n",
       "      <td>50.00</td>\n",
       "      <td>39.25</td>\n",
       "    </tr>\n",
       "    <tr>\n",
       "      <th>228</th>\n",
       "      <td>dataaddressnameDOB1agg</td>\n",
       "      <td>0.01</td>\n",
       "      <td>4.43%</td>\n",
       "      <td>28.50</td>\n",
       "      <td>50.00</td>\n",
       "      <td>39.25</td>\n",
       "    </tr>\n",
       "    <tr>\n",
       "      <th>229</th>\n",
       "      <td>datassnaddress1agg</td>\n",
       "      <td>0.01</td>\n",
       "      <td>4.44%</td>\n",
       "      <td>27.00</td>\n",
       "      <td>53.00</td>\n",
       "      <td>40.00</td>\n",
       "    </tr>\n",
       "    <tr>\n",
       "      <th>230</th>\n",
       "      <td>datassnzip5_str1agg</td>\n",
       "      <td>0.01</td>\n",
       "      <td>4.42%</td>\n",
       "      <td>26.00</td>\n",
       "      <td>48.00</td>\n",
       "      <td>37.00</td>\n",
       "    </tr>\n",
       "    <tr>\n",
       "      <th>231</th>\n",
       "      <td>datassnfulladdress1agg</td>\n",
       "      <td>0.01</td>\n",
       "      <td>4.43%</td>\n",
       "      <td>25.00</td>\n",
       "      <td>50.00</td>\n",
       "      <td>37.50</td>\n",
       "    </tr>\n",
       "    <tr>\n",
       "      <th>232</th>\n",
       "      <td>datafirstnamehomephone0agg</td>\n",
       "      <td>0.01</td>\n",
       "      <td>4.05%</td>\n",
       "      <td>24.00</td>\n",
       "      <td>30.00</td>\n",
       "      <td>27.00</td>\n",
       "    </tr>\n",
       "    <tr>\n",
       "      <th>233</th>\n",
       "      <td>datalastnamehomephone3agg</td>\n",
       "      <td>0.00</td>\n",
       "      <td>4.16%</td>\n",
       "      <td>23.00</td>\n",
       "      <td>35.00</td>\n",
       "      <td>29.00</td>\n",
       "    </tr>\n",
       "    <tr>\n",
       "      <th>234</th>\n",
       "      <td>datafirstnameaddress0agg</td>\n",
       "      <td>0.00</td>\n",
       "      <td>4.31%</td>\n",
       "      <td>22.00</td>\n",
       "      <td>46.00</td>\n",
       "      <td>34.00</td>\n",
       "    </tr>\n",
       "    <tr>\n",
       "      <th>235</th>\n",
       "      <td>datafirstnamefulladdress0agg</td>\n",
       "      <td>0.00</td>\n",
       "      <td>4.31%</td>\n",
       "      <td>21.00</td>\n",
       "      <td>45.00</td>\n",
       "      <td>33.00</td>\n",
       "    </tr>\n",
       "    <tr>\n",
       "      <th>236</th>\n",
       "      <td>len_zip</td>\n",
       "      <td>0.00</td>\n",
       "      <td>3.56%</td>\n",
       "      <td>20.00</td>\n",
       "      <td>9.00</td>\n",
       "      <td>14.50</td>\n",
       "    </tr>\n",
       "    <tr>\n",
       "      <th>237</th>\n",
       "      <td>datassnhomephone1agg</td>\n",
       "      <td>0.00</td>\n",
       "      <td>4.04%</td>\n",
       "      <td>19.00</td>\n",
       "      <td>29.00</td>\n",
       "      <td>24.00</td>\n",
       "    </tr>\n",
       "    <tr>\n",
       "      <th>238</th>\n",
       "      <td>datazip5_strdob_str3agg</td>\n",
       "      <td>0.00</td>\n",
       "      <td>4.11%</td>\n",
       "      <td>18.00</td>\n",
       "      <td>31.00</td>\n",
       "      <td>24.50</td>\n",
       "    </tr>\n",
       "    <tr>\n",
       "      <th>239</th>\n",
       "      <td>datalastnamehomephone1agg</td>\n",
       "      <td>0.00</td>\n",
       "      <td>3.96%</td>\n",
       "      <td>17.00</td>\n",
       "      <td>23.00</td>\n",
       "      <td>20.00</td>\n",
       "    </tr>\n",
       "    <tr>\n",
       "      <th>240</th>\n",
       "      <td>datassnhomephone0agg</td>\n",
       "      <td>0.00</td>\n",
       "      <td>4.00%</td>\n",
       "      <td>16.00</td>\n",
       "      <td>26.50</td>\n",
       "      <td>21.25</td>\n",
       "    </tr>\n",
       "    <tr>\n",
       "      <th>241</th>\n",
       "      <td>datalastnamefulladdress0agg</td>\n",
       "      <td>0.00</td>\n",
       "      <td>4.20%</td>\n",
       "      <td>15.00</td>\n",
       "      <td>42.50</td>\n",
       "      <td>28.75</td>\n",
       "    </tr>\n",
       "    <tr>\n",
       "      <th>242</th>\n",
       "      <td>datalastnameaddress0agg</td>\n",
       "      <td>0.00</td>\n",
       "      <td>4.20%</td>\n",
       "      <td>14.00</td>\n",
       "      <td>42.50</td>\n",
       "      <td>28.25</td>\n",
       "    </tr>\n",
       "    <tr>\n",
       "      <th>243</th>\n",
       "      <td>datazip5_strnameDOB0agg</td>\n",
       "      <td>0.00</td>\n",
       "      <td>4.17%</td>\n",
       "      <td>13.00</td>\n",
       "      <td>39.00</td>\n",
       "      <td>26.00</td>\n",
       "    </tr>\n",
       "    <tr>\n",
       "      <th>244</th>\n",
       "      <td>dataaddressdob_str0agg</td>\n",
       "      <td>0.00</td>\n",
       "      <td>4.17%</td>\n",
       "      <td>12.00</td>\n",
       "      <td>39.00</td>\n",
       "      <td>25.50</td>\n",
       "    </tr>\n",
       "    <tr>\n",
       "      <th>245</th>\n",
       "      <td>datassnaddress0agg</td>\n",
       "      <td>0.00</td>\n",
       "      <td>4.18%</td>\n",
       "      <td>11.00</td>\n",
       "      <td>41.00</td>\n",
       "      <td>26.00</td>\n",
       "    </tr>\n",
       "    <tr>\n",
       "      <th>246</th>\n",
       "      <td>datanameDOBfulladdress0agg</td>\n",
       "      <td>0.00</td>\n",
       "      <td>4.16%</td>\n",
       "      <td>9.50</td>\n",
       "      <td>35.00</td>\n",
       "      <td>22.25</td>\n",
       "    </tr>\n",
       "    <tr>\n",
       "      <th>247</th>\n",
       "      <td>dataaddressnameDOB0agg</td>\n",
       "      <td>0.00</td>\n",
       "      <td>4.16%</td>\n",
       "      <td>9.50</td>\n",
       "      <td>35.00</td>\n",
       "      <td>22.25</td>\n",
       "    </tr>\n",
       "    <tr>\n",
       "      <th>248</th>\n",
       "      <td>datadob_strfulladdress0agg</td>\n",
       "      <td>0.00</td>\n",
       "      <td>4.16%</td>\n",
       "      <td>8.00</td>\n",
       "      <td>35.00</td>\n",
       "      <td>21.50</td>\n",
       "    </tr>\n",
       "    <tr>\n",
       "      <th>249</th>\n",
       "      <td>datahomephonenameDOB0agg</td>\n",
       "      <td>0.00</td>\n",
       "      <td>4.16%</td>\n",
       "      <td>7.00</td>\n",
       "      <td>35.00</td>\n",
       "      <td>21.00</td>\n",
       "    </tr>\n",
       "    <tr>\n",
       "      <th>250</th>\n",
       "      <td>datassnfulladdress0agg</td>\n",
       "      <td>0.00</td>\n",
       "      <td>4.17%</td>\n",
       "      <td>6.00</td>\n",
       "      <td>39.00</td>\n",
       "      <td>22.50</td>\n",
       "    </tr>\n",
       "    <tr>\n",
       "      <th>251</th>\n",
       "      <td>datassnzip5_str0agg</td>\n",
       "      <td>0.00</td>\n",
       "      <td>4.14%</td>\n",
       "      <td>5.00</td>\n",
       "      <td>32.00</td>\n",
       "      <td>18.50</td>\n",
       "    </tr>\n",
       "    <tr>\n",
       "      <th>252</th>\n",
       "      <td>datalastnamehomephone0agg</td>\n",
       "      <td>0.00</td>\n",
       "      <td>3.97%</td>\n",
       "      <td>4.00</td>\n",
       "      <td>24.50</td>\n",
       "      <td>14.25</td>\n",
       "    </tr>\n",
       "    <tr>\n",
       "      <th>253</th>\n",
       "      <td>datazip5_strdob_str1agg</td>\n",
       "      <td>0.00</td>\n",
       "      <td>3.97%</td>\n",
       "      <td>3.00</td>\n",
       "      <td>24.50</td>\n",
       "      <td>13.75</td>\n",
       "    </tr>\n",
       "    <tr>\n",
       "      <th>254</th>\n",
       "      <td>datazip5_strdob_str0agg</td>\n",
       "      <td>0.00</td>\n",
       "      <td>4.00%</td>\n",
       "      <td>2.00</td>\n",
       "      <td>26.50</td>\n",
       "      <td>14.25</td>\n",
       "    </tr>\n",
       "  </tbody>\n",
       "</table>\n",
       "<p>255 rows × 6 columns</p>\n",
       "</div>"
      ],
      "text/plain": [
       "                                  field   ks      FDR  rank_ks  rank_FDR  \\\n",
       "0                           fraud_label 1.00  100.00%   256.00    256.00   \n",
       "1    Days_since_per_zip5_strfulladdress 0.33   35.44%   254.50    254.50   \n",
       "2     Days_since_per_addressfulladdress 0.33   35.44%   254.50    254.50   \n",
       "3            Days_since_per_fulladdress 0.33   35.37%   253.00    253.00   \n",
       "4        Days_since_per_addresszip5_str 0.33   35.34%   252.00    252.00   \n",
       "5           dataaddressfulladdress14agg 0.32   34.05%   249.50    249.50   \n",
       "6          datazip5_strfulladdress14agg 0.32   34.05%   249.50    249.50   \n",
       "7                  datafulladdress14agg 0.32   34.05%   249.50    249.50   \n",
       "8              dataaddresszip5_str14agg 0.32   34.05%   249.50    249.50   \n",
       "9           datazip5_strfulladdress7agg 0.30   31.97%   245.50    245.50   \n",
       "10                  datafulladdress7agg 0.30   31.97%   245.50    245.50   \n",
       "11           dataaddressfulladdress7agg 0.30   31.97%   245.50    245.50   \n",
       "12              dataaddresszip5_str7agg 0.30   31.97%   245.50    245.50   \n",
       "13              dataaddresszip5_str3agg 0.28   29.70%   241.50    241.50   \n",
       "14           dataaddressfulladdress3agg 0.28   29.70%   241.50    241.50   \n",
       "15                  datafulladdress3agg 0.28   29.70%   241.50    241.50   \n",
       "16          datazip5_strfulladdress3agg 0.28   29.70%   241.50    241.50   \n",
       "17          datazip5_strfulladdress1agg 0.25   26.76%   237.50    237.50   \n",
       "18           dataaddressfulladdress1agg 0.25   26.76%   237.50    237.50   \n",
       "19                  datafulladdress1agg 0.25   26.76%   237.50    237.50   \n",
       "20              dataaddresszip5_str1agg 0.25   26.76%   237.50    237.50   \n",
       "21                        smoothed_zip3 0.24    9.17%   235.00    132.00   \n",
       "22       Days_since_per_lastnamedob_str 0.23   25.27%   234.00    235.00   \n",
       "23            Days_since_per_ssndob_str 0.23   25.25%   233.00    234.00   \n",
       "24               Days_since_per_nameDOB 0.23   25.18%   232.00    231.00   \n",
       "25        Days_since_per_dob_strnameDOB 0.23   25.13%   230.00    227.50   \n",
       "26      Days_since_per_firstnamenameDOB 0.23   25.13%   230.00    227.50   \n",
       "27       Days_since_per_lastnamenameDOB 0.23   25.13%   230.00    227.50   \n",
       "28      Days_since_per_addresshomephone 0.23   25.13%   228.00    227.50   \n",
       "29      Days_since_per_firstnamedob_str 0.23   25.22%   227.00    233.00   \n",
       "..                                  ...  ...      ...      ...       ...   \n",
       "225          datadob_strfulladdress1agg 0.01    4.44%    31.00     53.00   \n",
       "226            datahomephonenameDOB1agg 0.01    4.44%    30.00     53.00   \n",
       "227          datanameDOBfulladdress1agg 0.01    4.43%    28.50     50.00   \n",
       "228              dataaddressnameDOB1agg 0.01    4.43%    28.50     50.00   \n",
       "229                  datassnaddress1agg 0.01    4.44%    27.00     53.00   \n",
       "230                 datassnzip5_str1agg 0.01    4.42%    26.00     48.00   \n",
       "231              datassnfulladdress1agg 0.01    4.43%    25.00     50.00   \n",
       "232          datafirstnamehomephone0agg 0.01    4.05%    24.00     30.00   \n",
       "233           datalastnamehomephone3agg 0.00    4.16%    23.00     35.00   \n",
       "234            datafirstnameaddress0agg 0.00    4.31%    22.00     46.00   \n",
       "235        datafirstnamefulladdress0agg 0.00    4.31%    21.00     45.00   \n",
       "236                             len_zip 0.00    3.56%    20.00      9.00   \n",
       "237                datassnhomephone1agg 0.00    4.04%    19.00     29.00   \n",
       "238             datazip5_strdob_str3agg 0.00    4.11%    18.00     31.00   \n",
       "239           datalastnamehomephone1agg 0.00    3.96%    17.00     23.00   \n",
       "240                datassnhomephone0agg 0.00    4.00%    16.00     26.50   \n",
       "241         datalastnamefulladdress0agg 0.00    4.20%    15.00     42.50   \n",
       "242             datalastnameaddress0agg 0.00    4.20%    14.00     42.50   \n",
       "243             datazip5_strnameDOB0agg 0.00    4.17%    13.00     39.00   \n",
       "244              dataaddressdob_str0agg 0.00    4.17%    12.00     39.00   \n",
       "245                  datassnaddress0agg 0.00    4.18%    11.00     41.00   \n",
       "246          datanameDOBfulladdress0agg 0.00    4.16%     9.50     35.00   \n",
       "247              dataaddressnameDOB0agg 0.00    4.16%     9.50     35.00   \n",
       "248          datadob_strfulladdress0agg 0.00    4.16%     8.00     35.00   \n",
       "249            datahomephonenameDOB0agg 0.00    4.16%     7.00     35.00   \n",
       "250              datassnfulladdress0agg 0.00    4.17%     6.00     39.00   \n",
       "251                 datassnzip5_str0agg 0.00    4.14%     5.00     32.00   \n",
       "252           datalastnamehomephone0agg 0.00    3.97%     4.00     24.50   \n",
       "253             datazip5_strdob_str1agg 0.00    3.97%     3.00     24.50   \n",
       "254             datazip5_strdob_str0agg 0.00    4.00%     2.00     26.50   \n",
       "\n",
       "     average_rank  \n",
       "0          256.00  \n",
       "1          254.50  \n",
       "2          254.50  \n",
       "3          253.00  \n",
       "4          252.00  \n",
       "5          249.50  \n",
       "6          249.50  \n",
       "7          249.50  \n",
       "8          249.50  \n",
       "9          245.50  \n",
       "10         245.50  \n",
       "11         245.50  \n",
       "12         245.50  \n",
       "13         241.50  \n",
       "14         241.50  \n",
       "15         241.50  \n",
       "16         241.50  \n",
       "17         237.50  \n",
       "18         237.50  \n",
       "19         237.50  \n",
       "20         237.50  \n",
       "21         183.50  \n",
       "22         234.50  \n",
       "23         233.50  \n",
       "24         231.50  \n",
       "25         228.75  \n",
       "26         228.75  \n",
       "27         228.75  \n",
       "28         227.75  \n",
       "29         230.00  \n",
       "..            ...  \n",
       "225         42.00  \n",
       "226         41.50  \n",
       "227         39.25  \n",
       "228         39.25  \n",
       "229         40.00  \n",
       "230         37.00  \n",
       "231         37.50  \n",
       "232         27.00  \n",
       "233         29.00  \n",
       "234         34.00  \n",
       "235         33.00  \n",
       "236         14.50  \n",
       "237         24.00  \n",
       "238         24.50  \n",
       "239         20.00  \n",
       "240         21.25  \n",
       "241         28.75  \n",
       "242         28.25  \n",
       "243         26.00  \n",
       "244         25.50  \n",
       "245         26.00  \n",
       "246         22.25  \n",
       "247         22.25  \n",
       "248         21.50  \n",
       "249         21.00  \n",
       "250         22.50  \n",
       "251         18.50  \n",
       "252         14.25  \n",
       "253         13.75  \n",
       "254         14.25  \n",
       "\n",
       "[255 rows x 6 columns]"
      ]
     },
     "execution_count": 8,
     "metadata": {},
     "output_type": "execute_result"
    }
   ],
   "source": [
    "ks_fdr"
   ]
  },
  {
   "cell_type": "code",
   "execution_count": 3,
   "metadata": {},
   "outputs": [
    {
     "data": {
      "text/plain": [
       "['record',\n",
       " 'date',\n",
       " 'Unnamed: 0',\n",
       " 'fraud_label',\n",
       " 'Days_since_per_zip5_strfulladdress',\n",
       " 'Days_since_per_addressfulladdress',\n",
       " 'Days_since_per_fulladdress',\n",
       " 'Days_since_per_addresszip5_str',\n",
       " 'dataaddressfulladdress14agg',\n",
       " 'datazip5_strfulladdress14agg',\n",
       " 'datafulladdress14agg',\n",
       " 'dataaddresszip5_str14agg',\n",
       " 'datazip5_strfulladdress7agg',\n",
       " 'datafulladdress7agg',\n",
       " 'dataaddressfulladdress7agg',\n",
       " 'dataaddresszip5_str7agg',\n",
       " 'dataaddresszip5_str3agg',\n",
       " 'dataaddressfulladdress3agg',\n",
       " 'datafulladdress3agg',\n",
       " 'datazip5_strfulladdress3agg',\n",
       " 'datazip5_strfulladdress1agg',\n",
       " 'dataaddressfulladdress1agg',\n",
       " 'datafulladdress1agg',\n",
       " 'dataaddresszip5_str1agg',\n",
       " 'smoothed_zip3',\n",
       " 'Days_since_per_lastnamedob_str',\n",
       " 'Days_since_per_ssndob_str',\n",
       " 'Days_since_per_nameDOB',\n",
       " 'Days_since_per_dob_strnameDOB',\n",
       " 'Days_since_per_firstnamenameDOB',\n",
       " 'Days_since_per_lastnamenameDOB',\n",
       " 'Days_since_per_addresshomephone',\n",
       " 'Days_since_per_firstnamedob_str',\n",
       " 'Days_since_per_ssn',\n",
       " 'Days_since_per_homephonefulladdress',\n",
       " 'Days_since_per_ssnfirstname',\n",
       " 'Days_since_per_ssnlastname',\n",
       " 'Days_since_per_ssnnameDOB',\n",
       " 'Days_since_per_zip5_strhomephone',\n",
       " 'freq_zip_25',\n",
       " 'no_of_apps',\n",
       " 'dataaddresshomephone14agg',\n",
       " 'datahomephonefulladdress14agg',\n",
       " 'smoothed_homephone3',\n",
       " 'datafirstnamenameDOB14agg',\n",
       " 'datadob_strnameDOB14agg',\n",
       " 'datanameDOB14agg',\n",
       " 'datalastnamenameDOB14agg',\n",
       " 'num_zip',\n",
       " 'datassnnameDOB14agg',\n",
       " 'Days_since_per_firstnamelastname',\n",
       " 'datassnlastname14agg',\n",
       " 'datassndob_str14agg',\n",
       " 'datassnfirstname14agg',\n",
       " 'freq_zip_12',\n",
       " 'datafirstnamelastname14agg',\n",
       " 'datassn14agg',\n",
       " 'datazip5_strhomephone14agg',\n",
       " 'dataaddresshomephone7agg',\n",
       " 'datahomephonefulladdress7agg',\n",
       " 'num_phones',\n",
       " 'datafirstnamenameDOB7agg',\n",
       " 'datadob_strnameDOB7agg',\n",
       " 'datanameDOB7agg',\n",
       " 'datalastnamenameDOB7agg',\n",
       " 'datassnnameDOB7agg',\n",
       " 'datassnlastname7agg',\n",
       " 'datassnfirstname7agg',\n",
       " 'datassndob_str7agg',\n",
       " 'datafirstnamelastname7agg',\n",
       " 'datazip5_strhomephone7agg',\n",
       " 'datafulladdress0agg',\n",
       " 'dataaddressfulladdress0agg',\n",
       " 'dataaddresszip5_str0agg',\n",
       " 'datazip5_strfulladdress0agg',\n",
       " 'datassn7agg',\n",
       " 'datalastnamedob_str14agg',\n",
       " 'freq_zip_5',\n",
       " 'dataaddresshomephone3agg',\n",
       " 'datahomephonefulladdress3agg',\n",
       " 'Days_since_per_homephone',\n",
       " 'datafirstnamenameDOB3agg',\n",
       " 'datanameDOB3agg',\n",
       " 'datadob_strnameDOB3agg',\n",
       " 'datalastnamenameDOB3agg',\n",
       " 'datazip5_strhomephone3agg',\n",
       " 'datassnnameDOB3agg',\n",
       " 'datassnlastname3agg',\n",
       " 'datassnfirstname3agg',\n",
       " 'datafirstnamelastname3agg',\n",
       " 'datassndob_str3agg',\n",
       " 'datalastnamedob_str7agg',\n",
       " 'datassn3agg',\n",
       " 'datafirstnamedob_str14agg',\n",
       " 'dataaddresshomephone1agg',\n",
       " 'datahomephonefulladdress1agg',\n",
       " 'datazip5_strhomephone1agg',\n",
       " 'datalastnamedob_str3agg',\n",
       " 'datafirstnamenameDOB1agg',\n",
       " 'datanameDOB1agg',\n",
       " 'datalastnamenameDOB1agg',\n",
       " 'datadob_strnameDOB1agg',\n",
       " 'datassnnameDOB1agg',\n",
       " 'datafirstnamelastname1agg',\n",
       " 'datassnlastname1agg',\n",
       " 'datassnfirstname1agg',\n",
       " 'datassndob_str1agg',\n",
       " 'datafirstnamedob_str7agg',\n",
       " 'datahomephone3agg',\n",
       " 'datahomephone7agg',\n",
       " 'datassn1agg',\n",
       " 'datalastnamedob_str1agg',\n",
       " 'datafirstnamedob_str3agg',\n",
       " 'datahomephone1agg',\n",
       " 'datafirstnamedob_str1agg',\n",
       " 'smoothed_byear',\n",
       " 'dataaddresshomephone0agg',\n",
       " 'datahomephonefulladdress0agg',\n",
       " 'datazip5_strhomephone0agg',\n",
       " 'datafirstnamelastname0agg',\n",
       " 'datassnnameDOB0agg',\n",
       " 'datadob_strnameDOB0agg',\n",
       " 'datanameDOB0agg',\n",
       " 'datalastnamenameDOB0agg',\n",
       " 'datafirstnamenameDOB0agg',\n",
       " 'datassnlastname0agg',\n",
       " 'datassnfirstname0agg',\n",
       " 'datassndob_str0agg']"
      ]
     },
     "execution_count": 3,
     "metadata": {},
     "output_type": "execute_result"
    }
   ],
   "source": [
    "['record','date']+list(data.columns)"
   ]
  },
  {
   "cell_type": "code",
   "execution_count": 4,
   "metadata": {},
   "outputs": [
    {
     "name": "stderr",
     "output_type": "stream",
     "text": [
      "/anaconda3/lib/python3.7/site-packages/pandas/core/indexing.py:1472: FutureWarning: \n",
      "Passing list-likes to .loc or [] with any missing label will raise\n",
      "KeyError in the future, you can use .reindex() as an alternative.\n",
      "\n",
      "See the documentation here:\n",
      "https://pandas.pydata.org/pandas-docs/stable/indexing.html#deprecate-loc-reindex-listlike\n",
      "  return self._getitem_tuple(key)\n"
     ]
    }
   ],
   "source": [
    "mydata=df.loc[:,['record','date']+list(data.columns)]"
   ]
  },
  {
   "cell_type": "code",
   "execution_count": 5,
   "metadata": {},
   "outputs": [
    {
     "data": {
      "text/plain": [
       "(1000000, 128)"
      ]
     },
     "execution_count": 5,
     "metadata": {},
     "output_type": "execute_result"
    }
   ],
   "source": [
    "mydata.shape"
   ]
  },
  {
   "cell_type": "code",
   "execution_count": 6,
   "metadata": {
    "scrolled": true
   },
   "outputs": [
    {
     "data": {
      "text/html": [
       "<div>\n",
       "<style scoped>\n",
       "    .dataframe tbody tr th:only-of-type {\n",
       "        vertical-align: middle;\n",
       "    }\n",
       "\n",
       "    .dataframe tbody tr th {\n",
       "        vertical-align: top;\n",
       "    }\n",
       "\n",
       "    .dataframe thead th {\n",
       "        text-align: right;\n",
       "    }\n",
       "</style>\n",
       "<table border=\"1\" class=\"dataframe\">\n",
       "  <thead>\n",
       "    <tr style=\"text-align: right;\">\n",
       "      <th></th>\n",
       "      <th>record</th>\n",
       "      <th>date</th>\n",
       "      <th>Unnamed: 0</th>\n",
       "      <th>fraud_label</th>\n",
       "      <th>Days_since_per_zip5_strfulladdress</th>\n",
       "      <th>Days_since_per_addressfulladdress</th>\n",
       "      <th>Days_since_per_fulladdress</th>\n",
       "      <th>Days_since_per_addresszip5_str</th>\n",
       "      <th>dataaddressfulladdress14agg</th>\n",
       "      <th>datazip5_strfulladdress14agg</th>\n",
       "      <th>...</th>\n",
       "      <th>datazip5_strhomephone0agg</th>\n",
       "      <th>datafirstnamelastname0agg</th>\n",
       "      <th>datassnnameDOB0agg</th>\n",
       "      <th>datadob_strnameDOB0agg</th>\n",
       "      <th>datanameDOB0agg</th>\n",
       "      <th>datalastnamenameDOB0agg</th>\n",
       "      <th>datafirstnamenameDOB0agg</th>\n",
       "      <th>datassnlastname0agg</th>\n",
       "      <th>datassnfirstname0agg</th>\n",
       "      <th>datassndob_str0agg</th>\n",
       "    </tr>\n",
       "  </thead>\n",
       "  <tbody>\n",
       "    <tr>\n",
       "      <th>0</th>\n",
       "      <td>1</td>\n",
       "      <td>2016-01-01</td>\n",
       "      <td>nan</td>\n",
       "      <td>0</td>\n",
       "      <td>365.00</td>\n",
       "      <td>365.00</td>\n",
       "      <td>365.00</td>\n",
       "      <td>365.00</td>\n",
       "      <td>1</td>\n",
       "      <td>1</td>\n",
       "      <td>...</td>\n",
       "      <td>1</td>\n",
       "      <td>1</td>\n",
       "      <td>1</td>\n",
       "      <td>1</td>\n",
       "      <td>1</td>\n",
       "      <td>1</td>\n",
       "      <td>1</td>\n",
       "      <td>1</td>\n",
       "      <td>1</td>\n",
       "      <td>1</td>\n",
       "    </tr>\n",
       "    <tr>\n",
       "      <th>1</th>\n",
       "      <td>2</td>\n",
       "      <td>2016-01-01</td>\n",
       "      <td>nan</td>\n",
       "      <td>1</td>\n",
       "      <td>365.00</td>\n",
       "      <td>365.00</td>\n",
       "      <td>365.00</td>\n",
       "      <td>365.00</td>\n",
       "      <td>1</td>\n",
       "      <td>1</td>\n",
       "      <td>...</td>\n",
       "      <td>1</td>\n",
       "      <td>1</td>\n",
       "      <td>1</td>\n",
       "      <td>1</td>\n",
       "      <td>1</td>\n",
       "      <td>1</td>\n",
       "      <td>1</td>\n",
       "      <td>1</td>\n",
       "      <td>1</td>\n",
       "      <td>1</td>\n",
       "    </tr>\n",
       "    <tr>\n",
       "      <th>2</th>\n",
       "      <td>3</td>\n",
       "      <td>2016-01-01</td>\n",
       "      <td>nan</td>\n",
       "      <td>0</td>\n",
       "      <td>365.00</td>\n",
       "      <td>365.00</td>\n",
       "      <td>365.00</td>\n",
       "      <td>365.00</td>\n",
       "      <td>1</td>\n",
       "      <td>1</td>\n",
       "      <td>...</td>\n",
       "      <td>1</td>\n",
       "      <td>1</td>\n",
       "      <td>1</td>\n",
       "      <td>1</td>\n",
       "      <td>1</td>\n",
       "      <td>1</td>\n",
       "      <td>1</td>\n",
       "      <td>1</td>\n",
       "      <td>1</td>\n",
       "      <td>1</td>\n",
       "    </tr>\n",
       "    <tr>\n",
       "      <th>3</th>\n",
       "      <td>4</td>\n",
       "      <td>2016-01-01</td>\n",
       "      <td>nan</td>\n",
       "      <td>0</td>\n",
       "      <td>365.00</td>\n",
       "      <td>365.00</td>\n",
       "      <td>365.00</td>\n",
       "      <td>365.00</td>\n",
       "      <td>1</td>\n",
       "      <td>1</td>\n",
       "      <td>...</td>\n",
       "      <td>1</td>\n",
       "      <td>1</td>\n",
       "      <td>1</td>\n",
       "      <td>1</td>\n",
       "      <td>1</td>\n",
       "      <td>1</td>\n",
       "      <td>1</td>\n",
       "      <td>1</td>\n",
       "      <td>1</td>\n",
       "      <td>1</td>\n",
       "    </tr>\n",
       "    <tr>\n",
       "      <th>4</th>\n",
       "      <td>5</td>\n",
       "      <td>2016-01-01</td>\n",
       "      <td>nan</td>\n",
       "      <td>0</td>\n",
       "      <td>365.00</td>\n",
       "      <td>365.00</td>\n",
       "      <td>365.00</td>\n",
       "      <td>365.00</td>\n",
       "      <td>1</td>\n",
       "      <td>1</td>\n",
       "      <td>...</td>\n",
       "      <td>1</td>\n",
       "      <td>1</td>\n",
       "      <td>1</td>\n",
       "      <td>1</td>\n",
       "      <td>1</td>\n",
       "      <td>1</td>\n",
       "      <td>1</td>\n",
       "      <td>1</td>\n",
       "      <td>1</td>\n",
       "      <td>1</td>\n",
       "    </tr>\n",
       "    <tr>\n",
       "      <th>5</th>\n",
       "      <td>6</td>\n",
       "      <td>2016-01-01</td>\n",
       "      <td>nan</td>\n",
       "      <td>0</td>\n",
       "      <td>365.00</td>\n",
       "      <td>365.00</td>\n",
       "      <td>365.00</td>\n",
       "      <td>365.00</td>\n",
       "      <td>1</td>\n",
       "      <td>1</td>\n",
       "      <td>...</td>\n",
       "      <td>1</td>\n",
       "      <td>1</td>\n",
       "      <td>1</td>\n",
       "      <td>1</td>\n",
       "      <td>1</td>\n",
       "      <td>1</td>\n",
       "      <td>1</td>\n",
       "      <td>1</td>\n",
       "      <td>1</td>\n",
       "      <td>1</td>\n",
       "    </tr>\n",
       "    <tr>\n",
       "      <th>6</th>\n",
       "      <td>7</td>\n",
       "      <td>2016-01-01</td>\n",
       "      <td>nan</td>\n",
       "      <td>0</td>\n",
       "      <td>365.00</td>\n",
       "      <td>365.00</td>\n",
       "      <td>365.00</td>\n",
       "      <td>365.00</td>\n",
       "      <td>1</td>\n",
       "      <td>1</td>\n",
       "      <td>...</td>\n",
       "      <td>1</td>\n",
       "      <td>1</td>\n",
       "      <td>1</td>\n",
       "      <td>1</td>\n",
       "      <td>1</td>\n",
       "      <td>1</td>\n",
       "      <td>1</td>\n",
       "      <td>1</td>\n",
       "      <td>1</td>\n",
       "      <td>1</td>\n",
       "    </tr>\n",
       "    <tr>\n",
       "      <th>7</th>\n",
       "      <td>8</td>\n",
       "      <td>2016-01-01</td>\n",
       "      <td>nan</td>\n",
       "      <td>0</td>\n",
       "      <td>365.00</td>\n",
       "      <td>365.00</td>\n",
       "      <td>365.00</td>\n",
       "      <td>365.00</td>\n",
       "      <td>1</td>\n",
       "      <td>1</td>\n",
       "      <td>...</td>\n",
       "      <td>1</td>\n",
       "      <td>1</td>\n",
       "      <td>1</td>\n",
       "      <td>1</td>\n",
       "      <td>1</td>\n",
       "      <td>1</td>\n",
       "      <td>1</td>\n",
       "      <td>1</td>\n",
       "      <td>1</td>\n",
       "      <td>1</td>\n",
       "    </tr>\n",
       "    <tr>\n",
       "      <th>8</th>\n",
       "      <td>9</td>\n",
       "      <td>2016-01-01</td>\n",
       "      <td>nan</td>\n",
       "      <td>0</td>\n",
       "      <td>365.00</td>\n",
       "      <td>365.00</td>\n",
       "      <td>365.00</td>\n",
       "      <td>365.00</td>\n",
       "      <td>1</td>\n",
       "      <td>1</td>\n",
       "      <td>...</td>\n",
       "      <td>1</td>\n",
       "      <td>1</td>\n",
       "      <td>1</td>\n",
       "      <td>1</td>\n",
       "      <td>1</td>\n",
       "      <td>1</td>\n",
       "      <td>1</td>\n",
       "      <td>1</td>\n",
       "      <td>1</td>\n",
       "      <td>1</td>\n",
       "    </tr>\n",
       "    <tr>\n",
       "      <th>9</th>\n",
       "      <td>10</td>\n",
       "      <td>2016-01-01</td>\n",
       "      <td>nan</td>\n",
       "      <td>0</td>\n",
       "      <td>365.00</td>\n",
       "      <td>365.00</td>\n",
       "      <td>365.00</td>\n",
       "      <td>365.00</td>\n",
       "      <td>1</td>\n",
       "      <td>1</td>\n",
       "      <td>...</td>\n",
       "      <td>1</td>\n",
       "      <td>1</td>\n",
       "      <td>1</td>\n",
       "      <td>1</td>\n",
       "      <td>1</td>\n",
       "      <td>1</td>\n",
       "      <td>1</td>\n",
       "      <td>1</td>\n",
       "      <td>1</td>\n",
       "      <td>1</td>\n",
       "    </tr>\n",
       "    <tr>\n",
       "      <th>10</th>\n",
       "      <td>11</td>\n",
       "      <td>2016-01-01</td>\n",
       "      <td>nan</td>\n",
       "      <td>0</td>\n",
       "      <td>365.00</td>\n",
       "      <td>365.00</td>\n",
       "      <td>365.00</td>\n",
       "      <td>365.00</td>\n",
       "      <td>1</td>\n",
       "      <td>1</td>\n",
       "      <td>...</td>\n",
       "      <td>1</td>\n",
       "      <td>1</td>\n",
       "      <td>1</td>\n",
       "      <td>1</td>\n",
       "      <td>1</td>\n",
       "      <td>1</td>\n",
       "      <td>1</td>\n",
       "      <td>1</td>\n",
       "      <td>1</td>\n",
       "      <td>1</td>\n",
       "    </tr>\n",
       "    <tr>\n",
       "      <th>11</th>\n",
       "      <td>12</td>\n",
       "      <td>2016-01-01</td>\n",
       "      <td>nan</td>\n",
       "      <td>0</td>\n",
       "      <td>365.00</td>\n",
       "      <td>365.00</td>\n",
       "      <td>365.00</td>\n",
       "      <td>365.00</td>\n",
       "      <td>1</td>\n",
       "      <td>1</td>\n",
       "      <td>...</td>\n",
       "      <td>1</td>\n",
       "      <td>1</td>\n",
       "      <td>1</td>\n",
       "      <td>1</td>\n",
       "      <td>1</td>\n",
       "      <td>1</td>\n",
       "      <td>1</td>\n",
       "      <td>1</td>\n",
       "      <td>1</td>\n",
       "      <td>1</td>\n",
       "    </tr>\n",
       "    <tr>\n",
       "      <th>12</th>\n",
       "      <td>13</td>\n",
       "      <td>2016-01-01</td>\n",
       "      <td>nan</td>\n",
       "      <td>0</td>\n",
       "      <td>365.00</td>\n",
       "      <td>365.00</td>\n",
       "      <td>365.00</td>\n",
       "      <td>365.00</td>\n",
       "      <td>1</td>\n",
       "      <td>1</td>\n",
       "      <td>...</td>\n",
       "      <td>1</td>\n",
       "      <td>1</td>\n",
       "      <td>1</td>\n",
       "      <td>1</td>\n",
       "      <td>1</td>\n",
       "      <td>1</td>\n",
       "      <td>1</td>\n",
       "      <td>1</td>\n",
       "      <td>1</td>\n",
       "      <td>1</td>\n",
       "    </tr>\n",
       "    <tr>\n",
       "      <th>13</th>\n",
       "      <td>14</td>\n",
       "      <td>2016-01-01</td>\n",
       "      <td>nan</td>\n",
       "      <td>0</td>\n",
       "      <td>365.00</td>\n",
       "      <td>365.00</td>\n",
       "      <td>365.00</td>\n",
       "      <td>365.00</td>\n",
       "      <td>1</td>\n",
       "      <td>1</td>\n",
       "      <td>...</td>\n",
       "      <td>1</td>\n",
       "      <td>1</td>\n",
       "      <td>1</td>\n",
       "      <td>1</td>\n",
       "      <td>1</td>\n",
       "      <td>1</td>\n",
       "      <td>1</td>\n",
       "      <td>1</td>\n",
       "      <td>1</td>\n",
       "      <td>1</td>\n",
       "    </tr>\n",
       "    <tr>\n",
       "      <th>14</th>\n",
       "      <td>15</td>\n",
       "      <td>2016-01-01</td>\n",
       "      <td>nan</td>\n",
       "      <td>0</td>\n",
       "      <td>365.00</td>\n",
       "      <td>365.00</td>\n",
       "      <td>365.00</td>\n",
       "      <td>365.00</td>\n",
       "      <td>1</td>\n",
       "      <td>1</td>\n",
       "      <td>...</td>\n",
       "      <td>1</td>\n",
       "      <td>1</td>\n",
       "      <td>1</td>\n",
       "      <td>1</td>\n",
       "      <td>1</td>\n",
       "      <td>1</td>\n",
       "      <td>1</td>\n",
       "      <td>1</td>\n",
       "      <td>1</td>\n",
       "      <td>1</td>\n",
       "    </tr>\n",
       "    <tr>\n",
       "      <th>15</th>\n",
       "      <td>16</td>\n",
       "      <td>2016-01-01</td>\n",
       "      <td>nan</td>\n",
       "      <td>0</td>\n",
       "      <td>365.00</td>\n",
       "      <td>365.00</td>\n",
       "      <td>365.00</td>\n",
       "      <td>365.00</td>\n",
       "      <td>1</td>\n",
       "      <td>1</td>\n",
       "      <td>...</td>\n",
       "      <td>1</td>\n",
       "      <td>1</td>\n",
       "      <td>1</td>\n",
       "      <td>1</td>\n",
       "      <td>1</td>\n",
       "      <td>1</td>\n",
       "      <td>1</td>\n",
       "      <td>1</td>\n",
       "      <td>1</td>\n",
       "      <td>1</td>\n",
       "    </tr>\n",
       "    <tr>\n",
       "      <th>16</th>\n",
       "      <td>17</td>\n",
       "      <td>2016-01-01</td>\n",
       "      <td>nan</td>\n",
       "      <td>0</td>\n",
       "      <td>365.00</td>\n",
       "      <td>365.00</td>\n",
       "      <td>365.00</td>\n",
       "      <td>365.00</td>\n",
       "      <td>1</td>\n",
       "      <td>1</td>\n",
       "      <td>...</td>\n",
       "      <td>1</td>\n",
       "      <td>1</td>\n",
       "      <td>1</td>\n",
       "      <td>1</td>\n",
       "      <td>1</td>\n",
       "      <td>1</td>\n",
       "      <td>1</td>\n",
       "      <td>1</td>\n",
       "      <td>1</td>\n",
       "      <td>1</td>\n",
       "    </tr>\n",
       "    <tr>\n",
       "      <th>17</th>\n",
       "      <td>18</td>\n",
       "      <td>2016-01-01</td>\n",
       "      <td>nan</td>\n",
       "      <td>0</td>\n",
       "      <td>365.00</td>\n",
       "      <td>365.00</td>\n",
       "      <td>365.00</td>\n",
       "      <td>365.00</td>\n",
       "      <td>1</td>\n",
       "      <td>1</td>\n",
       "      <td>...</td>\n",
       "      <td>1</td>\n",
       "      <td>1</td>\n",
       "      <td>1</td>\n",
       "      <td>1</td>\n",
       "      <td>1</td>\n",
       "      <td>1</td>\n",
       "      <td>1</td>\n",
       "      <td>1</td>\n",
       "      <td>1</td>\n",
       "      <td>1</td>\n",
       "    </tr>\n",
       "    <tr>\n",
       "      <th>18</th>\n",
       "      <td>19</td>\n",
       "      <td>2016-01-01</td>\n",
       "      <td>nan</td>\n",
       "      <td>0</td>\n",
       "      <td>365.00</td>\n",
       "      <td>365.00</td>\n",
       "      <td>365.00</td>\n",
       "      <td>365.00</td>\n",
       "      <td>1</td>\n",
       "      <td>1</td>\n",
       "      <td>...</td>\n",
       "      <td>1</td>\n",
       "      <td>1</td>\n",
       "      <td>1</td>\n",
       "      <td>1</td>\n",
       "      <td>1</td>\n",
       "      <td>1</td>\n",
       "      <td>1</td>\n",
       "      <td>1</td>\n",
       "      <td>1</td>\n",
       "      <td>1</td>\n",
       "    </tr>\n",
       "    <tr>\n",
       "      <th>19</th>\n",
       "      <td>20</td>\n",
       "      <td>2016-01-01</td>\n",
       "      <td>nan</td>\n",
       "      <td>0</td>\n",
       "      <td>365.00</td>\n",
       "      <td>365.00</td>\n",
       "      <td>365.00</td>\n",
       "      <td>365.00</td>\n",
       "      <td>1</td>\n",
       "      <td>1</td>\n",
       "      <td>...</td>\n",
       "      <td>1</td>\n",
       "      <td>1</td>\n",
       "      <td>1</td>\n",
       "      <td>1</td>\n",
       "      <td>1</td>\n",
       "      <td>1</td>\n",
       "      <td>1</td>\n",
       "      <td>1</td>\n",
       "      <td>1</td>\n",
       "      <td>1</td>\n",
       "    </tr>\n",
       "    <tr>\n",
       "      <th>20</th>\n",
       "      <td>21</td>\n",
       "      <td>2016-01-01</td>\n",
       "      <td>nan</td>\n",
       "      <td>0</td>\n",
       "      <td>365.00</td>\n",
       "      <td>365.00</td>\n",
       "      <td>365.00</td>\n",
       "      <td>365.00</td>\n",
       "      <td>1</td>\n",
       "      <td>1</td>\n",
       "      <td>...</td>\n",
       "      <td>1</td>\n",
       "      <td>1</td>\n",
       "      <td>1</td>\n",
       "      <td>1</td>\n",
       "      <td>1</td>\n",
       "      <td>1</td>\n",
       "      <td>1</td>\n",
       "      <td>1</td>\n",
       "      <td>1</td>\n",
       "      <td>1</td>\n",
       "    </tr>\n",
       "    <tr>\n",
       "      <th>21</th>\n",
       "      <td>22</td>\n",
       "      <td>2016-01-01</td>\n",
       "      <td>nan</td>\n",
       "      <td>0</td>\n",
       "      <td>365.00</td>\n",
       "      <td>365.00</td>\n",
       "      <td>365.00</td>\n",
       "      <td>365.00</td>\n",
       "      <td>1</td>\n",
       "      <td>1</td>\n",
       "      <td>...</td>\n",
       "      <td>1</td>\n",
       "      <td>1</td>\n",
       "      <td>1</td>\n",
       "      <td>1</td>\n",
       "      <td>1</td>\n",
       "      <td>1</td>\n",
       "      <td>1</td>\n",
       "      <td>1</td>\n",
       "      <td>1</td>\n",
       "      <td>1</td>\n",
       "    </tr>\n",
       "    <tr>\n",
       "      <th>22</th>\n",
       "      <td>23</td>\n",
       "      <td>2016-01-01</td>\n",
       "      <td>nan</td>\n",
       "      <td>0</td>\n",
       "      <td>365.00</td>\n",
       "      <td>365.00</td>\n",
       "      <td>365.00</td>\n",
       "      <td>365.00</td>\n",
       "      <td>1</td>\n",
       "      <td>1</td>\n",
       "      <td>...</td>\n",
       "      <td>1</td>\n",
       "      <td>1</td>\n",
       "      <td>1</td>\n",
       "      <td>1</td>\n",
       "      <td>1</td>\n",
       "      <td>1</td>\n",
       "      <td>1</td>\n",
       "      <td>1</td>\n",
       "      <td>1</td>\n",
       "      <td>1</td>\n",
       "    </tr>\n",
       "    <tr>\n",
       "      <th>23</th>\n",
       "      <td>24</td>\n",
       "      <td>2016-01-01</td>\n",
       "      <td>nan</td>\n",
       "      <td>0</td>\n",
       "      <td>365.00</td>\n",
       "      <td>365.00</td>\n",
       "      <td>365.00</td>\n",
       "      <td>365.00</td>\n",
       "      <td>1</td>\n",
       "      <td>1</td>\n",
       "      <td>...</td>\n",
       "      <td>1</td>\n",
       "      <td>1</td>\n",
       "      <td>1</td>\n",
       "      <td>1</td>\n",
       "      <td>1</td>\n",
       "      <td>1</td>\n",
       "      <td>1</td>\n",
       "      <td>1</td>\n",
       "      <td>1</td>\n",
       "      <td>1</td>\n",
       "    </tr>\n",
       "    <tr>\n",
       "      <th>24</th>\n",
       "      <td>25</td>\n",
       "      <td>2016-01-01</td>\n",
       "      <td>nan</td>\n",
       "      <td>0</td>\n",
       "      <td>365.00</td>\n",
       "      <td>365.00</td>\n",
       "      <td>365.00</td>\n",
       "      <td>365.00</td>\n",
       "      <td>1</td>\n",
       "      <td>1</td>\n",
       "      <td>...</td>\n",
       "      <td>1</td>\n",
       "      <td>1</td>\n",
       "      <td>1</td>\n",
       "      <td>1</td>\n",
       "      <td>1</td>\n",
       "      <td>1</td>\n",
       "      <td>1</td>\n",
       "      <td>1</td>\n",
       "      <td>1</td>\n",
       "      <td>1</td>\n",
       "    </tr>\n",
       "    <tr>\n",
       "      <th>25</th>\n",
       "      <td>26</td>\n",
       "      <td>2016-01-01</td>\n",
       "      <td>nan</td>\n",
       "      <td>0</td>\n",
       "      <td>365.00</td>\n",
       "      <td>365.00</td>\n",
       "      <td>365.00</td>\n",
       "      <td>365.00</td>\n",
       "      <td>1</td>\n",
       "      <td>1</td>\n",
       "      <td>...</td>\n",
       "      <td>1</td>\n",
       "      <td>1</td>\n",
       "      <td>1</td>\n",
       "      <td>1</td>\n",
       "      <td>1</td>\n",
       "      <td>1</td>\n",
       "      <td>1</td>\n",
       "      <td>1</td>\n",
       "      <td>1</td>\n",
       "      <td>1</td>\n",
       "    </tr>\n",
       "    <tr>\n",
       "      <th>26</th>\n",
       "      <td>27</td>\n",
       "      <td>2016-01-01</td>\n",
       "      <td>nan</td>\n",
       "      <td>0</td>\n",
       "      <td>365.00</td>\n",
       "      <td>365.00</td>\n",
       "      <td>365.00</td>\n",
       "      <td>365.00</td>\n",
       "      <td>1</td>\n",
       "      <td>1</td>\n",
       "      <td>...</td>\n",
       "      <td>1</td>\n",
       "      <td>1</td>\n",
       "      <td>1</td>\n",
       "      <td>1</td>\n",
       "      <td>1</td>\n",
       "      <td>1</td>\n",
       "      <td>1</td>\n",
       "      <td>1</td>\n",
       "      <td>1</td>\n",
       "      <td>1</td>\n",
       "    </tr>\n",
       "    <tr>\n",
       "      <th>27</th>\n",
       "      <td>28</td>\n",
       "      <td>2016-01-01</td>\n",
       "      <td>nan</td>\n",
       "      <td>0</td>\n",
       "      <td>365.00</td>\n",
       "      <td>365.00</td>\n",
       "      <td>365.00</td>\n",
       "      <td>365.00</td>\n",
       "      <td>1</td>\n",
       "      <td>1</td>\n",
       "      <td>...</td>\n",
       "      <td>1</td>\n",
       "      <td>1</td>\n",
       "      <td>1</td>\n",
       "      <td>1</td>\n",
       "      <td>1</td>\n",
       "      <td>1</td>\n",
       "      <td>1</td>\n",
       "      <td>1</td>\n",
       "      <td>1</td>\n",
       "      <td>1</td>\n",
       "    </tr>\n",
       "    <tr>\n",
       "      <th>28</th>\n",
       "      <td>29</td>\n",
       "      <td>2016-01-01</td>\n",
       "      <td>nan</td>\n",
       "      <td>0</td>\n",
       "      <td>365.00</td>\n",
       "      <td>365.00</td>\n",
       "      <td>365.00</td>\n",
       "      <td>365.00</td>\n",
       "      <td>1</td>\n",
       "      <td>1</td>\n",
       "      <td>...</td>\n",
       "      <td>1</td>\n",
       "      <td>1</td>\n",
       "      <td>1</td>\n",
       "      <td>1</td>\n",
       "      <td>1</td>\n",
       "      <td>1</td>\n",
       "      <td>1</td>\n",
       "      <td>1</td>\n",
       "      <td>1</td>\n",
       "      <td>1</td>\n",
       "    </tr>\n",
       "    <tr>\n",
       "      <th>29</th>\n",
       "      <td>30</td>\n",
       "      <td>2016-01-01</td>\n",
       "      <td>nan</td>\n",
       "      <td>0</td>\n",
       "      <td>365.00</td>\n",
       "      <td>365.00</td>\n",
       "      <td>365.00</td>\n",
       "      <td>365.00</td>\n",
       "      <td>1</td>\n",
       "      <td>1</td>\n",
       "      <td>...</td>\n",
       "      <td>1</td>\n",
       "      <td>1</td>\n",
       "      <td>1</td>\n",
       "      <td>1</td>\n",
       "      <td>1</td>\n",
       "      <td>1</td>\n",
       "      <td>1</td>\n",
       "      <td>1</td>\n",
       "      <td>1</td>\n",
       "      <td>1</td>\n",
       "    </tr>\n",
       "    <tr>\n",
       "      <th>...</th>\n",
       "      <td>...</td>\n",
       "      <td>...</td>\n",
       "      <td>...</td>\n",
       "      <td>...</td>\n",
       "      <td>...</td>\n",
       "      <td>...</td>\n",
       "      <td>...</td>\n",
       "      <td>...</td>\n",
       "      <td>...</td>\n",
       "      <td>...</td>\n",
       "      <td>...</td>\n",
       "      <td>...</td>\n",
       "      <td>...</td>\n",
       "      <td>...</td>\n",
       "      <td>...</td>\n",
       "      <td>...</td>\n",
       "      <td>...</td>\n",
       "      <td>...</td>\n",
       "      <td>...</td>\n",
       "      <td>...</td>\n",
       "      <td>...</td>\n",
       "    </tr>\n",
       "    <tr>\n",
       "      <th>999970</th>\n",
       "      <td>999971</td>\n",
       "      <td>2016-12-31</td>\n",
       "      <td>nan</td>\n",
       "      <td>0</td>\n",
       "      <td>357.00</td>\n",
       "      <td>357.00</td>\n",
       "      <td>357.00</td>\n",
       "      <td>357.00</td>\n",
       "      <td>1</td>\n",
       "      <td>1</td>\n",
       "      <td>...</td>\n",
       "      <td>1</td>\n",
       "      <td>1</td>\n",
       "      <td>1</td>\n",
       "      <td>1</td>\n",
       "      <td>1</td>\n",
       "      <td>1</td>\n",
       "      <td>1</td>\n",
       "      <td>1</td>\n",
       "      <td>1</td>\n",
       "      <td>1</td>\n",
       "    </tr>\n",
       "    <tr>\n",
       "      <th>999971</th>\n",
       "      <td>999972</td>\n",
       "      <td>2016-12-31</td>\n",
       "      <td>nan</td>\n",
       "      <td>0</td>\n",
       "      <td>365.00</td>\n",
       "      <td>365.00</td>\n",
       "      <td>365.00</td>\n",
       "      <td>365.00</td>\n",
       "      <td>1</td>\n",
       "      <td>1</td>\n",
       "      <td>...</td>\n",
       "      <td>1</td>\n",
       "      <td>1</td>\n",
       "      <td>1</td>\n",
       "      <td>1</td>\n",
       "      <td>1</td>\n",
       "      <td>1</td>\n",
       "      <td>1</td>\n",
       "      <td>1</td>\n",
       "      <td>1</td>\n",
       "      <td>1</td>\n",
       "    </tr>\n",
       "    <tr>\n",
       "      <th>999972</th>\n",
       "      <td>999973</td>\n",
       "      <td>2016-12-31</td>\n",
       "      <td>nan</td>\n",
       "      <td>0</td>\n",
       "      <td>28.00</td>\n",
       "      <td>28.00</td>\n",
       "      <td>28.00</td>\n",
       "      <td>28.00</td>\n",
       "      <td>1</td>\n",
       "      <td>1</td>\n",
       "      <td>...</td>\n",
       "      <td>1</td>\n",
       "      <td>1</td>\n",
       "      <td>1</td>\n",
       "      <td>1</td>\n",
       "      <td>1</td>\n",
       "      <td>1</td>\n",
       "      <td>1</td>\n",
       "      <td>1</td>\n",
       "      <td>1</td>\n",
       "      <td>1</td>\n",
       "    </tr>\n",
       "    <tr>\n",
       "      <th>999973</th>\n",
       "      <td>999974</td>\n",
       "      <td>2016-12-31</td>\n",
       "      <td>nan</td>\n",
       "      <td>1</td>\n",
       "      <td>365.00</td>\n",
       "      <td>365.00</td>\n",
       "      <td>365.00</td>\n",
       "      <td>365.00</td>\n",
       "      <td>1</td>\n",
       "      <td>1</td>\n",
       "      <td>...</td>\n",
       "      <td>1</td>\n",
       "      <td>1</td>\n",
       "      <td>1</td>\n",
       "      <td>1</td>\n",
       "      <td>1</td>\n",
       "      <td>1</td>\n",
       "      <td>1</td>\n",
       "      <td>1</td>\n",
       "      <td>1</td>\n",
       "      <td>1</td>\n",
       "    </tr>\n",
       "    <tr>\n",
       "      <th>999974</th>\n",
       "      <td>999975</td>\n",
       "      <td>2016-12-31</td>\n",
       "      <td>nan</td>\n",
       "      <td>0</td>\n",
       "      <td>33.00</td>\n",
       "      <td>33.00</td>\n",
       "      <td>33.00</td>\n",
       "      <td>33.00</td>\n",
       "      <td>1</td>\n",
       "      <td>1</td>\n",
       "      <td>...</td>\n",
       "      <td>1</td>\n",
       "      <td>1</td>\n",
       "      <td>1</td>\n",
       "      <td>1</td>\n",
       "      <td>1</td>\n",
       "      <td>1</td>\n",
       "      <td>1</td>\n",
       "      <td>1</td>\n",
       "      <td>1</td>\n",
       "      <td>1</td>\n",
       "    </tr>\n",
       "    <tr>\n",
       "      <th>999975</th>\n",
       "      <td>999976</td>\n",
       "      <td>2016-12-31</td>\n",
       "      <td>nan</td>\n",
       "      <td>0</td>\n",
       "      <td>266.00</td>\n",
       "      <td>266.00</td>\n",
       "      <td>266.00</td>\n",
       "      <td>266.00</td>\n",
       "      <td>1</td>\n",
       "      <td>1</td>\n",
       "      <td>...</td>\n",
       "      <td>1</td>\n",
       "      <td>1</td>\n",
       "      <td>1</td>\n",
       "      <td>1</td>\n",
       "      <td>1</td>\n",
       "      <td>1</td>\n",
       "      <td>1</td>\n",
       "      <td>1</td>\n",
       "      <td>1</td>\n",
       "      <td>1</td>\n",
       "    </tr>\n",
       "    <tr>\n",
       "      <th>999976</th>\n",
       "      <td>999977</td>\n",
       "      <td>2016-12-31</td>\n",
       "      <td>nan</td>\n",
       "      <td>0</td>\n",
       "      <td>365.00</td>\n",
       "      <td>365.00</td>\n",
       "      <td>365.00</td>\n",
       "      <td>365.00</td>\n",
       "      <td>1</td>\n",
       "      <td>1</td>\n",
       "      <td>...</td>\n",
       "      <td>1</td>\n",
       "      <td>1</td>\n",
       "      <td>1</td>\n",
       "      <td>1</td>\n",
       "      <td>1</td>\n",
       "      <td>1</td>\n",
       "      <td>1</td>\n",
       "      <td>1</td>\n",
       "      <td>1</td>\n",
       "      <td>1</td>\n",
       "    </tr>\n",
       "    <tr>\n",
       "      <th>999977</th>\n",
       "      <td>999978</td>\n",
       "      <td>2016-12-31</td>\n",
       "      <td>nan</td>\n",
       "      <td>0</td>\n",
       "      <td>365.00</td>\n",
       "      <td>365.00</td>\n",
       "      <td>365.00</td>\n",
       "      <td>365.00</td>\n",
       "      <td>1</td>\n",
       "      <td>1</td>\n",
       "      <td>...</td>\n",
       "      <td>1</td>\n",
       "      <td>1</td>\n",
       "      <td>1</td>\n",
       "      <td>1</td>\n",
       "      <td>1</td>\n",
       "      <td>1</td>\n",
       "      <td>1</td>\n",
       "      <td>1</td>\n",
       "      <td>1</td>\n",
       "      <td>1</td>\n",
       "    </tr>\n",
       "    <tr>\n",
       "      <th>999978</th>\n",
       "      <td>999979</td>\n",
       "      <td>2016-12-31</td>\n",
       "      <td>nan</td>\n",
       "      <td>0</td>\n",
       "      <td>365.00</td>\n",
       "      <td>365.00</td>\n",
       "      <td>365.00</td>\n",
       "      <td>365.00</td>\n",
       "      <td>1</td>\n",
       "      <td>1</td>\n",
       "      <td>...</td>\n",
       "      <td>1</td>\n",
       "      <td>1</td>\n",
       "      <td>1</td>\n",
       "      <td>1</td>\n",
       "      <td>1</td>\n",
       "      <td>1</td>\n",
       "      <td>1</td>\n",
       "      <td>1</td>\n",
       "      <td>1</td>\n",
       "      <td>1</td>\n",
       "    </tr>\n",
       "    <tr>\n",
       "      <th>999979</th>\n",
       "      <td>999980</td>\n",
       "      <td>2016-12-31</td>\n",
       "      <td>nan</td>\n",
       "      <td>0</td>\n",
       "      <td>64.00</td>\n",
       "      <td>64.00</td>\n",
       "      <td>64.00</td>\n",
       "      <td>64.00</td>\n",
       "      <td>1</td>\n",
       "      <td>1</td>\n",
       "      <td>...</td>\n",
       "      <td>1</td>\n",
       "      <td>1</td>\n",
       "      <td>1</td>\n",
       "      <td>1</td>\n",
       "      <td>1</td>\n",
       "      <td>1</td>\n",
       "      <td>1</td>\n",
       "      <td>1</td>\n",
       "      <td>1</td>\n",
       "      <td>1</td>\n",
       "    </tr>\n",
       "    <tr>\n",
       "      <th>999980</th>\n",
       "      <td>999981</td>\n",
       "      <td>2016-12-31</td>\n",
       "      <td>nan</td>\n",
       "      <td>0</td>\n",
       "      <td>365.00</td>\n",
       "      <td>365.00</td>\n",
       "      <td>365.00</td>\n",
       "      <td>365.00</td>\n",
       "      <td>1</td>\n",
       "      <td>1</td>\n",
       "      <td>...</td>\n",
       "      <td>1</td>\n",
       "      <td>1</td>\n",
       "      <td>1</td>\n",
       "      <td>1</td>\n",
       "      <td>1</td>\n",
       "      <td>1</td>\n",
       "      <td>1</td>\n",
       "      <td>1</td>\n",
       "      <td>1</td>\n",
       "      <td>1</td>\n",
       "    </tr>\n",
       "    <tr>\n",
       "      <th>999981</th>\n",
       "      <td>999982</td>\n",
       "      <td>2016-12-31</td>\n",
       "      <td>nan</td>\n",
       "      <td>0</td>\n",
       "      <td>365.00</td>\n",
       "      <td>365.00</td>\n",
       "      <td>365.00</td>\n",
       "      <td>365.00</td>\n",
       "      <td>1</td>\n",
       "      <td>1</td>\n",
       "      <td>...</td>\n",
       "      <td>1</td>\n",
       "      <td>1</td>\n",
       "      <td>1</td>\n",
       "      <td>1</td>\n",
       "      <td>1</td>\n",
       "      <td>1</td>\n",
       "      <td>1</td>\n",
       "      <td>1</td>\n",
       "      <td>1</td>\n",
       "      <td>1</td>\n",
       "    </tr>\n",
       "    <tr>\n",
       "      <th>999982</th>\n",
       "      <td>999983</td>\n",
       "      <td>2016-12-31</td>\n",
       "      <td>nan</td>\n",
       "      <td>0</td>\n",
       "      <td>365.00</td>\n",
       "      <td>365.00</td>\n",
       "      <td>365.00</td>\n",
       "      <td>365.00</td>\n",
       "      <td>1</td>\n",
       "      <td>1</td>\n",
       "      <td>...</td>\n",
       "      <td>1</td>\n",
       "      <td>1</td>\n",
       "      <td>1</td>\n",
       "      <td>1</td>\n",
       "      <td>1</td>\n",
       "      <td>1</td>\n",
       "      <td>1</td>\n",
       "      <td>1</td>\n",
       "      <td>1</td>\n",
       "      <td>1</td>\n",
       "    </tr>\n",
       "    <tr>\n",
       "      <th>999983</th>\n",
       "      <td>999984</td>\n",
       "      <td>2016-12-31</td>\n",
       "      <td>nan</td>\n",
       "      <td>0</td>\n",
       "      <td>327.00</td>\n",
       "      <td>327.00</td>\n",
       "      <td>327.00</td>\n",
       "      <td>327.00</td>\n",
       "      <td>1</td>\n",
       "      <td>1</td>\n",
       "      <td>...</td>\n",
       "      <td>1</td>\n",
       "      <td>1</td>\n",
       "      <td>1</td>\n",
       "      <td>1</td>\n",
       "      <td>1</td>\n",
       "      <td>1</td>\n",
       "      <td>1</td>\n",
       "      <td>1</td>\n",
       "      <td>1</td>\n",
       "      <td>1</td>\n",
       "    </tr>\n",
       "    <tr>\n",
       "      <th>999984</th>\n",
       "      <td>999985</td>\n",
       "      <td>2016-12-31</td>\n",
       "      <td>nan</td>\n",
       "      <td>0</td>\n",
       "      <td>365.00</td>\n",
       "      <td>365.00</td>\n",
       "      <td>365.00</td>\n",
       "      <td>365.00</td>\n",
       "      <td>1</td>\n",
       "      <td>1</td>\n",
       "      <td>...</td>\n",
       "      <td>1</td>\n",
       "      <td>1</td>\n",
       "      <td>1</td>\n",
       "      <td>1</td>\n",
       "      <td>1</td>\n",
       "      <td>1</td>\n",
       "      <td>1</td>\n",
       "      <td>1</td>\n",
       "      <td>1</td>\n",
       "      <td>1</td>\n",
       "    </tr>\n",
       "    <tr>\n",
       "      <th>999985</th>\n",
       "      <td>999986</td>\n",
       "      <td>2016-12-31</td>\n",
       "      <td>nan</td>\n",
       "      <td>0</td>\n",
       "      <td>365.00</td>\n",
       "      <td>365.00</td>\n",
       "      <td>365.00</td>\n",
       "      <td>365.00</td>\n",
       "      <td>1</td>\n",
       "      <td>1</td>\n",
       "      <td>...</td>\n",
       "      <td>1</td>\n",
       "      <td>1</td>\n",
       "      <td>1</td>\n",
       "      <td>1</td>\n",
       "      <td>1</td>\n",
       "      <td>1</td>\n",
       "      <td>1</td>\n",
       "      <td>1</td>\n",
       "      <td>1</td>\n",
       "      <td>1</td>\n",
       "    </tr>\n",
       "    <tr>\n",
       "      <th>999986</th>\n",
       "      <td>999987</td>\n",
       "      <td>2016-12-31</td>\n",
       "      <td>nan</td>\n",
       "      <td>0</td>\n",
       "      <td>365.00</td>\n",
       "      <td>365.00</td>\n",
       "      <td>365.00</td>\n",
       "      <td>365.00</td>\n",
       "      <td>1</td>\n",
       "      <td>1</td>\n",
       "      <td>...</td>\n",
       "      <td>1</td>\n",
       "      <td>1</td>\n",
       "      <td>1</td>\n",
       "      <td>1</td>\n",
       "      <td>1</td>\n",
       "      <td>1</td>\n",
       "      <td>1</td>\n",
       "      <td>1</td>\n",
       "      <td>1</td>\n",
       "      <td>1</td>\n",
       "    </tr>\n",
       "    <tr>\n",
       "      <th>999987</th>\n",
       "      <td>999988</td>\n",
       "      <td>2016-12-31</td>\n",
       "      <td>nan</td>\n",
       "      <td>0</td>\n",
       "      <td>365.00</td>\n",
       "      <td>365.00</td>\n",
       "      <td>365.00</td>\n",
       "      <td>365.00</td>\n",
       "      <td>1</td>\n",
       "      <td>1</td>\n",
       "      <td>...</td>\n",
       "      <td>1</td>\n",
       "      <td>1</td>\n",
       "      <td>1</td>\n",
       "      <td>1</td>\n",
       "      <td>1</td>\n",
       "      <td>1</td>\n",
       "      <td>1</td>\n",
       "      <td>1</td>\n",
       "      <td>1</td>\n",
       "      <td>1</td>\n",
       "    </tr>\n",
       "    <tr>\n",
       "      <th>999988</th>\n",
       "      <td>999989</td>\n",
       "      <td>2016-12-31</td>\n",
       "      <td>nan</td>\n",
       "      <td>0</td>\n",
       "      <td>178.00</td>\n",
       "      <td>178.00</td>\n",
       "      <td>178.00</td>\n",
       "      <td>178.00</td>\n",
       "      <td>1</td>\n",
       "      <td>1</td>\n",
       "      <td>...</td>\n",
       "      <td>1</td>\n",
       "      <td>1</td>\n",
       "      <td>1</td>\n",
       "      <td>1</td>\n",
       "      <td>1</td>\n",
       "      <td>1</td>\n",
       "      <td>1</td>\n",
       "      <td>1</td>\n",
       "      <td>1</td>\n",
       "      <td>1</td>\n",
       "    </tr>\n",
       "    <tr>\n",
       "      <th>999989</th>\n",
       "      <td>999990</td>\n",
       "      <td>2016-12-31</td>\n",
       "      <td>nan</td>\n",
       "      <td>0</td>\n",
       "      <td>365.00</td>\n",
       "      <td>365.00</td>\n",
       "      <td>365.00</td>\n",
       "      <td>365.00</td>\n",
       "      <td>1</td>\n",
       "      <td>1</td>\n",
       "      <td>...</td>\n",
       "      <td>1</td>\n",
       "      <td>1</td>\n",
       "      <td>1</td>\n",
       "      <td>1</td>\n",
       "      <td>1</td>\n",
       "      <td>1</td>\n",
       "      <td>1</td>\n",
       "      <td>1</td>\n",
       "      <td>1</td>\n",
       "      <td>1</td>\n",
       "    </tr>\n",
       "    <tr>\n",
       "      <th>999990</th>\n",
       "      <td>999991</td>\n",
       "      <td>2016-12-31</td>\n",
       "      <td>nan</td>\n",
       "      <td>0</td>\n",
       "      <td>365.00</td>\n",
       "      <td>365.00</td>\n",
       "      <td>365.00</td>\n",
       "      <td>365.00</td>\n",
       "      <td>1</td>\n",
       "      <td>1</td>\n",
       "      <td>...</td>\n",
       "      <td>1</td>\n",
       "      <td>1</td>\n",
       "      <td>1</td>\n",
       "      <td>1</td>\n",
       "      <td>1</td>\n",
       "      <td>1</td>\n",
       "      <td>1</td>\n",
       "      <td>1</td>\n",
       "      <td>1</td>\n",
       "      <td>1</td>\n",
       "    </tr>\n",
       "    <tr>\n",
       "      <th>999991</th>\n",
       "      <td>999992</td>\n",
       "      <td>2016-12-31</td>\n",
       "      <td>nan</td>\n",
       "      <td>0</td>\n",
       "      <td>365.00</td>\n",
       "      <td>365.00</td>\n",
       "      <td>365.00</td>\n",
       "      <td>365.00</td>\n",
       "      <td>1</td>\n",
       "      <td>1</td>\n",
       "      <td>...</td>\n",
       "      <td>1</td>\n",
       "      <td>1</td>\n",
       "      <td>1</td>\n",
       "      <td>1</td>\n",
       "      <td>1</td>\n",
       "      <td>1</td>\n",
       "      <td>1</td>\n",
       "      <td>1</td>\n",
       "      <td>1</td>\n",
       "      <td>1</td>\n",
       "    </tr>\n",
       "    <tr>\n",
       "      <th>999992</th>\n",
       "      <td>999993</td>\n",
       "      <td>2016-12-31</td>\n",
       "      <td>nan</td>\n",
       "      <td>0</td>\n",
       "      <td>141.00</td>\n",
       "      <td>141.00</td>\n",
       "      <td>141.00</td>\n",
       "      <td>141.00</td>\n",
       "      <td>1</td>\n",
       "      <td>1</td>\n",
       "      <td>...</td>\n",
       "      <td>1</td>\n",
       "      <td>1</td>\n",
       "      <td>1</td>\n",
       "      <td>1</td>\n",
       "      <td>1</td>\n",
       "      <td>1</td>\n",
       "      <td>1</td>\n",
       "      <td>1</td>\n",
       "      <td>1</td>\n",
       "      <td>1</td>\n",
       "    </tr>\n",
       "    <tr>\n",
       "      <th>999993</th>\n",
       "      <td>999994</td>\n",
       "      <td>2016-12-31</td>\n",
       "      <td>nan</td>\n",
       "      <td>0</td>\n",
       "      <td>365.00</td>\n",
       "      <td>365.00</td>\n",
       "      <td>365.00</td>\n",
       "      <td>365.00</td>\n",
       "      <td>1</td>\n",
       "      <td>1</td>\n",
       "      <td>...</td>\n",
       "      <td>1</td>\n",
       "      <td>1</td>\n",
       "      <td>1</td>\n",
       "      <td>1</td>\n",
       "      <td>1</td>\n",
       "      <td>1</td>\n",
       "      <td>1</td>\n",
       "      <td>1</td>\n",
       "      <td>1</td>\n",
       "      <td>1</td>\n",
       "    </tr>\n",
       "    <tr>\n",
       "      <th>999994</th>\n",
       "      <td>999995</td>\n",
       "      <td>2016-12-31</td>\n",
       "      <td>nan</td>\n",
       "      <td>0</td>\n",
       "      <td>365.00</td>\n",
       "      <td>365.00</td>\n",
       "      <td>365.00</td>\n",
       "      <td>365.00</td>\n",
       "      <td>1</td>\n",
       "      <td>1</td>\n",
       "      <td>...</td>\n",
       "      <td>1</td>\n",
       "      <td>1</td>\n",
       "      <td>1</td>\n",
       "      <td>1</td>\n",
       "      <td>1</td>\n",
       "      <td>1</td>\n",
       "      <td>1</td>\n",
       "      <td>1</td>\n",
       "      <td>1</td>\n",
       "      <td>1</td>\n",
       "    </tr>\n",
       "    <tr>\n",
       "      <th>999995</th>\n",
       "      <td>999996</td>\n",
       "      <td>2016-12-31</td>\n",
       "      <td>nan</td>\n",
       "      <td>0</td>\n",
       "      <td>365.00</td>\n",
       "      <td>365.00</td>\n",
       "      <td>365.00</td>\n",
       "      <td>365.00</td>\n",
       "      <td>1</td>\n",
       "      <td>1</td>\n",
       "      <td>...</td>\n",
       "      <td>1</td>\n",
       "      <td>1</td>\n",
       "      <td>1</td>\n",
       "      <td>1</td>\n",
       "      <td>1</td>\n",
       "      <td>1</td>\n",
       "      <td>1</td>\n",
       "      <td>1</td>\n",
       "      <td>1</td>\n",
       "      <td>1</td>\n",
       "    </tr>\n",
       "    <tr>\n",
       "      <th>999996</th>\n",
       "      <td>999997</td>\n",
       "      <td>2016-12-31</td>\n",
       "      <td>nan</td>\n",
       "      <td>0</td>\n",
       "      <td>365.00</td>\n",
       "      <td>365.00</td>\n",
       "      <td>365.00</td>\n",
       "      <td>365.00</td>\n",
       "      <td>1</td>\n",
       "      <td>1</td>\n",
       "      <td>...</td>\n",
       "      <td>1</td>\n",
       "      <td>1</td>\n",
       "      <td>1</td>\n",
       "      <td>1</td>\n",
       "      <td>1</td>\n",
       "      <td>1</td>\n",
       "      <td>1</td>\n",
       "      <td>1</td>\n",
       "      <td>1</td>\n",
       "      <td>1</td>\n",
       "    </tr>\n",
       "    <tr>\n",
       "      <th>999997</th>\n",
       "      <td>999998</td>\n",
       "      <td>2016-12-31</td>\n",
       "      <td>nan</td>\n",
       "      <td>0</td>\n",
       "      <td>365.00</td>\n",
       "      <td>365.00</td>\n",
       "      <td>365.00</td>\n",
       "      <td>365.00</td>\n",
       "      <td>1</td>\n",
       "      <td>1</td>\n",
       "      <td>...</td>\n",
       "      <td>1</td>\n",
       "      <td>1</td>\n",
       "      <td>1</td>\n",
       "      <td>1</td>\n",
       "      <td>1</td>\n",
       "      <td>1</td>\n",
       "      <td>1</td>\n",
       "      <td>1</td>\n",
       "      <td>1</td>\n",
       "      <td>1</td>\n",
       "    </tr>\n",
       "    <tr>\n",
       "      <th>999998</th>\n",
       "      <td>999999</td>\n",
       "      <td>2016-12-31</td>\n",
       "      <td>nan</td>\n",
       "      <td>0</td>\n",
       "      <td>365.00</td>\n",
       "      <td>365.00</td>\n",
       "      <td>365.00</td>\n",
       "      <td>365.00</td>\n",
       "      <td>1</td>\n",
       "      <td>1</td>\n",
       "      <td>...</td>\n",
       "      <td>1</td>\n",
       "      <td>1</td>\n",
       "      <td>1</td>\n",
       "      <td>1</td>\n",
       "      <td>1</td>\n",
       "      <td>1</td>\n",
       "      <td>1</td>\n",
       "      <td>1</td>\n",
       "      <td>1</td>\n",
       "      <td>1</td>\n",
       "    </tr>\n",
       "    <tr>\n",
       "      <th>999999</th>\n",
       "      <td>1000000</td>\n",
       "      <td>2016-12-31</td>\n",
       "      <td>nan</td>\n",
       "      <td>0</td>\n",
       "      <td>47.00</td>\n",
       "      <td>47.00</td>\n",
       "      <td>47.00</td>\n",
       "      <td>47.00</td>\n",
       "      <td>1</td>\n",
       "      <td>1</td>\n",
       "      <td>...</td>\n",
       "      <td>1</td>\n",
       "      <td>1</td>\n",
       "      <td>1</td>\n",
       "      <td>1</td>\n",
       "      <td>1</td>\n",
       "      <td>1</td>\n",
       "      <td>1</td>\n",
       "      <td>1</td>\n",
       "      <td>1</td>\n",
       "      <td>1</td>\n",
       "    </tr>\n",
       "  </tbody>\n",
       "</table>\n",
       "<p>1000000 rows × 128 columns</p>\n",
       "</div>"
      ],
      "text/plain": [
       "         record        date  Unnamed: 0  fraud_label  \\\n",
       "0             1  2016-01-01         nan            0   \n",
       "1             2  2016-01-01         nan            1   \n",
       "2             3  2016-01-01         nan            0   \n",
       "3             4  2016-01-01         nan            0   \n",
       "4             5  2016-01-01         nan            0   \n",
       "5             6  2016-01-01         nan            0   \n",
       "6             7  2016-01-01         nan            0   \n",
       "7             8  2016-01-01         nan            0   \n",
       "8             9  2016-01-01         nan            0   \n",
       "9            10  2016-01-01         nan            0   \n",
       "10           11  2016-01-01         nan            0   \n",
       "11           12  2016-01-01         nan            0   \n",
       "12           13  2016-01-01         nan            0   \n",
       "13           14  2016-01-01         nan            0   \n",
       "14           15  2016-01-01         nan            0   \n",
       "15           16  2016-01-01         nan            0   \n",
       "16           17  2016-01-01         nan            0   \n",
       "17           18  2016-01-01         nan            0   \n",
       "18           19  2016-01-01         nan            0   \n",
       "19           20  2016-01-01         nan            0   \n",
       "20           21  2016-01-01         nan            0   \n",
       "21           22  2016-01-01         nan            0   \n",
       "22           23  2016-01-01         nan            0   \n",
       "23           24  2016-01-01         nan            0   \n",
       "24           25  2016-01-01         nan            0   \n",
       "25           26  2016-01-01         nan            0   \n",
       "26           27  2016-01-01         nan            0   \n",
       "27           28  2016-01-01         nan            0   \n",
       "28           29  2016-01-01         nan            0   \n",
       "29           30  2016-01-01         nan            0   \n",
       "...         ...         ...         ...          ...   \n",
       "999970   999971  2016-12-31         nan            0   \n",
       "999971   999972  2016-12-31         nan            0   \n",
       "999972   999973  2016-12-31         nan            0   \n",
       "999973   999974  2016-12-31         nan            1   \n",
       "999974   999975  2016-12-31         nan            0   \n",
       "999975   999976  2016-12-31         nan            0   \n",
       "999976   999977  2016-12-31         nan            0   \n",
       "999977   999978  2016-12-31         nan            0   \n",
       "999978   999979  2016-12-31         nan            0   \n",
       "999979   999980  2016-12-31         nan            0   \n",
       "999980   999981  2016-12-31         nan            0   \n",
       "999981   999982  2016-12-31         nan            0   \n",
       "999982   999983  2016-12-31         nan            0   \n",
       "999983   999984  2016-12-31         nan            0   \n",
       "999984   999985  2016-12-31         nan            0   \n",
       "999985   999986  2016-12-31         nan            0   \n",
       "999986   999987  2016-12-31         nan            0   \n",
       "999987   999988  2016-12-31         nan            0   \n",
       "999988   999989  2016-12-31         nan            0   \n",
       "999989   999990  2016-12-31         nan            0   \n",
       "999990   999991  2016-12-31         nan            0   \n",
       "999991   999992  2016-12-31         nan            0   \n",
       "999992   999993  2016-12-31         nan            0   \n",
       "999993   999994  2016-12-31         nan            0   \n",
       "999994   999995  2016-12-31         nan            0   \n",
       "999995   999996  2016-12-31         nan            0   \n",
       "999996   999997  2016-12-31         nan            0   \n",
       "999997   999998  2016-12-31         nan            0   \n",
       "999998   999999  2016-12-31         nan            0   \n",
       "999999  1000000  2016-12-31         nan            0   \n",
       "\n",
       "        Days_since_per_zip5_strfulladdress  Days_since_per_addressfulladdress  \\\n",
       "0                                   365.00                             365.00   \n",
       "1                                   365.00                             365.00   \n",
       "2                                   365.00                             365.00   \n",
       "3                                   365.00                             365.00   \n",
       "4                                   365.00                             365.00   \n",
       "5                                   365.00                             365.00   \n",
       "6                                   365.00                             365.00   \n",
       "7                                   365.00                             365.00   \n",
       "8                                   365.00                             365.00   \n",
       "9                                   365.00                             365.00   \n",
       "10                                  365.00                             365.00   \n",
       "11                                  365.00                             365.00   \n",
       "12                                  365.00                             365.00   \n",
       "13                                  365.00                             365.00   \n",
       "14                                  365.00                             365.00   \n",
       "15                                  365.00                             365.00   \n",
       "16                                  365.00                             365.00   \n",
       "17                                  365.00                             365.00   \n",
       "18                                  365.00                             365.00   \n",
       "19                                  365.00                             365.00   \n",
       "20                                  365.00                             365.00   \n",
       "21                                  365.00                             365.00   \n",
       "22                                  365.00                             365.00   \n",
       "23                                  365.00                             365.00   \n",
       "24                                  365.00                             365.00   \n",
       "25                                  365.00                             365.00   \n",
       "26                                  365.00                             365.00   \n",
       "27                                  365.00                             365.00   \n",
       "28                                  365.00                             365.00   \n",
       "29                                  365.00                             365.00   \n",
       "...                                    ...                                ...   \n",
       "999970                              357.00                             357.00   \n",
       "999971                              365.00                             365.00   \n",
       "999972                               28.00                              28.00   \n",
       "999973                              365.00                             365.00   \n",
       "999974                               33.00                              33.00   \n",
       "999975                              266.00                             266.00   \n",
       "999976                              365.00                             365.00   \n",
       "999977                              365.00                             365.00   \n",
       "999978                              365.00                             365.00   \n",
       "999979                               64.00                              64.00   \n",
       "999980                              365.00                             365.00   \n",
       "999981                              365.00                             365.00   \n",
       "999982                              365.00                             365.00   \n",
       "999983                              327.00                             327.00   \n",
       "999984                              365.00                             365.00   \n",
       "999985                              365.00                             365.00   \n",
       "999986                              365.00                             365.00   \n",
       "999987                              365.00                             365.00   \n",
       "999988                              178.00                             178.00   \n",
       "999989                              365.00                             365.00   \n",
       "999990                              365.00                             365.00   \n",
       "999991                              365.00                             365.00   \n",
       "999992                              141.00                             141.00   \n",
       "999993                              365.00                             365.00   \n",
       "999994                              365.00                             365.00   \n",
       "999995                              365.00                             365.00   \n",
       "999996                              365.00                             365.00   \n",
       "999997                              365.00                             365.00   \n",
       "999998                              365.00                             365.00   \n",
       "999999                               47.00                              47.00   \n",
       "\n",
       "        Days_since_per_fulladdress  Days_since_per_addresszip5_str  \\\n",
       "0                           365.00                          365.00   \n",
       "1                           365.00                          365.00   \n",
       "2                           365.00                          365.00   \n",
       "3                           365.00                          365.00   \n",
       "4                           365.00                          365.00   \n",
       "5                           365.00                          365.00   \n",
       "6                           365.00                          365.00   \n",
       "7                           365.00                          365.00   \n",
       "8                           365.00                          365.00   \n",
       "9                           365.00                          365.00   \n",
       "10                          365.00                          365.00   \n",
       "11                          365.00                          365.00   \n",
       "12                          365.00                          365.00   \n",
       "13                          365.00                          365.00   \n",
       "14                          365.00                          365.00   \n",
       "15                          365.00                          365.00   \n",
       "16                          365.00                          365.00   \n",
       "17                          365.00                          365.00   \n",
       "18                          365.00                          365.00   \n",
       "19                          365.00                          365.00   \n",
       "20                          365.00                          365.00   \n",
       "21                          365.00                          365.00   \n",
       "22                          365.00                          365.00   \n",
       "23                          365.00                          365.00   \n",
       "24                          365.00                          365.00   \n",
       "25                          365.00                          365.00   \n",
       "26                          365.00                          365.00   \n",
       "27                          365.00                          365.00   \n",
       "28                          365.00                          365.00   \n",
       "29                          365.00                          365.00   \n",
       "...                            ...                             ...   \n",
       "999970                      357.00                          357.00   \n",
       "999971                      365.00                          365.00   \n",
       "999972                       28.00                           28.00   \n",
       "999973                      365.00                          365.00   \n",
       "999974                       33.00                           33.00   \n",
       "999975                      266.00                          266.00   \n",
       "999976                      365.00                          365.00   \n",
       "999977                      365.00                          365.00   \n",
       "999978                      365.00                          365.00   \n",
       "999979                       64.00                           64.00   \n",
       "999980                      365.00                          365.00   \n",
       "999981                      365.00                          365.00   \n",
       "999982                      365.00                          365.00   \n",
       "999983                      327.00                          327.00   \n",
       "999984                      365.00                          365.00   \n",
       "999985                      365.00                          365.00   \n",
       "999986                      365.00                          365.00   \n",
       "999987                      365.00                          365.00   \n",
       "999988                      178.00                          178.00   \n",
       "999989                      365.00                          365.00   \n",
       "999990                      365.00                          365.00   \n",
       "999991                      365.00                          365.00   \n",
       "999992                      141.00                          141.00   \n",
       "999993                      365.00                          365.00   \n",
       "999994                      365.00                          365.00   \n",
       "999995                      365.00                          365.00   \n",
       "999996                      365.00                          365.00   \n",
       "999997                      365.00                          365.00   \n",
       "999998                      365.00                          365.00   \n",
       "999999                       47.00                           47.00   \n",
       "\n",
       "        dataaddressfulladdress14agg  datazip5_strfulladdress14agg  \\\n",
       "0                                 1                             1   \n",
       "1                                 1                             1   \n",
       "2                                 1                             1   \n",
       "3                                 1                             1   \n",
       "4                                 1                             1   \n",
       "5                                 1                             1   \n",
       "6                                 1                             1   \n",
       "7                                 1                             1   \n",
       "8                                 1                             1   \n",
       "9                                 1                             1   \n",
       "10                                1                             1   \n",
       "11                                1                             1   \n",
       "12                                1                             1   \n",
       "13                                1                             1   \n",
       "14                                1                             1   \n",
       "15                                1                             1   \n",
       "16                                1                             1   \n",
       "17                                1                             1   \n",
       "18                                1                             1   \n",
       "19                                1                             1   \n",
       "20                                1                             1   \n",
       "21                                1                             1   \n",
       "22                                1                             1   \n",
       "23                                1                             1   \n",
       "24                                1                             1   \n",
       "25                                1                             1   \n",
       "26                                1                             1   \n",
       "27                                1                             1   \n",
       "28                                1                             1   \n",
       "29                                1                             1   \n",
       "...                             ...                           ...   \n",
       "999970                            1                             1   \n",
       "999971                            1                             1   \n",
       "999972                            1                             1   \n",
       "999973                            1                             1   \n",
       "999974                            1                             1   \n",
       "999975                            1                             1   \n",
       "999976                            1                             1   \n",
       "999977                            1                             1   \n",
       "999978                            1                             1   \n",
       "999979                            1                             1   \n",
       "999980                            1                             1   \n",
       "999981                            1                             1   \n",
       "999982                            1                             1   \n",
       "999983                            1                             1   \n",
       "999984                            1                             1   \n",
       "999985                            1                             1   \n",
       "999986                            1                             1   \n",
       "999987                            1                             1   \n",
       "999988                            1                             1   \n",
       "999989                            1                             1   \n",
       "999990                            1                             1   \n",
       "999991                            1                             1   \n",
       "999992                            1                             1   \n",
       "999993                            1                             1   \n",
       "999994                            1                             1   \n",
       "999995                            1                             1   \n",
       "999996                            1                             1   \n",
       "999997                            1                             1   \n",
       "999998                            1                             1   \n",
       "999999                            1                             1   \n",
       "\n",
       "               ...          datazip5_strhomephone0agg  \\\n",
       "0              ...                                  1   \n",
       "1              ...                                  1   \n",
       "2              ...                                  1   \n",
       "3              ...                                  1   \n",
       "4              ...                                  1   \n",
       "5              ...                                  1   \n",
       "6              ...                                  1   \n",
       "7              ...                                  1   \n",
       "8              ...                                  1   \n",
       "9              ...                                  1   \n",
       "10             ...                                  1   \n",
       "11             ...                                  1   \n",
       "12             ...                                  1   \n",
       "13             ...                                  1   \n",
       "14             ...                                  1   \n",
       "15             ...                                  1   \n",
       "16             ...                                  1   \n",
       "17             ...                                  1   \n",
       "18             ...                                  1   \n",
       "19             ...                                  1   \n",
       "20             ...                                  1   \n",
       "21             ...                                  1   \n",
       "22             ...                                  1   \n",
       "23             ...                                  1   \n",
       "24             ...                                  1   \n",
       "25             ...                                  1   \n",
       "26             ...                                  1   \n",
       "27             ...                                  1   \n",
       "28             ...                                  1   \n",
       "29             ...                                  1   \n",
       "...            ...                                ...   \n",
       "999970         ...                                  1   \n",
       "999971         ...                                  1   \n",
       "999972         ...                                  1   \n",
       "999973         ...                                  1   \n",
       "999974         ...                                  1   \n",
       "999975         ...                                  1   \n",
       "999976         ...                                  1   \n",
       "999977         ...                                  1   \n",
       "999978         ...                                  1   \n",
       "999979         ...                                  1   \n",
       "999980         ...                                  1   \n",
       "999981         ...                                  1   \n",
       "999982         ...                                  1   \n",
       "999983         ...                                  1   \n",
       "999984         ...                                  1   \n",
       "999985         ...                                  1   \n",
       "999986         ...                                  1   \n",
       "999987         ...                                  1   \n",
       "999988         ...                                  1   \n",
       "999989         ...                                  1   \n",
       "999990         ...                                  1   \n",
       "999991         ...                                  1   \n",
       "999992         ...                                  1   \n",
       "999993         ...                                  1   \n",
       "999994         ...                                  1   \n",
       "999995         ...                                  1   \n",
       "999996         ...                                  1   \n",
       "999997         ...                                  1   \n",
       "999998         ...                                  1   \n",
       "999999         ...                                  1   \n",
       "\n",
       "        datafirstnamelastname0agg  datassnnameDOB0agg  datadob_strnameDOB0agg  \\\n",
       "0                               1                   1                       1   \n",
       "1                               1                   1                       1   \n",
       "2                               1                   1                       1   \n",
       "3                               1                   1                       1   \n",
       "4                               1                   1                       1   \n",
       "5                               1                   1                       1   \n",
       "6                               1                   1                       1   \n",
       "7                               1                   1                       1   \n",
       "8                               1                   1                       1   \n",
       "9                               1                   1                       1   \n",
       "10                              1                   1                       1   \n",
       "11                              1                   1                       1   \n",
       "12                              1                   1                       1   \n",
       "13                              1                   1                       1   \n",
       "14                              1                   1                       1   \n",
       "15                              1                   1                       1   \n",
       "16                              1                   1                       1   \n",
       "17                              1                   1                       1   \n",
       "18                              1                   1                       1   \n",
       "19                              1                   1                       1   \n",
       "20                              1                   1                       1   \n",
       "21                              1                   1                       1   \n",
       "22                              1                   1                       1   \n",
       "23                              1                   1                       1   \n",
       "24                              1                   1                       1   \n",
       "25                              1                   1                       1   \n",
       "26                              1                   1                       1   \n",
       "27                              1                   1                       1   \n",
       "28                              1                   1                       1   \n",
       "29                              1                   1                       1   \n",
       "...                           ...                 ...                     ...   \n",
       "999970                          1                   1                       1   \n",
       "999971                          1                   1                       1   \n",
       "999972                          1                   1                       1   \n",
       "999973                          1                   1                       1   \n",
       "999974                          1                   1                       1   \n",
       "999975                          1                   1                       1   \n",
       "999976                          1                   1                       1   \n",
       "999977                          1                   1                       1   \n",
       "999978                          1                   1                       1   \n",
       "999979                          1                   1                       1   \n",
       "999980                          1                   1                       1   \n",
       "999981                          1                   1                       1   \n",
       "999982                          1                   1                       1   \n",
       "999983                          1                   1                       1   \n",
       "999984                          1                   1                       1   \n",
       "999985                          1                   1                       1   \n",
       "999986                          1                   1                       1   \n",
       "999987                          1                   1                       1   \n",
       "999988                          1                   1                       1   \n",
       "999989                          1                   1                       1   \n",
       "999990                          1                   1                       1   \n",
       "999991                          1                   1                       1   \n",
       "999992                          1                   1                       1   \n",
       "999993                          1                   1                       1   \n",
       "999994                          1                   1                       1   \n",
       "999995                          1                   1                       1   \n",
       "999996                          1                   1                       1   \n",
       "999997                          1                   1                       1   \n",
       "999998                          1                   1                       1   \n",
       "999999                          1                   1                       1   \n",
       "\n",
       "        datanameDOB0agg  datalastnamenameDOB0agg  datafirstnamenameDOB0agg  \\\n",
       "0                     1                        1                         1   \n",
       "1                     1                        1                         1   \n",
       "2                     1                        1                         1   \n",
       "3                     1                        1                         1   \n",
       "4                     1                        1                         1   \n",
       "5                     1                        1                         1   \n",
       "6                     1                        1                         1   \n",
       "7                     1                        1                         1   \n",
       "8                     1                        1                         1   \n",
       "9                     1                        1                         1   \n",
       "10                    1                        1                         1   \n",
       "11                    1                        1                         1   \n",
       "12                    1                        1                         1   \n",
       "13                    1                        1                         1   \n",
       "14                    1                        1                         1   \n",
       "15                    1                        1                         1   \n",
       "16                    1                        1                         1   \n",
       "17                    1                        1                         1   \n",
       "18                    1                        1                         1   \n",
       "19                    1                        1                         1   \n",
       "20                    1                        1                         1   \n",
       "21                    1                        1                         1   \n",
       "22                    1                        1                         1   \n",
       "23                    1                        1                         1   \n",
       "24                    1                        1                         1   \n",
       "25                    1                        1                         1   \n",
       "26                    1                        1                         1   \n",
       "27                    1                        1                         1   \n",
       "28                    1                        1                         1   \n",
       "29                    1                        1                         1   \n",
       "...                 ...                      ...                       ...   \n",
       "999970                1                        1                         1   \n",
       "999971                1                        1                         1   \n",
       "999972                1                        1                         1   \n",
       "999973                1                        1                         1   \n",
       "999974                1                        1                         1   \n",
       "999975                1                        1                         1   \n",
       "999976                1                        1                         1   \n",
       "999977                1                        1                         1   \n",
       "999978                1                        1                         1   \n",
       "999979                1                        1                         1   \n",
       "999980                1                        1                         1   \n",
       "999981                1                        1                         1   \n",
       "999982                1                        1                         1   \n",
       "999983                1                        1                         1   \n",
       "999984                1                        1                         1   \n",
       "999985                1                        1                         1   \n",
       "999986                1                        1                         1   \n",
       "999987                1                        1                         1   \n",
       "999988                1                        1                         1   \n",
       "999989                1                        1                         1   \n",
       "999990                1                        1                         1   \n",
       "999991                1                        1                         1   \n",
       "999992                1                        1                         1   \n",
       "999993                1                        1                         1   \n",
       "999994                1                        1                         1   \n",
       "999995                1                        1                         1   \n",
       "999996                1                        1                         1   \n",
       "999997                1                        1                         1   \n",
       "999998                1                        1                         1   \n",
       "999999                1                        1                         1   \n",
       "\n",
       "        datassnlastname0agg  datassnfirstname0agg  datassndob_str0agg  \n",
       "0                         1                     1                   1  \n",
       "1                         1                     1                   1  \n",
       "2                         1                     1                   1  \n",
       "3                         1                     1                   1  \n",
       "4                         1                     1                   1  \n",
       "5                         1                     1                   1  \n",
       "6                         1                     1                   1  \n",
       "7                         1                     1                   1  \n",
       "8                         1                     1                   1  \n",
       "9                         1                     1                   1  \n",
       "10                        1                     1                   1  \n",
       "11                        1                     1                   1  \n",
       "12                        1                     1                   1  \n",
       "13                        1                     1                   1  \n",
       "14                        1                     1                   1  \n",
       "15                        1                     1                   1  \n",
       "16                        1                     1                   1  \n",
       "17                        1                     1                   1  \n",
       "18                        1                     1                   1  \n",
       "19                        1                     1                   1  \n",
       "20                        1                     1                   1  \n",
       "21                        1                     1                   1  \n",
       "22                        1                     1                   1  \n",
       "23                        1                     1                   1  \n",
       "24                        1                     1                   1  \n",
       "25                        1                     1                   1  \n",
       "26                        1                     1                   1  \n",
       "27                        1                     1                   1  \n",
       "28                        1                     1                   1  \n",
       "29                        1                     1                   1  \n",
       "...                     ...                   ...                 ...  \n",
       "999970                    1                     1                   1  \n",
       "999971                    1                     1                   1  \n",
       "999972                    1                     1                   1  \n",
       "999973                    1                     1                   1  \n",
       "999974                    1                     1                   1  \n",
       "999975                    1                     1                   1  \n",
       "999976                    1                     1                   1  \n",
       "999977                    1                     1                   1  \n",
       "999978                    1                     1                   1  \n",
       "999979                    1                     1                   1  \n",
       "999980                    1                     1                   1  \n",
       "999981                    1                     1                   1  \n",
       "999982                    1                     1                   1  \n",
       "999983                    1                     1                   1  \n",
       "999984                    1                     1                   1  \n",
       "999985                    1                     1                   1  \n",
       "999986                    1                     1                   1  \n",
       "999987                    1                     1                   1  \n",
       "999988                    1                     1                   1  \n",
       "999989                    1                     1                   1  \n",
       "999990                    1                     1                   1  \n",
       "999991                    1                     1                   1  \n",
       "999992                    1                     1                   1  \n",
       "999993                    1                     1                   1  \n",
       "999994                    1                     1                   1  \n",
       "999995                    1                     1                   1  \n",
       "999996                    1                     1                   1  \n",
       "999997                    1                     1                   1  \n",
       "999998                    1                     1                   1  \n",
       "999999                    1                     1                   1  \n",
       "\n",
       "[1000000 rows x 128 columns]"
      ]
     },
     "execution_count": 6,
     "metadata": {},
     "output_type": "execute_result"
    }
   ],
   "source": [
    "mydata"
   ]
  },
  {
   "cell_type": "code",
   "execution_count": 7,
   "metadata": {
    "scrolled": true
   },
   "outputs": [],
   "source": [
    "mydata=mydata.drop(columns='Unnamed: 0')"
   ]
  },
  {
   "cell_type": "code",
   "execution_count": 8,
   "metadata": {},
   "outputs": [],
   "source": [
    "mydata=mydata[mydata['date']<'2016-11-01']"
   ]
  },
  {
   "cell_type": "code",
   "execution_count": 9,
   "metadata": {},
   "outputs": [
    {
     "data": {
      "text/plain": [
       "(833507, 127)"
      ]
     },
     "execution_count": 9,
     "metadata": {},
     "output_type": "execute_result"
    }
   ],
   "source": [
    "mydata.shape"
   ]
  },
  {
   "cell_type": "code",
   "execution_count": 10,
   "metadata": {},
   "outputs": [],
   "source": [
    "sample=mydata.sample(n=100000,random_state=1)"
   ]
  },
  {
   "cell_type": "code",
   "execution_count": 11,
   "metadata": {},
   "outputs": [
    {
     "data": {
      "text/plain": [
       "(100000, 127)"
      ]
     },
     "execution_count": 11,
     "metadata": {},
     "output_type": "execute_result"
    }
   ],
   "source": [
    "sample.shape"
   ]
  },
  {
   "cell_type": "code",
   "execution_count": 12,
   "metadata": {},
   "outputs": [
    {
     "data": {
      "text/plain": [
       "['record',\n",
       " 'date',\n",
       " 'fraud_label',\n",
       " 'Days_since_per_zip5_strfulladdress',\n",
       " 'Days_since_per_addressfulladdress',\n",
       " 'Days_since_per_fulladdress',\n",
       " 'Days_since_per_addresszip5_str',\n",
       " 'dataaddressfulladdress14agg',\n",
       " 'datazip5_strfulladdress14agg',\n",
       " 'datafulladdress14agg',\n",
       " 'dataaddresszip5_str14agg',\n",
       " 'datazip5_strfulladdress7agg',\n",
       " 'datafulladdress7agg',\n",
       " 'dataaddressfulladdress7agg',\n",
       " 'dataaddresszip5_str7agg',\n",
       " 'dataaddresszip5_str3agg',\n",
       " 'dataaddressfulladdress3agg',\n",
       " 'datafulladdress3agg',\n",
       " 'datazip5_strfulladdress3agg',\n",
       " 'datazip5_strfulladdress1agg',\n",
       " 'dataaddressfulladdress1agg',\n",
       " 'datafulladdress1agg',\n",
       " 'dataaddresszip5_str1agg',\n",
       " 'smoothed_zip3',\n",
       " 'Days_since_per_lastnamedob_str',\n",
       " 'Days_since_per_ssndob_str',\n",
       " 'Days_since_per_nameDOB',\n",
       " 'Days_since_per_dob_strnameDOB',\n",
       " 'Days_since_per_firstnamenameDOB',\n",
       " 'Days_since_per_lastnamenameDOB',\n",
       " 'Days_since_per_addresshomephone',\n",
       " 'Days_since_per_firstnamedob_str',\n",
       " 'Days_since_per_ssn',\n",
       " 'Days_since_per_homephonefulladdress',\n",
       " 'Days_since_per_ssnfirstname',\n",
       " 'Days_since_per_ssnlastname',\n",
       " 'Days_since_per_ssnnameDOB',\n",
       " 'Days_since_per_zip5_strhomephone',\n",
       " 'freq_zip_25',\n",
       " 'no_of_apps',\n",
       " 'dataaddresshomephone14agg',\n",
       " 'datahomephonefulladdress14agg',\n",
       " 'smoothed_homephone3',\n",
       " 'datafirstnamenameDOB14agg',\n",
       " 'datadob_strnameDOB14agg',\n",
       " 'datanameDOB14agg',\n",
       " 'datalastnamenameDOB14agg',\n",
       " 'num_zip',\n",
       " 'datassnnameDOB14agg',\n",
       " 'Days_since_per_firstnamelastname',\n",
       " 'datassnlastname14agg',\n",
       " 'datassndob_str14agg',\n",
       " 'datassnfirstname14agg',\n",
       " 'freq_zip_12',\n",
       " 'datafirstnamelastname14agg',\n",
       " 'datassn14agg',\n",
       " 'datazip5_strhomephone14agg',\n",
       " 'dataaddresshomephone7agg',\n",
       " 'datahomephonefulladdress7agg',\n",
       " 'num_phones',\n",
       " 'datafirstnamenameDOB7agg',\n",
       " 'datadob_strnameDOB7agg',\n",
       " 'datanameDOB7agg',\n",
       " 'datalastnamenameDOB7agg',\n",
       " 'datassnnameDOB7agg',\n",
       " 'datassnlastname7agg',\n",
       " 'datassnfirstname7agg',\n",
       " 'datassndob_str7agg',\n",
       " 'datafirstnamelastname7agg',\n",
       " 'datazip5_strhomephone7agg',\n",
       " 'datafulladdress0agg',\n",
       " 'dataaddressfulladdress0agg',\n",
       " 'dataaddresszip5_str0agg',\n",
       " 'datazip5_strfulladdress0agg',\n",
       " 'datassn7agg',\n",
       " 'datalastnamedob_str14agg',\n",
       " 'freq_zip_5',\n",
       " 'dataaddresshomephone3agg',\n",
       " 'datahomephonefulladdress3agg',\n",
       " 'Days_since_per_homephone',\n",
       " 'datafirstnamenameDOB3agg',\n",
       " 'datanameDOB3agg',\n",
       " 'datadob_strnameDOB3agg',\n",
       " 'datalastnamenameDOB3agg',\n",
       " 'datazip5_strhomephone3agg',\n",
       " 'datassnnameDOB3agg',\n",
       " 'datassnlastname3agg',\n",
       " 'datassnfirstname3agg',\n",
       " 'datafirstnamelastname3agg',\n",
       " 'datassndob_str3agg',\n",
       " 'datalastnamedob_str7agg',\n",
       " 'datassn3agg',\n",
       " 'datafirstnamedob_str14agg',\n",
       " 'dataaddresshomephone1agg',\n",
       " 'datahomephonefulladdress1agg',\n",
       " 'datazip5_strhomephone1agg',\n",
       " 'datalastnamedob_str3agg',\n",
       " 'datafirstnamenameDOB1agg',\n",
       " 'datanameDOB1agg',\n",
       " 'datalastnamenameDOB1agg',\n",
       " 'datadob_strnameDOB1agg',\n",
       " 'datassnnameDOB1agg',\n",
       " 'datafirstnamelastname1agg',\n",
       " 'datassnlastname1agg',\n",
       " 'datassnfirstname1agg',\n",
       " 'datassndob_str1agg',\n",
       " 'datafirstnamedob_str7agg',\n",
       " 'datahomephone3agg',\n",
       " 'datahomephone7agg',\n",
       " 'datassn1agg',\n",
       " 'datalastnamedob_str1agg',\n",
       " 'datafirstnamedob_str3agg',\n",
       " 'datahomephone1agg',\n",
       " 'datafirstnamedob_str1agg',\n",
       " 'smoothed_byear',\n",
       " 'dataaddresshomephone0agg',\n",
       " 'datahomephonefulladdress0agg',\n",
       " 'datazip5_strhomephone0agg',\n",
       " 'datafirstnamelastname0agg',\n",
       " 'datassnnameDOB0agg',\n",
       " 'datadob_strnameDOB0agg',\n",
       " 'datanameDOB0agg',\n",
       " 'datalastnamenameDOB0agg',\n",
       " 'datafirstnamenameDOB0agg',\n",
       " 'datassnlastname0agg',\n",
       " 'datassnfirstname0agg',\n",
       " 'datassndob_str0agg']"
      ]
     },
     "execution_count": 12,
     "metadata": {},
     "output_type": "execute_result"
    }
   ],
   "source": [
    "list(sample.columns)"
   ]
  },
  {
   "cell_type": "code",
   "execution_count": 13,
   "metadata": {},
   "outputs": [],
   "source": [
    "Y=sample['fraud_label']\n",
    "X=sample.drop(columns=['fraud_label','record','date'])"
   ]
  },
  {
   "cell_type": "code",
   "execution_count": 16,
   "metadata": {},
   "outputs": [
    {
     "name": "stdout",
     "output_type": "stream",
     "text": [
      "Fitting estimator with 124 features.\n"
     ]
    },
    {
     "name": "stderr",
     "output_type": "stream",
     "text": [
      "/anaconda3/lib/python3.7/site-packages/sklearn/linear_model/logistic.py:433: FutureWarning: Default solver will be changed to 'lbfgs' in 0.22. Specify a solver to silence this warning.\n",
      "  FutureWarning)\n",
      "/anaconda3/lib/python3.7/site-packages/sklearn/svm/base.py:922: ConvergenceWarning: Liblinear failed to converge, increase the number of iterations.\n",
      "  \"the number of iterations.\", ConvergenceWarning)\n",
      "/anaconda3/lib/python3.7/site-packages/sklearn/linear_model/logistic.py:433: FutureWarning: Default solver will be changed to 'lbfgs' in 0.22. Specify a solver to silence this warning.\n",
      "  FutureWarning)\n"
     ]
    },
    {
     "name": "stdout",
     "output_type": "stream",
     "text": [
      "Fitting estimator with 123 features.\n"
     ]
    },
    {
     "name": "stderr",
     "output_type": "stream",
     "text": [
      "/anaconda3/lib/python3.7/site-packages/sklearn/svm/base.py:922: ConvergenceWarning: Liblinear failed to converge, increase the number of iterations.\n",
      "  \"the number of iterations.\", ConvergenceWarning)\n",
      "/anaconda3/lib/python3.7/site-packages/sklearn/linear_model/logistic.py:433: FutureWarning: Default solver will be changed to 'lbfgs' in 0.22. Specify a solver to silence this warning.\n",
      "  FutureWarning)\n"
     ]
    },
    {
     "name": "stdout",
     "output_type": "stream",
     "text": [
      "Fitting estimator with 122 features.\n"
     ]
    },
    {
     "name": "stderr",
     "output_type": "stream",
     "text": [
      "/anaconda3/lib/python3.7/site-packages/sklearn/svm/base.py:922: ConvergenceWarning: Liblinear failed to converge, increase the number of iterations.\n",
      "  \"the number of iterations.\", ConvergenceWarning)\n",
      "/anaconda3/lib/python3.7/site-packages/sklearn/linear_model/logistic.py:433: FutureWarning: Default solver will be changed to 'lbfgs' in 0.22. Specify a solver to silence this warning.\n",
      "  FutureWarning)\n"
     ]
    },
    {
     "name": "stdout",
     "output_type": "stream",
     "text": [
      "Fitting estimator with 121 features.\n"
     ]
    },
    {
     "name": "stderr",
     "output_type": "stream",
     "text": [
      "/anaconda3/lib/python3.7/site-packages/sklearn/svm/base.py:922: ConvergenceWarning: Liblinear failed to converge, increase the number of iterations.\n",
      "  \"the number of iterations.\", ConvergenceWarning)\n",
      "/anaconda3/lib/python3.7/site-packages/sklearn/linear_model/logistic.py:433: FutureWarning: Default solver will be changed to 'lbfgs' in 0.22. Specify a solver to silence this warning.\n",
      "  FutureWarning)\n"
     ]
    },
    {
     "name": "stdout",
     "output_type": "stream",
     "text": [
      "Fitting estimator with 120 features.\n"
     ]
    },
    {
     "name": "stderr",
     "output_type": "stream",
     "text": [
      "/anaconda3/lib/python3.7/site-packages/sklearn/svm/base.py:922: ConvergenceWarning: Liblinear failed to converge, increase the number of iterations.\n",
      "  \"the number of iterations.\", ConvergenceWarning)\n",
      "/anaconda3/lib/python3.7/site-packages/sklearn/linear_model/logistic.py:433: FutureWarning: Default solver will be changed to 'lbfgs' in 0.22. Specify a solver to silence this warning.\n",
      "  FutureWarning)\n"
     ]
    },
    {
     "name": "stdout",
     "output_type": "stream",
     "text": [
      "Fitting estimator with 119 features.\n"
     ]
    },
    {
     "name": "stderr",
     "output_type": "stream",
     "text": [
      "/anaconda3/lib/python3.7/site-packages/sklearn/svm/base.py:922: ConvergenceWarning: Liblinear failed to converge, increase the number of iterations.\n",
      "  \"the number of iterations.\", ConvergenceWarning)\n",
      "/anaconda3/lib/python3.7/site-packages/sklearn/linear_model/logistic.py:433: FutureWarning: Default solver will be changed to 'lbfgs' in 0.22. Specify a solver to silence this warning.\n",
      "  FutureWarning)\n"
     ]
    },
    {
     "name": "stdout",
     "output_type": "stream",
     "text": [
      "Fitting estimator with 118 features.\n"
     ]
    },
    {
     "name": "stderr",
     "output_type": "stream",
     "text": [
      "/anaconda3/lib/python3.7/site-packages/sklearn/svm/base.py:922: ConvergenceWarning: Liblinear failed to converge, increase the number of iterations.\n",
      "  \"the number of iterations.\", ConvergenceWarning)\n",
      "/anaconda3/lib/python3.7/site-packages/sklearn/linear_model/logistic.py:433: FutureWarning: Default solver will be changed to 'lbfgs' in 0.22. Specify a solver to silence this warning.\n",
      "  FutureWarning)\n"
     ]
    },
    {
     "name": "stdout",
     "output_type": "stream",
     "text": [
      "Fitting estimator with 117 features.\n"
     ]
    },
    {
     "name": "stderr",
     "output_type": "stream",
     "text": [
      "/anaconda3/lib/python3.7/site-packages/sklearn/svm/base.py:922: ConvergenceWarning: Liblinear failed to converge, increase the number of iterations.\n",
      "  \"the number of iterations.\", ConvergenceWarning)\n",
      "/anaconda3/lib/python3.7/site-packages/sklearn/linear_model/logistic.py:433: FutureWarning: Default solver will be changed to 'lbfgs' in 0.22. Specify a solver to silence this warning.\n",
      "  FutureWarning)\n"
     ]
    },
    {
     "name": "stdout",
     "output_type": "stream",
     "text": [
      "Fitting estimator with 116 features.\n"
     ]
    },
    {
     "name": "stderr",
     "output_type": "stream",
     "text": [
      "/anaconda3/lib/python3.7/site-packages/sklearn/svm/base.py:922: ConvergenceWarning: Liblinear failed to converge, increase the number of iterations.\n",
      "  \"the number of iterations.\", ConvergenceWarning)\n",
      "/anaconda3/lib/python3.7/site-packages/sklearn/linear_model/logistic.py:433: FutureWarning: Default solver will be changed to 'lbfgs' in 0.22. Specify a solver to silence this warning.\n",
      "  FutureWarning)\n"
     ]
    },
    {
     "name": "stdout",
     "output_type": "stream",
     "text": [
      "Fitting estimator with 115 features.\n"
     ]
    },
    {
     "name": "stderr",
     "output_type": "stream",
     "text": [
      "/anaconda3/lib/python3.7/site-packages/sklearn/svm/base.py:922: ConvergenceWarning: Liblinear failed to converge, increase the number of iterations.\n",
      "  \"the number of iterations.\", ConvergenceWarning)\n",
      "/anaconda3/lib/python3.7/site-packages/sklearn/linear_model/logistic.py:433: FutureWarning: Default solver will be changed to 'lbfgs' in 0.22. Specify a solver to silence this warning.\n",
      "  FutureWarning)\n"
     ]
    },
    {
     "name": "stdout",
     "output_type": "stream",
     "text": [
      "Fitting estimator with 114 features.\n"
     ]
    },
    {
     "name": "stderr",
     "output_type": "stream",
     "text": [
      "/anaconda3/lib/python3.7/site-packages/sklearn/svm/base.py:922: ConvergenceWarning: Liblinear failed to converge, increase the number of iterations.\n",
      "  \"the number of iterations.\", ConvergenceWarning)\n",
      "/anaconda3/lib/python3.7/site-packages/sklearn/linear_model/logistic.py:433: FutureWarning: Default solver will be changed to 'lbfgs' in 0.22. Specify a solver to silence this warning.\n",
      "  FutureWarning)\n"
     ]
    },
    {
     "name": "stdout",
     "output_type": "stream",
     "text": [
      "Fitting estimator with 113 features.\n"
     ]
    },
    {
     "name": "stderr",
     "output_type": "stream",
     "text": [
      "/anaconda3/lib/python3.7/site-packages/sklearn/svm/base.py:922: ConvergenceWarning: Liblinear failed to converge, increase the number of iterations.\n",
      "  \"the number of iterations.\", ConvergenceWarning)\n",
      "/anaconda3/lib/python3.7/site-packages/sklearn/linear_model/logistic.py:433: FutureWarning: Default solver will be changed to 'lbfgs' in 0.22. Specify a solver to silence this warning.\n",
      "  FutureWarning)\n"
     ]
    },
    {
     "name": "stdout",
     "output_type": "stream",
     "text": [
      "Fitting estimator with 112 features.\n"
     ]
    },
    {
     "name": "stderr",
     "output_type": "stream",
     "text": [
      "/anaconda3/lib/python3.7/site-packages/sklearn/svm/base.py:922: ConvergenceWarning: Liblinear failed to converge, increase the number of iterations.\n",
      "  \"the number of iterations.\", ConvergenceWarning)\n",
      "/anaconda3/lib/python3.7/site-packages/sklearn/linear_model/logistic.py:433: FutureWarning: Default solver will be changed to 'lbfgs' in 0.22. Specify a solver to silence this warning.\n",
      "  FutureWarning)\n"
     ]
    },
    {
     "name": "stdout",
     "output_type": "stream",
     "text": [
      "Fitting estimator with 111 features.\n"
     ]
    },
    {
     "name": "stderr",
     "output_type": "stream",
     "text": [
      "/anaconda3/lib/python3.7/site-packages/sklearn/svm/base.py:922: ConvergenceWarning: Liblinear failed to converge, increase the number of iterations.\n",
      "  \"the number of iterations.\", ConvergenceWarning)\n",
      "/anaconda3/lib/python3.7/site-packages/sklearn/linear_model/logistic.py:433: FutureWarning: Default solver will be changed to 'lbfgs' in 0.22. Specify a solver to silence this warning.\n",
      "  FutureWarning)\n"
     ]
    },
    {
     "name": "stdout",
     "output_type": "stream",
     "text": [
      "Fitting estimator with 110 features.\n"
     ]
    },
    {
     "name": "stderr",
     "output_type": "stream",
     "text": [
      "/anaconda3/lib/python3.7/site-packages/sklearn/svm/base.py:922: ConvergenceWarning: Liblinear failed to converge, increase the number of iterations.\n",
      "  \"the number of iterations.\", ConvergenceWarning)\n",
      "/anaconda3/lib/python3.7/site-packages/sklearn/linear_model/logistic.py:433: FutureWarning: Default solver will be changed to 'lbfgs' in 0.22. Specify a solver to silence this warning.\n",
      "  FutureWarning)\n"
     ]
    },
    {
     "name": "stdout",
     "output_type": "stream",
     "text": [
      "Fitting estimator with 109 features.\n"
     ]
    },
    {
     "name": "stderr",
     "output_type": "stream",
     "text": [
      "/anaconda3/lib/python3.7/site-packages/sklearn/svm/base.py:922: ConvergenceWarning: Liblinear failed to converge, increase the number of iterations.\n",
      "  \"the number of iterations.\", ConvergenceWarning)\n",
      "/anaconda3/lib/python3.7/site-packages/sklearn/linear_model/logistic.py:433: FutureWarning: Default solver will be changed to 'lbfgs' in 0.22. Specify a solver to silence this warning.\n",
      "  FutureWarning)\n"
     ]
    },
    {
     "name": "stdout",
     "output_type": "stream",
     "text": [
      "Fitting estimator with 108 features.\n"
     ]
    },
    {
     "name": "stderr",
     "output_type": "stream",
     "text": [
      "/anaconda3/lib/python3.7/site-packages/sklearn/svm/base.py:922: ConvergenceWarning: Liblinear failed to converge, increase the number of iterations.\n",
      "  \"the number of iterations.\", ConvergenceWarning)\n",
      "/anaconda3/lib/python3.7/site-packages/sklearn/linear_model/logistic.py:433: FutureWarning: Default solver will be changed to 'lbfgs' in 0.22. Specify a solver to silence this warning.\n",
      "  FutureWarning)\n"
     ]
    },
    {
     "name": "stdout",
     "output_type": "stream",
     "text": [
      "Fitting estimator with 107 features.\n"
     ]
    },
    {
     "name": "stderr",
     "output_type": "stream",
     "text": [
      "/anaconda3/lib/python3.7/site-packages/sklearn/svm/base.py:922: ConvergenceWarning: Liblinear failed to converge, increase the number of iterations.\n",
      "  \"the number of iterations.\", ConvergenceWarning)\n",
      "/anaconda3/lib/python3.7/site-packages/sklearn/linear_model/logistic.py:433: FutureWarning: Default solver will be changed to 'lbfgs' in 0.22. Specify a solver to silence this warning.\n",
      "  FutureWarning)\n"
     ]
    },
    {
     "name": "stdout",
     "output_type": "stream",
     "text": [
      "Fitting estimator with 106 features.\n"
     ]
    },
    {
     "name": "stderr",
     "output_type": "stream",
     "text": [
      "/anaconda3/lib/python3.7/site-packages/sklearn/svm/base.py:922: ConvergenceWarning: Liblinear failed to converge, increase the number of iterations.\n",
      "  \"the number of iterations.\", ConvergenceWarning)\n",
      "/anaconda3/lib/python3.7/site-packages/sklearn/linear_model/logistic.py:433: FutureWarning: Default solver will be changed to 'lbfgs' in 0.22. Specify a solver to silence this warning.\n",
      "  FutureWarning)\n"
     ]
    },
    {
     "name": "stdout",
     "output_type": "stream",
     "text": [
      "Fitting estimator with 105 features.\n"
     ]
    },
    {
     "name": "stderr",
     "output_type": "stream",
     "text": [
      "/anaconda3/lib/python3.7/site-packages/sklearn/svm/base.py:922: ConvergenceWarning: Liblinear failed to converge, increase the number of iterations.\n",
      "  \"the number of iterations.\", ConvergenceWarning)\n",
      "/anaconda3/lib/python3.7/site-packages/sklearn/linear_model/logistic.py:433: FutureWarning: Default solver will be changed to 'lbfgs' in 0.22. Specify a solver to silence this warning.\n",
      "  FutureWarning)\n"
     ]
    },
    {
     "name": "stdout",
     "output_type": "stream",
     "text": [
      "Fitting estimator with 104 features.\n"
     ]
    },
    {
     "name": "stderr",
     "output_type": "stream",
     "text": [
      "/anaconda3/lib/python3.7/site-packages/sklearn/svm/base.py:922: ConvergenceWarning: Liblinear failed to converge, increase the number of iterations.\n",
      "  \"the number of iterations.\", ConvergenceWarning)\n",
      "/anaconda3/lib/python3.7/site-packages/sklearn/linear_model/logistic.py:433: FutureWarning: Default solver will be changed to 'lbfgs' in 0.22. Specify a solver to silence this warning.\n",
      "  FutureWarning)\n"
     ]
    },
    {
     "name": "stdout",
     "output_type": "stream",
     "text": [
      "Fitting estimator with 103 features.\n"
     ]
    },
    {
     "name": "stderr",
     "output_type": "stream",
     "text": [
      "/anaconda3/lib/python3.7/site-packages/sklearn/svm/base.py:922: ConvergenceWarning: Liblinear failed to converge, increase the number of iterations.\n",
      "  \"the number of iterations.\", ConvergenceWarning)\n",
      "/anaconda3/lib/python3.7/site-packages/sklearn/linear_model/logistic.py:433: FutureWarning: Default solver will be changed to 'lbfgs' in 0.22. Specify a solver to silence this warning.\n",
      "  FutureWarning)\n"
     ]
    },
    {
     "name": "stdout",
     "output_type": "stream",
     "text": [
      "Fitting estimator with 102 features.\n"
     ]
    },
    {
     "name": "stderr",
     "output_type": "stream",
     "text": [
      "/anaconda3/lib/python3.7/site-packages/sklearn/svm/base.py:922: ConvergenceWarning: Liblinear failed to converge, increase the number of iterations.\n",
      "  \"the number of iterations.\", ConvergenceWarning)\n",
      "/anaconda3/lib/python3.7/site-packages/sklearn/linear_model/logistic.py:433: FutureWarning: Default solver will be changed to 'lbfgs' in 0.22. Specify a solver to silence this warning.\n",
      "  FutureWarning)\n"
     ]
    },
    {
     "name": "stdout",
     "output_type": "stream",
     "text": [
      "Fitting estimator with 101 features.\n"
     ]
    },
    {
     "name": "stderr",
     "output_type": "stream",
     "text": [
      "/anaconda3/lib/python3.7/site-packages/sklearn/svm/base.py:922: ConvergenceWarning: Liblinear failed to converge, increase the number of iterations.\n",
      "  \"the number of iterations.\", ConvergenceWarning)\n",
      "/anaconda3/lib/python3.7/site-packages/sklearn/linear_model/logistic.py:433: FutureWarning: Default solver will be changed to 'lbfgs' in 0.22. Specify a solver to silence this warning.\n",
      "  FutureWarning)\n"
     ]
    },
    {
     "name": "stdout",
     "output_type": "stream",
     "text": [
      "Fitting estimator with 100 features.\n"
     ]
    },
    {
     "name": "stderr",
     "output_type": "stream",
     "text": [
      "/anaconda3/lib/python3.7/site-packages/sklearn/svm/base.py:922: ConvergenceWarning: Liblinear failed to converge, increase the number of iterations.\n",
      "  \"the number of iterations.\", ConvergenceWarning)\n",
      "/anaconda3/lib/python3.7/site-packages/sklearn/linear_model/logistic.py:433: FutureWarning: Default solver will be changed to 'lbfgs' in 0.22. Specify a solver to silence this warning.\n",
      "  FutureWarning)\n"
     ]
    },
    {
     "name": "stdout",
     "output_type": "stream",
     "text": [
      "Fitting estimator with 99 features.\n"
     ]
    },
    {
     "name": "stderr",
     "output_type": "stream",
     "text": [
      "/anaconda3/lib/python3.7/site-packages/sklearn/svm/base.py:922: ConvergenceWarning: Liblinear failed to converge, increase the number of iterations.\n",
      "  \"the number of iterations.\", ConvergenceWarning)\n",
      "/anaconda3/lib/python3.7/site-packages/sklearn/linear_model/logistic.py:433: FutureWarning: Default solver will be changed to 'lbfgs' in 0.22. Specify a solver to silence this warning.\n",
      "  FutureWarning)\n"
     ]
    },
    {
     "name": "stdout",
     "output_type": "stream",
     "text": [
      "Fitting estimator with 98 features.\n"
     ]
    },
    {
     "name": "stderr",
     "output_type": "stream",
     "text": [
      "/anaconda3/lib/python3.7/site-packages/sklearn/svm/base.py:922: ConvergenceWarning: Liblinear failed to converge, increase the number of iterations.\n",
      "  \"the number of iterations.\", ConvergenceWarning)\n",
      "/anaconda3/lib/python3.7/site-packages/sklearn/linear_model/logistic.py:433: FutureWarning: Default solver will be changed to 'lbfgs' in 0.22. Specify a solver to silence this warning.\n",
      "  FutureWarning)\n"
     ]
    },
    {
     "name": "stdout",
     "output_type": "stream",
     "text": [
      "Fitting estimator with 97 features.\n"
     ]
    },
    {
     "name": "stderr",
     "output_type": "stream",
     "text": [
      "/anaconda3/lib/python3.7/site-packages/sklearn/svm/base.py:922: ConvergenceWarning: Liblinear failed to converge, increase the number of iterations.\n",
      "  \"the number of iterations.\", ConvergenceWarning)\n",
      "/anaconda3/lib/python3.7/site-packages/sklearn/linear_model/logistic.py:433: FutureWarning: Default solver will be changed to 'lbfgs' in 0.22. Specify a solver to silence this warning.\n",
      "  FutureWarning)\n"
     ]
    },
    {
     "name": "stdout",
     "output_type": "stream",
     "text": [
      "Fitting estimator with 96 features.\n"
     ]
    },
    {
     "name": "stderr",
     "output_type": "stream",
     "text": [
      "/anaconda3/lib/python3.7/site-packages/sklearn/svm/base.py:922: ConvergenceWarning: Liblinear failed to converge, increase the number of iterations.\n",
      "  \"the number of iterations.\", ConvergenceWarning)\n",
      "/anaconda3/lib/python3.7/site-packages/sklearn/linear_model/logistic.py:433: FutureWarning: Default solver will be changed to 'lbfgs' in 0.22. Specify a solver to silence this warning.\n",
      "  FutureWarning)\n"
     ]
    },
    {
     "name": "stdout",
     "output_type": "stream",
     "text": [
      "Fitting estimator with 95 features.\n"
     ]
    },
    {
     "name": "stderr",
     "output_type": "stream",
     "text": [
      "/anaconda3/lib/python3.7/site-packages/sklearn/svm/base.py:922: ConvergenceWarning: Liblinear failed to converge, increase the number of iterations.\n",
      "  \"the number of iterations.\", ConvergenceWarning)\n",
      "/anaconda3/lib/python3.7/site-packages/sklearn/linear_model/logistic.py:433: FutureWarning: Default solver will be changed to 'lbfgs' in 0.22. Specify a solver to silence this warning.\n",
      "  FutureWarning)\n"
     ]
    },
    {
     "name": "stdout",
     "output_type": "stream",
     "text": [
      "Fitting estimator with 94 features.\n"
     ]
    },
    {
     "name": "stderr",
     "output_type": "stream",
     "text": [
      "/anaconda3/lib/python3.7/site-packages/sklearn/svm/base.py:922: ConvergenceWarning: Liblinear failed to converge, increase the number of iterations.\n",
      "  \"the number of iterations.\", ConvergenceWarning)\n",
      "/anaconda3/lib/python3.7/site-packages/sklearn/linear_model/logistic.py:433: FutureWarning: Default solver will be changed to 'lbfgs' in 0.22. Specify a solver to silence this warning.\n",
      "  FutureWarning)\n"
     ]
    },
    {
     "name": "stdout",
     "output_type": "stream",
     "text": [
      "Fitting estimator with 93 features.\n"
     ]
    },
    {
     "name": "stderr",
     "output_type": "stream",
     "text": [
      "/anaconda3/lib/python3.7/site-packages/sklearn/svm/base.py:922: ConvergenceWarning: Liblinear failed to converge, increase the number of iterations.\n",
      "  \"the number of iterations.\", ConvergenceWarning)\n",
      "/anaconda3/lib/python3.7/site-packages/sklearn/linear_model/logistic.py:433: FutureWarning: Default solver will be changed to 'lbfgs' in 0.22. Specify a solver to silence this warning.\n",
      "  FutureWarning)\n"
     ]
    },
    {
     "name": "stdout",
     "output_type": "stream",
     "text": [
      "Fitting estimator with 92 features.\n"
     ]
    },
    {
     "name": "stderr",
     "output_type": "stream",
     "text": [
      "/anaconda3/lib/python3.7/site-packages/sklearn/svm/base.py:922: ConvergenceWarning: Liblinear failed to converge, increase the number of iterations.\n",
      "  \"the number of iterations.\", ConvergenceWarning)\n",
      "/anaconda3/lib/python3.7/site-packages/sklearn/linear_model/logistic.py:433: FutureWarning: Default solver will be changed to 'lbfgs' in 0.22. Specify a solver to silence this warning.\n",
      "  FutureWarning)\n"
     ]
    },
    {
     "name": "stdout",
     "output_type": "stream",
     "text": [
      "Fitting estimator with 91 features.\n"
     ]
    },
    {
     "name": "stderr",
     "output_type": "stream",
     "text": [
      "/anaconda3/lib/python3.7/site-packages/sklearn/svm/base.py:922: ConvergenceWarning: Liblinear failed to converge, increase the number of iterations.\n",
      "  \"the number of iterations.\", ConvergenceWarning)\n",
      "/anaconda3/lib/python3.7/site-packages/sklearn/linear_model/logistic.py:433: FutureWarning: Default solver will be changed to 'lbfgs' in 0.22. Specify a solver to silence this warning.\n",
      "  FutureWarning)\n"
     ]
    },
    {
     "name": "stdout",
     "output_type": "stream",
     "text": [
      "Fitting estimator with 90 features.\n"
     ]
    },
    {
     "name": "stderr",
     "output_type": "stream",
     "text": [
      "/anaconda3/lib/python3.7/site-packages/sklearn/svm/base.py:922: ConvergenceWarning: Liblinear failed to converge, increase the number of iterations.\n",
      "  \"the number of iterations.\", ConvergenceWarning)\n",
      "/anaconda3/lib/python3.7/site-packages/sklearn/linear_model/logistic.py:433: FutureWarning: Default solver will be changed to 'lbfgs' in 0.22. Specify a solver to silence this warning.\n",
      "  FutureWarning)\n"
     ]
    },
    {
     "name": "stdout",
     "output_type": "stream",
     "text": [
      "Fitting estimator with 89 features.\n"
     ]
    },
    {
     "name": "stderr",
     "output_type": "stream",
     "text": [
      "/anaconda3/lib/python3.7/site-packages/sklearn/svm/base.py:922: ConvergenceWarning: Liblinear failed to converge, increase the number of iterations.\n",
      "  \"the number of iterations.\", ConvergenceWarning)\n",
      "/anaconda3/lib/python3.7/site-packages/sklearn/linear_model/logistic.py:433: FutureWarning: Default solver will be changed to 'lbfgs' in 0.22. Specify a solver to silence this warning.\n",
      "  FutureWarning)\n"
     ]
    },
    {
     "name": "stdout",
     "output_type": "stream",
     "text": [
      "Fitting estimator with 88 features.\n"
     ]
    },
    {
     "name": "stderr",
     "output_type": "stream",
     "text": [
      "/anaconda3/lib/python3.7/site-packages/sklearn/svm/base.py:922: ConvergenceWarning: Liblinear failed to converge, increase the number of iterations.\n",
      "  \"the number of iterations.\", ConvergenceWarning)\n",
      "/anaconda3/lib/python3.7/site-packages/sklearn/linear_model/logistic.py:433: FutureWarning: Default solver will be changed to 'lbfgs' in 0.22. Specify a solver to silence this warning.\n",
      "  FutureWarning)\n"
     ]
    },
    {
     "name": "stdout",
     "output_type": "stream",
     "text": [
      "Fitting estimator with 87 features.\n"
     ]
    },
    {
     "name": "stderr",
     "output_type": "stream",
     "text": [
      "/anaconda3/lib/python3.7/site-packages/sklearn/svm/base.py:922: ConvergenceWarning: Liblinear failed to converge, increase the number of iterations.\n",
      "  \"the number of iterations.\", ConvergenceWarning)\n",
      "/anaconda3/lib/python3.7/site-packages/sklearn/linear_model/logistic.py:433: FutureWarning: Default solver will be changed to 'lbfgs' in 0.22. Specify a solver to silence this warning.\n",
      "  FutureWarning)\n"
     ]
    },
    {
     "name": "stdout",
     "output_type": "stream",
     "text": [
      "Fitting estimator with 86 features.\n"
     ]
    },
    {
     "name": "stderr",
     "output_type": "stream",
     "text": [
      "/anaconda3/lib/python3.7/site-packages/sklearn/svm/base.py:922: ConvergenceWarning: Liblinear failed to converge, increase the number of iterations.\n",
      "  \"the number of iterations.\", ConvergenceWarning)\n",
      "/anaconda3/lib/python3.7/site-packages/sklearn/linear_model/logistic.py:433: FutureWarning: Default solver will be changed to 'lbfgs' in 0.22. Specify a solver to silence this warning.\n",
      "  FutureWarning)\n"
     ]
    },
    {
     "name": "stdout",
     "output_type": "stream",
     "text": [
      "Fitting estimator with 85 features.\n"
     ]
    },
    {
     "name": "stderr",
     "output_type": "stream",
     "text": [
      "/anaconda3/lib/python3.7/site-packages/sklearn/svm/base.py:922: ConvergenceWarning: Liblinear failed to converge, increase the number of iterations.\n",
      "  \"the number of iterations.\", ConvergenceWarning)\n",
      "/anaconda3/lib/python3.7/site-packages/sklearn/linear_model/logistic.py:433: FutureWarning: Default solver will be changed to 'lbfgs' in 0.22. Specify a solver to silence this warning.\n",
      "  FutureWarning)\n"
     ]
    },
    {
     "name": "stdout",
     "output_type": "stream",
     "text": [
      "Fitting estimator with 84 features.\n"
     ]
    },
    {
     "name": "stderr",
     "output_type": "stream",
     "text": [
      "/anaconda3/lib/python3.7/site-packages/sklearn/svm/base.py:922: ConvergenceWarning: Liblinear failed to converge, increase the number of iterations.\n",
      "  \"the number of iterations.\", ConvergenceWarning)\n",
      "/anaconda3/lib/python3.7/site-packages/sklearn/linear_model/logistic.py:433: FutureWarning: Default solver will be changed to 'lbfgs' in 0.22. Specify a solver to silence this warning.\n",
      "  FutureWarning)\n"
     ]
    },
    {
     "name": "stdout",
     "output_type": "stream",
     "text": [
      "Fitting estimator with 83 features.\n"
     ]
    },
    {
     "name": "stderr",
     "output_type": "stream",
     "text": [
      "/anaconda3/lib/python3.7/site-packages/sklearn/svm/base.py:922: ConvergenceWarning: Liblinear failed to converge, increase the number of iterations.\n",
      "  \"the number of iterations.\", ConvergenceWarning)\n",
      "/anaconda3/lib/python3.7/site-packages/sklearn/linear_model/logistic.py:433: FutureWarning: Default solver will be changed to 'lbfgs' in 0.22. Specify a solver to silence this warning.\n",
      "  FutureWarning)\n"
     ]
    },
    {
     "name": "stdout",
     "output_type": "stream",
     "text": [
      "Fitting estimator with 82 features.\n"
     ]
    },
    {
     "name": "stderr",
     "output_type": "stream",
     "text": [
      "/anaconda3/lib/python3.7/site-packages/sklearn/svm/base.py:922: ConvergenceWarning: Liblinear failed to converge, increase the number of iterations.\n",
      "  \"the number of iterations.\", ConvergenceWarning)\n",
      "/anaconda3/lib/python3.7/site-packages/sklearn/linear_model/logistic.py:433: FutureWarning: Default solver will be changed to 'lbfgs' in 0.22. Specify a solver to silence this warning.\n",
      "  FutureWarning)\n"
     ]
    },
    {
     "name": "stdout",
     "output_type": "stream",
     "text": [
      "Fitting estimator with 81 features.\n",
      "Fitting estimator with 80 features.\n"
     ]
    },
    {
     "name": "stderr",
     "output_type": "stream",
     "text": [
      "/anaconda3/lib/python3.7/site-packages/sklearn/linear_model/logistic.py:433: FutureWarning: Default solver will be changed to 'lbfgs' in 0.22. Specify a solver to silence this warning.\n",
      "  FutureWarning)\n",
      "/anaconda3/lib/python3.7/site-packages/sklearn/svm/base.py:922: ConvergenceWarning: Liblinear failed to converge, increase the number of iterations.\n",
      "  \"the number of iterations.\", ConvergenceWarning)\n",
      "/anaconda3/lib/python3.7/site-packages/sklearn/linear_model/logistic.py:433: FutureWarning: Default solver will be changed to 'lbfgs' in 0.22. Specify a solver to silence this warning.\n",
      "  FutureWarning)\n"
     ]
    },
    {
     "name": "stdout",
     "output_type": "stream",
     "text": [
      "Fitting estimator with 79 features.\n"
     ]
    },
    {
     "name": "stderr",
     "output_type": "stream",
     "text": [
      "/anaconda3/lib/python3.7/site-packages/sklearn/svm/base.py:922: ConvergenceWarning: Liblinear failed to converge, increase the number of iterations.\n",
      "  \"the number of iterations.\", ConvergenceWarning)\n",
      "/anaconda3/lib/python3.7/site-packages/sklearn/linear_model/logistic.py:433: FutureWarning: Default solver will be changed to 'lbfgs' in 0.22. Specify a solver to silence this warning.\n",
      "  FutureWarning)\n"
     ]
    },
    {
     "name": "stdout",
     "output_type": "stream",
     "text": [
      "Fitting estimator with 78 features.\n",
      "Fitting estimator with 77 features.\n"
     ]
    },
    {
     "name": "stderr",
     "output_type": "stream",
     "text": [
      "/anaconda3/lib/python3.7/site-packages/sklearn/linear_model/logistic.py:433: FutureWarning: Default solver will be changed to 'lbfgs' in 0.22. Specify a solver to silence this warning.\n",
      "  FutureWarning)\n",
      "/anaconda3/lib/python3.7/site-packages/sklearn/svm/base.py:922: ConvergenceWarning: Liblinear failed to converge, increase the number of iterations.\n",
      "  \"the number of iterations.\", ConvergenceWarning)\n",
      "/anaconda3/lib/python3.7/site-packages/sklearn/linear_model/logistic.py:433: FutureWarning: Default solver will be changed to 'lbfgs' in 0.22. Specify a solver to silence this warning.\n",
      "  FutureWarning)\n"
     ]
    },
    {
     "name": "stdout",
     "output_type": "stream",
     "text": [
      "Fitting estimator with 76 features.\n"
     ]
    },
    {
     "name": "stderr",
     "output_type": "stream",
     "text": [
      "/anaconda3/lib/python3.7/site-packages/sklearn/svm/base.py:922: ConvergenceWarning: Liblinear failed to converge, increase the number of iterations.\n",
      "  \"the number of iterations.\", ConvergenceWarning)\n",
      "/anaconda3/lib/python3.7/site-packages/sklearn/linear_model/logistic.py:433: FutureWarning: Default solver will be changed to 'lbfgs' in 0.22. Specify a solver to silence this warning.\n",
      "  FutureWarning)\n"
     ]
    },
    {
     "name": "stdout",
     "output_type": "stream",
     "text": [
      "Fitting estimator with 75 features.\n",
      "Fitting estimator with 74 features.\n"
     ]
    },
    {
     "name": "stderr",
     "output_type": "stream",
     "text": [
      "/anaconda3/lib/python3.7/site-packages/sklearn/linear_model/logistic.py:433: FutureWarning: Default solver will be changed to 'lbfgs' in 0.22. Specify a solver to silence this warning.\n",
      "  FutureWarning)\n"
     ]
    },
    {
     "name": "stdout",
     "output_type": "stream",
     "text": [
      "Fitting estimator with 73 features.\n"
     ]
    },
    {
     "name": "stderr",
     "output_type": "stream",
     "text": [
      "/anaconda3/lib/python3.7/site-packages/sklearn/linear_model/logistic.py:433: FutureWarning: Default solver will be changed to 'lbfgs' in 0.22. Specify a solver to silence this warning.\n",
      "  FutureWarning)\n"
     ]
    },
    {
     "name": "stdout",
     "output_type": "stream",
     "text": [
      "Fitting estimator with 72 features.\n"
     ]
    },
    {
     "name": "stderr",
     "output_type": "stream",
     "text": [
      "/anaconda3/lib/python3.7/site-packages/sklearn/linear_model/logistic.py:433: FutureWarning: Default solver will be changed to 'lbfgs' in 0.22. Specify a solver to silence this warning.\n",
      "  FutureWarning)\n"
     ]
    },
    {
     "name": "stdout",
     "output_type": "stream",
     "text": [
      "Fitting estimator with 71 features.\n"
     ]
    },
    {
     "name": "stderr",
     "output_type": "stream",
     "text": [
      "/anaconda3/lib/python3.7/site-packages/sklearn/linear_model/logistic.py:433: FutureWarning: Default solver will be changed to 'lbfgs' in 0.22. Specify a solver to silence this warning.\n",
      "  FutureWarning)\n"
     ]
    },
    {
     "name": "stdout",
     "output_type": "stream",
     "text": [
      "Fitting estimator with 70 features.\n"
     ]
    },
    {
     "name": "stderr",
     "output_type": "stream",
     "text": [
      "/anaconda3/lib/python3.7/site-packages/sklearn/linear_model/logistic.py:433: FutureWarning: Default solver will be changed to 'lbfgs' in 0.22. Specify a solver to silence this warning.\n",
      "  FutureWarning)\n"
     ]
    },
    {
     "name": "stdout",
     "output_type": "stream",
     "text": [
      "Fitting estimator with 69 features.\n"
     ]
    },
    {
     "name": "stderr",
     "output_type": "stream",
     "text": [
      "/anaconda3/lib/python3.7/site-packages/sklearn/linear_model/logistic.py:433: FutureWarning: Default solver will be changed to 'lbfgs' in 0.22. Specify a solver to silence this warning.\n",
      "  FutureWarning)\n"
     ]
    },
    {
     "name": "stdout",
     "output_type": "stream",
     "text": [
      "Fitting estimator with 68 features.\n"
     ]
    },
    {
     "name": "stderr",
     "output_type": "stream",
     "text": [
      "/anaconda3/lib/python3.7/site-packages/sklearn/linear_model/logistic.py:433: FutureWarning: Default solver will be changed to 'lbfgs' in 0.22. Specify a solver to silence this warning.\n",
      "  FutureWarning)\n"
     ]
    },
    {
     "name": "stdout",
     "output_type": "stream",
     "text": [
      "Fitting estimator with 67 features.\n"
     ]
    },
    {
     "name": "stderr",
     "output_type": "stream",
     "text": [
      "/anaconda3/lib/python3.7/site-packages/sklearn/linear_model/logistic.py:433: FutureWarning: Default solver will be changed to 'lbfgs' in 0.22. Specify a solver to silence this warning.\n",
      "  FutureWarning)\n"
     ]
    },
    {
     "name": "stdout",
     "output_type": "stream",
     "text": [
      "Fitting estimator with 66 features.\n"
     ]
    },
    {
     "name": "stderr",
     "output_type": "stream",
     "text": [
      "/anaconda3/lib/python3.7/site-packages/sklearn/linear_model/logistic.py:433: FutureWarning: Default solver will be changed to 'lbfgs' in 0.22. Specify a solver to silence this warning.\n",
      "  FutureWarning)\n"
     ]
    },
    {
     "name": "stdout",
     "output_type": "stream",
     "text": [
      "Fitting estimator with 65 features.\n"
     ]
    },
    {
     "name": "stderr",
     "output_type": "stream",
     "text": [
      "/anaconda3/lib/python3.7/site-packages/sklearn/linear_model/logistic.py:433: FutureWarning: Default solver will be changed to 'lbfgs' in 0.22. Specify a solver to silence this warning.\n",
      "  FutureWarning)\n"
     ]
    },
    {
     "name": "stdout",
     "output_type": "stream",
     "text": [
      "Fitting estimator with 64 features.\n"
     ]
    },
    {
     "name": "stderr",
     "output_type": "stream",
     "text": [
      "/anaconda3/lib/python3.7/site-packages/sklearn/linear_model/logistic.py:433: FutureWarning: Default solver will be changed to 'lbfgs' in 0.22. Specify a solver to silence this warning.\n",
      "  FutureWarning)\n"
     ]
    },
    {
     "name": "stdout",
     "output_type": "stream",
     "text": [
      "Fitting estimator with 63 features.\n"
     ]
    },
    {
     "name": "stderr",
     "output_type": "stream",
     "text": [
      "/anaconda3/lib/python3.7/site-packages/sklearn/linear_model/logistic.py:433: FutureWarning: Default solver will be changed to 'lbfgs' in 0.22. Specify a solver to silence this warning.\n",
      "  FutureWarning)\n"
     ]
    },
    {
     "name": "stdout",
     "output_type": "stream",
     "text": [
      "Fitting estimator with 62 features.\n"
     ]
    },
    {
     "name": "stderr",
     "output_type": "stream",
     "text": [
      "/anaconda3/lib/python3.7/site-packages/sklearn/linear_model/logistic.py:433: FutureWarning: Default solver will be changed to 'lbfgs' in 0.22. Specify a solver to silence this warning.\n",
      "  FutureWarning)\n"
     ]
    },
    {
     "name": "stdout",
     "output_type": "stream",
     "text": [
      "Fitting estimator with 61 features.\n"
     ]
    },
    {
     "name": "stderr",
     "output_type": "stream",
     "text": [
      "/anaconda3/lib/python3.7/site-packages/sklearn/linear_model/logistic.py:433: FutureWarning: Default solver will be changed to 'lbfgs' in 0.22. Specify a solver to silence this warning.\n",
      "  FutureWarning)\n"
     ]
    },
    {
     "name": "stdout",
     "output_type": "stream",
     "text": [
      "Fitting estimator with 60 features.\n"
     ]
    },
    {
     "name": "stderr",
     "output_type": "stream",
     "text": [
      "/anaconda3/lib/python3.7/site-packages/sklearn/linear_model/logistic.py:433: FutureWarning: Default solver will be changed to 'lbfgs' in 0.22. Specify a solver to silence this warning.\n",
      "  FutureWarning)\n"
     ]
    },
    {
     "name": "stdout",
     "output_type": "stream",
     "text": [
      "Fitting estimator with 59 features.\n"
     ]
    },
    {
     "name": "stderr",
     "output_type": "stream",
     "text": [
      "/anaconda3/lib/python3.7/site-packages/sklearn/linear_model/logistic.py:433: FutureWarning: Default solver will be changed to 'lbfgs' in 0.22. Specify a solver to silence this warning.\n",
      "  FutureWarning)\n"
     ]
    },
    {
     "name": "stdout",
     "output_type": "stream",
     "text": [
      "Fitting estimator with 58 features.\n"
     ]
    },
    {
     "name": "stderr",
     "output_type": "stream",
     "text": [
      "/anaconda3/lib/python3.7/site-packages/sklearn/linear_model/logistic.py:433: FutureWarning: Default solver will be changed to 'lbfgs' in 0.22. Specify a solver to silence this warning.\n",
      "  FutureWarning)\n"
     ]
    },
    {
     "name": "stdout",
     "output_type": "stream",
     "text": [
      "Fitting estimator with 57 features.\n"
     ]
    },
    {
     "name": "stderr",
     "output_type": "stream",
     "text": [
      "/anaconda3/lib/python3.7/site-packages/sklearn/linear_model/logistic.py:433: FutureWarning: Default solver will be changed to 'lbfgs' in 0.22. Specify a solver to silence this warning.\n",
      "  FutureWarning)\n"
     ]
    },
    {
     "name": "stdout",
     "output_type": "stream",
     "text": [
      "Fitting estimator with 56 features.\n"
     ]
    },
    {
     "name": "stderr",
     "output_type": "stream",
     "text": [
      "/anaconda3/lib/python3.7/site-packages/sklearn/linear_model/logistic.py:433: FutureWarning: Default solver will be changed to 'lbfgs' in 0.22. Specify a solver to silence this warning.\n",
      "  FutureWarning)\n"
     ]
    },
    {
     "name": "stdout",
     "output_type": "stream",
     "text": [
      "Fitting estimator with 55 features.\n"
     ]
    },
    {
     "name": "stderr",
     "output_type": "stream",
     "text": [
      "/anaconda3/lib/python3.7/site-packages/sklearn/linear_model/logistic.py:433: FutureWarning: Default solver will be changed to 'lbfgs' in 0.22. Specify a solver to silence this warning.\n",
      "  FutureWarning)\n",
      "/anaconda3/lib/python3.7/site-packages/sklearn/linear_model/logistic.py:433: FutureWarning: Default solver will be changed to 'lbfgs' in 0.22. Specify a solver to silence this warning.\n",
      "  FutureWarning)\n",
      "/anaconda3/lib/python3.7/site-packages/sklearn/linear_model/logistic.py:433: FutureWarning: Default solver will be changed to 'lbfgs' in 0.22. Specify a solver to silence this warning.\n",
      "  FutureWarning)\n"
     ]
    },
    {
     "name": "stdout",
     "output_type": "stream",
     "text": [
      "CPU times: user 24min 49s, sys: 6.21 s, total: 24min 56s\n",
      "Wall time: 1h 31min\n"
     ]
    }
   ],
   "source": [
    "%%time\n",
    "\n",
    "# use logistic regression\n",
    "model = LogisticRegression()\n",
    "\n",
    "# RFE with 5-fold cross validation: take around 0.5 hour to run\n",
    "rfecv = RFECV(estimator=model, step=1, cv=3,verbose=3,n_jobs=-1,scoring='roc_auc')\n",
    "\n",
    "# perform RFE on entire train & test set\n",
    "rfecv.fit(X,Y)\n"
   ]
  },
  {
   "cell_type": "code",
   "execution_count": 17,
   "metadata": {},
   "outputs": [
    {
     "name": "stdout",
     "output_type": "stream",
     "text": [
      "Optimal number of features : 54\n"
     ]
    }
   ],
   "source": [
    "print(\"Optimal number of features : %d\" % rfecv.n_features_)"
   ]
  },
  {
   "cell_type": "code",
   "execution_count": 18,
   "metadata": {},
   "outputs": [
    {
     "name": "stdout",
     "output_type": "stream",
     "text": [
      "     ranking                             variable\n",
      "0          1          dataaddressfulladdress14agg\n",
      "1          1           dataaddressfulladdress1agg\n",
      "2          1           dataaddressfulladdress3agg\n",
      "3          1           dataaddressfulladdress7agg\n",
      "4          1             dataaddresshomephone0agg\n",
      "5          1            dataaddresshomephone14agg\n",
      "6          1             dataaddresshomephone3agg\n",
      "7          1             dataaddresshomephone7agg\n",
      "8          1              dataaddresszip5_str0agg\n",
      "9          1             dataaddresszip5_str14agg\n",
      "10         1              dataaddresszip5_str3agg\n",
      "11         1              dataaddresszip5_str7agg\n",
      "12         1              datadob_strnameDOB14agg\n",
      "13         1               datadob_strnameDOB1agg\n",
      "14         1               datadob_strnameDOB3agg\n",
      "15         1             datafirstnamedob_str3agg\n",
      "16         1            datafirstnamelastname0agg\n",
      "17         1            datafirstnamelastname3agg\n",
      "18         1             datafirstnamenameDOB0agg\n",
      "19         1            datafirstnamenameDOB14agg\n",
      "20         1             datafirstnamenameDOB1agg\n",
      "21         1             datafirstnamenameDOB3agg\n",
      "22         1                  datafulladdress0agg\n",
      "23         1                 datafulladdress14agg\n",
      "24         1                  datafulladdress1agg\n",
      "25         1                  datafulladdress3agg\n",
      "26         1                  datafulladdress7agg\n",
      "27         1         datahomephonefulladdress0agg\n",
      "28         1        datahomephonefulladdress14agg\n",
      "29         1         datahomephonefulladdress1agg\n",
      "30         1         datahomephonefulladdress3agg\n",
      "31         1             datalastnamenameDOB14agg\n",
      "32         1              datalastnamenameDOB1agg\n",
      "33         1              datalastnamenameDOB3agg\n",
      "34         1                     datanameDOB14agg\n",
      "35         1                      datanameDOB1agg\n",
      "36         1                      datanameDOB3agg\n",
      "37         1                   datassndob_str0agg\n",
      "38         1                datassnfirstname14agg\n",
      "39         1                  datassnlastname1agg\n",
      "40         1                  datassnlastname3agg\n",
      "41         1                   datassnnameDOB0agg\n",
      "42         1                  datassnnameDOB14agg\n",
      "43         1          datazip5_strfulladdress0agg\n",
      "44         1         datazip5_strfulladdress14agg\n",
      "45         1          datazip5_strfulladdress1agg\n",
      "46         1          datazip5_strfulladdress3agg\n",
      "47         1          datazip5_strfulladdress7agg\n",
      "48         1            datazip5_strhomephone0agg\n",
      "49         1            datazip5_strhomephone7agg\n",
      "50         1                          freq_zip_25\n",
      "51         1                           num_phones\n",
      "52         1                              num_zip\n",
      "53         1                  smoothed_homephone3\n",
      "54         2              dataaddresszip5_str1agg\n",
      "55         3                   datassnnameDOB3agg\n",
      "56         4               datadob_strnameDOB0agg\n",
      "57         5                      datanameDOB0agg\n",
      "58         6             datalastnamedob_str14agg\n",
      "59         7             datafirstnamenameDOB7agg\n",
      "60         8              datalastnamenameDOB0agg\n",
      "61         9               datadob_strnameDOB7agg\n",
      "62        10                   datassndob_str1agg\n",
      "63        11                  datassndob_str14agg\n",
      "64        12              datalastnamenameDOB7agg\n",
      "65        13                      datanameDOB7agg\n",
      "66        14           datazip5_strhomephone14agg\n",
      "67        15            datazip5_strhomephone1agg\n",
      "68        16                   datassnnameDOB7agg\n",
      "69        17            Days_since_per_ssndob_str\n",
      "70        18                   Days_since_per_ssn\n",
      "71        19                  datassnlastname0agg\n",
      "72        20  Days_since_per_homephonefulladdress\n",
      "73        21                 datassnfirstname0agg\n",
      "74        22       Days_since_per_addresszip5_str\n",
      "75        23      Days_since_per_addresshomephone\n",
      "76        24                           freq_zip_5\n",
      "77        25                       smoothed_byear\n",
      "78        26                 datassnlastname14agg\n",
      "79        27                   datassnnameDOB1agg\n",
      "80        28             dataaddresshomephone1agg\n",
      "81        29                 datassnfirstname1agg\n",
      "82        30         datahomephonefulladdress7agg\n",
      "83        31        Days_since_per_dob_strnameDOB\n",
      "84        32            datafirstnamedob_str14agg\n",
      "85        33                          datassn1agg\n",
      "86        34           dataaddressfulladdress0agg\n",
      "87        35                          datassn3agg\n",
      "88        36           Days_since_per_fulladdress\n",
      "89        37                           no_of_apps\n",
      "90        38                   datassndob_str3agg\n",
      "91        39      Days_since_per_firstnamenameDOB\n",
      "92        40                  datassnlastname7agg\n",
      "93        41                        smoothed_zip3\n",
      "94        42               Days_since_per_nameDOB\n",
      "95        43      Days_since_per_firstnamedob_str\n",
      "96        44           datafirstnamelastname14agg\n",
      "97        45                    datahomephone1agg\n",
      "98        46                          freq_zip_12\n",
      "99        47              datalastnamedob_str3agg\n",
      "100       48             datafirstnamedob_str7agg\n",
      "101       49                 datassnfirstname7agg\n",
      "102       50                 datassnfirstname3agg\n",
      "103       51            datafirstnamelastname7agg\n",
      "104       52    Days_since_per_addressfulladdress\n",
      "105       53              datalastnamedob_str7agg\n",
      "106       54   Days_since_per_zip5_strfulladdress\n",
      "107       55            datazip5_strhomephone3agg\n",
      "108       56                          datassn7agg\n",
      "109       57            Days_since_per_ssnnameDOB\n",
      "110       58       Days_since_per_lastnamedob_str\n",
      "111       59       Days_since_per_lastnamenameDOB\n",
      "112       60                   datassndob_str7agg\n",
      "113       61     Days_since_per_zip5_strhomephone\n",
      "114       62             datafirstnamedob_str1agg\n",
      "115       63                    datahomephone3agg\n",
      "116       64                    datahomephone7agg\n",
      "117       65                         datassn14agg\n",
      "118       66           Days_since_per_ssnlastname\n",
      "119       67            datafirstnamelastname1agg\n",
      "120       68             Days_since_per_homephone\n",
      "121       69          Days_since_per_ssnfirstname\n",
      "122       70              datalastnamedob_str1agg\n",
      "123       71     Days_since_per_firstnamelastname\n"
     ]
    }
   ],
   "source": [
    "var_selected = pd.DataFrame(sorted(zip(map(lambda x: round(x), rfecv.ranking_),X.columns)),\n",
    "                                  columns=['ranking','variable'])\n",
    "pd.options.display.max_rows=150\n",
    "print(var_selected)"
   ]
  },
  {
   "cell_type": "code",
   "execution_count": 19,
   "metadata": {},
   "outputs": [
    {
     "data": {
      "image/png": "[encoded data removed]",
      "text/plain": [
       "<Figure size 432x288 with 1 Axes>"
      ]
     },
     "metadata": {
      "needs_background": "light"
     },
     "output_type": "display_data"
    }
   ],
   "source": [
    "plt.figure()\n",
    "plt.ylim(0.45,0.9)\n",
    "plt.xlabel('Number of features selected')\n",
    "plt.ylabel('Cross validation scores (number of corret classifications)')\n",
    "plt.plot(range(1,len(rfecv.grid_scores_) + 1), rfecv.grid_scores_)\n",
    "plt.show()"
   ]
  },
  {
   "cell_type": "code",
   "execution_count": 20,
   "metadata": {},
   "outputs": [],
   "source": [
    "a=len(rfecv.grid_scores_)"
   ]
  },
  {
   "cell_type": "code",
   "execution_count": 21,
   "metadata": {},
   "outputs": [
    {
     "data": {
      "text/plain": [
       "124"
      ]
     },
     "execution_count": 21,
     "metadata": {},
     "output_type": "execute_result"
    }
   ],
   "source": [
    "a"
   ]
  },
  {
   "cell_type": "code",
   "execution_count": 22,
   "metadata": {},
   "outputs": [
    {
     "data": {
      "text/plain": [
       "['dataaddressfulladdress14agg',\n",
       " 'dataaddressfulladdress1agg',\n",
       " 'dataaddressfulladdress3agg',\n",
       " 'dataaddressfulladdress7agg',\n",
       " 'dataaddresshomephone0agg',\n",
       " 'dataaddresshomephone14agg',\n",
       " 'dataaddresshomephone3agg',\n",
       " 'dataaddresshomephone7agg',\n",
       " 'dataaddresszip5_str0agg',\n",
       " 'dataaddresszip5_str14agg',\n",
       " 'dataaddresszip5_str3agg',\n",
       " 'dataaddresszip5_str7agg',\n",
       " 'datadob_strnameDOB14agg',\n",
       " 'datadob_strnameDOB1agg',\n",
       " 'datadob_strnameDOB3agg',\n",
       " 'datafirstnamedob_str3agg',\n",
       " 'datafirstnamelastname0agg',\n",
       " 'datafirstnamelastname3agg',\n",
       " 'datafirstnamenameDOB0agg',\n",
       " 'datafirstnamenameDOB14agg',\n",
       " 'datafirstnamenameDOB1agg',\n",
       " 'datafirstnamenameDOB3agg',\n",
       " 'datafulladdress0agg',\n",
       " 'datafulladdress14agg',\n",
       " 'datafulladdress1agg',\n",
       " 'datafulladdress3agg',\n",
       " 'datafulladdress7agg',\n",
       " 'datahomephonefulladdress0agg',\n",
       " 'datahomephonefulladdress14agg',\n",
       " 'datahomephonefulladdress1agg',\n",
       " 'datahomephonefulladdress3agg',\n",
       " 'datalastnamenameDOB14agg',\n",
       " 'datalastnamenameDOB1agg',\n",
       " 'datalastnamenameDOB3agg',\n",
       " 'datanameDOB14agg',\n",
       " 'datanameDOB1agg',\n",
       " 'datanameDOB3agg',\n",
       " 'datassndob_str0agg',\n",
       " 'datassnfirstname14agg',\n",
       " 'datassnlastname1agg',\n",
       " 'datassnlastname3agg',\n",
       " 'datassnnameDOB0agg',\n",
       " 'datassnnameDOB14agg',\n",
       " 'datazip5_strfulladdress0agg',\n",
       " 'datazip5_strfulladdress14agg',\n",
       " 'datazip5_strfulladdress1agg',\n",
       " 'datazip5_strfulladdress3agg',\n",
       " 'datazip5_strfulladdress7agg',\n",
       " 'datazip5_strhomephone0agg',\n",
       " 'datazip5_strhomephone7agg',\n",
       " 'freq_zip_25',\n",
       " 'num_phones',\n",
       " 'num_zip',\n",
       " 'smoothed_homephone3',\n",
       " 'dataaddresszip5_str1agg',\n",
       " 'datassnnameDOB3agg',\n",
       " 'datadob_strnameDOB0agg',\n",
       " 'datanameDOB0agg',\n",
       " 'datalastnamedob_str14agg',\n",
       " 'datafirstnamenameDOB7agg',\n",
       " 'datalastnamenameDOB0agg',\n",
       " 'datadob_strnameDOB7agg']"
      ]
     },
     "execution_count": 22,
     "metadata": {},
     "output_type": "execute_result"
    }
   ],
   "source": [
    "num_keep2=round(a/2)\n",
    "cols_keep=list(var_selected['variable'][0:num_keep2])\n",
    "cols_keep"
   ]
  },
  {
   "cell_type": "code",
   "execution_count": 23,
   "metadata": {},
   "outputs": [
    {
     "data": {
      "text/plain": [
       "(100000, 64)"
      ]
     },
     "execution_count": 23,
     "metadata": {},
     "output_type": "execute_result"
    }
   ],
   "source": [
    "cols_keep.insert(0,'fraud_label')\n",
    "cols_keep.insert(0,'date')\n",
    "vars_keep = sample.filter(cols_keep,axis=1)\n",
    "vars_keep.shape"
   ]
  },
  {
   "cell_type": "code",
   "execution_count": 27,
   "metadata": {},
   "outputs": [],
   "source": [
    "Y=vars_keep['fraud_label']\n",
    "X=vars_keep.drop(columns=['date','fraud_label'])"
   ]
  },
  {
   "cell_type": "code",
   "execution_count": 28,
   "metadata": {},
   "outputs": [
    {
     "name": "stdout",
     "output_type": "stream",
     "text": [
      "Fitting estimator with 62 features.\n"
     ]
    },
    {
     "name": "stderr",
     "output_type": "stream",
     "text": [
      "/anaconda3/lib/python3.7/site-packages/sklearn/linear_model/logistic.py:433: FutureWarning: Default solver will be changed to 'lbfgs' in 0.22. Specify a solver to silence this warning.\n",
      "  FutureWarning)\n"
     ]
    },
    {
     "name": "stdout",
     "output_type": "stream",
     "text": [
      "Fitting estimator with 61 features.\n"
     ]
    },
    {
     "name": "stderr",
     "output_type": "stream",
     "text": [
      "/anaconda3/lib/python3.7/site-packages/sklearn/linear_model/logistic.py:433: FutureWarning: Default solver will be changed to 'lbfgs' in 0.22. Specify a solver to silence this warning.\n",
      "  FutureWarning)\n"
     ]
    },
    {
     "name": "stdout",
     "output_type": "stream",
     "text": [
      "Fitting estimator with 60 features.\n"
     ]
    },
    {
     "name": "stderr",
     "output_type": "stream",
     "text": [
      "/anaconda3/lib/python3.7/site-packages/sklearn/linear_model/logistic.py:433: FutureWarning: Default solver will be changed to 'lbfgs' in 0.22. Specify a solver to silence this warning.\n",
      "  FutureWarning)\n"
     ]
    },
    {
     "name": "stdout",
     "output_type": "stream",
     "text": [
      "Fitting estimator with 59 features.\n"
     ]
    },
    {
     "name": "stderr",
     "output_type": "stream",
     "text": [
      "/anaconda3/lib/python3.7/site-packages/sklearn/linear_model/logistic.py:433: FutureWarning: Default solver will be changed to 'lbfgs' in 0.22. Specify a solver to silence this warning.\n",
      "  FutureWarning)\n"
     ]
    },
    {
     "name": "stdout",
     "output_type": "stream",
     "text": [
      "Fitting estimator with 58 features.\n"
     ]
    },
    {
     "name": "stderr",
     "output_type": "stream",
     "text": [
      "/anaconda3/lib/python3.7/site-packages/sklearn/linear_model/logistic.py:433: FutureWarning: Default solver will be changed to 'lbfgs' in 0.22. Specify a solver to silence this warning.\n",
      "  FutureWarning)\n"
     ]
    },
    {
     "name": "stdout",
     "output_type": "stream",
     "text": [
      "Fitting estimator with 57 features.\n"
     ]
    },
    {
     "name": "stderr",
     "output_type": "stream",
     "text": [
      "/anaconda3/lib/python3.7/site-packages/sklearn/linear_model/logistic.py:433: FutureWarning: Default solver will be changed to 'lbfgs' in 0.22. Specify a solver to silence this warning.\n",
      "  FutureWarning)\n"
     ]
    },
    {
     "name": "stdout",
     "output_type": "stream",
     "text": [
      "Fitting estimator with 56 features.\n"
     ]
    },
    {
     "name": "stderr",
     "output_type": "stream",
     "text": [
      "/anaconda3/lib/python3.7/site-packages/sklearn/linear_model/logistic.py:433: FutureWarning: Default solver will be changed to 'lbfgs' in 0.22. Specify a solver to silence this warning.\n",
      "  FutureWarning)\n"
     ]
    },
    {
     "name": "stdout",
     "output_type": "stream",
     "text": [
      "Fitting estimator with 55 features.\n"
     ]
    },
    {
     "name": "stderr",
     "output_type": "stream",
     "text": [
      "/anaconda3/lib/python3.7/site-packages/sklearn/linear_model/logistic.py:433: FutureWarning: Default solver will be changed to 'lbfgs' in 0.22. Specify a solver to silence this warning.\n",
      "  FutureWarning)\n"
     ]
    },
    {
     "name": "stdout",
     "output_type": "stream",
     "text": [
      "Fitting estimator with 54 features.\n"
     ]
    },
    {
     "name": "stderr",
     "output_type": "stream",
     "text": [
      "/anaconda3/lib/python3.7/site-packages/sklearn/linear_model/logistic.py:433: FutureWarning: Default solver will be changed to 'lbfgs' in 0.22. Specify a solver to silence this warning.\n",
      "  FutureWarning)\n"
     ]
    },
    {
     "name": "stdout",
     "output_type": "stream",
     "text": [
      "Fitting estimator with 53 features.\n"
     ]
    },
    {
     "name": "stderr",
     "output_type": "stream",
     "text": [
      "/anaconda3/lib/python3.7/site-packages/sklearn/linear_model/logistic.py:433: FutureWarning: Default solver will be changed to 'lbfgs' in 0.22. Specify a solver to silence this warning.\n",
      "  FutureWarning)\n"
     ]
    },
    {
     "name": "stdout",
     "output_type": "stream",
     "text": [
      "Fitting estimator with 52 features.\n"
     ]
    },
    {
     "name": "stderr",
     "output_type": "stream",
     "text": [
      "/anaconda3/lib/python3.7/site-packages/sklearn/linear_model/logistic.py:433: FutureWarning: Default solver will be changed to 'lbfgs' in 0.22. Specify a solver to silence this warning.\n",
      "  FutureWarning)\n"
     ]
    },
    {
     "name": "stdout",
     "output_type": "stream",
     "text": [
      "Fitting estimator with 51 features.\n"
     ]
    },
    {
     "name": "stderr",
     "output_type": "stream",
     "text": [
      "/anaconda3/lib/python3.7/site-packages/sklearn/linear_model/logistic.py:433: FutureWarning: Default solver will be changed to 'lbfgs' in 0.22. Specify a solver to silence this warning.\n",
      "  FutureWarning)\n"
     ]
    },
    {
     "name": "stdout",
     "output_type": "stream",
     "text": [
      "Fitting estimator with 50 features.\n"
     ]
    },
    {
     "name": "stderr",
     "output_type": "stream",
     "text": [
      "/anaconda3/lib/python3.7/site-packages/sklearn/linear_model/logistic.py:433: FutureWarning: Default solver will be changed to 'lbfgs' in 0.22. Specify a solver to silence this warning.\n",
      "  FutureWarning)\n"
     ]
    },
    {
     "name": "stdout",
     "output_type": "stream",
     "text": [
      "Fitting estimator with 49 features.\n"
     ]
    },
    {
     "name": "stderr",
     "output_type": "stream",
     "text": [
      "/anaconda3/lib/python3.7/site-packages/sklearn/linear_model/logistic.py:433: FutureWarning: Default solver will be changed to 'lbfgs' in 0.22. Specify a solver to silence this warning.\n",
      "  FutureWarning)\n"
     ]
    },
    {
     "name": "stdout",
     "output_type": "stream",
     "text": [
      "Fitting estimator with 48 features.\n"
     ]
    },
    {
     "name": "stderr",
     "output_type": "stream",
     "text": [
      "/anaconda3/lib/python3.7/site-packages/sklearn/linear_model/logistic.py:433: FutureWarning: Default solver will be changed to 'lbfgs' in 0.22. Specify a solver to silence this warning.\n",
      "  FutureWarning)\n"
     ]
    },
    {
     "name": "stdout",
     "output_type": "stream",
     "text": [
      "Fitting estimator with 47 features.\n"
     ]
    },
    {
     "name": "stderr",
     "output_type": "stream",
     "text": [
      "/anaconda3/lib/python3.7/site-packages/sklearn/linear_model/logistic.py:433: FutureWarning: Default solver will be changed to 'lbfgs' in 0.22. Specify a solver to silence this warning.\n",
      "  FutureWarning)\n"
     ]
    },
    {
     "name": "stdout",
     "output_type": "stream",
     "text": [
      "Fitting estimator with 46 features.\n"
     ]
    },
    {
     "name": "stderr",
     "output_type": "stream",
     "text": [
      "/anaconda3/lib/python3.7/site-packages/sklearn/linear_model/logistic.py:433: FutureWarning: Default solver will be changed to 'lbfgs' in 0.22. Specify a solver to silence this warning.\n",
      "  FutureWarning)\n"
     ]
    },
    {
     "name": "stdout",
     "output_type": "stream",
     "text": [
      "Fitting estimator with 45 features.\n"
     ]
    },
    {
     "name": "stderr",
     "output_type": "stream",
     "text": [
      "/anaconda3/lib/python3.7/site-packages/sklearn/linear_model/logistic.py:433: FutureWarning: Default solver will be changed to 'lbfgs' in 0.22. Specify a solver to silence this warning.\n",
      "  FutureWarning)\n"
     ]
    },
    {
     "name": "stdout",
     "output_type": "stream",
     "text": [
      "Fitting estimator with 44 features.\n"
     ]
    },
    {
     "name": "stderr",
     "output_type": "stream",
     "text": [
      "/anaconda3/lib/python3.7/site-packages/sklearn/linear_model/logistic.py:433: FutureWarning: Default solver will be changed to 'lbfgs' in 0.22. Specify a solver to silence this warning.\n",
      "  FutureWarning)\n"
     ]
    },
    {
     "name": "stdout",
     "output_type": "stream",
     "text": [
      "Fitting estimator with 43 features.\n"
     ]
    },
    {
     "name": "stderr",
     "output_type": "stream",
     "text": [
      "/anaconda3/lib/python3.7/site-packages/sklearn/linear_model/logistic.py:433: FutureWarning: Default solver will be changed to 'lbfgs' in 0.22. Specify a solver to silence this warning.\n",
      "  FutureWarning)\n"
     ]
    },
    {
     "name": "stdout",
     "output_type": "stream",
     "text": [
      "Fitting estimator with 42 features.\n"
     ]
    },
    {
     "name": "stderr",
     "output_type": "stream",
     "text": [
      "/anaconda3/lib/python3.7/site-packages/sklearn/linear_model/logistic.py:433: FutureWarning: Default solver will be changed to 'lbfgs' in 0.22. Specify a solver to silence this warning.\n",
      "  FutureWarning)\n"
     ]
    },
    {
     "name": "stdout",
     "output_type": "stream",
     "text": [
      "Fitting estimator with 41 features.\n"
     ]
    },
    {
     "name": "stderr",
     "output_type": "stream",
     "text": [
      "/anaconda3/lib/python3.7/site-packages/sklearn/linear_model/logistic.py:433: FutureWarning: Default solver will be changed to 'lbfgs' in 0.22. Specify a solver to silence this warning.\n",
      "  FutureWarning)\n"
     ]
    },
    {
     "name": "stdout",
     "output_type": "stream",
     "text": [
      "Fitting estimator with 40 features.\n"
     ]
    },
    {
     "name": "stderr",
     "output_type": "stream",
     "text": [
      "/anaconda3/lib/python3.7/site-packages/sklearn/linear_model/logistic.py:433: FutureWarning: Default solver will be changed to 'lbfgs' in 0.22. Specify a solver to silence this warning.\n",
      "  FutureWarning)\n"
     ]
    },
    {
     "name": "stdout",
     "output_type": "stream",
     "text": [
      "Fitting estimator with 39 features.\n"
     ]
    },
    {
     "name": "stderr",
     "output_type": "stream",
     "text": [
      "/anaconda3/lib/python3.7/site-packages/sklearn/linear_model/logistic.py:433: FutureWarning: Default solver will be changed to 'lbfgs' in 0.22. Specify a solver to silence this warning.\n",
      "  FutureWarning)\n"
     ]
    },
    {
     "name": "stdout",
     "output_type": "stream",
     "text": [
      "Fitting estimator with 38 features.\n"
     ]
    },
    {
     "name": "stderr",
     "output_type": "stream",
     "text": [
      "/anaconda3/lib/python3.7/site-packages/sklearn/linear_model/logistic.py:433: FutureWarning: Default solver will be changed to 'lbfgs' in 0.22. Specify a solver to silence this warning.\n",
      "  FutureWarning)\n"
     ]
    },
    {
     "name": "stdout",
     "output_type": "stream",
     "text": [
      "Fitting estimator with 37 features.\n"
     ]
    },
    {
     "name": "stderr",
     "output_type": "stream",
     "text": [
      "/anaconda3/lib/python3.7/site-packages/sklearn/linear_model/logistic.py:433: FutureWarning: Default solver will be changed to 'lbfgs' in 0.22. Specify a solver to silence this warning.\n",
      "  FutureWarning)\n"
     ]
    },
    {
     "name": "stdout",
     "output_type": "stream",
     "text": [
      "Fitting estimator with 36 features.\n"
     ]
    },
    {
     "name": "stderr",
     "output_type": "stream",
     "text": [
      "/anaconda3/lib/python3.7/site-packages/sklearn/linear_model/logistic.py:433: FutureWarning: Default solver will be changed to 'lbfgs' in 0.22. Specify a solver to silence this warning.\n",
      "  FutureWarning)\n"
     ]
    },
    {
     "name": "stdout",
     "output_type": "stream",
     "text": [
      "Fitting estimator with 35 features.\n"
     ]
    },
    {
     "name": "stderr",
     "output_type": "stream",
     "text": [
      "/anaconda3/lib/python3.7/site-packages/sklearn/linear_model/logistic.py:433: FutureWarning: Default solver will be changed to 'lbfgs' in 0.22. Specify a solver to silence this warning.\n",
      "  FutureWarning)\n"
     ]
    },
    {
     "name": "stdout",
     "output_type": "stream",
     "text": [
      "Fitting estimator with 34 features.\n"
     ]
    },
    {
     "name": "stderr",
     "output_type": "stream",
     "text": [
      "/anaconda3/lib/python3.7/site-packages/sklearn/linear_model/logistic.py:433: FutureWarning: Default solver will be changed to 'lbfgs' in 0.22. Specify a solver to silence this warning.\n",
      "  FutureWarning)\n"
     ]
    },
    {
     "name": "stdout",
     "output_type": "stream",
     "text": [
      "Fitting estimator with 33 features.\n"
     ]
    },
    {
     "name": "stderr",
     "output_type": "stream",
     "text": [
      "/anaconda3/lib/python3.7/site-packages/sklearn/linear_model/logistic.py:433: FutureWarning: Default solver will be changed to 'lbfgs' in 0.22. Specify a solver to silence this warning.\n",
      "  FutureWarning)\n"
     ]
    },
    {
     "name": "stdout",
     "output_type": "stream",
     "text": [
      "Fitting estimator with 32 features.\n"
     ]
    },
    {
     "name": "stderr",
     "output_type": "stream",
     "text": [
      "/anaconda3/lib/python3.7/site-packages/sklearn/linear_model/logistic.py:433: FutureWarning: Default solver will be changed to 'lbfgs' in 0.22. Specify a solver to silence this warning.\n",
      "  FutureWarning)\n"
     ]
    },
    {
     "name": "stdout",
     "output_type": "stream",
     "text": [
      "Fitting estimator with 31 features.\n"
     ]
    },
    {
     "name": "stderr",
     "output_type": "stream",
     "text": [
      "/anaconda3/lib/python3.7/site-packages/sklearn/linear_model/logistic.py:433: FutureWarning: Default solver will be changed to 'lbfgs' in 0.22. Specify a solver to silence this warning.\n",
      "  FutureWarning)\n"
     ]
    },
    {
     "name": "stdout",
     "output_type": "stream",
     "text": [
      "Fitting estimator with 30 features.\n"
     ]
    },
    {
     "name": "stderr",
     "output_type": "stream",
     "text": [
      "/anaconda3/lib/python3.7/site-packages/sklearn/linear_model/logistic.py:433: FutureWarning: Default solver will be changed to 'lbfgs' in 0.22. Specify a solver to silence this warning.\n",
      "  FutureWarning)\n"
     ]
    },
    {
     "name": "stdout",
     "output_type": "stream",
     "text": [
      "Fitting estimator with 29 features.\n"
     ]
    },
    {
     "name": "stderr",
     "output_type": "stream",
     "text": [
      "/anaconda3/lib/python3.7/site-packages/sklearn/linear_model/logistic.py:433: FutureWarning: Default solver will be changed to 'lbfgs' in 0.22. Specify a solver to silence this warning.\n",
      "  FutureWarning)\n"
     ]
    },
    {
     "name": "stdout",
     "output_type": "stream",
     "text": [
      "Fitting estimator with 28 features.\n"
     ]
    },
    {
     "name": "stderr",
     "output_type": "stream",
     "text": [
      "/anaconda3/lib/python3.7/site-packages/sklearn/linear_model/logistic.py:433: FutureWarning: Default solver will be changed to 'lbfgs' in 0.22. Specify a solver to silence this warning.\n",
      "  FutureWarning)\n"
     ]
    },
    {
     "name": "stdout",
     "output_type": "stream",
     "text": [
      "Fitting estimator with 27 features.\n"
     ]
    },
    {
     "name": "stderr",
     "output_type": "stream",
     "text": [
      "/anaconda3/lib/python3.7/site-packages/sklearn/linear_model/logistic.py:433: FutureWarning: Default solver will be changed to 'lbfgs' in 0.22. Specify a solver to silence this warning.\n",
      "  FutureWarning)\n"
     ]
    },
    {
     "name": "stdout",
     "output_type": "stream",
     "text": [
      "Fitting estimator with 26 features.\n"
     ]
    },
    {
     "name": "stderr",
     "output_type": "stream",
     "text": [
      "/anaconda3/lib/python3.7/site-packages/sklearn/linear_model/logistic.py:433: FutureWarning: Default solver will be changed to 'lbfgs' in 0.22. Specify a solver to silence this warning.\n",
      "  FutureWarning)\n"
     ]
    },
    {
     "name": "stdout",
     "output_type": "stream",
     "text": [
      "Fitting estimator with 25 features.\n"
     ]
    },
    {
     "name": "stderr",
     "output_type": "stream",
     "text": [
      "/anaconda3/lib/python3.7/site-packages/sklearn/linear_model/logistic.py:433: FutureWarning: Default solver will be changed to 'lbfgs' in 0.22. Specify a solver to silence this warning.\n",
      "  FutureWarning)\n"
     ]
    },
    {
     "name": "stdout",
     "output_type": "stream",
     "text": [
      "Fitting estimator with 24 features.\n"
     ]
    },
    {
     "name": "stderr",
     "output_type": "stream",
     "text": [
      "/anaconda3/lib/python3.7/site-packages/sklearn/linear_model/logistic.py:433: FutureWarning: Default solver will be changed to 'lbfgs' in 0.22. Specify a solver to silence this warning.\n",
      "  FutureWarning)\n"
     ]
    },
    {
     "name": "stdout",
     "output_type": "stream",
     "text": [
      "Fitting estimator with 23 features.\n"
     ]
    },
    {
     "name": "stderr",
     "output_type": "stream",
     "text": [
      "/anaconda3/lib/python3.7/site-packages/sklearn/linear_model/logistic.py:433: FutureWarning: Default solver will be changed to 'lbfgs' in 0.22. Specify a solver to silence this warning.\n",
      "  FutureWarning)\n"
     ]
    },
    {
     "name": "stdout",
     "output_type": "stream",
     "text": [
      "Fitting estimator with 22 features.\n"
     ]
    },
    {
     "name": "stderr",
     "output_type": "stream",
     "text": [
      "/anaconda3/lib/python3.7/site-packages/sklearn/linear_model/logistic.py:433: FutureWarning: Default solver will be changed to 'lbfgs' in 0.22. Specify a solver to silence this warning.\n",
      "  FutureWarning)\n"
     ]
    },
    {
     "name": "stdout",
     "output_type": "stream",
     "text": [
      "Fitting estimator with 21 features.\n"
     ]
    },
    {
     "name": "stderr",
     "output_type": "stream",
     "text": [
      "/anaconda3/lib/python3.7/site-packages/sklearn/linear_model/logistic.py:433: FutureWarning: Default solver will be changed to 'lbfgs' in 0.22. Specify a solver to silence this warning.\n",
      "  FutureWarning)\n"
     ]
    },
    {
     "name": "stdout",
     "output_type": "stream",
     "text": [
      "Fitting estimator with 20 features.\n"
     ]
    },
    {
     "name": "stderr",
     "output_type": "stream",
     "text": [
      "/anaconda3/lib/python3.7/site-packages/sklearn/linear_model/logistic.py:433: FutureWarning: Default solver will be changed to 'lbfgs' in 0.22. Specify a solver to silence this warning.\n",
      "  FutureWarning)\n"
     ]
    },
    {
     "name": "stdout",
     "output_type": "stream",
     "text": [
      "Fitting estimator with 19 features.\n"
     ]
    },
    {
     "name": "stderr",
     "output_type": "stream",
     "text": [
      "/anaconda3/lib/python3.7/site-packages/sklearn/linear_model/logistic.py:433: FutureWarning: Default solver will be changed to 'lbfgs' in 0.22. Specify a solver to silence this warning.\n",
      "  FutureWarning)\n"
     ]
    },
    {
     "name": "stdout",
     "output_type": "stream",
     "text": [
      "Fitting estimator with 18 features.\n"
     ]
    },
    {
     "name": "stderr",
     "output_type": "stream",
     "text": [
      "/anaconda3/lib/python3.7/site-packages/sklearn/linear_model/logistic.py:433: FutureWarning: Default solver will be changed to 'lbfgs' in 0.22. Specify a solver to silence this warning.\n",
      "  FutureWarning)\n"
     ]
    },
    {
     "name": "stdout",
     "output_type": "stream",
     "text": [
      "Fitting estimator with 17 features.\n"
     ]
    },
    {
     "name": "stderr",
     "output_type": "stream",
     "text": [
      "/anaconda3/lib/python3.7/site-packages/sklearn/linear_model/logistic.py:433: FutureWarning: Default solver will be changed to 'lbfgs' in 0.22. Specify a solver to silence this warning.\n",
      "  FutureWarning)\n"
     ]
    },
    {
     "name": "stdout",
     "output_type": "stream",
     "text": [
      "Fitting estimator with 16 features.\n"
     ]
    },
    {
     "name": "stderr",
     "output_type": "stream",
     "text": [
      "/anaconda3/lib/python3.7/site-packages/sklearn/linear_model/logistic.py:433: FutureWarning: Default solver will be changed to 'lbfgs' in 0.22. Specify a solver to silence this warning.\n",
      "  FutureWarning)\n"
     ]
    },
    {
     "name": "stdout",
     "output_type": "stream",
     "text": [
      "Fitting estimator with 15 features.\n"
     ]
    },
    {
     "name": "stderr",
     "output_type": "stream",
     "text": [
      "/anaconda3/lib/python3.7/site-packages/sklearn/linear_model/logistic.py:433: FutureWarning: Default solver will be changed to 'lbfgs' in 0.22. Specify a solver to silence this warning.\n",
      "  FutureWarning)\n"
     ]
    },
    {
     "name": "stdout",
     "output_type": "stream",
     "text": [
      "Fitting estimator with 14 features.\n"
     ]
    },
    {
     "name": "stderr",
     "output_type": "stream",
     "text": [
      "/anaconda3/lib/python3.7/site-packages/sklearn/linear_model/logistic.py:433: FutureWarning: Default solver will be changed to 'lbfgs' in 0.22. Specify a solver to silence this warning.\n",
      "  FutureWarning)\n"
     ]
    },
    {
     "name": "stdout",
     "output_type": "stream",
     "text": [
      "Fitting estimator with 13 features.\n"
     ]
    },
    {
     "name": "stderr",
     "output_type": "stream",
     "text": [
      "/anaconda3/lib/python3.7/site-packages/sklearn/linear_model/logistic.py:433: FutureWarning: Default solver will be changed to 'lbfgs' in 0.22. Specify a solver to silence this warning.\n",
      "  FutureWarning)\n"
     ]
    },
    {
     "name": "stdout",
     "output_type": "stream",
     "text": [
      "Fitting estimator with 12 features.\n"
     ]
    },
    {
     "name": "stderr",
     "output_type": "stream",
     "text": [
      "/anaconda3/lib/python3.7/site-packages/sklearn/linear_model/logistic.py:433: FutureWarning: Default solver will be changed to 'lbfgs' in 0.22. Specify a solver to silence this warning.\n",
      "  FutureWarning)\n"
     ]
    },
    {
     "name": "stdout",
     "output_type": "stream",
     "text": [
      "Fitting estimator with 11 features.\n"
     ]
    },
    {
     "name": "stderr",
     "output_type": "stream",
     "text": [
      "/anaconda3/lib/python3.7/site-packages/sklearn/linear_model/logistic.py:433: FutureWarning: Default solver will be changed to 'lbfgs' in 0.22. Specify a solver to silence this warning.\n",
      "  FutureWarning)\n",
      "/anaconda3/lib/python3.7/site-packages/sklearn/linear_model/logistic.py:433: FutureWarning: Default solver will be changed to 'lbfgs' in 0.22. Specify a solver to silence this warning.\n",
      "  FutureWarning)\n",
      "/anaconda3/lib/python3.7/site-packages/sklearn/linear_model/logistic.py:433: FutureWarning: Default solver will be changed to 'lbfgs' in 0.22. Specify a solver to silence this warning.\n",
      "  FutureWarning)\n"
     ]
    },
    {
     "name": "stdout",
     "output_type": "stream",
     "text": [
      "CPU times: user 1min 46s, sys: 2.01 s, total: 1min 48s\n",
      "Wall time: 3min 34s\n"
     ]
    }
   ],
   "source": [
    "%%time\n",
    "model=LogisticRegression()\n",
    "rfecv = RFECV(estimator=model, step=1, cv=3,verbose=3,n_jobs=-1,scoring='roc_auc')\n",
    "rfecv.fit(X,Y)"
   ]
  },
  {
   "cell_type": "code",
   "execution_count": 29,
   "metadata": {},
   "outputs": [
    {
     "name": "stdout",
     "output_type": "stream",
     "text": [
      "Optimal number of features : 10\n"
     ]
    }
   ],
   "source": [
    "print(\"Optimal number of features : %d\" % rfecv.n_features_)"
   ]
  },
  {
   "cell_type": "code",
   "execution_count": 30,
   "metadata": {},
   "outputs": [
    {
     "name": "stdout",
     "output_type": "stream",
     "text": [
      "    ranking                             variable\n",
      "0         1       Days_since_per_lastnamedob_str\n",
      "1         1       Days_since_per_lastnamenameDOB\n",
      "2         1               Days_since_per_nameDOB\n",
      "3         1          dataaddressfulladdress14agg\n",
      "4         1           dataaddressfulladdress7agg\n",
      "5         1           datafirstnamelastname14agg\n",
      "6         1                datassnfirstname14agg\n",
      "7         1                 datassnlastname14agg\n",
      "8         1                  datassnnameDOB14agg\n",
      "9         1                          freq_zip_12\n",
      "10        2                  datassndob_str14agg\n",
      "11        3        Days_since_per_dob_strnameDOB\n",
      "12        4          datazip5_strfulladdress7agg\n",
      "13        5             dataaddresszip5_str14agg\n",
      "14        6                 datafulladdress14agg\n",
      "15        7                  datafulladdress7agg\n",
      "16        8         datazip5_strfulladdress14agg\n",
      "17        9       Days_since_per_addresszip5_str\n",
      "18       10                     datanameDOB14agg\n",
      "19       11              dataaddresszip5_str3agg\n",
      "20       12        datahomephonefulladdress14agg\n",
      "21       13    Days_since_per_addressfulladdress\n",
      "22       14            datafirstnamenameDOB14agg\n",
      "23       15                           no_of_apps\n",
      "24       16     Days_since_per_zip5_strhomephone\n",
      "25       17                              num_zip\n",
      "26       18                           Unnamed: 0\n",
      "27       19              dataaddresszip5_str7agg\n",
      "28       20            dataaddresshomephone14agg\n",
      "29       21      Days_since_per_firstnamedob_str\n",
      "..      ...                                  ...\n",
      "32       24     Days_since_per_firstnamelastname\n",
      "33       25  Days_since_per_homephonefulladdress\n",
      "34       26      Days_since_per_firstnamenameDOB\n",
      "35       27              datadob_strnameDOB14agg\n",
      "36       28             datalastnamenameDOB14agg\n",
      "37       29              dataaddresszip5_str1agg\n",
      "38       30                  datafulladdress1agg\n",
      "39       31                  datafulladdress3agg\n",
      "40       32                  smoothed_homephone3\n",
      "41       33                        smoothed_zip3\n",
      "42       34           Days_since_per_fulladdress\n",
      "43       35          Days_since_per_ssnfirstname\n",
      "44       36            Days_since_per_ssnnameDOB\n",
      "45       37           Days_since_per_ssnlastname\n",
      "46       38            Days_since_per_ssndob_str\n",
      "47       39      Days_since_per_addresshomephone\n",
      "48       40                          freq_zip_25\n",
      "49       41                   Days_since_per_ssn\n",
      "50       42                          fraud_label\n",
      "51       43          datazip5_strfulladdress3agg\n",
      "52       44           dataaddressfulladdress3agg\n",
      "53       45          datazip5_strfulladdress1agg\n",
      "54       46                         datassn14agg\n",
      "55       47           datazip5_strhomephone14agg\n",
      "56       48             dataaddresshomephone7agg\n",
      "57       49         datahomephonefulladdress7agg\n",
      "58       50                           num_phones\n",
      "59       51               datadob_strnameDOB7agg\n",
      "60       52             datafirstnamenameDOB7agg\n",
      "61       53                      datanameDOB7agg\n",
      "\n",
      "[62 rows x 2 columns]\n"
     ]
    }
   ],
   "source": [
    "var_selected2 = pd.DataFrame(sorted(zip(map(lambda x: round(x), rfecv.ranking_),data.columns)),\n",
    "                                  columns=['ranking','variable'])\n",
    "pd.options.display.max_rows=60\n",
    "print(var_selected2)"
   ]
  },
  {
   "cell_type": "code",
   "execution_count": 31,
   "metadata": {},
   "outputs": [
    {
     "data": {
      "image/png": "[encoded data removed]",
      "text/plain": [
       "<Figure size 432x288 with 1 Axes>"
      ]
     },
     "metadata": {
      "needs_background": "light"
     },
     "output_type": "display_data"
    }
   ],
   "source": [
    "plt.figure()\n",
    "plt.ylim(0.45,0.9)\n",
    "plt.xlabel('Number of features selected')\n",
    "plt.ylabel('Cross validation scores (number of corret classifications)')\n",
    "plt.plot(range(1,len(rfecv.grid_scores_) + 1), rfecv.grid_scores_)\n",
    "plt.show()"
   ]
  },
  {
   "cell_type": "code",
   "execution_count": 49,
   "metadata": {},
   "outputs": [
    {
     "data": {
      "text/plain": [
       "['Days_since_per_lastnamedob_str',\n",
       " 'Days_since_per_lastnamenameDOB',\n",
       " 'Days_since_per_nameDOB',\n",
       " 'dataaddressfulladdress14agg',\n",
       " 'dataaddressfulladdress7agg',\n",
       " 'datafirstnamelastname14agg',\n",
       " 'datassnfirstname14agg',\n",
       " 'datassnlastname14agg',\n",
       " 'datassnnameDOB14agg',\n",
       " 'freq_zip_12',\n",
       " 'datassndob_str14agg',\n",
       " 'Days_since_per_dob_strnameDOB',\n",
       " 'datazip5_strfulladdress7agg',\n",
       " 'dataaddresszip5_str14agg',\n",
       " 'datafulladdress14agg',\n",
       " 'datafulladdress7agg',\n",
       " 'datazip5_strfulladdress14agg',\n",
       " 'Days_since_per_addresszip5_str',\n",
       " 'datanameDOB14agg',\n",
       " 'dataaddresszip5_str3agg',\n",
       " 'datahomephonefulladdress14agg',\n",
       " 'Days_since_per_addressfulladdress',\n",
       " 'datafirstnamenameDOB14agg']"
      ]
     },
     "execution_count": 49,
     "metadata": {},
     "output_type": "execute_result"
    }
   ],
   "source": [
    "cols_keep=list(var_selected2['variable'][0:23])\n",
    "cols_keep"
   ]
  },
  {
   "cell_type": "code",
   "execution_count": 50,
   "metadata": {},
   "outputs": [
    {
     "data": {
      "text/plain": [
       "(1000000, 26)"
      ]
     },
     "execution_count": 50,
     "metadata": {},
     "output_type": "execute_result"
    }
   ],
   "source": [
    "cols_keep.insert(0,'fraud_label')\n",
    "cols_keep.insert(0,'date')\n",
    "cols_keep.insert(0,'record')\n",
    "vars_keep = df.filter(cols_keep,axis=1)\n",
    "vars_keep.shape"
   ]
  },
  {
   "cell_type": "code",
   "execution_count": 51,
   "metadata": {},
   "outputs": [
    {
     "data": {
      "text/plain": [
       "['record',\n",
       " 'date',\n",
       " 'fraud_label',\n",
       " 'Days_since_per_lastnamedob_str',\n",
       " 'Days_since_per_lastnamenameDOB',\n",
       " 'Days_since_per_nameDOB',\n",
       " 'dataaddressfulladdress14agg',\n",
       " 'dataaddressfulladdress7agg',\n",
       " 'datafirstnamelastname14agg',\n",
       " 'datassnfirstname14agg',\n",
       " 'datassnlastname14agg',\n",
       " 'datassnnameDOB14agg',\n",
       " 'freq_zip_12',\n",
       " 'datassndob_str14agg',\n",
       " 'Days_since_per_dob_strnameDOB',\n",
       " 'datazip5_strfulladdress7agg',\n",
       " 'dataaddresszip5_str14agg',\n",
       " 'datafulladdress14agg',\n",
       " 'datafulladdress7agg',\n",
       " 'datazip5_strfulladdress14agg',\n",
       " 'Days_since_per_addresszip5_str',\n",
       " 'datanameDOB14agg',\n",
       " 'dataaddresszip5_str3agg',\n",
       " 'datahomephonefulladdress14agg',\n",
       " 'Days_since_per_addressfulladdress',\n",
       " 'datafirstnamenameDOB14agg']"
      ]
     },
     "execution_count": 51,
     "metadata": {},
     "output_type": "execute_result"
    }
   ],
   "source": [
    "cols_keep"
   ]
  },
  {
   "cell_type": "code",
   "execution_count": 52,
   "metadata": {},
   "outputs": [],
   "source": [
    "vars_keep.to_csv('23varaibles.csv',index=False)"
   ]
  },
  {
   "cell_type": "code",
   "execution_count": 53,
   "metadata": {},
   "outputs": [
    {
     "data": {
      "text/html": [
       "<div>\n",
       "<style scoped>\n",
       "    .dataframe tbody tr th:only-of-type {\n",
       "        vertical-align: middle;\n",
       "    }\n",
       "\n",
       "    .dataframe tbody tr th {\n",
       "        vertical-align: top;\n",
       "    }\n",
       "\n",
       "    .dataframe thead th {\n",
       "        text-align: right;\n",
       "    }\n",
       "</style>\n",
       "<table border=\"1\" class=\"dataframe\">\n",
       "  <thead>\n",
       "    <tr style=\"text-align: right;\">\n",
       "      <th></th>\n",
       "      <th>record</th>\n",
       "      <th>date</th>\n",
       "      <th>fraud_label</th>\n",
       "      <th>Days_since_per_lastnamedob_str</th>\n",
       "      <th>Days_since_per_lastnamenameDOB</th>\n",
       "      <th>Days_since_per_nameDOB</th>\n",
       "      <th>dataaddressfulladdress14agg</th>\n",
       "      <th>dataaddressfulladdress7agg</th>\n",
       "      <th>datafirstnamelastname14agg</th>\n",
       "      <th>datassnfirstname14agg</th>\n",
       "      <th>...</th>\n",
       "      <th>dataaddresszip5_str14agg</th>\n",
       "      <th>datafulladdress14agg</th>\n",
       "      <th>datafulladdress7agg</th>\n",
       "      <th>datazip5_strfulladdress14agg</th>\n",
       "      <th>Days_since_per_addresszip5_str</th>\n",
       "      <th>datanameDOB14agg</th>\n",
       "      <th>dataaddresszip5_str3agg</th>\n",
       "      <th>datahomephonefulladdress14agg</th>\n",
       "      <th>Days_since_per_addressfulladdress</th>\n",
       "      <th>datafirstnamenameDOB14agg</th>\n",
       "    </tr>\n",
       "  </thead>\n",
       "  <tbody>\n",
       "    <tr>\n",
       "      <th>0</th>\n",
       "      <td>1</td>\n",
       "      <td>2016-01-01</td>\n",
       "      <td>0</td>\n",
       "      <td>365.00</td>\n",
       "      <td>365.00</td>\n",
       "      <td>365.00</td>\n",
       "      <td>1</td>\n",
       "      <td>1</td>\n",
       "      <td>1</td>\n",
       "      <td>1</td>\n",
       "      <td>...</td>\n",
       "      <td>1</td>\n",
       "      <td>1</td>\n",
       "      <td>1</td>\n",
       "      <td>1</td>\n",
       "      <td>365.00</td>\n",
       "      <td>1</td>\n",
       "      <td>1</td>\n",
       "      <td>1</td>\n",
       "      <td>365.00</td>\n",
       "      <td>1</td>\n",
       "    </tr>\n",
       "    <tr>\n",
       "      <th>1</th>\n",
       "      <td>2</td>\n",
       "      <td>2016-01-01</td>\n",
       "      <td>1</td>\n",
       "      <td>365.00</td>\n",
       "      <td>365.00</td>\n",
       "      <td>365.00</td>\n",
       "      <td>1</td>\n",
       "      <td>1</td>\n",
       "      <td>1</td>\n",
       "      <td>1</td>\n",
       "      <td>...</td>\n",
       "      <td>1</td>\n",
       "      <td>1</td>\n",
       "      <td>1</td>\n",
       "      <td>1</td>\n",
       "      <td>365.00</td>\n",
       "      <td>1</td>\n",
       "      <td>1</td>\n",
       "      <td>1</td>\n",
       "      <td>365.00</td>\n",
       "      <td>1</td>\n",
       "    </tr>\n",
       "    <tr>\n",
       "      <th>2</th>\n",
       "      <td>3</td>\n",
       "      <td>2016-01-01</td>\n",
       "      <td>0</td>\n",
       "      <td>365.00</td>\n",
       "      <td>365.00</td>\n",
       "      <td>365.00</td>\n",
       "      <td>1</td>\n",
       "      <td>1</td>\n",
       "      <td>1</td>\n",
       "      <td>1</td>\n",
       "      <td>...</td>\n",
       "      <td>1</td>\n",
       "      <td>1</td>\n",
       "      <td>1</td>\n",
       "      <td>1</td>\n",
       "      <td>365.00</td>\n",
       "      <td>1</td>\n",
       "      <td>1</td>\n",
       "      <td>1</td>\n",
       "      <td>365.00</td>\n",
       "      <td>1</td>\n",
       "    </tr>\n",
       "    <tr>\n",
       "      <th>3</th>\n",
       "      <td>4</td>\n",
       "      <td>2016-01-01</td>\n",
       "      <td>0</td>\n",
       "      <td>365.00</td>\n",
       "      <td>365.00</td>\n",
       "      <td>365.00</td>\n",
       "      <td>1</td>\n",
       "      <td>1</td>\n",
       "      <td>1</td>\n",
       "      <td>1</td>\n",
       "      <td>...</td>\n",
       "      <td>1</td>\n",
       "      <td>1</td>\n",
       "      <td>1</td>\n",
       "      <td>1</td>\n",
       "      <td>365.00</td>\n",
       "      <td>1</td>\n",
       "      <td>1</td>\n",
       "      <td>1</td>\n",
       "      <td>365.00</td>\n",
       "      <td>1</td>\n",
       "    </tr>\n",
       "    <tr>\n",
       "      <th>4</th>\n",
       "      <td>5</td>\n",
       "      <td>2016-01-01</td>\n",
       "      <td>0</td>\n",
       "      <td>365.00</td>\n",
       "      <td>365.00</td>\n",
       "      <td>365.00</td>\n",
       "      <td>1</td>\n",
       "      <td>1</td>\n",
       "      <td>1</td>\n",
       "      <td>1</td>\n",
       "      <td>...</td>\n",
       "      <td>1</td>\n",
       "      <td>1</td>\n",
       "      <td>1</td>\n",
       "      <td>1</td>\n",
       "      <td>365.00</td>\n",
       "      <td>1</td>\n",
       "      <td>1</td>\n",
       "      <td>1</td>\n",
       "      <td>365.00</td>\n",
       "      <td>1</td>\n",
       "    </tr>\n",
       "  </tbody>\n",
       "</table>\n",
       "<p>5 rows × 26 columns</p>\n",
       "</div>"
      ],
      "text/plain": [
       "   record        date  fraud_label  Days_since_per_lastnamedob_str  \\\n",
       "0       1  2016-01-01            0                          365.00   \n",
       "1       2  2016-01-01            1                          365.00   \n",
       "2       3  2016-01-01            0                          365.00   \n",
       "3       4  2016-01-01            0                          365.00   \n",
       "4       5  2016-01-01            0                          365.00   \n",
       "\n",
       "   Days_since_per_lastnamenameDOB  Days_since_per_nameDOB  \\\n",
       "0                          365.00                  365.00   \n",
       "1                          365.00                  365.00   \n",
       "2                          365.00                  365.00   \n",
       "3                          365.00                  365.00   \n",
       "4                          365.00                  365.00   \n",
       "\n",
       "   dataaddressfulladdress14agg  dataaddressfulladdress7agg  \\\n",
       "0                            1                           1   \n",
       "1                            1                           1   \n",
       "2                            1                           1   \n",
       "3                            1                           1   \n",
       "4                            1                           1   \n",
       "\n",
       "   datafirstnamelastname14agg  datassnfirstname14agg  \\\n",
       "0                           1                      1   \n",
       "1                           1                      1   \n",
       "2                           1                      1   \n",
       "3                           1                      1   \n",
       "4                           1                      1   \n",
       "\n",
       "             ...              dataaddresszip5_str14agg  datafulladdress14agg  \\\n",
       "0            ...                                     1                     1   \n",
       "1            ...                                     1                     1   \n",
       "2            ...                                     1                     1   \n",
       "3            ...                                     1                     1   \n",
       "4            ...                                     1                     1   \n",
       "\n",
       "   datafulladdress7agg  datazip5_strfulladdress14agg  \\\n",
       "0                    1                             1   \n",
       "1                    1                             1   \n",
       "2                    1                             1   \n",
       "3                    1                             1   \n",
       "4                    1                             1   \n",
       "\n",
       "   Days_since_per_addresszip5_str  datanameDOB14agg  dataaddresszip5_str3agg  \\\n",
       "0                          365.00                 1                        1   \n",
       "1                          365.00                 1                        1   \n",
       "2                          365.00                 1                        1   \n",
       "3                          365.00                 1                        1   \n",
       "4                          365.00                 1                        1   \n",
       "\n",
       "   datahomephonefulladdress14agg  Days_since_per_addressfulladdress  \\\n",
       "0                              1                             365.00   \n",
       "1                              1                             365.00   \n",
       "2                              1                             365.00   \n",
       "3                              1                             365.00   \n",
       "4                              1                             365.00   \n",
       "\n",
       "   datafirstnamenameDOB14agg  \n",
       "0                          1  \n",
       "1                          1  \n",
       "2                          1  \n",
       "3                          1  \n",
       "4                          1  \n",
       "\n",
       "[5 rows x 26 columns]"
      ]
     },
     "execution_count": 53,
     "metadata": {},
     "output_type": "execute_result"
    }
   ],
   "source": [
    "vars_keep.head()"
   ]
  },
  {
   "cell_type": "code",
   "execution_count": null,
   "metadata": {},
   "outputs": [],
   "source": []
  }
 ],
 "metadata": {
  "kernelspec": {
   "display_name": "Python 3",
   "language": "python",
   "name": "python3"
  },
  "language_info": {
   "codemirror_mode": {
    "name": "ipython",
    "version": 3
   },
   "file_extension": ".py",
   "mimetype": "text/x-python",
   "name": "python",
   "nbconvert_exporter": "python",
   "pygments_lexer": "ipython3",
   "version": "3.7.1"
  }
 },
 "nbformat": 4,
 "nbformat_minor": 2
}
