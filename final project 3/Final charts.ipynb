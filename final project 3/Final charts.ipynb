{
 "cells": [
  {
   "cell_type": "code",
   "execution_count": 46,
   "metadata": {},
   "outputs": [],
   "source": [
    "import pandas as pd\n",
    "import numpy as np\n",
    "import matplotlib.pyplot as plt\n",
    "import time"
   ]
  },
  {
   "cell_type": "markdown",
   "metadata": {},
   "source": [
    "## RF Chart"
   ]
  },
  {
   "cell_type": "code",
   "execution_count": 6,
   "metadata": {},
   "outputs": [],
   "source": [
    "train = pd.read_csv('train_rf.csv')\n",
    "test  = pd.read_csv('test_rf.csv')\n",
    "oot = pd.read_csv('oot_rf.csv')"
   ]
  },
  {
   "cell_type": "code",
   "execution_count": 25,
   "metadata": {},
   "outputs": [
    {
     "data": {
      "text/plain": [
       "625131"
      ]
     },
     "execution_count": 25,
     "metadata": {},
     "output_type": "execute_result"
    }
   ],
   "source": [
    "len(train)"
   ]
  },
  {
   "cell_type": "code",
   "execution_count": 64,
   "metadata": {},
   "outputs": [
    {
     "data": {
      "text/plain": [
       "9020"
      ]
     },
     "execution_count": 64,
     "metadata": {},
     "output_type": "execute_result"
    }
   ],
   "source": [
    "len(train[train['Fraud']==1])"
   ]
  },
  {
   "cell_type": "code",
   "execution_count": 70,
   "metadata": {},
   "outputs": [],
   "source": [
    "train = train.sort_values(by = 'pro', ascending = False)"
   ]
  },
  {
   "cell_type": "code",
   "execution_count": 75,
   "metadata": {},
   "outputs": [],
   "source": [
    "num_train = []\n",
    "for i in range(20):\n",
    "    bins = sort[(i*6251):((i+1)*6251)]\n",
    "    fraud = bins['Fraud'].sum()\n",
    "    num_train.append(fraud)"
   ]
  },
  {
   "cell_type": "code",
   "execution_count": 76,
   "metadata": {},
   "outputs": [
    {
     "data": {
      "text/plain": [
       "[4302,\n",
       " 295,\n",
       " 190,\n",
       " 103,\n",
       " 90,\n",
       " 69,\n",
       " 50,\n",
       " 39,\n",
       " 38,\n",
       " 43,\n",
       " 34,\n",
       " 46,\n",
       " 54,\n",
       " 50,\n",
       " 45,\n",
       " 34,\n",
       " 42,\n",
       " 40,\n",
       " 34,\n",
       " 30]"
      ]
     },
     "execution_count": 76,
     "metadata": {},
     "output_type": "execute_result"
    }
   ],
   "source": [
    "num_train"
   ]
  },
  {
   "cell_type": "code",
   "execution_count": 62,
   "metadata": {},
   "outputs": [
    {
     "data": {
      "text/plain": [
       "208376"
      ]
     },
     "execution_count": 62,
     "metadata": {},
     "output_type": "execute_result"
    }
   ],
   "source": [
    "len(test)"
   ]
  },
  {
   "cell_type": "code",
   "execution_count": 63,
   "metadata": {},
   "outputs": [
    {
     "data": {
      "text/plain": [
       "2987"
      ]
     },
     "execution_count": 63,
     "metadata": {},
     "output_type": "execute_result"
    }
   ],
   "source": [
    "len(test[test['Fraud']==1])"
   ]
  },
  {
   "cell_type": "code",
   "execution_count": 59,
   "metadata": {},
   "outputs": [],
   "source": [
    "test = test.sort_values(by = 'pro', ascending = False)"
   ]
  },
  {
   "cell_type": "code",
   "execution_count": 82,
   "metadata": {},
   "outputs": [],
   "source": [
    "num_test = []\n",
    "for i in range(20):\n",
    "    bins = test[i*2084:(i+1)*2081]\n",
    "    fraud = bins['Fraud'].sum()\n",
    "    num_test.append(fraud)"
   ]
  },
  {
   "cell_type": "code",
   "execution_count": 83,
   "metadata": {},
   "outputs": [
    {
     "data": {
      "text/plain": [
       "[1450,\n",
       " 73,\n",
       " 59,\n",
       " 27,\n",
       " 16,\n",
       " 16,\n",
       " 9,\n",
       " 14,\n",
       " 13,\n",
       " 12,\n",
       " 14,\n",
       " 16,\n",
       " 15,\n",
       " 19,\n",
       " 15,\n",
       " 17,\n",
       " 11,\n",
       " 11,\n",
       " 5,\n",
       " 10]"
      ]
     },
     "execution_count": 83,
     "metadata": {},
     "output_type": "execute_result"
    }
   ],
   "source": [
    "num_test"
   ]
  },
  {
   "cell_type": "code",
   "execution_count": 84,
   "metadata": {},
   "outputs": [
    {
     "data": {
      "text/plain": [
       "166493"
      ]
     },
     "execution_count": 84,
     "metadata": {},
     "output_type": "execute_result"
    }
   ],
   "source": [
    "len(oot)"
   ]
  },
  {
   "cell_type": "code",
   "execution_count": 85,
   "metadata": {},
   "outputs": [
    {
     "data": {
      "text/plain": [
       "2386"
      ]
     },
     "execution_count": 85,
     "metadata": {},
     "output_type": "execute_result"
    }
   ],
   "source": [
    "len(oot[oot['Fraud']==1])"
   ]
  },
  {
   "cell_type": "code",
   "execution_count": 90,
   "metadata": {},
   "outputs": [],
   "source": [
    "oot = oot.sort_values(by = 'pro', ascending = False)"
   ]
  },
  {
   "cell_type": "code",
   "execution_count": 95,
   "metadata": {},
   "outputs": [],
   "source": [
    "num_oot = []\n",
    "for i in range(20):\n",
    "    bins = oot[i*1665:(i+1)*1665]\n",
    "    fraud = bins['Fraud'].sum()\n",
    "    num_oot.append(fraud)"
   ]
  },
  {
   "cell_type": "code",
   "execution_count": 99,
   "metadata": {},
   "outputs": [
    {
     "data": {
      "text/plain": [
       "[1091, 57, 45, 31, 28, 21, 17, 10, 6, 5, 19, 16, 9, 12, 12, 10, 7, 20, 18, 12]"
      ]
     },
     "execution_count": 99,
     "metadata": {},
     "output_type": "execute_result"
    }
   ],
   "source": [
    "num_oot"
   ]
  },
  {
   "cell_type": "markdown",
   "metadata": {},
   "source": [
    "## Fraud Saving Chart"
   ]
  },
  {
   "cell_type": "code",
   "execution_count": 107,
   "metadata": {},
   "outputs": [],
   "source": [
    "fraud_savings = []\n",
    "loss_sales = []\n",
    "overalls = []\n",
    "for i in range(0,50,5):\n",
    "    num = int(np.floor(len(oot)*i/100))\n",
    "    frac = oot[0:num]\n",
    "    num_record = len(frac)\n",
    "    fraud = frac['Fraud'].sum()\n",
    "    fpr = num_record - fraud\n",
    "    fraud_saving = fraud * 6000\n",
    "    loss_sale = fpr * 50\n",
    "    overall = fraud_saving - loss_sale\n",
    "    fraud_savings.append(fraud_saving)\n",
    "    loss_sales.append(loss_sale)\n",
    "    overalls.append(overall)"
   ]
  },
  {
   "cell_type": "code",
   "execution_count": 108,
   "metadata": {},
   "outputs": [
    {
     "data": {
      "image/png": "[encoded data removed]",
      "text/plain": [
       "<Figure size 432x288 with 1 Axes>"
      ]
     },
     "metadata": {
      "needs_background": "light"
     },
     "output_type": "display_data"
    }
   ],
   "source": [
    "plt.title('Fraud Algorithm Savings')\n",
    "plt.plot(range(0,50,5), fraud_savings, label = 'Fraud Savings')\n",
    "plt.plot(range(0,50,5), loss_sales, label = 'Lost Sales')\n",
    "plt.plot(range(0,50,5), overalls, label = 'Overall Savings')\n",
    "plt.legend()\n",
    "plt.xlabel('')\n",
    "plt.ylabel('$')\n",
    "plt.show()"
   ]
  },
  {
   "cell_type": "code",
   "execution_count": 109,
   "metadata": {},
   "outputs": [],
   "source": [
    "num_oot = []\n",
    "for i in range(51):\n",
    "    bins = oot[i*1665:(i+1)*1665]\n",
    "    fraud = bins['Fraud'].sum()\n",
    "    num_oot.append(fraud)"
   ]
  },
  {
   "cell_type": "code",
   "execution_count": 111,
   "metadata": {},
   "outputs": [
    {
     "data": {
      "text/html": [
       "<div>\n",
       "<style scoped>\n",
       "    .dataframe tbody tr th:only-of-type {\n",
       "        vertical-align: middle;\n",
       "    }\n",
       "\n",
       "    .dataframe tbody tr th {\n",
       "        vertical-align: top;\n",
       "    }\n",
       "\n",
       "    .dataframe thead th {\n",
       "        text-align: right;\n",
       "    }\n",
       "</style>\n",
       "<table border=\"1\" class=\"dataframe\">\n",
       "  <thead>\n",
       "    <tr style=\"text-align: right;\">\n",
       "      <th></th>\n",
       "      <th>0</th>\n",
       "    </tr>\n",
       "  </thead>\n",
       "  <tbody>\n",
       "    <tr>\n",
       "      <th>0</th>\n",
       "      <td>1091</td>\n",
       "    </tr>\n",
       "    <tr>\n",
       "      <th>1</th>\n",
       "      <td>57</td>\n",
       "    </tr>\n",
       "    <tr>\n",
       "      <th>2</th>\n",
       "      <td>45</td>\n",
       "    </tr>\n",
       "    <tr>\n",
       "      <th>3</th>\n",
       "      <td>31</td>\n",
       "    </tr>\n",
       "    <tr>\n",
       "      <th>4</th>\n",
       "      <td>28</td>\n",
       "    </tr>\n",
       "    <tr>\n",
       "      <th>5</th>\n",
       "      <td>21</td>\n",
       "    </tr>\n",
       "    <tr>\n",
       "      <th>6</th>\n",
       "      <td>17</td>\n",
       "    </tr>\n",
       "    <tr>\n",
       "      <th>7</th>\n",
       "      <td>10</td>\n",
       "    </tr>\n",
       "    <tr>\n",
       "      <th>8</th>\n",
       "      <td>6</td>\n",
       "    </tr>\n",
       "    <tr>\n",
       "      <th>9</th>\n",
       "      <td>5</td>\n",
       "    </tr>\n",
       "    <tr>\n",
       "      <th>10</th>\n",
       "      <td>19</td>\n",
       "    </tr>\n",
       "    <tr>\n",
       "      <th>11</th>\n",
       "      <td>16</td>\n",
       "    </tr>\n",
       "    <tr>\n",
       "      <th>12</th>\n",
       "      <td>9</td>\n",
       "    </tr>\n",
       "    <tr>\n",
       "      <th>13</th>\n",
       "      <td>12</td>\n",
       "    </tr>\n",
       "    <tr>\n",
       "      <th>14</th>\n",
       "      <td>12</td>\n",
       "    </tr>\n",
       "    <tr>\n",
       "      <th>15</th>\n",
       "      <td>10</td>\n",
       "    </tr>\n",
       "    <tr>\n",
       "      <th>16</th>\n",
       "      <td>7</td>\n",
       "    </tr>\n",
       "    <tr>\n",
       "      <th>17</th>\n",
       "      <td>20</td>\n",
       "    </tr>\n",
       "    <tr>\n",
       "      <th>18</th>\n",
       "      <td>18</td>\n",
       "    </tr>\n",
       "    <tr>\n",
       "      <th>19</th>\n",
       "      <td>12</td>\n",
       "    </tr>\n",
       "    <tr>\n",
       "      <th>20</th>\n",
       "      <td>12</td>\n",
       "    </tr>\n",
       "    <tr>\n",
       "      <th>21</th>\n",
       "      <td>11</td>\n",
       "    </tr>\n",
       "    <tr>\n",
       "      <th>22</th>\n",
       "      <td>6</td>\n",
       "    </tr>\n",
       "    <tr>\n",
       "      <th>23</th>\n",
       "      <td>12</td>\n",
       "    </tr>\n",
       "    <tr>\n",
       "      <th>24</th>\n",
       "      <td>8</td>\n",
       "    </tr>\n",
       "    <tr>\n",
       "      <th>25</th>\n",
       "      <td>12</td>\n",
       "    </tr>\n",
       "    <tr>\n",
       "      <th>26</th>\n",
       "      <td>6</td>\n",
       "    </tr>\n",
       "    <tr>\n",
       "      <th>27</th>\n",
       "      <td>14</td>\n",
       "    </tr>\n",
       "    <tr>\n",
       "      <th>28</th>\n",
       "      <td>13</td>\n",
       "    </tr>\n",
       "    <tr>\n",
       "      <th>29</th>\n",
       "      <td>7</td>\n",
       "    </tr>\n",
       "    <tr>\n",
       "      <th>30</th>\n",
       "      <td>10</td>\n",
       "    </tr>\n",
       "    <tr>\n",
       "      <th>31</th>\n",
       "      <td>12</td>\n",
       "    </tr>\n",
       "    <tr>\n",
       "      <th>32</th>\n",
       "      <td>8</td>\n",
       "    </tr>\n",
       "    <tr>\n",
       "      <th>33</th>\n",
       "      <td>10</td>\n",
       "    </tr>\n",
       "    <tr>\n",
       "      <th>34</th>\n",
       "      <td>11</td>\n",
       "    </tr>\n",
       "    <tr>\n",
       "      <th>35</th>\n",
       "      <td>12</td>\n",
       "    </tr>\n",
       "    <tr>\n",
       "      <th>36</th>\n",
       "      <td>13</td>\n",
       "    </tr>\n",
       "    <tr>\n",
       "      <th>37</th>\n",
       "      <td>14</td>\n",
       "    </tr>\n",
       "    <tr>\n",
       "      <th>38</th>\n",
       "      <td>10</td>\n",
       "    </tr>\n",
       "    <tr>\n",
       "      <th>39</th>\n",
       "      <td>12</td>\n",
       "    </tr>\n",
       "    <tr>\n",
       "      <th>40</th>\n",
       "      <td>9</td>\n",
       "    </tr>\n",
       "    <tr>\n",
       "      <th>41</th>\n",
       "      <td>13</td>\n",
       "    </tr>\n",
       "    <tr>\n",
       "      <th>42</th>\n",
       "      <td>10</td>\n",
       "    </tr>\n",
       "    <tr>\n",
       "      <th>43</th>\n",
       "      <td>7</td>\n",
       "    </tr>\n",
       "    <tr>\n",
       "      <th>44</th>\n",
       "      <td>15</td>\n",
       "    </tr>\n",
       "    <tr>\n",
       "      <th>45</th>\n",
       "      <td>13</td>\n",
       "    </tr>\n",
       "    <tr>\n",
       "      <th>46</th>\n",
       "      <td>13</td>\n",
       "    </tr>\n",
       "    <tr>\n",
       "      <th>47</th>\n",
       "      <td>9</td>\n",
       "    </tr>\n",
       "    <tr>\n",
       "      <th>48</th>\n",
       "      <td>10</td>\n",
       "    </tr>\n",
       "    <tr>\n",
       "      <th>49</th>\n",
       "      <td>15</td>\n",
       "    </tr>\n",
       "    <tr>\n",
       "      <th>50</th>\n",
       "      <td>15</td>\n",
       "    </tr>\n",
       "  </tbody>\n",
       "</table>\n",
       "</div>"
      ],
      "text/plain": [
       "       0\n",
       "0   1091\n",
       "1     57\n",
       "2     45\n",
       "3     31\n",
       "4     28\n",
       "5     21\n",
       "6     17\n",
       "7     10\n",
       "8      6\n",
       "9      5\n",
       "10    19\n",
       "11    16\n",
       "12     9\n",
       "13    12\n",
       "14    12\n",
       "15    10\n",
       "16     7\n",
       "17    20\n",
       "18    18\n",
       "19    12\n",
       "20    12\n",
       "21    11\n",
       "22     6\n",
       "23    12\n",
       "24     8\n",
       "25    12\n",
       "26     6\n",
       "27    14\n",
       "28    13\n",
       "29     7\n",
       "30    10\n",
       "31    12\n",
       "32     8\n",
       "33    10\n",
       "34    11\n",
       "35    12\n",
       "36    13\n",
       "37    14\n",
       "38    10\n",
       "39    12\n",
       "40     9\n",
       "41    13\n",
       "42    10\n",
       "43     7\n",
       "44    15\n",
       "45    13\n",
       "46    13\n",
       "47     9\n",
       "48    10\n",
       "49    15\n",
       "50    15"
      ]
     },
     "execution_count": 111,
     "metadata": {},
     "output_type": "execute_result"
    }
   ],
   "source": [
    "pd.DataFrame(num_oot)"
   ]
  },
  {
   "cell_type": "markdown",
   "metadata": {},
   "source": [
    "## Entity Chart"
   ]
  },
  {
   "cell_type": "code",
   "execution_count": 3,
   "metadata": {},
   "outputs": [],
   "source": [
    "test = pd.read_csv('test_rf.csv')\n",
    "train = pd.read_csv('train_rf.csv')\n",
    "oot = pd.read_csv('oot_rf.csv')"
   ]
  },
  {
   "cell_type": "code",
   "execution_count": 17,
   "metadata": {},
   "outputs": [],
   "source": [
    "df = pd.read_csv('applications_14_variables.csv')"
   ]
  },
  {
   "cell_type": "code",
   "execution_count": 11,
   "metadata": {},
   "outputs": [],
   "source": [
    "ttl_pro = pd.concat([test,train,oot])"
   ]
  },
  {
   "cell_type": "code",
   "execution_count": 16,
   "metadata": {},
   "outputs": [],
   "source": [
    "ttl_pro = ttl_pro[['Recnum','pro']]"
   ]
  },
  {
   "cell_type": "code",
   "execution_count": 18,
   "metadata": {},
   "outputs": [],
   "source": [
    "df['date'].apply(str)\n",
    "df['date'] =  pd.to_datetime(df['date'], format='%Y%m%d')"
   ]
  },
  {
   "cell_type": "code",
   "execution_count": 19,
   "metadata": {},
   "outputs": [],
   "source": [
    "entity = df.merge(ttl_pro, how = 'left',left_on = 'record',right_on = 'Recnum')"
   ]
  },
  {
   "cell_type": "code",
   "execution_count": 20,
   "metadata": {},
   "outputs": [
    {
     "data": {
      "text/plain": [
       "Index(['record', 'date', 'ssn', 'firstname', 'lastname', 'address', 'zip5',\n",
       "       'dob', 'homephone', 'fraud_label', 'dob_str', 'zip5_str', 'nameDOB',\n",
       "       'fulladdress', 'Recnum', 'pro'],\n",
       "      dtype='object')"
      ]
     },
     "execution_count": 20,
     "metadata": {},
     "output_type": "execute_result"
    }
   ],
   "source": [
    "entity.columns"
   ]
  },
  {
   "cell_type": "code",
   "execution_count": 22,
   "metadata": {},
   "outputs": [],
   "source": [
    "entity = entity[['record', 'date','ssn','homephone','nameDOB','fulladdress','pro']]"
   ]
  },
  {
   "cell_type": "code",
   "execution_count": 23,
   "metadata": {},
   "outputs": [
    {
     "data": {
      "text/plain": [
       "Index(['record', 'date', 'ssn', 'homephone', 'nameDOB', 'fulladdress', 'pro'], dtype='object')"
      ]
     },
     "execution_count": 23,
     "metadata": {},
     "output_type": "execute_result"
    }
   ],
   "source": [
    "entity.columns"
   ]
  },
  {
   "cell_type": "code",
   "execution_count": 24,
   "metadata": {},
   "outputs": [],
   "source": [
    "ssn_rank = pd.DataFrame(entity.groupby('ssn').agg({'ssn':'count','pro':'mean'}))"
   ]
  },
  {
   "cell_type": "code",
   "execution_count": 25,
   "metadata": {},
   "outputs": [],
   "source": [
    "ssn_rank = ssn_rank.sort_values(by ='pro',ascending = False)"
   ]
  },
  {
   "cell_type": "code",
   "execution_count": 26,
   "metadata": {},
   "outputs": [],
   "source": [
    "ssn_rank = ssn_rank[ssn_rank['ssn']>2]"
   ]
  },
  {
   "cell_type": "code",
   "execution_count": 27,
   "metadata": {
    "scrolled": true
   },
   "outputs": [
    {
     "data": {
      "text/html": [
       "<div>\n",
       "<style scoped>\n",
       "    .dataframe tbody tr th:only-of-type {\n",
       "        vertical-align: middle;\n",
       "    }\n",
       "\n",
       "    .dataframe tbody tr th {\n",
       "        vertical-align: top;\n",
       "    }\n",
       "\n",
       "    .dataframe thead th {\n",
       "        text-align: right;\n",
       "    }\n",
       "</style>\n",
       "<table border=\"1\" class=\"dataframe\">\n",
       "  <thead>\n",
       "    <tr style=\"text-align: right;\">\n",
       "      <th></th>\n",
       "      <th>ssn</th>\n",
       "      <th>pro</th>\n",
       "    </tr>\n",
       "    <tr>\n",
       "      <th>ssn</th>\n",
       "      <th></th>\n",
       "      <th></th>\n",
       "    </tr>\n",
       "  </thead>\n",
       "  <tbody>\n",
       "    <tr>\n",
       "      <th>165764866</th>\n",
       "      <td>34</td>\n",
       "      <td>0.956889</td>\n",
       "    </tr>\n",
       "    <tr>\n",
       "      <th>295308935</th>\n",
       "      <td>30</td>\n",
       "      <td>0.950961</td>\n",
       "    </tr>\n",
       "    <tr>\n",
       "      <th>256440495</th>\n",
       "      <td>23</td>\n",
       "      <td>0.942470</td>\n",
       "    </tr>\n",
       "    <tr>\n",
       "      <th>826488428</th>\n",
       "      <td>25</td>\n",
       "      <td>0.941304</td>\n",
       "    </tr>\n",
       "    <tr>\n",
       "      <th>258312431</th>\n",
       "      <td>23</td>\n",
       "      <td>0.937314</td>\n",
       "    </tr>\n",
       "    <tr>\n",
       "      <th>205926169</th>\n",
       "      <td>21</td>\n",
       "      <td>0.936180</td>\n",
       "    </tr>\n",
       "    <tr>\n",
       "      <th>727200669</th>\n",
       "      <td>21</td>\n",
       "      <td>0.929665</td>\n",
       "    </tr>\n",
       "    <tr>\n",
       "      <th>406203526</th>\n",
       "      <td>23</td>\n",
       "      <td>0.929661</td>\n",
       "    </tr>\n",
       "    <tr>\n",
       "      <th>127072438</th>\n",
       "      <td>21</td>\n",
       "      <td>0.929334</td>\n",
       "    </tr>\n",
       "    <tr>\n",
       "      <th>907534928</th>\n",
       "      <td>22</td>\n",
       "      <td>0.928746</td>\n",
       "    </tr>\n",
       "    <tr>\n",
       "      <th>108231635</th>\n",
       "      <td>22</td>\n",
       "      <td>0.926305</td>\n",
       "    </tr>\n",
       "    <tr>\n",
       "      <th>786342597</th>\n",
       "      <td>18</td>\n",
       "      <td>0.923597</td>\n",
       "    </tr>\n",
       "    <tr>\n",
       "      <th>271091041</th>\n",
       "      <td>18</td>\n",
       "      <td>0.922715</td>\n",
       "    </tr>\n",
       "    <tr>\n",
       "      <th>596877935</th>\n",
       "      <td>20</td>\n",
       "      <td>0.919342</td>\n",
       "    </tr>\n",
       "    <tr>\n",
       "      <th>517805159</th>\n",
       "      <td>16</td>\n",
       "      <td>0.917500</td>\n",
       "    </tr>\n",
       "    <tr>\n",
       "      <th>176836012</th>\n",
       "      <td>22</td>\n",
       "      <td>0.911657</td>\n",
       "    </tr>\n",
       "    <tr>\n",
       "      <th>949068829</th>\n",
       "      <td>18</td>\n",
       "      <td>0.911640</td>\n",
       "    </tr>\n",
       "    <tr>\n",
       "      <th>787596476</th>\n",
       "      <td>16</td>\n",
       "      <td>0.911613</td>\n",
       "    </tr>\n",
       "    <tr>\n",
       "      <th>287982545</th>\n",
       "      <td>20</td>\n",
       "      <td>0.911483</td>\n",
       "    </tr>\n",
       "    <tr>\n",
       "      <th>457346566</th>\n",
       "      <td>24</td>\n",
       "      <td>0.905968</td>\n",
       "    </tr>\n",
       "    <tr>\n",
       "      <th>789898437</th>\n",
       "      <td>14</td>\n",
       "      <td>0.902908</td>\n",
       "    </tr>\n",
       "    <tr>\n",
       "      <th>532420734</th>\n",
       "      <td>16</td>\n",
       "      <td>0.902629</td>\n",
       "    </tr>\n",
       "    <tr>\n",
       "      <th>92612632</th>\n",
       "      <td>12</td>\n",
       "      <td>0.897908</td>\n",
       "    </tr>\n",
       "    <tr>\n",
       "      <th>129744731</th>\n",
       "      <td>13</td>\n",
       "      <td>0.896616</td>\n",
       "    </tr>\n",
       "    <tr>\n",
       "      <th>327147129</th>\n",
       "      <td>14</td>\n",
       "      <td>0.893436</td>\n",
       "    </tr>\n",
       "    <tr>\n",
       "      <th>798825859</th>\n",
       "      <td>14</td>\n",
       "      <td>0.892071</td>\n",
       "    </tr>\n",
       "    <tr>\n",
       "      <th>332347063</th>\n",
       "      <td>17</td>\n",
       "      <td>0.891921</td>\n",
       "    </tr>\n",
       "    <tr>\n",
       "      <th>901493436</th>\n",
       "      <td>24</td>\n",
       "      <td>0.889749</td>\n",
       "    </tr>\n",
       "    <tr>\n",
       "      <th>699430981</th>\n",
       "      <td>11</td>\n",
       "      <td>0.887558</td>\n",
       "    </tr>\n",
       "    <tr>\n",
       "      <th>779142236</th>\n",
       "      <td>17</td>\n",
       "      <td>0.887492</td>\n",
       "    </tr>\n",
       "    <tr>\n",
       "      <th>...</th>\n",
       "      <td>...</td>\n",
       "      <td>...</td>\n",
       "    </tr>\n",
       "    <tr>\n",
       "      <th>126944732</th>\n",
       "      <td>3</td>\n",
       "      <td>0.004873</td>\n",
       "    </tr>\n",
       "    <tr>\n",
       "      <th>58968885</th>\n",
       "      <td>3</td>\n",
       "      <td>0.004871</td>\n",
       "    </tr>\n",
       "    <tr>\n",
       "      <th>664576574</th>\n",
       "      <td>3</td>\n",
       "      <td>0.004864</td>\n",
       "    </tr>\n",
       "    <tr>\n",
       "      <th>137049570</th>\n",
       "      <td>3</td>\n",
       "      <td>0.004857</td>\n",
       "    </tr>\n",
       "    <tr>\n",
       "      <th>898901989</th>\n",
       "      <td>3</td>\n",
       "      <td>0.004851</td>\n",
       "    </tr>\n",
       "    <tr>\n",
       "      <th>56203347</th>\n",
       "      <td>4</td>\n",
       "      <td>0.004756</td>\n",
       "    </tr>\n",
       "    <tr>\n",
       "      <th>332985362</th>\n",
       "      <td>3</td>\n",
       "      <td>0.004733</td>\n",
       "    </tr>\n",
       "    <tr>\n",
       "      <th>228645196</th>\n",
       "      <td>3</td>\n",
       "      <td>0.004725</td>\n",
       "    </tr>\n",
       "    <tr>\n",
       "      <th>991946532</th>\n",
       "      <td>3</td>\n",
       "      <td>0.004713</td>\n",
       "    </tr>\n",
       "    <tr>\n",
       "      <th>604766694</th>\n",
       "      <td>3</td>\n",
       "      <td>0.004702</td>\n",
       "    </tr>\n",
       "    <tr>\n",
       "      <th>574777613</th>\n",
       "      <td>3</td>\n",
       "      <td>0.004701</td>\n",
       "    </tr>\n",
       "    <tr>\n",
       "      <th>817446182</th>\n",
       "      <td>3</td>\n",
       "      <td>0.004696</td>\n",
       "    </tr>\n",
       "    <tr>\n",
       "      <th>926525258</th>\n",
       "      <td>3</td>\n",
       "      <td>0.004693</td>\n",
       "    </tr>\n",
       "    <tr>\n",
       "      <th>115998897</th>\n",
       "      <td>3</td>\n",
       "      <td>0.004675</td>\n",
       "    </tr>\n",
       "    <tr>\n",
       "      <th>849571441</th>\n",
       "      <td>3</td>\n",
       "      <td>0.004672</td>\n",
       "    </tr>\n",
       "    <tr>\n",
       "      <th>664290107</th>\n",
       "      <td>3</td>\n",
       "      <td>0.004669</td>\n",
       "    </tr>\n",
       "    <tr>\n",
       "      <th>882834968</th>\n",
       "      <td>3</td>\n",
       "      <td>0.004619</td>\n",
       "    </tr>\n",
       "    <tr>\n",
       "      <th>143992718</th>\n",
       "      <td>4</td>\n",
       "      <td>0.004563</td>\n",
       "    </tr>\n",
       "    <tr>\n",
       "      <th>684598094</th>\n",
       "      <td>3</td>\n",
       "      <td>0.004561</td>\n",
       "    </tr>\n",
       "    <tr>\n",
       "      <th>307780297</th>\n",
       "      <td>3</td>\n",
       "      <td>0.004533</td>\n",
       "    </tr>\n",
       "    <tr>\n",
       "      <th>847082282</th>\n",
       "      <td>3</td>\n",
       "      <td>0.004530</td>\n",
       "    </tr>\n",
       "    <tr>\n",
       "      <th>805379678</th>\n",
       "      <td>4</td>\n",
       "      <td>0.004525</td>\n",
       "    </tr>\n",
       "    <tr>\n",
       "      <th>709060524</th>\n",
       "      <td>3</td>\n",
       "      <td>0.004510</td>\n",
       "    </tr>\n",
       "    <tr>\n",
       "      <th>724016812</th>\n",
       "      <td>3</td>\n",
       "      <td>0.004492</td>\n",
       "    </tr>\n",
       "    <tr>\n",
       "      <th>701147880</th>\n",
       "      <td>3</td>\n",
       "      <td>0.004472</td>\n",
       "    </tr>\n",
       "    <tr>\n",
       "      <th>658194977</th>\n",
       "      <td>3</td>\n",
       "      <td>0.004451</td>\n",
       "    </tr>\n",
       "    <tr>\n",
       "      <th>582031163</th>\n",
       "      <td>3</td>\n",
       "      <td>0.004450</td>\n",
       "    </tr>\n",
       "    <tr>\n",
       "      <th>918584390</th>\n",
       "      <td>3</td>\n",
       "      <td>0.004296</td>\n",
       "    </tr>\n",
       "    <tr>\n",
       "      <th>574279524</th>\n",
       "      <td>3</td>\n",
       "      <td>0.004279</td>\n",
       "    </tr>\n",
       "    <tr>\n",
       "      <th>973059346</th>\n",
       "      <td>3</td>\n",
       "      <td>0.003919</td>\n",
       "    </tr>\n",
       "  </tbody>\n",
       "</table>\n",
       "<p>19282 rows × 2 columns</p>\n",
       "</div>"
      ],
      "text/plain": [
       "           ssn       pro\n",
       "ssn                     \n",
       "165764866   34  0.956889\n",
       "295308935   30  0.950961\n",
       "256440495   23  0.942470\n",
       "826488428   25  0.941304\n",
       "258312431   23  0.937314\n",
       "205926169   21  0.936180\n",
       "727200669   21  0.929665\n",
       "406203526   23  0.929661\n",
       "127072438   21  0.929334\n",
       "907534928   22  0.928746\n",
       "108231635   22  0.926305\n",
       "786342597   18  0.923597\n",
       "271091041   18  0.922715\n",
       "596877935   20  0.919342\n",
       "517805159   16  0.917500\n",
       "176836012   22  0.911657\n",
       "949068829   18  0.911640\n",
       "787596476   16  0.911613\n",
       "287982545   20  0.911483\n",
       "457346566   24  0.905968\n",
       "789898437   14  0.902908\n",
       "532420734   16  0.902629\n",
       "92612632    12  0.897908\n",
       "129744731   13  0.896616\n",
       "327147129   14  0.893436\n",
       "798825859   14  0.892071\n",
       "332347063   17  0.891921\n",
       "901493436   24  0.889749\n",
       "699430981   11  0.887558\n",
       "779142236   17  0.887492\n",
       "...        ...       ...\n",
       "126944732    3  0.004873\n",
       "58968885     3  0.004871\n",
       "664576574    3  0.004864\n",
       "137049570    3  0.004857\n",
       "898901989    3  0.004851\n",
       "56203347     4  0.004756\n",
       "332985362    3  0.004733\n",
       "228645196    3  0.004725\n",
       "991946532    3  0.004713\n",
       "604766694    3  0.004702\n",
       "574777613    3  0.004701\n",
       "817446182    3  0.004696\n",
       "926525258    3  0.004693\n",
       "115998897    3  0.004675\n",
       "849571441    3  0.004672\n",
       "664290107    3  0.004669\n",
       "882834968    3  0.004619\n",
       "143992718    4  0.004563\n",
       "684598094    3  0.004561\n",
       "307780297    3  0.004533\n",
       "847082282    3  0.004530\n",
       "805379678    4  0.004525\n",
       "709060524    3  0.004510\n",
       "724016812    3  0.004492\n",
       "701147880    3  0.004472\n",
       "658194977    3  0.004451\n",
       "582031163    3  0.004450\n",
       "918584390    3  0.004296\n",
       "574279524    3  0.004279\n",
       "973059346    3  0.003919\n",
       "\n",
       "[19282 rows x 2 columns]"
      ]
     },
     "execution_count": 27,
     "metadata": {},
     "output_type": "execute_result"
    }
   ],
   "source": [
    "ssn_rank"
   ]
  },
  {
   "cell_type": "code",
   "execution_count": 72,
   "metadata": {},
   "outputs": [],
   "source": [
    "ssnf = entity[entity['ssn']==786342597]\n",
    "ssnf = ssnf.sort_values(by = 'date')\n",
    "ssnf['num_of_record'] = list(range(1,int(len(ssnf)+1)))\n",
    "ssnf['dayofmonth'] = ssnf['date'].dt.day"
   ]
  },
  {
   "cell_type": "code",
   "execution_count": 78,
   "metadata": {},
   "outputs": [
    {
     "data": {
      "image/png": "[encoded data removed]",
      "text/plain": [
       "<Figure size 432x288 with 1 Axes>"
      ]
     },
     "metadata": {
      "needs_background": "light"
     },
     "output_type": "display_data"
    }
   ],
   "source": [
    "plt.title('SSN 786342597')\n",
    "plt.plot(ssnf['dayofmonth'], ssnf['pro'],label = 'Fraud Score')\n",
    "plt.xticks([14,15], [14,15])\n",
    "plt.xlabel('Day in Month')\n",
    "plt.ylabel('Fraud Score')\n",
    "plt.show()"
   ]
  },
  {
   "cell_type": "code",
   "execution_count": 77,
   "metadata": {},
   "outputs": [
    {
     "data": {
      "image/png": "[encoded data removed]",
      "text/plain": [
       "<Figure size 432x288 with 1 Axes>"
      ]
     },
     "metadata": {
      "needs_background": "light"
     },
     "output_type": "display_data"
    }
   ],
   "source": [
    "plt.title('SSN 786342597')\n",
    "plt.plot(ssnf['num_of_record'], ssnf['pro'],label = 'Fraud Score')\n",
    "plt.xticks(range(1,len(ssnf)+1), range(1,len(ssnf)+1))\n",
    "plt.xlabel('Application Count with SSN 786342597')\n",
    "plt.ylabel('Fraud Score')\n",
    "plt.show()"
   ]
  },
  {
   "cell_type": "code",
   "execution_count": 79,
   "metadata": {},
   "outputs": [],
   "source": [
    "ssnm = entity[entity['ssn']==786342597]\n",
    "ssnm = ssnf.sort_values(by = 'date')\n",
    "ssnm['num_of_record'] = list(range(1,int(len(ssnf)+1)))\n",
    "ssnm['month'] = ssnf['date'].dt.month"
   ]
  },
  {
   "cell_type": "code",
   "execution_count": 150,
   "metadata": {},
   "outputs": [
    {
     "data": {
      "image/png": "[encoded data removed]",
      "text/plain": [
       "<Figure size 432x288 with 1 Axes>"
      ]
     },
     "metadata": {
      "needs_background": "light"
     },
     "output_type": "display_data"
    }
   ],
   "source": [
    "plt.title('SSN 786342597')\n",
    "plt.plot(ssnm['month'], ssnm['pro'],label = 'Fraud Score')\n",
    "plt.xticks(range(1,13), ['Jan','Feb','Mar','Apr','May','June','July','Aug','Sep','Oct','Nov','Dec'])\n",
    "plt.xlabel('Month')\n",
    "plt.ylabel('Fraud Score')\n",
    "plt.show()"
   ]
  },
  {
   "cell_type": "code",
   "execution_count": 122,
   "metadata": {},
   "outputs": [],
   "source": [
    "nameDOB_rank = pd.DataFrame(entity.groupby('nameDOB').agg({'nameDOB':'count','pro':'mean'})).sort_values(by ='pro',ascending = False)"
   ]
  },
  {
   "cell_type": "code",
   "execution_count": 123,
   "metadata": {},
   "outputs": [],
   "source": [
    "nameDOB_rank = nameDOB_rank[nameDOB_rank['nameDOB']>2]"
   ]
  },
  {
   "cell_type": "code",
   "execution_count": 125,
   "metadata": {},
   "outputs": [
    {
     "data": {
      "text/html": [
       "<div>\n",
       "<style scoped>\n",
       "    .dataframe tbody tr th:only-of-type {\n",
       "        vertical-align: middle;\n",
       "    }\n",
       "\n",
       "    .dataframe tbody tr th {\n",
       "        vertical-align: top;\n",
       "    }\n",
       "\n",
       "    .dataframe thead th {\n",
       "        text-align: right;\n",
       "    }\n",
       "</style>\n",
       "<table border=\"1\" class=\"dataframe\">\n",
       "  <thead>\n",
       "    <tr style=\"text-align: right;\">\n",
       "      <th></th>\n",
       "      <th>nameDOB</th>\n",
       "      <th>pro</th>\n",
       "    </tr>\n",
       "    <tr>\n",
       "      <th>nameDOB</th>\n",
       "      <th></th>\n",
       "      <th></th>\n",
       "    </tr>\n",
       "  </thead>\n",
       "  <tbody>\n",
       "    <tr>\n",
       "      <th>SAAEAXUAX_UUMSXJJX_19400301</th>\n",
       "      <td>34</td>\n",
       "      <td>0.956889</td>\n",
       "    </tr>\n",
       "    <tr>\n",
       "      <th>UAARSSXEX_RTUJZUMS_19221024</th>\n",
       "      <td>30</td>\n",
       "      <td>0.950961</td>\n",
       "    </tr>\n",
       "    <tr>\n",
       "      <th>XRSJUMZMA_EREAXMXJ_19010925</th>\n",
       "      <td>23</td>\n",
       "      <td>0.942470</td>\n",
       "    </tr>\n",
       "    <tr>\n",
       "      <th>EMAEMEMZ_EUSEZRAE_19170927</th>\n",
       "      <td>25</td>\n",
       "      <td>0.941304</td>\n",
       "    </tr>\n",
       "    <tr>\n",
       "      <th>SMRJTSZXU_MEXAJZU_19610618</th>\n",
       "      <td>23</td>\n",
       "      <td>0.937314</td>\n",
       "    </tr>\n",
       "    <tr>\n",
       "      <th>XAREUJZUM_EZMEUZST_19810318</th>\n",
       "      <td>21</td>\n",
       "      <td>0.936180</td>\n",
       "    </tr>\n",
       "    <tr>\n",
       "      <th>RJJJRMXRX_SXAZRXJM_19040121</th>\n",
       "      <td>21</td>\n",
       "      <td>0.929665</td>\n",
       "    </tr>\n",
       "    <tr>\n",
       "      <th>UTTTSEMAR_EMAZXXEX_19520423</th>\n",
       "      <td>23</td>\n",
       "      <td>0.929661</td>\n",
       "    </tr>\n",
       "    <tr>\n",
       "      <th>RERESSUSM_EXMJTETS_19871017</th>\n",
       "      <td>21</td>\n",
       "      <td>0.929334</td>\n",
       "    </tr>\n",
       "    <tr>\n",
       "      <th>RZREZMXRE_SRARMARJ_19481118</th>\n",
       "      <td>22</td>\n",
       "      <td>0.928746</td>\n",
       "    </tr>\n",
       "    <tr>\n",
       "      <th>RMXXZTXTX_RTRSRTRM_19770720</th>\n",
       "      <td>22</td>\n",
       "      <td>0.926305</td>\n",
       "    </tr>\n",
       "    <tr>\n",
       "      <th>EAUSJTETR_MZRUMMJ_19511115</th>\n",
       "      <td>18</td>\n",
       "      <td>0.923597</td>\n",
       "    </tr>\n",
       "    <tr>\n",
       "      <th>RXEJTXZEA_RMJTSTRM_19011005</th>\n",
       "      <td>18</td>\n",
       "      <td>0.922715</td>\n",
       "    </tr>\n",
       "    <tr>\n",
       "      <th>UXAJUAAAT_USZTJZZJ_19530920</th>\n",
       "      <td>20</td>\n",
       "      <td>0.919342</td>\n",
       "    </tr>\n",
       "    <tr>\n",
       "      <th>UAEAUJTRU_SZEEAAUM_19340730</th>\n",
       "      <td>16</td>\n",
       "      <td>0.917500</td>\n",
       "    </tr>\n",
       "    <tr>\n",
       "      <th>MURJTTZMT_EXSMUXZU_19650804</th>\n",
       "      <td>22</td>\n",
       "      <td>0.911657</td>\n",
       "    </tr>\n",
       "    <tr>\n",
       "      <th>EZXREZZAZ_SETEJMMJ_19500214</th>\n",
       "      <td>18</td>\n",
       "      <td>0.911640</td>\n",
       "    </tr>\n",
       "    <tr>\n",
       "      <th>EAUETSZST_SZXRTXST_19471121</th>\n",
       "      <td>16</td>\n",
       "      <td>0.911613</td>\n",
       "    </tr>\n",
       "    <tr>\n",
       "      <th>UXJAUZRMM_RRMMZZRM_19570526</th>\n",
       "      <td>20</td>\n",
       "      <td>0.911483</td>\n",
       "    </tr>\n",
       "    <tr>\n",
       "      <th>MJXSTSRUE_SSRMURXM_19570615</th>\n",
       "      <td>24</td>\n",
       "      <td>0.905968</td>\n",
       "    </tr>\n",
       "    <tr>\n",
       "      <th>RZMXZUUSZ_ETRZJJZU_20101231</th>\n",
       "      <td>14</td>\n",
       "      <td>0.902908</td>\n",
       "    </tr>\n",
       "    <tr>\n",
       "      <th>ESUXATUT_URSXAMR_20090127</th>\n",
       "      <td>16</td>\n",
       "      <td>0.902629</td>\n",
       "    </tr>\n",
       "    <tr>\n",
       "      <th>SXXSZJMM_ETMSSTTM_19250731</th>\n",
       "      <td>12</td>\n",
       "      <td>0.897908</td>\n",
       "    </tr>\n",
       "    <tr>\n",
       "      <th>XUZESRMSJ_RXTAXRXE_19901102</th>\n",
       "      <td>13</td>\n",
       "      <td>0.896616</td>\n",
       "    </tr>\n",
       "    <tr>\n",
       "      <th>RJJJRMXRX_ZRZEJET_19350331</th>\n",
       "      <td>14</td>\n",
       "      <td>0.893436</td>\n",
       "    </tr>\n",
       "    <tr>\n",
       "      <th>AXZSAJX_UMXUUUSE_19150625</th>\n",
       "      <td>14</td>\n",
       "      <td>0.892071</td>\n",
       "    </tr>\n",
       "    <tr>\n",
       "      <th>EJZEUUXJM_TURJJZA_19750520</th>\n",
       "      <td>17</td>\n",
       "      <td>0.891921</td>\n",
       "    </tr>\n",
       "    <tr>\n",
       "      <th>ZXZRRRS_RRUAUTXA_19731101</th>\n",
       "      <td>24</td>\n",
       "      <td>0.889749</td>\n",
       "    </tr>\n",
       "    <tr>\n",
       "      <th>RSXMJUTAT_RTJTZUXJ_19820212</th>\n",
       "      <td>11</td>\n",
       "      <td>0.887558</td>\n",
       "    </tr>\n",
       "    <tr>\n",
       "      <th>SEEURJMZT_SZERASAR_19510704</th>\n",
       "      <td>17</td>\n",
       "      <td>0.887492</td>\n",
       "    </tr>\n",
       "    <tr>\n",
       "      <th>...</th>\n",
       "      <td>...</td>\n",
       "      <td>...</td>\n",
       "    </tr>\n",
       "    <tr>\n",
       "      <th>RZJJAZTRX_SUTRZSTZ_19070626</th>\n",
       "      <td>6</td>\n",
       "      <td>0.004370</td>\n",
       "    </tr>\n",
       "    <tr>\n",
       "      <th>EREMTZXXA_SRRTAZTX_19070626</th>\n",
       "      <td>3</td>\n",
       "      <td>0.004343</td>\n",
       "    </tr>\n",
       "    <tr>\n",
       "      <th>EASEXMJAT_RTMTAJUA_19600618</th>\n",
       "      <td>3</td>\n",
       "      <td>0.004316</td>\n",
       "    </tr>\n",
       "    <tr>\n",
       "      <th>EASEXMJAT_USMATTUR_20010409</th>\n",
       "      <td>3</td>\n",
       "      <td>0.004296</td>\n",
       "    </tr>\n",
       "    <tr>\n",
       "      <th>EASEXMJAT_SRTRERMJ_19390825</th>\n",
       "      <td>3</td>\n",
       "      <td>0.004279</td>\n",
       "    </tr>\n",
       "    <tr>\n",
       "      <th>SUAZRXXRT_UMUMAEZM_20150912</th>\n",
       "      <td>3</td>\n",
       "      <td>0.004278</td>\n",
       "    </tr>\n",
       "    <tr>\n",
       "      <th>UUASSUUAT_ERXSZZMA_19750402</th>\n",
       "      <td>3</td>\n",
       "      <td>0.004253</td>\n",
       "    </tr>\n",
       "    <tr>\n",
       "      <th>SRARXRMRM_STXAAZZM_19720722</th>\n",
       "      <td>3</td>\n",
       "      <td>0.004168</td>\n",
       "    </tr>\n",
       "    <tr>\n",
       "      <th>EMERESUXT_SASAXAZA_19070626</th>\n",
       "      <td>3</td>\n",
       "      <td>0.004167</td>\n",
       "    </tr>\n",
       "    <tr>\n",
       "      <th>EAXRRUMUX_SXZXJRJT_19070626</th>\n",
       "      <td>16</td>\n",
       "      <td>0.004155</td>\n",
       "    </tr>\n",
       "    <tr>\n",
       "      <th>MEAXTXRAR_XTTREM_19070626</th>\n",
       "      <td>3</td>\n",
       "      <td>0.004118</td>\n",
       "    </tr>\n",
       "    <tr>\n",
       "      <th>RMSTZJJMA_RZEAJZT_19070626</th>\n",
       "      <td>3</td>\n",
       "      <td>0.004106</td>\n",
       "    </tr>\n",
       "    <tr>\n",
       "      <th>ZUXAEXSE_XMERRR_19710623</th>\n",
       "      <td>3</td>\n",
       "      <td>0.004000</td>\n",
       "    </tr>\n",
       "    <tr>\n",
       "      <th>XJXXSUST_UJSETSMA_19070626</th>\n",
       "      <td>3</td>\n",
       "      <td>0.003982</td>\n",
       "    </tr>\n",
       "    <tr>\n",
       "      <th>SAMERMATR_USMATTUR_19880628</th>\n",
       "      <td>4</td>\n",
       "      <td>0.003930</td>\n",
       "    </tr>\n",
       "    <tr>\n",
       "      <th>EAXRRUMUX_ETERUXME_19150823</th>\n",
       "      <td>3</td>\n",
       "      <td>0.003919</td>\n",
       "    </tr>\n",
       "    <tr>\n",
       "      <th>SRMZJXAXJ_SXZXJRJT_19070626</th>\n",
       "      <td>6</td>\n",
       "      <td>0.003828</td>\n",
       "    </tr>\n",
       "    <tr>\n",
       "      <th>EAXRRUMUX_ETERUXME_19070626</th>\n",
       "      <td>24</td>\n",
       "      <td>0.003781</td>\n",
       "    </tr>\n",
       "    <tr>\n",
       "      <th>SMAURZSSA_SRTRERMJ_19070626</th>\n",
       "      <td>4</td>\n",
       "      <td>0.003744</td>\n",
       "    </tr>\n",
       "    <tr>\n",
       "      <th>MUXEUSEMJ_RZRMXSZX_19070626</th>\n",
       "      <td>3</td>\n",
       "      <td>0.003717</td>\n",
       "    </tr>\n",
       "    <tr>\n",
       "      <th>ZJASJMAZ_STZRUXZM_20040524</th>\n",
       "      <td>3</td>\n",
       "      <td>0.003693</td>\n",
       "    </tr>\n",
       "    <tr>\n",
       "      <th>EAXRRUMUX_SAURMUXJ_19070626</th>\n",
       "      <td>4</td>\n",
       "      <td>0.003689</td>\n",
       "    </tr>\n",
       "    <tr>\n",
       "      <th>EASEXMJAT_UJZMATJA_19770902</th>\n",
       "      <td>3</td>\n",
       "      <td>0.003490</td>\n",
       "    </tr>\n",
       "    <tr>\n",
       "      <th>EASEXMJAT_UTJZMJES_19070626</th>\n",
       "      <td>4</td>\n",
       "      <td>0.003435</td>\n",
       "    </tr>\n",
       "    <tr>\n",
       "      <th>RUXMJAXRX_RMRXAMX_19111127</th>\n",
       "      <td>3</td>\n",
       "      <td>0.003231</td>\n",
       "    </tr>\n",
       "    <tr>\n",
       "      <th>XRRAMMTR_UMXUUUSE_19070626</th>\n",
       "      <td>3</td>\n",
       "      <td>0.002988</td>\n",
       "    </tr>\n",
       "    <tr>\n",
       "      <th>RRSRTSRXJ_ERXMTSES_19070626</th>\n",
       "      <td>3</td>\n",
       "      <td>0.002915</td>\n",
       "    </tr>\n",
       "    <tr>\n",
       "      <th>SREZUJMJU_UMXUUUSE_19970918</th>\n",
       "      <td>3</td>\n",
       "      <td>0.002851</td>\n",
       "    </tr>\n",
       "    <tr>\n",
       "      <th>SETJATEAU_ERJSAXA_19521016</th>\n",
       "      <td>3</td>\n",
       "      <td>0.002749</td>\n",
       "    </tr>\n",
       "    <tr>\n",
       "      <th>UMUXMTTZX_SRTRERMJ_19070626</th>\n",
       "      <td>3</td>\n",
       "      <td>0.002746</td>\n",
       "    </tr>\n",
       "  </tbody>\n",
       "</table>\n",
       "<p>20296 rows × 2 columns</p>\n",
       "</div>"
      ],
      "text/plain": [
       "                             nameDOB       pro\n",
       "nameDOB                                       \n",
       "SAAEAXUAX_UUMSXJJX_19400301       34  0.956889\n",
       "UAARSSXEX_RTUJZUMS_19221024       30  0.950961\n",
       "XRSJUMZMA_EREAXMXJ_19010925       23  0.942470\n",
       "EMAEMEMZ_EUSEZRAE_19170927        25  0.941304\n",
       "SMRJTSZXU_MEXAJZU_19610618        23  0.937314\n",
       "XAREUJZUM_EZMEUZST_19810318       21  0.936180\n",
       "RJJJRMXRX_SXAZRXJM_19040121       21  0.929665\n",
       "UTTTSEMAR_EMAZXXEX_19520423       23  0.929661\n",
       "RERESSUSM_EXMJTETS_19871017       21  0.929334\n",
       "RZREZMXRE_SRARMARJ_19481118       22  0.928746\n",
       "RMXXZTXTX_RTRSRTRM_19770720       22  0.926305\n",
       "EAUSJTETR_MZRUMMJ_19511115        18  0.923597\n",
       "RXEJTXZEA_RMJTSTRM_19011005       18  0.922715\n",
       "UXAJUAAAT_USZTJZZJ_19530920       20  0.919342\n",
       "UAEAUJTRU_SZEEAAUM_19340730       16  0.917500\n",
       "MURJTTZMT_EXSMUXZU_19650804       22  0.911657\n",
       "EZXREZZAZ_SETEJMMJ_19500214       18  0.911640\n",
       "EAUETSZST_SZXRTXST_19471121       16  0.911613\n",
       "UXJAUZRMM_RRMMZZRM_19570526       20  0.911483\n",
       "MJXSTSRUE_SSRMURXM_19570615       24  0.905968\n",
       "RZMXZUUSZ_ETRZJJZU_20101231       14  0.902908\n",
       "ESUXATUT_URSXAMR_20090127         16  0.902629\n",
       "SXXSZJMM_ETMSSTTM_19250731        12  0.897908\n",
       "XUZESRMSJ_RXTAXRXE_19901102       13  0.896616\n",
       "RJJJRMXRX_ZRZEJET_19350331        14  0.893436\n",
       "AXZSAJX_UMXUUUSE_19150625         14  0.892071\n",
       "EJZEUUXJM_TURJJZA_19750520        17  0.891921\n",
       "ZXZRRRS_RRUAUTXA_19731101         24  0.889749\n",
       "RSXMJUTAT_RTJTZUXJ_19820212       11  0.887558\n",
       "SEEURJMZT_SZERASAR_19510704       17  0.887492\n",
       "...                              ...       ...\n",
       "RZJJAZTRX_SUTRZSTZ_19070626        6  0.004370\n",
       "EREMTZXXA_SRRTAZTX_19070626        3  0.004343\n",
       "EASEXMJAT_RTMTAJUA_19600618        3  0.004316\n",
       "EASEXMJAT_USMATTUR_20010409        3  0.004296\n",
       "EASEXMJAT_SRTRERMJ_19390825        3  0.004279\n",
       "SUAZRXXRT_UMUMAEZM_20150912        3  0.004278\n",
       "UUASSUUAT_ERXSZZMA_19750402        3  0.004253\n",
       "SRARXRMRM_STXAAZZM_19720722        3  0.004168\n",
       "EMERESUXT_SASAXAZA_19070626        3  0.004167\n",
       "EAXRRUMUX_SXZXJRJT_19070626       16  0.004155\n",
       "MEAXTXRAR_XTTREM_19070626          3  0.004118\n",
       "RMSTZJJMA_RZEAJZT_19070626         3  0.004106\n",
       "ZUXAEXSE_XMERRR_19710623           3  0.004000\n",
       "XJXXSUST_UJSETSMA_19070626         3  0.003982\n",
       "SAMERMATR_USMATTUR_19880628        4  0.003930\n",
       "EAXRRUMUX_ETERUXME_19150823        3  0.003919\n",
       "SRMZJXAXJ_SXZXJRJT_19070626        6  0.003828\n",
       "EAXRRUMUX_ETERUXME_19070626       24  0.003781\n",
       "SMAURZSSA_SRTRERMJ_19070626        4  0.003744\n",
       "MUXEUSEMJ_RZRMXSZX_19070626        3  0.003717\n",
       "ZJASJMAZ_STZRUXZM_20040524         3  0.003693\n",
       "EAXRRUMUX_SAURMUXJ_19070626        4  0.003689\n",
       "EASEXMJAT_UJZMATJA_19770902        3  0.003490\n",
       "EASEXMJAT_UTJZMJES_19070626        4  0.003435\n",
       "RUXMJAXRX_RMRXAMX_19111127         3  0.003231\n",
       "XRRAMMTR_UMXUUUSE_19070626         3  0.002988\n",
       "RRSRTSRXJ_ERXMTSES_19070626        3  0.002915\n",
       "SREZUJMJU_UMXUUUSE_19970918        3  0.002851\n",
       "SETJATEAU_ERJSAXA_19521016         3  0.002749\n",
       "UMUXMTTZX_SRTRERMJ_19070626        3  0.002746\n",
       "\n",
       "[20296 rows x 2 columns]"
      ]
     },
     "execution_count": 125,
     "metadata": {},
     "output_type": "execute_result"
    }
   ],
   "source": [
    "nameDOB_rank"
   ]
  },
  {
   "cell_type": "code",
   "execution_count": 134,
   "metadata": {},
   "outputs": [],
   "source": [
    "ndob = entity[entity['nameDOB']=='XRSJUMZMA_EREAXMXJ_19010925']\n",
    "ndob = ndob.sort_values(by = 'date')\n",
    "ndob['num_of_record'] = list(range(1,int(len(ndob)+1)))\n",
    "ndob['dayofmonth'] = ndob['date'].dt.day"
   ]
  },
  {
   "cell_type": "code",
   "execution_count": 148,
   "metadata": {},
   "outputs": [
    {
     "data": {
      "image/png": "[encoded data removed]",
      "text/plain": [
       "<Figure size 432x288 with 1 Axes>"
      ]
     },
     "metadata": {
      "needs_background": "light"
     },
     "output_type": "display_data"
    }
   ],
   "source": [
    "plt.title('NameDOB XRSJUMZMA_EREAXMXJ_19010925')\n",
    "plt.plot(ndob['dayofmonth'], ndob['pro'],label = 'Fraud Score')\n",
    "plt.xticks([25,26], [25,26])\n",
    "plt.xlabel('Day in Month')\n",
    "plt.ylabel('Fraud Score')\n",
    "plt.show()"
   ]
  },
  {
   "cell_type": "code",
   "execution_count": 137,
   "metadata": {},
   "outputs": [
    {
     "data": {
      "image/png": "[encoded data removed]",
      "text/plain": [
       "<Figure size 432x288 with 1 Axes>"
      ]
     },
     "metadata": {
      "needs_background": "light"
     },
     "output_type": "display_data"
    }
   ],
   "source": [
    "plt.title('NameDOB XRSJUMZMA_EREAXMXJ_19010925')\n",
    "plt.plot(ndob['num_of_record'], ndob['pro'],label = 'Fraud Score')\n",
    "plt.xticks(range(1,len(ndob)+1), range(1,len(ndob)+1))\n",
    "plt.xlabel('Application Count with this nameDOB')\n",
    "plt.ylabel('Fraud Score')\n",
    "plt.show()"
   ]
  },
  {
   "cell_type": "code",
   "execution_count": 145,
   "metadata": {},
   "outputs": [],
   "source": [
    "ndbom = entity[entity['nameDOB']=='XRSJUMZMA_EREAXMXJ_19010925']\n",
    "ndbom = ndbom.sort_values(by = 'date')\n",
    "ndbom['num_of_record'] = list(range(1,int(len(ndbom)+1)))\n",
    "ndbom['month'] = ndbom['date'].dt.month"
   ]
  },
  {
   "cell_type": "code",
   "execution_count": 151,
   "metadata": {},
   "outputs": [
    {
     "data": {
      "image/png": "[encoded data removed]",
      "text/plain": [
       "<Figure size 432x288 with 1 Axes>"
      ]
     },
     "metadata": {
      "needs_background": "light"
     },
     "output_type": "display_data"
    }
   ],
   "source": [
    "plt.title('NameDOB XRSJUMZMA_EREAXMXJ_19010925')\n",
    "plt.plot(ndbom['month'], ndbom['pro'],label = 'Fraud Score')\n",
    "plt.xticks(range(1,13), ['Jan','Feb','Mar','Apr','May','June','July','Aug','Sep','Oct','Nov','Dec'])\n",
    "plt.xlabel('Month')\n",
    "plt.ylabel('Fraud Score')\n",
    "plt.show()"
   ]
  }
 ],
 "metadata": {
  "kernelspec": {
   "display_name": "Python 3",
   "language": "python",
   "name": "python3"
  },
  "language_info": {
   "codemirror_mode": {
    "name": "ipython",
    "version": 3
   },
   "file_extension": ".py",
   "mimetype": "text/x-python",
   "name": "python",
   "nbconvert_exporter": "python",
   "pygments_lexer": "ipython3",
   "version": "3.7.1"
  },
  "toc": {
   "base_numbering": 1,
   "nav_menu": {},
   "number_sections": true,
   "sideBar": true,
   "skip_h1_title": false,
   "title_cell": "Table of Contents",
   "title_sidebar": "Contents",
   "toc_cell": false,
   "toc_position": {},
   "toc_section_display": true,
   "toc_window_display": true
  }
 },
 "nbformat": 4,
 "nbformat_minor": 2
}
