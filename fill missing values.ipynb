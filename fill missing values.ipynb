{
 "cells": [
  {
   "cell_type": "code",
   "execution_count": 1,
   "metadata": {},
   "outputs": [],
   "source": [
    "import pandas as pd\n",
    "import numpy as np\n",
    "import scipy.stats as sps\n",
    "import matplotlib.pyplot as plt\n",
    "import seaborn as sns\n",
    "import sklearn as skl\n",
    "from sklearn import preprocessing\n",
    "from statistics import mode\n",
    "from numpy import median\n",
    "%matplotlib inline"
   ]
  },
  {
   "cell_type": "markdown",
   "metadata": {},
   "source": [
    "# Import data"
   ]
  },
  {
   "cell_type": "code",
   "execution_count": 2,
   "metadata": {
    "scrolled": false
   },
   "outputs": [
    {
     "name": "stdout",
     "output_type": "stream",
     "text": [
      "CPU times: user 5.11 s, sys: 712 ms, total: 5.82 s\n",
      "Wall time: 5.14 s\n"
     ]
    }
   ],
   "source": [
    "%%time\n",
    "mydata=pd.read_csv('NY property data.csv')"
   ]
  },
  {
   "cell_type": "markdown",
   "metadata": {},
   "source": [
    "# Assign modes to zipcodes"
   ]
  },
  {
   "cell_type": "code",
   "execution_count": 3,
   "metadata": {},
   "outputs": [],
   "source": [
    "def mods(i):\n",
    "    d = {}\n",
    "    for x in i:\n",
    "        d[x] = d.get(x, 0) +1\n",
    "   \n",
    "    return max(d, key = lambda k: d[k])"
   ]
  },
  {
   "cell_type": "code",
   "execution_count": 4,
   "metadata": {},
   "outputs": [],
   "source": [
    "d1=mydata[['ZIP','B','BLOCK','TAXCLASS']]\n",
    "count=d1.groupby(['B','TAXCLASS','BLOCK']).agg({'ZIP':[mods, 'count']})\n",
    "count2=d1.groupby(['B','TAXCLASS']).agg({'ZIP':[mods, 'count']})\n",
    "\n",
    "#count = count.head(20)"
   ]
  },
  {
   "cell_type": "code",
   "execution_count": 5,
   "metadata": {
    "scrolled": true
   },
   "outputs": [
    {
     "data": {
      "text/html": [
       "<div>\n",
       "<style scoped>\n",
       "    .dataframe tbody tr th:only-of-type {\n",
       "        vertical-align: middle;\n",
       "    }\n",
       "\n",
       "    .dataframe tbody tr th {\n",
       "        vertical-align: top;\n",
       "    }\n",
       "\n",
       "    .dataframe thead th {\n",
       "        text-align: right;\n",
       "    }\n",
       "</style>\n",
       "<table border=\"1\" class=\"dataframe\">\n",
       "  <thead>\n",
       "    <tr style=\"text-align: right;\">\n",
       "      <th></th>\n",
       "      <th>RECORD</th>\n",
       "      <th>BBLE</th>\n",
       "      <th>B</th>\n",
       "      <th>BLOCK</th>\n",
       "      <th>LOT</th>\n",
       "      <th>EASEMENT</th>\n",
       "      <th>OWNER</th>\n",
       "      <th>BLDGCL</th>\n",
       "      <th>TAXCLASS</th>\n",
       "      <th>LTFRONT</th>\n",
       "      <th>...</th>\n",
       "      <th>BLDFRONT</th>\n",
       "      <th>BLDDEPTH</th>\n",
       "      <th>AVLAND2</th>\n",
       "      <th>AVTOT2</th>\n",
       "      <th>EXLAND2</th>\n",
       "      <th>EXTOT2</th>\n",
       "      <th>EXCD2</th>\n",
       "      <th>PERIOD</th>\n",
       "      <th>YEAR</th>\n",
       "      <th>VALTYPE</th>\n",
       "    </tr>\n",
       "  </thead>\n",
       "  <tbody>\n",
       "    <tr>\n",
       "      <th>0</th>\n",
       "      <td>1</td>\n",
       "      <td>1000010101</td>\n",
       "      <td>1</td>\n",
       "      <td>1</td>\n",
       "      <td>101</td>\n",
       "      <td>NaN</td>\n",
       "      <td>U S GOVT LAND &amp; BLDGS</td>\n",
       "      <td>P7</td>\n",
       "      <td>4</td>\n",
       "      <td>500</td>\n",
       "      <td>...</td>\n",
       "      <td>0</td>\n",
       "      <td>0</td>\n",
       "      <td>3775500.0</td>\n",
       "      <td>8613000.0</td>\n",
       "      <td>3775500.0</td>\n",
       "      <td>8613000.0</td>\n",
       "      <td>NaN</td>\n",
       "      <td>FINAL</td>\n",
       "      <td>2010/11</td>\n",
       "      <td>AC-TR</td>\n",
       "    </tr>\n",
       "    <tr>\n",
       "      <th>1</th>\n",
       "      <td>2</td>\n",
       "      <td>1000010201</td>\n",
       "      <td>1</td>\n",
       "      <td>1</td>\n",
       "      <td>201</td>\n",
       "      <td>NaN</td>\n",
       "      <td>U S GOVT LAND &amp; BLDGS</td>\n",
       "      <td>Z9</td>\n",
       "      <td>4</td>\n",
       "      <td>27</td>\n",
       "      <td>...</td>\n",
       "      <td>0</td>\n",
       "      <td>0</td>\n",
       "      <td>11111400.0</td>\n",
       "      <td>80690400.0</td>\n",
       "      <td>11111400.0</td>\n",
       "      <td>80690400.0</td>\n",
       "      <td>NaN</td>\n",
       "      <td>FINAL</td>\n",
       "      <td>2010/11</td>\n",
       "      <td>AC-TR</td>\n",
       "    </tr>\n",
       "    <tr>\n",
       "      <th>2</th>\n",
       "      <td>3</td>\n",
       "      <td>1000020001</td>\n",
       "      <td>1</td>\n",
       "      <td>2</td>\n",
       "      <td>1</td>\n",
       "      <td>NaN</td>\n",
       "      <td>DEPT OF GENERAL SERVI</td>\n",
       "      <td>Y7</td>\n",
       "      <td>4</td>\n",
       "      <td>709</td>\n",
       "      <td>...</td>\n",
       "      <td>709</td>\n",
       "      <td>564</td>\n",
       "      <td>32321790.0</td>\n",
       "      <td>40179510.0</td>\n",
       "      <td>32321790.0</td>\n",
       "      <td>40179510.0</td>\n",
       "      <td>NaN</td>\n",
       "      <td>FINAL</td>\n",
       "      <td>2010/11</td>\n",
       "      <td>AC-TR</td>\n",
       "    </tr>\n",
       "    <tr>\n",
       "      <th>3</th>\n",
       "      <td>4</td>\n",
       "      <td>1000020023</td>\n",
       "      <td>1</td>\n",
       "      <td>2</td>\n",
       "      <td>23</td>\n",
       "      <td>NaN</td>\n",
       "      <td>DEPARTMENT OF BUSINES</td>\n",
       "      <td>T2</td>\n",
       "      <td>4</td>\n",
       "      <td>793</td>\n",
       "      <td>...</td>\n",
       "      <td>85</td>\n",
       "      <td>551</td>\n",
       "      <td>13644000.0</td>\n",
       "      <td>15750000.0</td>\n",
       "      <td>13644000.0</td>\n",
       "      <td>15750000.0</td>\n",
       "      <td>NaN</td>\n",
       "      <td>FINAL</td>\n",
       "      <td>2010/11</td>\n",
       "      <td>AC-TR</td>\n",
       "    </tr>\n",
       "    <tr>\n",
       "      <th>4</th>\n",
       "      <td>5</td>\n",
       "      <td>1000030001</td>\n",
       "      <td>1</td>\n",
       "      <td>3</td>\n",
       "      <td>1</td>\n",
       "      <td>NaN</td>\n",
       "      <td>PARKS AND RECREATION</td>\n",
       "      <td>Q1</td>\n",
       "      <td>4</td>\n",
       "      <td>323</td>\n",
       "      <td>...</td>\n",
       "      <td>89</td>\n",
       "      <td>57</td>\n",
       "      <td>106348680.0</td>\n",
       "      <td>107758350.0</td>\n",
       "      <td>106348680.0</td>\n",
       "      <td>107758350.0</td>\n",
       "      <td>NaN</td>\n",
       "      <td>FINAL</td>\n",
       "      <td>2010/11</td>\n",
       "      <td>AC-TR</td>\n",
       "    </tr>\n",
       "  </tbody>\n",
       "</table>\n",
       "<p>5 rows × 32 columns</p>\n",
       "</div>"
      ],
      "text/plain": [
       "   RECORD        BBLE  B  BLOCK  LOT EASEMENT                  OWNER BLDGCL  \\\n",
       "0       1  1000010101  1      1  101      NaN  U S GOVT LAND & BLDGS     P7   \n",
       "1       2  1000010201  1      1  201      NaN  U S GOVT LAND & BLDGS     Z9   \n",
       "2       3  1000020001  1      2    1      NaN  DEPT OF GENERAL SERVI     Y7   \n",
       "3       4  1000020023  1      2   23      NaN  DEPARTMENT OF BUSINES     T2   \n",
       "4       5  1000030001  1      3    1      NaN   PARKS AND RECREATION     Q1   \n",
       "\n",
       "  TAXCLASS  LTFRONT   ...    BLDFRONT BLDDEPTH      AVLAND2       AVTOT2  \\\n",
       "0        4      500   ...           0        0    3775500.0    8613000.0   \n",
       "1        4       27   ...           0        0   11111400.0   80690400.0   \n",
       "2        4      709   ...         709      564   32321790.0   40179510.0   \n",
       "3        4      793   ...          85      551   13644000.0   15750000.0   \n",
       "4        4      323   ...          89       57  106348680.0  107758350.0   \n",
       "\n",
       "       EXLAND2       EXTOT2  EXCD2  PERIOD     YEAR VALTYPE  \n",
       "0    3775500.0    8613000.0    NaN   FINAL  2010/11   AC-TR  \n",
       "1   11111400.0   80690400.0    NaN   FINAL  2010/11   AC-TR  \n",
       "2   32321790.0   40179510.0    NaN   FINAL  2010/11   AC-TR  \n",
       "3   13644000.0   15750000.0    NaN   FINAL  2010/11   AC-TR  \n",
       "4  106348680.0  107758350.0    NaN   FINAL  2010/11   AC-TR  \n",
       "\n",
       "[5 rows x 32 columns]"
      ]
     },
     "execution_count": 5,
     "metadata": {},
     "output_type": "execute_result"
    }
   ],
   "source": [
    "mydata.head()"
   ]
  },
  {
   "cell_type": "code",
   "execution_count": 6,
   "metadata": {
    "scrolled": true
   },
   "outputs": [
    {
     "name": "stderr",
     "output_type": "stream",
     "text": [
      "/Users/liana/anaconda3/lib/python3.7/site-packages/pandas/core/reshape/merge.py:544: UserWarning: merging between different levels can give an unintended result (1 levels on the left, 2 on the right)\n",
      "  warnings.warn(msg, UserWarning)\n",
      "/Users/liana/anaconda3/lib/python3.7/site-packages/pandas/core/reshape/merge.py:544: UserWarning: merging between different levels can give an unintended result (1 levels on the left, 2 on the right)\n",
      "  warnings.warn(msg, UserWarning)\n"
     ]
    }
   ],
   "source": [
    "mydata=mydata.merge(count, on = ['B', 'BLOCK','TAXCLASS'], suffixes = ['_x', '_y'])\n",
    "mydata = mydata.merge(count2, on = ['B','TAXCLASS'], suffixes = ['', '_z'])"
   ]
  },
  {
   "cell_type": "code",
   "execution_count": 7,
   "metadata": {},
   "outputs": [
    {
     "data": {
      "text/plain": [
       "['RECORD',\n",
       " 'BBLE',\n",
       " 'B',\n",
       " 'BLOCK',\n",
       " 'LOT',\n",
       " 'EASEMENT',\n",
       " 'OWNER',\n",
       " 'BLDGCL',\n",
       " 'TAXCLASS',\n",
       " 'LTFRONT',\n",
       " 'LTDEPTH',\n",
       " 'EXT',\n",
       " 'STORIES',\n",
       " 'FULLVAL',\n",
       " 'AVLAND',\n",
       " 'AVTOT',\n",
       " 'EXLAND',\n",
       " 'EXTOT',\n",
       " 'EXCD1',\n",
       " 'STADDR',\n",
       " 'ZIP',\n",
       " 'EXMPTCL',\n",
       " 'BLDFRONT',\n",
       " 'BLDDEPTH',\n",
       " 'AVLAND2',\n",
       " 'AVTOT2',\n",
       " 'EXLAND2',\n",
       " 'EXTOT2',\n",
       " 'EXCD2',\n",
       " 'PERIOD',\n",
       " 'YEAR',\n",
       " 'VALTYPE',\n",
       " \"('ZIP', 'mods')\",\n",
       " \"('ZIP', 'count')\",\n",
       " ('ZIP_z', 'mods'),\n",
       " ('ZIP_z', 'count')]"
      ]
     },
     "execution_count": 7,
     "metadata": {},
     "output_type": "execute_result"
    }
   ],
   "source": [
    "x = list(mydata.columns)\n",
    "x"
   ]
  },
  {
   "cell_type": "code",
   "execution_count": 8,
   "metadata": {},
   "outputs": [],
   "source": [
    "x[-1] = 'widecount'"
   ]
  },
  {
   "cell_type": "code",
   "execution_count": 9,
   "metadata": {},
   "outputs": [
    {
     "data": {
      "text/plain": [
       "['RECORD',\n",
       " 'BBLE',\n",
       " 'B',\n",
       " 'BLOCK',\n",
       " 'LOT',\n",
       " 'EASEMENT',\n",
       " 'OWNER',\n",
       " 'BLDGCL',\n",
       " 'TAXCLASS',\n",
       " 'LTFRONT',\n",
       " 'LTDEPTH',\n",
       " 'EXT',\n",
       " 'STORIES',\n",
       " 'FULLVAL',\n",
       " 'AVLAND',\n",
       " 'AVTOT',\n",
       " 'EXLAND',\n",
       " 'EXTOT',\n",
       " 'EXCD1',\n",
       " 'STADDR',\n",
       " 'ZIP',\n",
       " 'EXMPTCL',\n",
       " 'BLDFRONT',\n",
       " 'BLDDEPTH',\n",
       " 'AVLAND2',\n",
       " 'AVTOT2',\n",
       " 'EXLAND2',\n",
       " 'EXTOT2',\n",
       " 'EXCD2',\n",
       " 'PERIOD',\n",
       " 'YEAR',\n",
       " 'VALTYPE',\n",
       " 'mode',\n",
       " 'count',\n",
       " 'widemode',\n",
       " 'widecount']"
      ]
     },
     "execution_count": 9,
     "metadata": {},
     "output_type": "execute_result"
    }
   ],
   "source": [
    "x[-2] = 'widemode'\n",
    "x[-3] = 'count'\n",
    "x[-4] = 'mode'\n",
    "mydata.columns = x\n",
    "x"
   ]
  },
  {
   "cell_type": "code",
   "execution_count": 10,
   "metadata": {},
   "outputs": [
    {
     "name": "stdout",
     "output_type": "stream",
     "text": [
      "CPU times: user 16.3 s, sys: 169 ms, total: 16.4 s\n",
      "Wall time: 16 s\n"
     ]
    }
   ],
   "source": [
    "%%time\n",
    "m = mode(mydata['ZIP'])"
   ]
  },
  {
   "cell_type": "code",
   "execution_count": 11,
   "metadata": {},
   "outputs": [],
   "source": [
    "def compare(x):\n",
    "    \n",
    "    if x['present']:\n",
    "     #   print(2)\n",
    "        if int(x['count'])>= 10:\n",
    "            return x['mode']\n",
    "        \n",
    "        elif not np.isnan(x['widemode']):\n",
    "            return x['widemode']\n",
    "        else:\n",
    "            return m\n",
    "    return x['ZIP']"
   ]
  },
  {
   "cell_type": "code",
   "execution_count": 12,
   "metadata": {},
   "outputs": [],
   "source": [
    "#for i in range(len(mydata)):\n",
    "#    if np.isnan(mydata['ZIP'][i]):\n",
    "#        if int(mydata['count'][i])>=10:\n",
    "#            mydata['ZIP'][i]=mydata['mode'][i]\n",
    "#        else:\n",
    "#            mydata['ZIP'][i]=mydata['widemode'][i]\n",
    "#len(mydata[mydata['ZIP'].isna()==False]['ZIP'])"
   ]
  },
  {
   "cell_type": "code",
   "execution_count": 13,
   "metadata": {},
   "outputs": [],
   "source": [
    "mydata['present'] = mydata['ZIP'].isna()"
   ]
  },
  {
   "cell_type": "code",
   "execution_count": 14,
   "metadata": {},
   "outputs": [
    {
     "name": "stdout",
     "output_type": "stream",
     "text": [
      "CPU times: user 20.8 s, sys: 1.25 s, total: 22 s\n",
      "Wall time: 21.1 s\n"
     ]
    }
   ],
   "source": [
    "%%time\n",
    "mydata['ZIPS']  = mydata.apply(compare, axis = 1)"
   ]
  },
  {
   "cell_type": "code",
   "execution_count": 15,
   "metadata": {
    "scrolled": true
   },
   "outputs": [
    {
     "data": {
      "text/html": [
       "<div>\n",
       "<style scoped>\n",
       "    .dataframe tbody tr th:only-of-type {\n",
       "        vertical-align: middle;\n",
       "    }\n",
       "\n",
       "    .dataframe tbody tr th {\n",
       "        vertical-align: top;\n",
       "    }\n",
       "\n",
       "    .dataframe thead th {\n",
       "        text-align: right;\n",
       "    }\n",
       "</style>\n",
       "<table border=\"1\" class=\"dataframe\">\n",
       "  <thead>\n",
       "    <tr style=\"text-align: right;\">\n",
       "      <th></th>\n",
       "      <th>ZIPS</th>\n",
       "    </tr>\n",
       "  </thead>\n",
       "  <tbody>\n",
       "  </tbody>\n",
       "</table>\n",
       "</div>"
      ],
      "text/plain": [
       "Empty DataFrame\n",
       "Columns: [ZIPS]\n",
       "Index: []"
      ]
     },
     "execution_count": 15,
     "metadata": {},
     "output_type": "execute_result"
    }
   ],
   "source": [
    "# check\n",
    "mydata[np.isnan(mydata['ZIPS'])][['ZIPS']] "
   ]
  },
  {
   "cell_type": "code",
   "execution_count": 16,
   "metadata": {},
   "outputs": [],
   "source": [
    "mydata['ZIP'] = mydata['ZIPS'].apply(lambda x: str(int(x)))\n",
    "mydata['ZIP3'] = mydata['ZIP'].apply(lambda x: x[:3])\n",
    "mydata['ZIP4'] = mydata['ZIP'].apply(lambda x: x[:4])"
   ]
  },
  {
   "cell_type": "code",
   "execution_count": 17,
   "metadata": {},
   "outputs": [],
   "source": [
    "for x in ['BBLE','BLOCK', 'ZIPS','LOT', 'EASEMENT','OWNER','BLDGCL','EXT','EXLAND','EXTOT','EXCD1','STADDR','EXMPTCL','AVLAND2', 'AVTOT2', 'EXLAND2','EXTOT2','EXCD2','PERIOD','YEAR','VALTYPE','mode','count','widemode','widecount','present']:\n",
    "    del mydata[x]\n",
    "    \n",
    "    \n",
    "    "
   ]
  },
  {
   "cell_type": "code",
   "execution_count": 18,
   "metadata": {},
   "outputs": [],
   "source": [
    "#mydata_backup=mydata"
   ]
  },
  {
   "cell_type": "code",
   "execution_count": 19,
   "metadata": {},
   "outputs": [],
   "source": [
    "#mydata=mydata_backup"
   ]
  },
  {
   "cell_type": "markdown",
   "metadata": {},
   "source": [
    "# FILLING STORIES"
   ]
  },
  {
   "cell_type": "code",
   "execution_count": 20,
   "metadata": {},
   "outputs": [],
   "source": [
    "def nonzero(x):\n",
    "    l=[]\n",
    "    for i in x:\n",
    "        if i!=0 and np.isnan(i)==False:\n",
    "            l.append(float(i))\n",
    "    return np.median(l)"
   ]
  },
  {
   "cell_type": "code",
   "execution_count": 21,
   "metadata": {},
   "outputs": [
    {
     "name": "stderr",
     "output_type": "stream",
     "text": [
      "/Users/liana/anaconda3/lib/python3.7/site-packages/numpy/core/fromnumeric.py:2920: RuntimeWarning: Mean of empty slice.\n",
      "  out=out, **kwargs)\n",
      "/Users/liana/anaconda3/lib/python3.7/site-packages/numpy/core/_methods.py:85: RuntimeWarning: invalid value encountered in double_scalars\n",
      "  ret = ret.dtype.type(ret / rcount)\n",
      "/Users/liana/anaconda3/lib/python3.7/site-packages/pandas/core/reshape/merge.py:544: UserWarning: merging between different levels can give an unintended result (1 levels on the left, 2 on the right)\n",
      "  warnings.warn(msg, UserWarning)\n",
      "/Users/liana/anaconda3/lib/python3.7/site-packages/pandas/core/reshape/merge.py:544: UserWarning: merging between different levels can give an unintended result (1 levels on the left, 2 on the right)\n",
      "  warnings.warn(msg, UserWarning)\n"
     ]
    }
   ],
   "source": [
    "d2=mydata[['TAXCLASS','ZIP','STORIES']]\n",
    "count=d2.groupby(['ZIP','TAXCLASS']).agg({'STORIES':[nonzero, 'count']})\n",
    "count2=d2.groupby(['TAXCLASS']).agg({'STORIES':[nonzero, 'count']})\n",
    "mydata = mydata.merge(count, on = ['ZIP','TAXCLASS'],suffixes = ['_x', '_y'])\n",
    "mydata = mydata.merge(count2, on = ['TAXCLASS'],suffixes = ['', 'z'])\n",
    "x = list(mydata.columns)\n",
    "x[-1] = 'widecount'\n",
    "x[-2] = 'widemedian'\n",
    "x[-3] = 'count'\n",
    "x[-4] = 'median'\n",
    "mydata.columns = x\n",
    "m = mydata['STORIES'].median()\n"
   ]
  },
  {
   "cell_type": "code",
   "execution_count": 22,
   "metadata": {},
   "outputs": [],
   "source": [
    "def compare(x):\n",
    "    \n",
    "    if x['present']:\n",
    "     #   print(2)\n",
    "        if int(x['count'])>= 10:\n",
    "            return x['median']\n",
    "        \n",
    "        elif not np.isnan(x['widemedian']):\n",
    "            return x['widemedian']\n",
    "        else:\n",
    "            return m\n",
    "    return x['STORIES']\n",
    "mydata['present'] = mydata['STORIES'].isna()\n",
    "\n",
    "mydata['STORY']  = mydata.apply(compare, axis = 1)"
   ]
  },
  {
   "cell_type": "code",
   "execution_count": 23,
   "metadata": {},
   "outputs": [
    {
     "data": {
      "text/html": [
       "<div>\n",
       "<style scoped>\n",
       "    .dataframe tbody tr th:only-of-type {\n",
       "        vertical-align: middle;\n",
       "    }\n",
       "\n",
       "    .dataframe tbody tr th {\n",
       "        vertical-align: top;\n",
       "    }\n",
       "\n",
       "    .dataframe thead th {\n",
       "        text-align: right;\n",
       "    }\n",
       "</style>\n",
       "<table border=\"1\" class=\"dataframe\">\n",
       "  <thead>\n",
       "    <tr style=\"text-align: right;\">\n",
       "      <th></th>\n",
       "      <th>STORY</th>\n",
       "    </tr>\n",
       "  </thead>\n",
       "  <tbody>\n",
       "  </tbody>\n",
       "</table>\n",
       "</div>"
      ],
      "text/plain": [
       "Empty DataFrame\n",
       "Columns: [STORY]\n",
       "Index: []"
      ]
     },
     "execution_count": 23,
     "metadata": {},
     "output_type": "execute_result"
    }
   ],
   "source": [
    "mydata[np.isnan(mydata['STORY'])][['STORY']] "
   ]
  },
  {
   "cell_type": "code",
   "execution_count": 24,
   "metadata": {},
   "outputs": [],
   "source": [
    "mydata['STORIES']=mydata['STORY']"
   ]
  },
  {
   "cell_type": "code",
   "execution_count": 25,
   "metadata": {},
   "outputs": [],
   "source": [
    "for x in ['median', 'count', 'widemedian', 'widecount', 'present', 'STORY']:\n",
    "    del mydata[x]"
   ]
  },
  {
   "cell_type": "code",
   "execution_count": 26,
   "metadata": {},
   "outputs": [
    {
     "data": {
      "text/html": [
       "<div>\n",
       "<style scoped>\n",
       "    .dataframe tbody tr th:only-of-type {\n",
       "        vertical-align: middle;\n",
       "    }\n",
       "\n",
       "    .dataframe tbody tr th {\n",
       "        vertical-align: top;\n",
       "    }\n",
       "\n",
       "    .dataframe thead th {\n",
       "        text-align: right;\n",
       "    }\n",
       "</style>\n",
       "<table border=\"1\" class=\"dataframe\">\n",
       "  <thead>\n",
       "    <tr style=\"text-align: right;\">\n",
       "      <th></th>\n",
       "      <th>RECORD</th>\n",
       "      <th>B</th>\n",
       "      <th>TAXCLASS</th>\n",
       "      <th>LTFRONT</th>\n",
       "      <th>LTDEPTH</th>\n",
       "      <th>STORIES</th>\n",
       "      <th>FULLVAL</th>\n",
       "      <th>AVLAND</th>\n",
       "      <th>AVTOT</th>\n",
       "      <th>ZIP</th>\n",
       "      <th>BLDFRONT</th>\n",
       "      <th>BLDDEPTH</th>\n",
       "      <th>ZIP3</th>\n",
       "      <th>ZIP4</th>\n",
       "    </tr>\n",
       "  </thead>\n",
       "  <tbody>\n",
       "    <tr>\n",
       "      <th>0</th>\n",
       "      <td>1</td>\n",
       "      <td>1</td>\n",
       "      <td>4</td>\n",
       "      <td>500</td>\n",
       "      <td>1046</td>\n",
       "      <td>50.0</td>\n",
       "      <td>21400000.0</td>\n",
       "      <td>4225500.0</td>\n",
       "      <td>9630000.0</td>\n",
       "      <td>10004</td>\n",
       "      <td>0</td>\n",
       "      <td>0</td>\n",
       "      <td>100</td>\n",
       "      <td>1000</td>\n",
       "    </tr>\n",
       "    <tr>\n",
       "      <th>1</th>\n",
       "      <td>2</td>\n",
       "      <td>1</td>\n",
       "      <td>4</td>\n",
       "      <td>27</td>\n",
       "      <td>0</td>\n",
       "      <td>50.0</td>\n",
       "      <td>193800000.0</td>\n",
       "      <td>14310000.0</td>\n",
       "      <td>87210000.0</td>\n",
       "      <td>10004</td>\n",
       "      <td>0</td>\n",
       "      <td>0</td>\n",
       "      <td>100</td>\n",
       "      <td>1000</td>\n",
       "    </tr>\n",
       "    <tr>\n",
       "      <th>2</th>\n",
       "      <td>3</td>\n",
       "      <td>1</td>\n",
       "      <td>4</td>\n",
       "      <td>709</td>\n",
       "      <td>564</td>\n",
       "      <td>3.0</td>\n",
       "      <td>104686000.0</td>\n",
       "      <td>39008700.0</td>\n",
       "      <td>47108700.0</td>\n",
       "      <td>10004</td>\n",
       "      <td>709</td>\n",
       "      <td>564</td>\n",
       "      <td>100</td>\n",
       "      <td>1000</td>\n",
       "    </tr>\n",
       "    <tr>\n",
       "      <th>3</th>\n",
       "      <td>4</td>\n",
       "      <td>1</td>\n",
       "      <td>4</td>\n",
       "      <td>793</td>\n",
       "      <td>551</td>\n",
       "      <td>2.0</td>\n",
       "      <td>39200000.0</td>\n",
       "      <td>15255000.0</td>\n",
       "      <td>17640000.0</td>\n",
       "      <td>10004</td>\n",
       "      <td>85</td>\n",
       "      <td>551</td>\n",
       "      <td>100</td>\n",
       "      <td>1000</td>\n",
       "    </tr>\n",
       "    <tr>\n",
       "      <th>4</th>\n",
       "      <td>5</td>\n",
       "      <td>1</td>\n",
       "      <td>4</td>\n",
       "      <td>323</td>\n",
       "      <td>1260</td>\n",
       "      <td>1.0</td>\n",
       "      <td>272300000.0</td>\n",
       "      <td>121050000.0</td>\n",
       "      <td>122535000.0</td>\n",
       "      <td>10004</td>\n",
       "      <td>89</td>\n",
       "      <td>57</td>\n",
       "      <td>100</td>\n",
       "      <td>1000</td>\n",
       "    </tr>\n",
       "  </tbody>\n",
       "</table>\n",
       "</div>"
      ],
      "text/plain": [
       "   RECORD  B TAXCLASS  LTFRONT  LTDEPTH  STORIES      FULLVAL       AVLAND  \\\n",
       "0       1  1        4      500     1046     50.0   21400000.0    4225500.0   \n",
       "1       2  1        4       27        0     50.0  193800000.0   14310000.0   \n",
       "2       3  1        4      709      564      3.0  104686000.0   39008700.0   \n",
       "3       4  1        4      793      551      2.0   39200000.0   15255000.0   \n",
       "4       5  1        4      323     1260      1.0  272300000.0  121050000.0   \n",
       "\n",
       "         AVTOT    ZIP  BLDFRONT  BLDDEPTH ZIP3  ZIP4  \n",
       "0    9630000.0  10004         0         0  100  1000  \n",
       "1   87210000.0  10004         0         0  100  1000  \n",
       "2   47108700.0  10004       709       564  100  1000  \n",
       "3   17640000.0  10004        85       551  100  1000  \n",
       "4  122535000.0  10004        89        57  100  1000  "
      ]
     },
     "execution_count": 26,
     "metadata": {},
     "output_type": "execute_result"
    }
   ],
   "source": [
    "mydata.head(5)"
   ]
  },
  {
   "cell_type": "code",
   "execution_count": 27,
   "metadata": {},
   "outputs": [],
   "source": [
    "#mydata_backup2=mydata"
   ]
  },
  {
   "cell_type": "code",
   "execution_count": 28,
   "metadata": {},
   "outputs": [],
   "source": [
    "#mydata=mydata_backup2"
   ]
  },
  {
   "cell_type": "markdown",
   "metadata": {},
   "source": [
    "# Filling FULLVAL"
   ]
  },
  {
   "cell_type": "code",
   "execution_count": 29,
   "metadata": {},
   "outputs": [],
   "source": [
    "def nonzero(x):\n",
    "    l=[]\n",
    "    for i in x:\n",
    "        if i!=0 and np.isnan(i)==False:\n",
    "            l.append(i)\n",
    "    return np.median(l)"
   ]
  },
  {
   "cell_type": "code",
   "execution_count": 30,
   "metadata": {},
   "outputs": [
    {
     "name": "stderr",
     "output_type": "stream",
     "text": [
      "/Users/liana/anaconda3/lib/python3.7/site-packages/numpy/core/fromnumeric.py:2920: RuntimeWarning: Mean of empty slice.\n",
      "  out=out, **kwargs)\n",
      "/Users/liana/anaconda3/lib/python3.7/site-packages/numpy/core/_methods.py:85: RuntimeWarning: invalid value encountered in double_scalars\n",
      "  ret = ret.dtype.type(ret / rcount)\n",
      "/Users/liana/anaconda3/lib/python3.7/site-packages/pandas/core/reshape/merge.py:544: UserWarning: merging between different levels can give an unintended result (1 levels on the left, 2 on the right)\n",
      "  warnings.warn(msg, UserWarning)\n",
      "/Users/liana/anaconda3/lib/python3.7/site-packages/pandas/core/reshape/merge.py:544: UserWarning: merging between different levels can give an unintended result (1 levels on the left, 2 on the right)\n",
      "  warnings.warn(msg, UserWarning)\n"
     ]
    },
    {
     "name": "stdout",
     "output_type": "stream",
     "text": [
      "CPU times: user 10.6 s, sys: 354 ms, total: 11 s\n",
      "Wall time: 8.02 s\n"
     ]
    },
    {
     "name": "stderr",
     "output_type": "stream",
     "text": [
      "/Users/liana/anaconda3/lib/python3.7/site-packages/pandas/core/reshape/merge.py:544: UserWarning: merging between different levels can give an unintended result (1 levels on the left, 2 on the right)\n",
      "  warnings.warn(msg, UserWarning)\n"
     ]
    }
   ],
   "source": [
    "%%time\n",
    "d3=mydata[['TAXCLASS','ZIP','ZIP3','FULLVAL']]\n",
    "count=d3.groupby(['ZIP','TAXCLASS']).agg({'FULLVAL':[nonzero, 'count']})\n",
    "count2=d3.groupby(['ZIP3','TAXCLASS']).agg({'FULLVAL':[nonzero]})\n",
    "# After groupping by zip3 and taxclass, there are some groups have less than 5 records and the median is NaN\n",
    "# Thus, group by taxclass only to avoid NaN\n",
    "count3=d3.groupby(['TAXCLASS']).agg({'FULLVAL':[nonzero]})\n",
    "mydata = mydata.merge(count, on = ['ZIP','TAXCLASS'],suffixes = ['_x', '_y'])\n",
    "mydata = mydata.merge(count2, on = ['ZIP3','TAXCLASS'],suffixes = ['', 'z'])\n",
    "mydata = mydata.merge(count3, on = ['TAXCLASS'])\n",
    "x = list(mydata.columns)\n",
    "x[-1] = 'widestmedian'\n",
    "x[-2] = 'widermedian'\n",
    "x[-3] = 'count'\n",
    "x[-4] = 'median'\n",
    "mydata.columns = x\n",
    "m=mydata['FULLVAL'].median()"
   ]
  },
  {
   "cell_type": "code",
   "execution_count": 31,
   "metadata": {},
   "outputs": [],
   "source": [
    "\n",
    "def compare(x):\n",
    "    \n",
    "    if (x['present']==True) or (float(x['FULLVAL'])==0):\n",
    "     #   print(2)\n",
    "        if int(x['count'])>= 10 and (not np.isnan(x['median'])):\n",
    "            return x['median']\n",
    "        elif not np.isnan(x['widermedian']):\n",
    "            return x['widermedian']\n",
    "        elif not np.isnan(x['widestmedian']):\n",
    "            return x['widestmedian']\n",
    "        else:\n",
    "            return m\n",
    "    return x['FULLVAL']\n",
    "mydata['present'] = mydata['FULLVAL'].isna()"
   ]
  },
  {
   "cell_type": "code",
   "execution_count": 32,
   "metadata": {},
   "outputs": [
    {
     "name": "stdout",
     "output_type": "stream",
     "text": [
      "CPU times: user 25 s, sys: 541 ms, total: 25.5 s\n",
      "Wall time: 24.8 s\n"
     ]
    }
   ],
   "source": [
    "%%time\n",
    "mydata['FULLVAL2']  = mydata.apply(compare, axis = 1)"
   ]
  },
  {
   "cell_type": "code",
   "execution_count": 33,
   "metadata": {
    "scrolled": true
   },
   "outputs": [
    {
     "data": {
      "text/html": [
       "<div>\n",
       "<style scoped>\n",
       "    .dataframe tbody tr th:only-of-type {\n",
       "        vertical-align: middle;\n",
       "    }\n",
       "\n",
       "    .dataframe tbody tr th {\n",
       "        vertical-align: top;\n",
       "    }\n",
       "\n",
       "    .dataframe thead th {\n",
       "        text-align: right;\n",
       "    }\n",
       "</style>\n",
       "<table border=\"1\" class=\"dataframe\">\n",
       "  <thead>\n",
       "    <tr style=\"text-align: right;\">\n",
       "      <th></th>\n",
       "      <th>FULLVAL2</th>\n",
       "    </tr>\n",
       "  </thead>\n",
       "  <tbody>\n",
       "  </tbody>\n",
       "</table>\n",
       "</div>"
      ],
      "text/plain": [
       "Empty DataFrame\n",
       "Columns: [FULLVAL2]\n",
       "Index: []"
      ]
     },
     "execution_count": 33,
     "metadata": {},
     "output_type": "execute_result"
    }
   ],
   "source": [
    "mydata[np.isnan(mydata['FULLVAL2'])][['FULLVAL2']] "
   ]
  },
  {
   "cell_type": "code",
   "execution_count": 34,
   "metadata": {},
   "outputs": [],
   "source": [
    "mydata['FULLVAL']=mydata['FULLVAL2']\n",
    "for x in ['median', 'count', 'widermedian', 'widestmedian', 'present','FULLVAL2']:\n",
    "    del mydata[x]"
   ]
  },
  {
   "cell_type": "code",
   "execution_count": 35,
   "metadata": {},
   "outputs": [
    {
     "data": {
      "text/html": [
       "<div>\n",
       "<style scoped>\n",
       "    .dataframe tbody tr th:only-of-type {\n",
       "        vertical-align: middle;\n",
       "    }\n",
       "\n",
       "    .dataframe tbody tr th {\n",
       "        vertical-align: top;\n",
       "    }\n",
       "\n",
       "    .dataframe thead th {\n",
       "        text-align: right;\n",
       "    }\n",
       "</style>\n",
       "<table border=\"1\" class=\"dataframe\">\n",
       "  <thead>\n",
       "    <tr style=\"text-align: right;\">\n",
       "      <th></th>\n",
       "      <th>RECORD</th>\n",
       "      <th>B</th>\n",
       "      <th>TAXCLASS</th>\n",
       "      <th>LTFRONT</th>\n",
       "      <th>LTDEPTH</th>\n",
       "      <th>STORIES</th>\n",
       "      <th>FULLVAL</th>\n",
       "      <th>AVLAND</th>\n",
       "      <th>AVTOT</th>\n",
       "      <th>ZIP</th>\n",
       "      <th>BLDFRONT</th>\n",
       "      <th>BLDDEPTH</th>\n",
       "      <th>ZIP3</th>\n",
       "      <th>ZIP4</th>\n",
       "    </tr>\n",
       "  </thead>\n",
       "  <tbody>\n",
       "    <tr>\n",
       "      <th>0</th>\n",
       "      <td>1</td>\n",
       "      <td>1</td>\n",
       "      <td>4</td>\n",
       "      <td>500</td>\n",
       "      <td>1046</td>\n",
       "      <td>50.0</td>\n",
       "      <td>21400000.0</td>\n",
       "      <td>4225500.0</td>\n",
       "      <td>9630000.0</td>\n",
       "      <td>10004</td>\n",
       "      <td>0</td>\n",
       "      <td>0</td>\n",
       "      <td>100</td>\n",
       "      <td>1000</td>\n",
       "    </tr>\n",
       "    <tr>\n",
       "      <th>1</th>\n",
       "      <td>2</td>\n",
       "      <td>1</td>\n",
       "      <td>4</td>\n",
       "      <td>27</td>\n",
       "      <td>0</td>\n",
       "      <td>50.0</td>\n",
       "      <td>193800000.0</td>\n",
       "      <td>14310000.0</td>\n",
       "      <td>87210000.0</td>\n",
       "      <td>10004</td>\n",
       "      <td>0</td>\n",
       "      <td>0</td>\n",
       "      <td>100</td>\n",
       "      <td>1000</td>\n",
       "    </tr>\n",
       "    <tr>\n",
       "      <th>2</th>\n",
       "      <td>3</td>\n",
       "      <td>1</td>\n",
       "      <td>4</td>\n",
       "      <td>709</td>\n",
       "      <td>564</td>\n",
       "      <td>3.0</td>\n",
       "      <td>104686000.0</td>\n",
       "      <td>39008700.0</td>\n",
       "      <td>47108700.0</td>\n",
       "      <td>10004</td>\n",
       "      <td>709</td>\n",
       "      <td>564</td>\n",
       "      <td>100</td>\n",
       "      <td>1000</td>\n",
       "    </tr>\n",
       "    <tr>\n",
       "      <th>3</th>\n",
       "      <td>4</td>\n",
       "      <td>1</td>\n",
       "      <td>4</td>\n",
       "      <td>793</td>\n",
       "      <td>551</td>\n",
       "      <td>2.0</td>\n",
       "      <td>39200000.0</td>\n",
       "      <td>15255000.0</td>\n",
       "      <td>17640000.0</td>\n",
       "      <td>10004</td>\n",
       "      <td>85</td>\n",
       "      <td>551</td>\n",
       "      <td>100</td>\n",
       "      <td>1000</td>\n",
       "    </tr>\n",
       "    <tr>\n",
       "      <th>4</th>\n",
       "      <td>5</td>\n",
       "      <td>1</td>\n",
       "      <td>4</td>\n",
       "      <td>323</td>\n",
       "      <td>1260</td>\n",
       "      <td>1.0</td>\n",
       "      <td>272300000.0</td>\n",
       "      <td>121050000.0</td>\n",
       "      <td>122535000.0</td>\n",
       "      <td>10004</td>\n",
       "      <td>89</td>\n",
       "      <td>57</td>\n",
       "      <td>100</td>\n",
       "      <td>1000</td>\n",
       "    </tr>\n",
       "  </tbody>\n",
       "</table>\n",
       "</div>"
      ],
      "text/plain": [
       "   RECORD  B TAXCLASS  LTFRONT  LTDEPTH  STORIES      FULLVAL       AVLAND  \\\n",
       "0       1  1        4      500     1046     50.0   21400000.0    4225500.0   \n",
       "1       2  1        4       27        0     50.0  193800000.0   14310000.0   \n",
       "2       3  1        4      709      564      3.0  104686000.0   39008700.0   \n",
       "3       4  1        4      793      551      2.0   39200000.0   15255000.0   \n",
       "4       5  1        4      323     1260      1.0  272300000.0  121050000.0   \n",
       "\n",
       "         AVTOT    ZIP  BLDFRONT  BLDDEPTH ZIP3  ZIP4  \n",
       "0    9630000.0  10004         0         0  100  1000  \n",
       "1   87210000.0  10004         0         0  100  1000  \n",
       "2   47108700.0  10004       709       564  100  1000  \n",
       "3   17640000.0  10004        85       551  100  1000  \n",
       "4  122535000.0  10004        89        57  100  1000  "
      ]
     },
     "execution_count": 35,
     "metadata": {},
     "output_type": "execute_result"
    }
   ],
   "source": [
    "mydata.head(5)"
   ]
  },
  {
   "cell_type": "code",
   "execution_count": 36,
   "metadata": {},
   "outputs": [],
   "source": [
    "#mydata_backup3=mydata"
   ]
  },
  {
   "cell_type": "code",
   "execution_count": 37,
   "metadata": {},
   "outputs": [],
   "source": [
    "#mydata=mydata_backup3"
   ]
  },
  {
   "cell_type": "markdown",
   "metadata": {},
   "source": [
    "# Filling AVLAND"
   ]
  },
  {
   "cell_type": "code",
   "execution_count": 38,
   "metadata": {},
   "outputs": [
    {
     "name": "stderr",
     "output_type": "stream",
     "text": [
      "/Users/liana/anaconda3/lib/python3.7/site-packages/numpy/core/fromnumeric.py:2920: RuntimeWarning: Mean of empty slice.\n",
      "  out=out, **kwargs)\n",
      "/Users/liana/anaconda3/lib/python3.7/site-packages/numpy/core/_methods.py:85: RuntimeWarning: invalid value encountered in double_scalars\n",
      "  ret = ret.dtype.type(ret / rcount)\n",
      "/Users/liana/anaconda3/lib/python3.7/site-packages/pandas/core/reshape/merge.py:544: UserWarning: merging between different levels can give an unintended result (1 levels on the left, 2 on the right)\n",
      "  warnings.warn(msg, UserWarning)\n",
      "/Users/liana/anaconda3/lib/python3.7/site-packages/pandas/core/reshape/merge.py:544: UserWarning: merging between different levels can give an unintended result (1 levels on the left, 2 on the right)\n",
      "  warnings.warn(msg, UserWarning)\n",
      "/Users/liana/anaconda3/lib/python3.7/site-packages/pandas/core/reshape/merge.py:544: UserWarning: merging between different levels can give an unintended result (1 levels on the left, 2 on the right)\n",
      "  warnings.warn(msg, UserWarning)\n"
     ]
    }
   ],
   "source": [
    "d4=mydata[['TAXCLASS','ZIP','ZIP3','AVLAND']]\n",
    "count=d4.groupby(['ZIP','TAXCLASS']).agg({'AVLAND':[nonzero, 'count']})\n",
    "count2=d4.groupby(['ZIP3','TAXCLASS']).agg({'AVLAND':[nonzero]})\n",
    "# After groupping by zip3 and taxclass, there are some groups have less than 5 records and the median is NaN\n",
    "# Thus, group by taxclass only to avoid NaN\n",
    "count3=d4.groupby(['TAXCLASS']).agg({'AVLAND':[nonzero]})\n",
    "mydata = mydata.merge(count, on = ['ZIP','TAXCLASS'],suffixes = ['_x', '_y'])\n",
    "mydata = mydata.merge(count2, on = ['ZIP3','TAXCLASS'],suffixes = ['', 'z'])\n",
    "mydata = mydata.merge(count3, on = ['TAXCLASS'])\n",
    "x = list(mydata.columns)\n",
    "x[-1] = 'widestmedian'\n",
    "x[-2] = 'widermedian'\n",
    "x[-3] = 'count'\n",
    "x[-4] = 'median'\n",
    "mydata.columns = x\n",
    "m=mydata['AVLAND'].median()"
   ]
  },
  {
   "cell_type": "code",
   "execution_count": 39,
   "metadata": {},
   "outputs": [],
   "source": [
    "\n",
    "def compare(x):\n",
    "    \n",
    "    if (x['present']==True) or (float(x['AVLAND'])==0):\n",
    "     #   print(2)\n",
    "        if int(x['count'])>= 10 and (not np.isnan(x['median'])):\n",
    "            return x['median']\n",
    "        elif not np.isnan(x['widermedian']):\n",
    "            return x['widermedian']\n",
    "        elif not np.isnan(x['widestmedian']):\n",
    "            return x['widestmedian']\n",
    "        else:\n",
    "            return m\n",
    "    return x['AVLAND']\n",
    "mydata['present'] = mydata['AVLAND'].isna()\n",
    "\n",
    "mydata['AVLAND2']  = mydata.apply(compare, axis = 1)"
   ]
  },
  {
   "cell_type": "code",
   "execution_count": 40,
   "metadata": {
    "scrolled": true
   },
   "outputs": [
    {
     "data": {
      "text/html": [
       "<div>\n",
       "<style scoped>\n",
       "    .dataframe tbody tr th:only-of-type {\n",
       "        vertical-align: middle;\n",
       "    }\n",
       "\n",
       "    .dataframe tbody tr th {\n",
       "        vertical-align: top;\n",
       "    }\n",
       "\n",
       "    .dataframe thead th {\n",
       "        text-align: right;\n",
       "    }\n",
       "</style>\n",
       "<table border=\"1\" class=\"dataframe\">\n",
       "  <thead>\n",
       "    <tr style=\"text-align: right;\">\n",
       "      <th></th>\n",
       "      <th>AVLAND2</th>\n",
       "    </tr>\n",
       "  </thead>\n",
       "  <tbody>\n",
       "  </tbody>\n",
       "</table>\n",
       "</div>"
      ],
      "text/plain": [
       "Empty DataFrame\n",
       "Columns: [AVLAND2]\n",
       "Index: []"
      ]
     },
     "execution_count": 40,
     "metadata": {},
     "output_type": "execute_result"
    }
   ],
   "source": [
    "mydata[np.isnan(mydata['AVLAND2'])][['AVLAND2']] "
   ]
  },
  {
   "cell_type": "code",
   "execution_count": 41,
   "metadata": {},
   "outputs": [],
   "source": [
    "mydata['AVLAND']=mydata['AVLAND2']"
   ]
  },
  {
   "cell_type": "code",
   "execution_count": 42,
   "metadata": {},
   "outputs": [],
   "source": [
    "for x in [ 'median', 'count', 'widermedian', 'widestmedian', 'present', 'AVLAND2']:\n",
    "    del mydata[x]"
   ]
  },
  {
   "cell_type": "code",
   "execution_count": 43,
   "metadata": {},
   "outputs": [
    {
     "data": {
      "text/html": [
       "<div>\n",
       "<style scoped>\n",
       "    .dataframe tbody tr th:only-of-type {\n",
       "        vertical-align: middle;\n",
       "    }\n",
       "\n",
       "    .dataframe tbody tr th {\n",
       "        vertical-align: top;\n",
       "    }\n",
       "\n",
       "    .dataframe thead th {\n",
       "        text-align: right;\n",
       "    }\n",
       "</style>\n",
       "<table border=\"1\" class=\"dataframe\">\n",
       "  <thead>\n",
       "    <tr style=\"text-align: right;\">\n",
       "      <th></th>\n",
       "      <th>RECORD</th>\n",
       "      <th>B</th>\n",
       "      <th>TAXCLASS</th>\n",
       "      <th>LTFRONT</th>\n",
       "      <th>LTDEPTH</th>\n",
       "      <th>STORIES</th>\n",
       "      <th>FULLVAL</th>\n",
       "      <th>AVLAND</th>\n",
       "      <th>AVTOT</th>\n",
       "      <th>ZIP</th>\n",
       "      <th>BLDFRONT</th>\n",
       "      <th>BLDDEPTH</th>\n",
       "      <th>ZIP3</th>\n",
       "      <th>ZIP4</th>\n",
       "    </tr>\n",
       "  </thead>\n",
       "  <tbody>\n",
       "    <tr>\n",
       "      <th>0</th>\n",
       "      <td>1</td>\n",
       "      <td>1</td>\n",
       "      <td>4</td>\n",
       "      <td>500</td>\n",
       "      <td>1046</td>\n",
       "      <td>50.0</td>\n",
       "      <td>21400000.0</td>\n",
       "      <td>4225500.0</td>\n",
       "      <td>9630000.0</td>\n",
       "      <td>10004</td>\n",
       "      <td>0</td>\n",
       "      <td>0</td>\n",
       "      <td>100</td>\n",
       "      <td>1000</td>\n",
       "    </tr>\n",
       "    <tr>\n",
       "      <th>1</th>\n",
       "      <td>2</td>\n",
       "      <td>1</td>\n",
       "      <td>4</td>\n",
       "      <td>27</td>\n",
       "      <td>0</td>\n",
       "      <td>50.0</td>\n",
       "      <td>193800000.0</td>\n",
       "      <td>14310000.0</td>\n",
       "      <td>87210000.0</td>\n",
       "      <td>10004</td>\n",
       "      <td>0</td>\n",
       "      <td>0</td>\n",
       "      <td>100</td>\n",
       "      <td>1000</td>\n",
       "    </tr>\n",
       "    <tr>\n",
       "      <th>2</th>\n",
       "      <td>3</td>\n",
       "      <td>1</td>\n",
       "      <td>4</td>\n",
       "      <td>709</td>\n",
       "      <td>564</td>\n",
       "      <td>3.0</td>\n",
       "      <td>104686000.0</td>\n",
       "      <td>39008700.0</td>\n",
       "      <td>47108700.0</td>\n",
       "      <td>10004</td>\n",
       "      <td>709</td>\n",
       "      <td>564</td>\n",
       "      <td>100</td>\n",
       "      <td>1000</td>\n",
       "    </tr>\n",
       "    <tr>\n",
       "      <th>3</th>\n",
       "      <td>4</td>\n",
       "      <td>1</td>\n",
       "      <td>4</td>\n",
       "      <td>793</td>\n",
       "      <td>551</td>\n",
       "      <td>2.0</td>\n",
       "      <td>39200000.0</td>\n",
       "      <td>15255000.0</td>\n",
       "      <td>17640000.0</td>\n",
       "      <td>10004</td>\n",
       "      <td>85</td>\n",
       "      <td>551</td>\n",
       "      <td>100</td>\n",
       "      <td>1000</td>\n",
       "    </tr>\n",
       "    <tr>\n",
       "      <th>4</th>\n",
       "      <td>5</td>\n",
       "      <td>1</td>\n",
       "      <td>4</td>\n",
       "      <td>323</td>\n",
       "      <td>1260</td>\n",
       "      <td>1.0</td>\n",
       "      <td>272300000.0</td>\n",
       "      <td>121050000.0</td>\n",
       "      <td>122535000.0</td>\n",
       "      <td>10004</td>\n",
       "      <td>89</td>\n",
       "      <td>57</td>\n",
       "      <td>100</td>\n",
       "      <td>1000</td>\n",
       "    </tr>\n",
       "  </tbody>\n",
       "</table>\n",
       "</div>"
      ],
      "text/plain": [
       "   RECORD  B TAXCLASS  LTFRONT  LTDEPTH  STORIES      FULLVAL       AVLAND  \\\n",
       "0       1  1        4      500     1046     50.0   21400000.0    4225500.0   \n",
       "1       2  1        4       27        0     50.0  193800000.0   14310000.0   \n",
       "2       3  1        4      709      564      3.0  104686000.0   39008700.0   \n",
       "3       4  1        4      793      551      2.0   39200000.0   15255000.0   \n",
       "4       5  1        4      323     1260      1.0  272300000.0  121050000.0   \n",
       "\n",
       "         AVTOT    ZIP  BLDFRONT  BLDDEPTH ZIP3  ZIP4  \n",
       "0    9630000.0  10004         0         0  100  1000  \n",
       "1   87210000.0  10004         0         0  100  1000  \n",
       "2   47108700.0  10004       709       564  100  1000  \n",
       "3   17640000.0  10004        85       551  100  1000  \n",
       "4  122535000.0  10004        89        57  100  1000  "
      ]
     },
     "execution_count": 43,
     "metadata": {},
     "output_type": "execute_result"
    }
   ],
   "source": [
    "mydata.head(5)"
   ]
  },
  {
   "cell_type": "code",
   "execution_count": 44,
   "metadata": {},
   "outputs": [],
   "source": [
    "mydata_backup4=mydata"
   ]
  },
  {
   "cell_type": "markdown",
   "metadata": {},
   "source": [
    "# Filling AVTOT"
   ]
  },
  {
   "cell_type": "code",
   "execution_count": 45,
   "metadata": {},
   "outputs": [
    {
     "name": "stderr",
     "output_type": "stream",
     "text": [
      "/Users/liana/anaconda3/lib/python3.7/site-packages/numpy/core/fromnumeric.py:2920: RuntimeWarning: Mean of empty slice.\n",
      "  out=out, **kwargs)\n",
      "/Users/liana/anaconda3/lib/python3.7/site-packages/numpy/core/_methods.py:85: RuntimeWarning: invalid value encountered in double_scalars\n",
      "  ret = ret.dtype.type(ret / rcount)\n",
      "/Users/liana/anaconda3/lib/python3.7/site-packages/pandas/core/reshape/merge.py:544: UserWarning: merging between different levels can give an unintended result (1 levels on the left, 2 on the right)\n",
      "  warnings.warn(msg, UserWarning)\n",
      "/Users/liana/anaconda3/lib/python3.7/site-packages/pandas/core/reshape/merge.py:544: UserWarning: merging between different levels can give an unintended result (1 levels on the left, 2 on the right)\n",
      "  warnings.warn(msg, UserWarning)\n",
      "/Users/liana/anaconda3/lib/python3.7/site-packages/pandas/core/reshape/merge.py:544: UserWarning: merging between different levels can give an unintended result (1 levels on the left, 2 on the right)\n",
      "  warnings.warn(msg, UserWarning)\n"
     ]
    }
   ],
   "source": [
    "d4=mydata[['TAXCLASS','ZIP','ZIP3','AVTOT']]\n",
    "count=d4.groupby(['ZIP','TAXCLASS']).agg({'AVTOT':[nonzero, 'count']})\n",
    "count2=d4.groupby(['ZIP3','TAXCLASS']).agg({'AVTOT':[nonzero]})\n",
    "# After groupping by zip3 and taxclass, there are some groups have less than 5 records and the median is NaN\n",
    "# Thus, group by taxclass only to avoid NaN\n",
    "count3=d4.groupby(['TAXCLASS']).agg({'AVTOT':[nonzero]})\n",
    "mydata = mydata.merge(count, on = ['ZIP','TAXCLASS'],suffixes = ['_x', '_y'])\n",
    "mydata = mydata.merge(count2, on = ['ZIP3','TAXCLASS'],suffixes = ['', 'z'])\n",
    "mydata = mydata.merge(count3, on = ['TAXCLASS'])\n",
    "x = list(mydata.columns)\n",
    "x[-1] = 'widestmedian'\n",
    "x[-2] = 'widermedian'\n",
    "x[-3] = 'count'\n",
    "x[-4] = 'median'\n",
    "mydata.columns = x\n",
    "m=mydata['AVTOT'].median()"
   ]
  },
  {
   "cell_type": "code",
   "execution_count": 46,
   "metadata": {},
   "outputs": [],
   "source": [
    "\n",
    "def compare(x):\n",
    "    \n",
    "    if (x['present']==True) or (float(x['AVTOT'])==0):\n",
    "     #   print(2)\n",
    "        if int(x['count'])>= 10 and (not np.isnan(x['median'])):\n",
    "            return x['median']\n",
    "        elif not np.isnan(x['widermedian']):\n",
    "            return x['widermedian']\n",
    "        elif not np.isnan(x['widestmedian']):\n",
    "            return x['widestmedian']\n",
    "        else:\n",
    "            return m\n",
    "    return x['AVTOT']\n",
    "\n",
    "mydata['present'] = mydata['AVTOT'].isna()\n",
    "mydata['AVTOT2']  = mydata.apply(compare, axis = 1)"
   ]
  },
  {
   "cell_type": "code",
   "execution_count": 47,
   "metadata": {},
   "outputs": [
    {
     "data": {
      "text/html": [
       "<div>\n",
       "<style scoped>\n",
       "    .dataframe tbody tr th:only-of-type {\n",
       "        vertical-align: middle;\n",
       "    }\n",
       "\n",
       "    .dataframe tbody tr th {\n",
       "        vertical-align: top;\n",
       "    }\n",
       "\n",
       "    .dataframe thead th {\n",
       "        text-align: right;\n",
       "    }\n",
       "</style>\n",
       "<table border=\"1\" class=\"dataframe\">\n",
       "  <thead>\n",
       "    <tr style=\"text-align: right;\">\n",
       "      <th></th>\n",
       "      <th>AVTOT2</th>\n",
       "    </tr>\n",
       "  </thead>\n",
       "  <tbody>\n",
       "  </tbody>\n",
       "</table>\n",
       "</div>"
      ],
      "text/plain": [
       "Empty DataFrame\n",
       "Columns: [AVTOT2]\n",
       "Index: []"
      ]
     },
     "execution_count": 47,
     "metadata": {},
     "output_type": "execute_result"
    }
   ],
   "source": [
    "mydata[np.isnan(mydata['AVTOT2'])][['AVTOT2']] "
   ]
  },
  {
   "cell_type": "code",
   "execution_count": 48,
   "metadata": {},
   "outputs": [],
   "source": [
    "mydata['AVTOT']=mydata['AVTOT2']\n",
    "for x in [ 'median', 'count', 'widermedian', 'widestmedian', 'present', 'AVTOT2']:\n",
    "    del mydata[x]"
   ]
  },
  {
   "cell_type": "code",
   "execution_count": 49,
   "metadata": {},
   "outputs": [
    {
     "data": {
      "text/html": [
       "<div>\n",
       "<style scoped>\n",
       "    .dataframe tbody tr th:only-of-type {\n",
       "        vertical-align: middle;\n",
       "    }\n",
       "\n",
       "    .dataframe tbody tr th {\n",
       "        vertical-align: top;\n",
       "    }\n",
       "\n",
       "    .dataframe thead th {\n",
       "        text-align: right;\n",
       "    }\n",
       "</style>\n",
       "<table border=\"1\" class=\"dataframe\">\n",
       "  <thead>\n",
       "    <tr style=\"text-align: right;\">\n",
       "      <th></th>\n",
       "      <th>RECORD</th>\n",
       "      <th>B</th>\n",
       "      <th>TAXCLASS</th>\n",
       "      <th>LTFRONT</th>\n",
       "      <th>LTDEPTH</th>\n",
       "      <th>STORIES</th>\n",
       "      <th>FULLVAL</th>\n",
       "      <th>AVLAND</th>\n",
       "      <th>AVTOT</th>\n",
       "      <th>ZIP</th>\n",
       "      <th>BLDFRONT</th>\n",
       "      <th>BLDDEPTH</th>\n",
       "      <th>ZIP3</th>\n",
       "      <th>ZIP4</th>\n",
       "    </tr>\n",
       "  </thead>\n",
       "  <tbody>\n",
       "    <tr>\n",
       "      <th>0</th>\n",
       "      <td>1</td>\n",
       "      <td>1</td>\n",
       "      <td>4</td>\n",
       "      <td>500</td>\n",
       "      <td>1046</td>\n",
       "      <td>50.0</td>\n",
       "      <td>21400000.0</td>\n",
       "      <td>4225500.0</td>\n",
       "      <td>9630000.0</td>\n",
       "      <td>10004</td>\n",
       "      <td>0</td>\n",
       "      <td>0</td>\n",
       "      <td>100</td>\n",
       "      <td>1000</td>\n",
       "    </tr>\n",
       "    <tr>\n",
       "      <th>1</th>\n",
       "      <td>2</td>\n",
       "      <td>1</td>\n",
       "      <td>4</td>\n",
       "      <td>27</td>\n",
       "      <td>0</td>\n",
       "      <td>50.0</td>\n",
       "      <td>193800000.0</td>\n",
       "      <td>14310000.0</td>\n",
       "      <td>87210000.0</td>\n",
       "      <td>10004</td>\n",
       "      <td>0</td>\n",
       "      <td>0</td>\n",
       "      <td>100</td>\n",
       "      <td>1000</td>\n",
       "    </tr>\n",
       "    <tr>\n",
       "      <th>2</th>\n",
       "      <td>3</td>\n",
       "      <td>1</td>\n",
       "      <td>4</td>\n",
       "      <td>709</td>\n",
       "      <td>564</td>\n",
       "      <td>3.0</td>\n",
       "      <td>104686000.0</td>\n",
       "      <td>39008700.0</td>\n",
       "      <td>47108700.0</td>\n",
       "      <td>10004</td>\n",
       "      <td>709</td>\n",
       "      <td>564</td>\n",
       "      <td>100</td>\n",
       "      <td>1000</td>\n",
       "    </tr>\n",
       "    <tr>\n",
       "      <th>3</th>\n",
       "      <td>4</td>\n",
       "      <td>1</td>\n",
       "      <td>4</td>\n",
       "      <td>793</td>\n",
       "      <td>551</td>\n",
       "      <td>2.0</td>\n",
       "      <td>39200000.0</td>\n",
       "      <td>15255000.0</td>\n",
       "      <td>17640000.0</td>\n",
       "      <td>10004</td>\n",
       "      <td>85</td>\n",
       "      <td>551</td>\n",
       "      <td>100</td>\n",
       "      <td>1000</td>\n",
       "    </tr>\n",
       "    <tr>\n",
       "      <th>4</th>\n",
       "      <td>5</td>\n",
       "      <td>1</td>\n",
       "      <td>4</td>\n",
       "      <td>323</td>\n",
       "      <td>1260</td>\n",
       "      <td>1.0</td>\n",
       "      <td>272300000.0</td>\n",
       "      <td>121050000.0</td>\n",
       "      <td>122535000.0</td>\n",
       "      <td>10004</td>\n",
       "      <td>89</td>\n",
       "      <td>57</td>\n",
       "      <td>100</td>\n",
       "      <td>1000</td>\n",
       "    </tr>\n",
       "  </tbody>\n",
       "</table>\n",
       "</div>"
      ],
      "text/plain": [
       "   RECORD  B TAXCLASS  LTFRONT  LTDEPTH  STORIES      FULLVAL       AVLAND  \\\n",
       "0       1  1        4      500     1046     50.0   21400000.0    4225500.0   \n",
       "1       2  1        4       27        0     50.0  193800000.0   14310000.0   \n",
       "2       3  1        4      709      564      3.0  104686000.0   39008700.0   \n",
       "3       4  1        4      793      551      2.0   39200000.0   15255000.0   \n",
       "4       5  1        4      323     1260      1.0  272300000.0  121050000.0   \n",
       "\n",
       "         AVTOT    ZIP  BLDFRONT  BLDDEPTH ZIP3  ZIP4  \n",
       "0    9630000.0  10004         0         0  100  1000  \n",
       "1   87210000.0  10004         0         0  100  1000  \n",
       "2   47108700.0  10004       709       564  100  1000  \n",
       "3   17640000.0  10004        85       551  100  1000  \n",
       "4  122535000.0  10004        89        57  100  1000  "
      ]
     },
     "execution_count": 49,
     "metadata": {},
     "output_type": "execute_result"
    }
   ],
   "source": [
    "mydata.head(5)"
   ]
  },
  {
   "cell_type": "code",
   "execution_count": 50,
   "metadata": {},
   "outputs": [],
   "source": [
    "#mydata_backup5=mydata"
   ]
  },
  {
   "cell_type": "markdown",
   "metadata": {},
   "source": [
    "# Filling LTFRONT"
   ]
  },
  {
   "cell_type": "code",
   "execution_count": 51,
   "metadata": {
    "scrolled": true
   },
   "outputs": [
    {
     "name": "stderr",
     "output_type": "stream",
     "text": [
      "/Users/liana/anaconda3/lib/python3.7/site-packages/numpy/core/fromnumeric.py:2920: RuntimeWarning: Mean of empty slice.\n",
      "  out=out, **kwargs)\n",
      "/Users/liana/anaconda3/lib/python3.7/site-packages/numpy/core/_methods.py:85: RuntimeWarning: invalid value encountered in double_scalars\n",
      "  ret = ret.dtype.type(ret / rcount)\n",
      "/Users/liana/anaconda3/lib/python3.7/site-packages/pandas/core/reshape/merge.py:544: UserWarning: merging between different levels can give an unintended result (1 levels on the left, 2 on the right)\n",
      "  warnings.warn(msg, UserWarning)\n",
      "/Users/liana/anaconda3/lib/python3.7/site-packages/pandas/core/reshape/merge.py:544: UserWarning: merging between different levels can give an unintended result (1 levels on the left, 2 on the right)\n",
      "  warnings.warn(msg, UserWarning)\n"
     ]
    }
   ],
   "source": [
    "d5=mydata[['TAXCLASS','ZIP','B','LTFRONT']]\n",
    "count=d5.groupby(['ZIP','TAXCLASS']).agg({'LTFRONT':[nonzero, 'count']})\n",
    "count2=d5.groupby(['B','TAXCLASS']).agg({'LTFRONT':[nonzero]})\n",
    "mydata = mydata.merge(count, on = ['ZIP','TAXCLASS'],suffixes = ['_x', '_y'])\n",
    "mydata = mydata.merge(count2, on = ['B','TAXCLASS'],suffixes = ['', 'z'])\n",
    "\n",
    "x = list(mydata.columns)\n",
    "x[-1] = 'widemedian'\n",
    "x[-2] = 'count'\n",
    "x[-3] = 'median'\n",
    "mydata.columns = x\n",
    "m=mydata['LTFRONT'].median()"
   ]
  },
  {
   "cell_type": "code",
   "execution_count": 52,
   "metadata": {},
   "outputs": [],
   "source": [
    "def compare(x):\n",
    "    \n",
    "    if (x['present']==True) or (float(x['LTFRONT'])==0):\n",
    "     #   print(2)\n",
    "        if int(x['count'])>= 20 and (not np.isnan(x['median'])):\n",
    "            return x['median']\n",
    "        elif not np.isnan(x['widemedian']):\n",
    "            return x['widemedian']\n",
    "        else:\n",
    "            return m\n",
    "    return x['LTFRONT']\n",
    "\n",
    "mydata['present'] = mydata['LTFRONT'].isna()\n",
    "mydata['LTFRONT2']  = mydata.apply(compare, axis = 1)"
   ]
  },
  {
   "cell_type": "code",
   "execution_count": 53,
   "metadata": {},
   "outputs": [
    {
     "data": {
      "text/html": [
       "<div>\n",
       "<style scoped>\n",
       "    .dataframe tbody tr th:only-of-type {\n",
       "        vertical-align: middle;\n",
       "    }\n",
       "\n",
       "    .dataframe tbody tr th {\n",
       "        vertical-align: top;\n",
       "    }\n",
       "\n",
       "    .dataframe thead th {\n",
       "        text-align: right;\n",
       "    }\n",
       "</style>\n",
       "<table border=\"1\" class=\"dataframe\">\n",
       "  <thead>\n",
       "    <tr style=\"text-align: right;\">\n",
       "      <th></th>\n",
       "      <th>LTFRONT2</th>\n",
       "    </tr>\n",
       "  </thead>\n",
       "  <tbody>\n",
       "  </tbody>\n",
       "</table>\n",
       "</div>"
      ],
      "text/plain": [
       "Empty DataFrame\n",
       "Columns: [LTFRONT2]\n",
       "Index: []"
      ]
     },
     "execution_count": 53,
     "metadata": {},
     "output_type": "execute_result"
    }
   ],
   "source": [
    "#check\n",
    "mydata[np.isnan(mydata['LTFRONT2'])][['LTFRONT2']] "
   ]
  },
  {
   "cell_type": "code",
   "execution_count": 54,
   "metadata": {},
   "outputs": [],
   "source": [
    "mydata['LTFRONT']=mydata['LTFRONT2']\n",
    "for x in [ 'median', 'count', 'widemedian', 'present', 'LTFRONT2']:\n",
    "    del mydata[x]"
   ]
  },
  {
   "cell_type": "code",
   "execution_count": 55,
   "metadata": {},
   "outputs": [
    {
     "data": {
      "text/html": [
       "<div>\n",
       "<style scoped>\n",
       "    .dataframe tbody tr th:only-of-type {\n",
       "        vertical-align: middle;\n",
       "    }\n",
       "\n",
       "    .dataframe tbody tr th {\n",
       "        vertical-align: top;\n",
       "    }\n",
       "\n",
       "    .dataframe thead th {\n",
       "        text-align: right;\n",
       "    }\n",
       "</style>\n",
       "<table border=\"1\" class=\"dataframe\">\n",
       "  <thead>\n",
       "    <tr style=\"text-align: right;\">\n",
       "      <th></th>\n",
       "      <th>RECORD</th>\n",
       "      <th>B</th>\n",
       "      <th>TAXCLASS</th>\n",
       "      <th>LTFRONT</th>\n",
       "      <th>LTDEPTH</th>\n",
       "      <th>STORIES</th>\n",
       "      <th>FULLVAL</th>\n",
       "      <th>AVLAND</th>\n",
       "      <th>AVTOT</th>\n",
       "      <th>ZIP</th>\n",
       "      <th>BLDFRONT</th>\n",
       "      <th>BLDDEPTH</th>\n",
       "      <th>ZIP3</th>\n",
       "      <th>ZIP4</th>\n",
       "    </tr>\n",
       "  </thead>\n",
       "  <tbody>\n",
       "    <tr>\n",
       "      <th>0</th>\n",
       "      <td>1</td>\n",
       "      <td>1</td>\n",
       "      <td>4</td>\n",
       "      <td>500.0</td>\n",
       "      <td>1046</td>\n",
       "      <td>50.0</td>\n",
       "      <td>21400000.0</td>\n",
       "      <td>4225500.0</td>\n",
       "      <td>9630000.0</td>\n",
       "      <td>10004</td>\n",
       "      <td>0</td>\n",
       "      <td>0</td>\n",
       "      <td>100</td>\n",
       "      <td>1000</td>\n",
       "    </tr>\n",
       "    <tr>\n",
       "      <th>1</th>\n",
       "      <td>2</td>\n",
       "      <td>1</td>\n",
       "      <td>4</td>\n",
       "      <td>27.0</td>\n",
       "      <td>0</td>\n",
       "      <td>50.0</td>\n",
       "      <td>193800000.0</td>\n",
       "      <td>14310000.0</td>\n",
       "      <td>87210000.0</td>\n",
       "      <td>10004</td>\n",
       "      <td>0</td>\n",
       "      <td>0</td>\n",
       "      <td>100</td>\n",
       "      <td>1000</td>\n",
       "    </tr>\n",
       "    <tr>\n",
       "      <th>2</th>\n",
       "      <td>3</td>\n",
       "      <td>1</td>\n",
       "      <td>4</td>\n",
       "      <td>709.0</td>\n",
       "      <td>564</td>\n",
       "      <td>3.0</td>\n",
       "      <td>104686000.0</td>\n",
       "      <td>39008700.0</td>\n",
       "      <td>47108700.0</td>\n",
       "      <td>10004</td>\n",
       "      <td>709</td>\n",
       "      <td>564</td>\n",
       "      <td>100</td>\n",
       "      <td>1000</td>\n",
       "    </tr>\n",
       "    <tr>\n",
       "      <th>3</th>\n",
       "      <td>4</td>\n",
       "      <td>1</td>\n",
       "      <td>4</td>\n",
       "      <td>793.0</td>\n",
       "      <td>551</td>\n",
       "      <td>2.0</td>\n",
       "      <td>39200000.0</td>\n",
       "      <td>15255000.0</td>\n",
       "      <td>17640000.0</td>\n",
       "      <td>10004</td>\n",
       "      <td>85</td>\n",
       "      <td>551</td>\n",
       "      <td>100</td>\n",
       "      <td>1000</td>\n",
       "    </tr>\n",
       "    <tr>\n",
       "      <th>4</th>\n",
       "      <td>5</td>\n",
       "      <td>1</td>\n",
       "      <td>4</td>\n",
       "      <td>323.0</td>\n",
       "      <td>1260</td>\n",
       "      <td>1.0</td>\n",
       "      <td>272300000.0</td>\n",
       "      <td>121050000.0</td>\n",
       "      <td>122535000.0</td>\n",
       "      <td>10004</td>\n",
       "      <td>89</td>\n",
       "      <td>57</td>\n",
       "      <td>100</td>\n",
       "      <td>1000</td>\n",
       "    </tr>\n",
       "  </tbody>\n",
       "</table>\n",
       "</div>"
      ],
      "text/plain": [
       "   RECORD  B TAXCLASS  LTFRONT  LTDEPTH  STORIES      FULLVAL       AVLAND  \\\n",
       "0       1  1        4    500.0     1046     50.0   21400000.0    4225500.0   \n",
       "1       2  1        4     27.0        0     50.0  193800000.0   14310000.0   \n",
       "2       3  1        4    709.0      564      3.0  104686000.0   39008700.0   \n",
       "3       4  1        4    793.0      551      2.0   39200000.0   15255000.0   \n",
       "4       5  1        4    323.0     1260      1.0  272300000.0  121050000.0   \n",
       "\n",
       "         AVTOT    ZIP  BLDFRONT  BLDDEPTH ZIP3  ZIP4  \n",
       "0    9630000.0  10004         0         0  100  1000  \n",
       "1   87210000.0  10004         0         0  100  1000  \n",
       "2   47108700.0  10004       709       564  100  1000  \n",
       "3   17640000.0  10004        85       551  100  1000  \n",
       "4  122535000.0  10004        89        57  100  1000  "
      ]
     },
     "execution_count": 55,
     "metadata": {},
     "output_type": "execute_result"
    }
   ],
   "source": [
    "mydata.head(5)"
   ]
  },
  {
   "cell_type": "code",
   "execution_count": 56,
   "metadata": {},
   "outputs": [],
   "source": [
    "#mydata_backup6=mydata"
   ]
  },
  {
   "cell_type": "code",
   "execution_count": 57,
   "metadata": {},
   "outputs": [],
   "source": [
    "#mydata=mydata_backup6"
   ]
  },
  {
   "cell_type": "markdown",
   "metadata": {},
   "source": [
    "# Filling LTDEPTH"
   ]
  },
  {
   "cell_type": "code",
   "execution_count": 58,
   "metadata": {},
   "outputs": [
    {
     "name": "stderr",
     "output_type": "stream",
     "text": [
      "/Users/liana/anaconda3/lib/python3.7/site-packages/numpy/core/fromnumeric.py:2920: RuntimeWarning: Mean of empty slice.\n",
      "  out=out, **kwargs)\n",
      "/Users/liana/anaconda3/lib/python3.7/site-packages/numpy/core/_methods.py:85: RuntimeWarning: invalid value encountered in double_scalars\n",
      "  ret = ret.dtype.type(ret / rcount)\n",
      "/Users/liana/anaconda3/lib/python3.7/site-packages/pandas/core/reshape/merge.py:544: UserWarning: merging between different levels can give an unintended result (1 levels on the left, 2 on the right)\n",
      "  warnings.warn(msg, UserWarning)\n",
      "/Users/liana/anaconda3/lib/python3.7/site-packages/pandas/core/reshape/merge.py:544: UserWarning: merging between different levels can give an unintended result (1 levels on the left, 2 on the right)\n",
      "  warnings.warn(msg, UserWarning)\n"
     ]
    }
   ],
   "source": [
    "d6=mydata[['TAXCLASS','ZIP','B','LTDEPTH']]\n",
    "count=d6.groupby(['ZIP','TAXCLASS']).agg({'LTDEPTH':[nonzero, 'count']})\n",
    "count2=d6.groupby(['B','TAXCLASS']).agg({'LTDEPTH':[nonzero]})\n",
    "mydata = mydata.merge(count, on = ['ZIP','TAXCLASS'],suffixes = ['_x', '_y'])\n",
    "mydata = mydata.merge(count2, on = ['B','TAXCLASS'],suffixes = ['', 'z'])\n",
    "\n",
    "x = list(mydata.columns)\n",
    "x[-1] = 'widemedian'\n",
    "x[-2] = 'count'\n",
    "x[-3] = 'median'\n",
    "mydata.columns = x\n",
    "m=mydata['LTDEPTH'].median()"
   ]
  },
  {
   "cell_type": "code",
   "execution_count": 59,
   "metadata": {},
   "outputs": [],
   "source": [
    "def compare(x):\n",
    "    \n",
    "    if (x['present']==True) or (float(x['LTDEPTH'])==0):\n",
    "     #   print(2)\n",
    "        if int(x['count'])>= 20 and (not np.isnan(x['median'])):\n",
    "            return x['median']\n",
    "        elif not np.isnan(x['widemedian']):\n",
    "            return x['widemedian']\n",
    "        else:\n",
    "            return m\n",
    "    return x['LTDEPTH']\n",
    "\n",
    "mydata['present'] = mydata['LTDEPTH'].isna()\n",
    "mydata['LTDEPTH2']  = mydata.apply(compare, axis = 1)"
   ]
  },
  {
   "cell_type": "code",
   "execution_count": 60,
   "metadata": {
    "scrolled": true
   },
   "outputs": [
    {
     "data": {
      "text/html": [
       "<div>\n",
       "<style scoped>\n",
       "    .dataframe tbody tr th:only-of-type {\n",
       "        vertical-align: middle;\n",
       "    }\n",
       "\n",
       "    .dataframe tbody tr th {\n",
       "        vertical-align: top;\n",
       "    }\n",
       "\n",
       "    .dataframe thead th {\n",
       "        text-align: right;\n",
       "    }\n",
       "</style>\n",
       "<table border=\"1\" class=\"dataframe\">\n",
       "  <thead>\n",
       "    <tr style=\"text-align: right;\">\n",
       "      <th></th>\n",
       "      <th>LTDEPTH2</th>\n",
       "    </tr>\n",
       "  </thead>\n",
       "  <tbody>\n",
       "  </tbody>\n",
       "</table>\n",
       "</div>"
      ],
      "text/plain": [
       "Empty DataFrame\n",
       "Columns: [LTDEPTH2]\n",
       "Index: []"
      ]
     },
     "execution_count": 60,
     "metadata": {},
     "output_type": "execute_result"
    }
   ],
   "source": [
    "#check\n",
    "mydata[np.isnan(mydata['LTDEPTH2'])][['LTDEPTH2']] "
   ]
  },
  {
   "cell_type": "code",
   "execution_count": 61,
   "metadata": {},
   "outputs": [
    {
     "data": {
      "text/html": [
       "<div>\n",
       "<style scoped>\n",
       "    .dataframe tbody tr th:only-of-type {\n",
       "        vertical-align: middle;\n",
       "    }\n",
       "\n",
       "    .dataframe tbody tr th {\n",
       "        vertical-align: top;\n",
       "    }\n",
       "\n",
       "    .dataframe thead th {\n",
       "        text-align: right;\n",
       "    }\n",
       "</style>\n",
       "<table border=\"1\" class=\"dataframe\">\n",
       "  <thead>\n",
       "    <tr style=\"text-align: right;\">\n",
       "      <th></th>\n",
       "      <th>RECORD</th>\n",
       "      <th>B</th>\n",
       "      <th>TAXCLASS</th>\n",
       "      <th>LTFRONT</th>\n",
       "      <th>LTDEPTH</th>\n",
       "      <th>STORIES</th>\n",
       "      <th>FULLVAL</th>\n",
       "      <th>AVLAND</th>\n",
       "      <th>AVTOT</th>\n",
       "      <th>ZIP</th>\n",
       "      <th>BLDFRONT</th>\n",
       "      <th>BLDDEPTH</th>\n",
       "      <th>ZIP3</th>\n",
       "      <th>ZIP4</th>\n",
       "    </tr>\n",
       "  </thead>\n",
       "  <tbody>\n",
       "    <tr>\n",
       "      <th>0</th>\n",
       "      <td>1</td>\n",
       "      <td>1</td>\n",
       "      <td>4</td>\n",
       "      <td>500.0</td>\n",
       "      <td>1046.0</td>\n",
       "      <td>50.0</td>\n",
       "      <td>21400000.0</td>\n",
       "      <td>4225500.0</td>\n",
       "      <td>9630000.0</td>\n",
       "      <td>10004</td>\n",
       "      <td>0</td>\n",
       "      <td>0</td>\n",
       "      <td>100</td>\n",
       "      <td>1000</td>\n",
       "    </tr>\n",
       "    <tr>\n",
       "      <th>1</th>\n",
       "      <td>2</td>\n",
       "      <td>1</td>\n",
       "      <td>4</td>\n",
       "      <td>27.0</td>\n",
       "      <td>207.0</td>\n",
       "      <td>50.0</td>\n",
       "      <td>193800000.0</td>\n",
       "      <td>14310000.0</td>\n",
       "      <td>87210000.0</td>\n",
       "      <td>10004</td>\n",
       "      <td>0</td>\n",
       "      <td>0</td>\n",
       "      <td>100</td>\n",
       "      <td>1000</td>\n",
       "    </tr>\n",
       "    <tr>\n",
       "      <th>2</th>\n",
       "      <td>3</td>\n",
       "      <td>1</td>\n",
       "      <td>4</td>\n",
       "      <td>709.0</td>\n",
       "      <td>564.0</td>\n",
       "      <td>3.0</td>\n",
       "      <td>104686000.0</td>\n",
       "      <td>39008700.0</td>\n",
       "      <td>47108700.0</td>\n",
       "      <td>10004</td>\n",
       "      <td>709</td>\n",
       "      <td>564</td>\n",
       "      <td>100</td>\n",
       "      <td>1000</td>\n",
       "    </tr>\n",
       "    <tr>\n",
       "      <th>3</th>\n",
       "      <td>4</td>\n",
       "      <td>1</td>\n",
       "      <td>4</td>\n",
       "      <td>793.0</td>\n",
       "      <td>551.0</td>\n",
       "      <td>2.0</td>\n",
       "      <td>39200000.0</td>\n",
       "      <td>15255000.0</td>\n",
       "      <td>17640000.0</td>\n",
       "      <td>10004</td>\n",
       "      <td>85</td>\n",
       "      <td>551</td>\n",
       "      <td>100</td>\n",
       "      <td>1000</td>\n",
       "    </tr>\n",
       "    <tr>\n",
       "      <th>4</th>\n",
       "      <td>5</td>\n",
       "      <td>1</td>\n",
       "      <td>4</td>\n",
       "      <td>323.0</td>\n",
       "      <td>1260.0</td>\n",
       "      <td>1.0</td>\n",
       "      <td>272300000.0</td>\n",
       "      <td>121050000.0</td>\n",
       "      <td>122535000.0</td>\n",
       "      <td>10004</td>\n",
       "      <td>89</td>\n",
       "      <td>57</td>\n",
       "      <td>100</td>\n",
       "      <td>1000</td>\n",
       "    </tr>\n",
       "  </tbody>\n",
       "</table>\n",
       "</div>"
      ],
      "text/plain": [
       "   RECORD  B TAXCLASS  LTFRONT  LTDEPTH  STORIES      FULLVAL       AVLAND  \\\n",
       "0       1  1        4    500.0   1046.0     50.0   21400000.0    4225500.0   \n",
       "1       2  1        4     27.0    207.0     50.0  193800000.0   14310000.0   \n",
       "2       3  1        4    709.0    564.0      3.0  104686000.0   39008700.0   \n",
       "3       4  1        4    793.0    551.0      2.0   39200000.0   15255000.0   \n",
       "4       5  1        4    323.0   1260.0      1.0  272300000.0  121050000.0   \n",
       "\n",
       "         AVTOT    ZIP  BLDFRONT  BLDDEPTH ZIP3  ZIP4  \n",
       "0    9630000.0  10004         0         0  100  1000  \n",
       "1   87210000.0  10004         0         0  100  1000  \n",
       "2   47108700.0  10004       709       564  100  1000  \n",
       "3   17640000.0  10004        85       551  100  1000  \n",
       "4  122535000.0  10004        89        57  100  1000  "
      ]
     },
     "execution_count": 61,
     "metadata": {},
     "output_type": "execute_result"
    }
   ],
   "source": [
    "mydata['LTDEPTH']=mydata['LTDEPTH2']\n",
    "for x in [ 'median', 'count', 'widemedian', 'present', 'LTDEPTH2']:\n",
    "    del mydata[x]\n",
    "mydata.head(5)"
   ]
  },
  {
   "cell_type": "code",
   "execution_count": 62,
   "metadata": {},
   "outputs": [],
   "source": [
    "#mydata_backup7=mydata"
   ]
  },
  {
   "cell_type": "markdown",
   "metadata": {},
   "source": [
    "# Filling BLDFRONT"
   ]
  },
  {
   "cell_type": "code",
   "execution_count": 63,
   "metadata": {},
   "outputs": [
    {
     "name": "stderr",
     "output_type": "stream",
     "text": [
      "/Users/liana/anaconda3/lib/python3.7/site-packages/numpy/core/fromnumeric.py:2920: RuntimeWarning: Mean of empty slice.\n",
      "  out=out, **kwargs)\n",
      "/Users/liana/anaconda3/lib/python3.7/site-packages/numpy/core/_methods.py:85: RuntimeWarning: invalid value encountered in double_scalars\n",
      "  ret = ret.dtype.type(ret / rcount)\n",
      "/Users/liana/anaconda3/lib/python3.7/site-packages/pandas/core/reshape/merge.py:544: UserWarning: merging between different levels can give an unintended result (1 levels on the left, 2 on the right)\n",
      "  warnings.warn(msg, UserWarning)\n",
      "/Users/liana/anaconda3/lib/python3.7/site-packages/pandas/core/reshape/merge.py:544: UserWarning: merging between different levels can give an unintended result (1 levels on the left, 2 on the right)\n",
      "  warnings.warn(msg, UserWarning)\n"
     ]
    }
   ],
   "source": [
    "d7=mydata[['TAXCLASS','ZIP','B','BLDFRONT']]\n",
    "count=d7.groupby(['ZIP','TAXCLASS']).agg({'BLDFRONT':[nonzero, 'count']})\n",
    "count2=d7.groupby(['B','TAXCLASS']).agg({'BLDFRONT':[nonzero]})\n",
    "mydata = mydata.merge(count, on = ['ZIP','TAXCLASS'],suffixes = ['_x', '_y'])\n",
    "mydata = mydata.merge(count2, on = ['B','TAXCLASS'],suffixes = ['', 'z'])\n",
    "\n",
    "x = list(mydata.columns)\n",
    "x[-1] = 'widemedian'\n",
    "x[-2] = 'count'\n",
    "x[-3] = 'median'\n",
    "mydata.columns = x\n",
    "m=mydata['BLDFRONT'].median()"
   ]
  },
  {
   "cell_type": "code",
   "execution_count": 64,
   "metadata": {},
   "outputs": [],
   "source": [
    "def compare(x):\n",
    "    \n",
    "    if (x['present']==True) or (float(x['BLDFRONT'])==0):\n",
    "     #   print(2)\n",
    "        if int(x['count'])>= 20 and (not np.isnan(x['median'])):\n",
    "            return x['median']\n",
    "        elif not np.isnan(x['widemedian']):\n",
    "            return x['widemedian']\n",
    "        else:\n",
    "            return m\n",
    "    return x['BLDFRONT']\n",
    "\n",
    "mydata['present'] = mydata['BLDFRONT'].isna()\n",
    "mydata['BLDFRONT2']  = mydata.apply(compare, axis = 1)"
   ]
  },
  {
   "cell_type": "code",
   "execution_count": 65,
   "metadata": {},
   "outputs": [
    {
     "data": {
      "text/html": [
       "<div>\n",
       "<style scoped>\n",
       "    .dataframe tbody tr th:only-of-type {\n",
       "        vertical-align: middle;\n",
       "    }\n",
       "\n",
       "    .dataframe tbody tr th {\n",
       "        vertical-align: top;\n",
       "    }\n",
       "\n",
       "    .dataframe thead th {\n",
       "        text-align: right;\n",
       "    }\n",
       "</style>\n",
       "<table border=\"1\" class=\"dataframe\">\n",
       "  <thead>\n",
       "    <tr style=\"text-align: right;\">\n",
       "      <th></th>\n",
       "      <th>BLDFRONT2</th>\n",
       "    </tr>\n",
       "  </thead>\n",
       "  <tbody>\n",
       "  </tbody>\n",
       "</table>\n",
       "</div>"
      ],
      "text/plain": [
       "Empty DataFrame\n",
       "Columns: [BLDFRONT2]\n",
       "Index: []"
      ]
     },
     "execution_count": 65,
     "metadata": {},
     "output_type": "execute_result"
    }
   ],
   "source": [
    "mydata[np.isnan(mydata['BLDFRONT2'])][['BLDFRONT2']] "
   ]
  },
  {
   "cell_type": "code",
   "execution_count": 66,
   "metadata": {},
   "outputs": [
    {
     "data": {
      "text/html": [
       "<div>\n",
       "<style scoped>\n",
       "    .dataframe tbody tr th:only-of-type {\n",
       "        vertical-align: middle;\n",
       "    }\n",
       "\n",
       "    .dataframe tbody tr th {\n",
       "        vertical-align: top;\n",
       "    }\n",
       "\n",
       "    .dataframe thead th {\n",
       "        text-align: right;\n",
       "    }\n",
       "</style>\n",
       "<table border=\"1\" class=\"dataframe\">\n",
       "  <thead>\n",
       "    <tr style=\"text-align: right;\">\n",
       "      <th></th>\n",
       "      <th>RECORD</th>\n",
       "      <th>B</th>\n",
       "      <th>TAXCLASS</th>\n",
       "      <th>LTFRONT</th>\n",
       "      <th>LTDEPTH</th>\n",
       "      <th>STORIES</th>\n",
       "      <th>FULLVAL</th>\n",
       "      <th>AVLAND</th>\n",
       "      <th>AVTOT</th>\n",
       "      <th>ZIP</th>\n",
       "      <th>BLDFRONT</th>\n",
       "      <th>BLDDEPTH</th>\n",
       "      <th>ZIP3</th>\n",
       "      <th>ZIP4</th>\n",
       "    </tr>\n",
       "  </thead>\n",
       "  <tbody>\n",
       "    <tr>\n",
       "      <th>0</th>\n",
       "      <td>1</td>\n",
       "      <td>1</td>\n",
       "      <td>4</td>\n",
       "      <td>500.0</td>\n",
       "      <td>1046.0</td>\n",
       "      <td>50.0</td>\n",
       "      <td>21400000.0</td>\n",
       "      <td>4225500.0</td>\n",
       "      <td>9630000.0</td>\n",
       "      <td>10004</td>\n",
       "      <td>152.0</td>\n",
       "      <td>0</td>\n",
       "      <td>100</td>\n",
       "      <td>1000</td>\n",
       "    </tr>\n",
       "    <tr>\n",
       "      <th>1</th>\n",
       "      <td>2</td>\n",
       "      <td>1</td>\n",
       "      <td>4</td>\n",
       "      <td>27.0</td>\n",
       "      <td>207.0</td>\n",
       "      <td>50.0</td>\n",
       "      <td>193800000.0</td>\n",
       "      <td>14310000.0</td>\n",
       "      <td>87210000.0</td>\n",
       "      <td>10004</td>\n",
       "      <td>152.0</td>\n",
       "      <td>0</td>\n",
       "      <td>100</td>\n",
       "      <td>1000</td>\n",
       "    </tr>\n",
       "    <tr>\n",
       "      <th>2</th>\n",
       "      <td>3</td>\n",
       "      <td>1</td>\n",
       "      <td>4</td>\n",
       "      <td>709.0</td>\n",
       "      <td>564.0</td>\n",
       "      <td>3.0</td>\n",
       "      <td>104686000.0</td>\n",
       "      <td>39008700.0</td>\n",
       "      <td>47108700.0</td>\n",
       "      <td>10004</td>\n",
       "      <td>709.0</td>\n",
       "      <td>564</td>\n",
       "      <td>100</td>\n",
       "      <td>1000</td>\n",
       "    </tr>\n",
       "    <tr>\n",
       "      <th>3</th>\n",
       "      <td>4</td>\n",
       "      <td>1</td>\n",
       "      <td>4</td>\n",
       "      <td>793.0</td>\n",
       "      <td>551.0</td>\n",
       "      <td>2.0</td>\n",
       "      <td>39200000.0</td>\n",
       "      <td>15255000.0</td>\n",
       "      <td>17640000.0</td>\n",
       "      <td>10004</td>\n",
       "      <td>85.0</td>\n",
       "      <td>551</td>\n",
       "      <td>100</td>\n",
       "      <td>1000</td>\n",
       "    </tr>\n",
       "    <tr>\n",
       "      <th>4</th>\n",
       "      <td>5</td>\n",
       "      <td>1</td>\n",
       "      <td>4</td>\n",
       "      <td>323.0</td>\n",
       "      <td>1260.0</td>\n",
       "      <td>1.0</td>\n",
       "      <td>272300000.0</td>\n",
       "      <td>121050000.0</td>\n",
       "      <td>122535000.0</td>\n",
       "      <td>10004</td>\n",
       "      <td>89.0</td>\n",
       "      <td>57</td>\n",
       "      <td>100</td>\n",
       "      <td>1000</td>\n",
       "    </tr>\n",
       "  </tbody>\n",
       "</table>\n",
       "</div>"
      ],
      "text/plain": [
       "   RECORD  B TAXCLASS  LTFRONT  LTDEPTH  STORIES      FULLVAL       AVLAND  \\\n",
       "0       1  1        4    500.0   1046.0     50.0   21400000.0    4225500.0   \n",
       "1       2  1        4     27.0    207.0     50.0  193800000.0   14310000.0   \n",
       "2       3  1        4    709.0    564.0      3.0  104686000.0   39008700.0   \n",
       "3       4  1        4    793.0    551.0      2.0   39200000.0   15255000.0   \n",
       "4       5  1        4    323.0   1260.0      1.0  272300000.0  121050000.0   \n",
       "\n",
       "         AVTOT    ZIP  BLDFRONT  BLDDEPTH ZIP3  ZIP4  \n",
       "0    9630000.0  10004     152.0         0  100  1000  \n",
       "1   87210000.0  10004     152.0         0  100  1000  \n",
       "2   47108700.0  10004     709.0       564  100  1000  \n",
       "3   17640000.0  10004      85.0       551  100  1000  \n",
       "4  122535000.0  10004      89.0        57  100  1000  "
      ]
     },
     "execution_count": 66,
     "metadata": {},
     "output_type": "execute_result"
    }
   ],
   "source": [
    "mydata['BLDFRONT']=mydata['BLDFRONT2']\n",
    "for x in [ 'median', 'count', 'widemedian', 'present', 'BLDFRONT2']:\n",
    "    del mydata[x]\n",
    "mydata.head(5)"
   ]
  },
  {
   "cell_type": "code",
   "execution_count": 67,
   "metadata": {},
   "outputs": [],
   "source": [
    "#mydata_backup8=mydata"
   ]
  },
  {
   "cell_type": "code",
   "execution_count": 68,
   "metadata": {},
   "outputs": [],
   "source": [
    "#mydata=mydata_backup8"
   ]
  },
  {
   "cell_type": "markdown",
   "metadata": {},
   "source": [
    "# Filling BLDDEPTH"
   ]
  },
  {
   "cell_type": "code",
   "execution_count": 69,
   "metadata": {},
   "outputs": [
    {
     "name": "stderr",
     "output_type": "stream",
     "text": [
      "/Users/liana/anaconda3/lib/python3.7/site-packages/numpy/core/fromnumeric.py:2920: RuntimeWarning: Mean of empty slice.\n",
      "  out=out, **kwargs)\n",
      "/Users/liana/anaconda3/lib/python3.7/site-packages/numpy/core/_methods.py:85: RuntimeWarning: invalid value encountered in double_scalars\n",
      "  ret = ret.dtype.type(ret / rcount)\n",
      "/Users/liana/anaconda3/lib/python3.7/site-packages/pandas/core/reshape/merge.py:544: UserWarning: merging between different levels can give an unintended result (1 levels on the left, 2 on the right)\n",
      "  warnings.warn(msg, UserWarning)\n",
      "/Users/liana/anaconda3/lib/python3.7/site-packages/pandas/core/reshape/merge.py:544: UserWarning: merging between different levels can give an unintended result (1 levels on the left, 2 on the right)\n",
      "  warnings.warn(msg, UserWarning)\n"
     ]
    },
    {
     "name": "stdout",
     "output_type": "stream",
     "text": [
      "CPU times: user 33.6 s, sys: 766 ms, total: 34.4 s\n",
      "Wall time: 31 s\n"
     ]
    }
   ],
   "source": [
    "%%time\n",
    "d8=mydata[['TAXCLASS','ZIP','B','BLDDEPTH']]\n",
    "count=d8.groupby(['ZIP','TAXCLASS']).agg({'BLDDEPTH':[nonzero, 'count']})\n",
    "count2=d8.groupby(['B','TAXCLASS']).agg({'BLDDEPTH':[nonzero]})\n",
    "mydata = mydata.merge(count, on = ['ZIP','TAXCLASS'],suffixes = ['_x', '_y'])\n",
    "mydata = mydata.merge(count2, on = ['B','TAXCLASS'],suffixes = ['', 'z'])\n",
    "\n",
    "x = list(mydata.columns)\n",
    "x[-1] = 'widemedian'\n",
    "x[-2] = 'count'\n",
    "x[-3] = 'median'\n",
    "mydata.columns = x\n",
    "m=mydata['BLDDEPTH'].median()\n",
    "def compare(x):\n",
    "    \n",
    "    if (x['present']==True) or (float(x['BLDDEPTH'])==0):\n",
    "     #   print(2)\n",
    "        if int(x['count'])>= 20 and (not np.isnan(x['median'])):\n",
    "            return x['median']\n",
    "        elif not np.isnan(x['widemedian']):\n",
    "            return x['widemedian']\n",
    "        else:\n",
    "            return m\n",
    "    return x['BLDDEPTH']\n",
    "\n",
    "mydata['present'] = mydata['BLDDEPTH'].isna()\n",
    "mydata['BLDDEPTH2']  = mydata.apply(compare, axis = 1)"
   ]
  },
  {
   "cell_type": "code",
   "execution_count": 70,
   "metadata": {},
   "outputs": [
    {
     "data": {
      "text/html": [
       "<div>\n",
       "<style scoped>\n",
       "    .dataframe tbody tr th:only-of-type {\n",
       "        vertical-align: middle;\n",
       "    }\n",
       "\n",
       "    .dataframe tbody tr th {\n",
       "        vertical-align: top;\n",
       "    }\n",
       "\n",
       "    .dataframe thead th {\n",
       "        text-align: right;\n",
       "    }\n",
       "</style>\n",
       "<table border=\"1\" class=\"dataframe\">\n",
       "  <thead>\n",
       "    <tr style=\"text-align: right;\">\n",
       "      <th></th>\n",
       "      <th>BLDDEPTH2</th>\n",
       "    </tr>\n",
       "  </thead>\n",
       "  <tbody>\n",
       "  </tbody>\n",
       "</table>\n",
       "</div>"
      ],
      "text/plain": [
       "Empty DataFrame\n",
       "Columns: [BLDDEPTH2]\n",
       "Index: []"
      ]
     },
     "execution_count": 70,
     "metadata": {},
     "output_type": "execute_result"
    }
   ],
   "source": [
    "mydata[np.isnan(mydata['BLDDEPTH2'])][['BLDDEPTH2']] "
   ]
  },
  {
   "cell_type": "code",
   "execution_count": 71,
   "metadata": {},
   "outputs": [],
   "source": [
    "mydata['BLDDEPTH']=mydata['BLDDEPTH2']\n",
    "for x in [ 'median', 'count', 'widemedian', 'present', 'BLDDEPTH2']:\n",
    "    del mydata[x]"
   ]
  },
  {
   "cell_type": "code",
   "execution_count": 72,
   "metadata": {},
   "outputs": [
    {
     "data": {
      "text/html": [
       "<div>\n",
       "<style scoped>\n",
       "    .dataframe tbody tr th:only-of-type {\n",
       "        vertical-align: middle;\n",
       "    }\n",
       "\n",
       "    .dataframe tbody tr th {\n",
       "        vertical-align: top;\n",
       "    }\n",
       "\n",
       "    .dataframe thead th {\n",
       "        text-align: right;\n",
       "    }\n",
       "</style>\n",
       "<table border=\"1\" class=\"dataframe\">\n",
       "  <thead>\n",
       "    <tr style=\"text-align: right;\">\n",
       "      <th></th>\n",
       "      <th>RECORD</th>\n",
       "      <th>B</th>\n",
       "      <th>TAXCLASS</th>\n",
       "      <th>LTFRONT</th>\n",
       "      <th>LTDEPTH</th>\n",
       "      <th>STORIES</th>\n",
       "      <th>FULLVAL</th>\n",
       "      <th>AVLAND</th>\n",
       "      <th>AVTOT</th>\n",
       "      <th>ZIP</th>\n",
       "      <th>BLDFRONT</th>\n",
       "      <th>BLDDEPTH</th>\n",
       "      <th>ZIP3</th>\n",
       "      <th>ZIP4</th>\n",
       "    </tr>\n",
       "  </thead>\n",
       "  <tbody>\n",
       "    <tr>\n",
       "      <th>0</th>\n",
       "      <td>1</td>\n",
       "      <td>1</td>\n",
       "      <td>4</td>\n",
       "      <td>500.0</td>\n",
       "      <td>1046.0</td>\n",
       "      <td>50.0</td>\n",
       "      <td>21400000.0</td>\n",
       "      <td>4225500.0</td>\n",
       "      <td>9630000.0</td>\n",
       "      <td>10004</td>\n",
       "      <td>152.0</td>\n",
       "      <td>207.0</td>\n",
       "      <td>100</td>\n",
       "      <td>1000</td>\n",
       "    </tr>\n",
       "    <tr>\n",
       "      <th>1</th>\n",
       "      <td>2</td>\n",
       "      <td>1</td>\n",
       "      <td>4</td>\n",
       "      <td>27.0</td>\n",
       "      <td>207.0</td>\n",
       "      <td>50.0</td>\n",
       "      <td>193800000.0</td>\n",
       "      <td>14310000.0</td>\n",
       "      <td>87210000.0</td>\n",
       "      <td>10004</td>\n",
       "      <td>152.0</td>\n",
       "      <td>207.0</td>\n",
       "      <td>100</td>\n",
       "      <td>1000</td>\n",
       "    </tr>\n",
       "    <tr>\n",
       "      <th>2</th>\n",
       "      <td>3</td>\n",
       "      <td>1</td>\n",
       "      <td>4</td>\n",
       "      <td>709.0</td>\n",
       "      <td>564.0</td>\n",
       "      <td>3.0</td>\n",
       "      <td>104686000.0</td>\n",
       "      <td>39008700.0</td>\n",
       "      <td>47108700.0</td>\n",
       "      <td>10004</td>\n",
       "      <td>709.0</td>\n",
       "      <td>564.0</td>\n",
       "      <td>100</td>\n",
       "      <td>1000</td>\n",
       "    </tr>\n",
       "    <tr>\n",
       "      <th>3</th>\n",
       "      <td>4</td>\n",
       "      <td>1</td>\n",
       "      <td>4</td>\n",
       "      <td>793.0</td>\n",
       "      <td>551.0</td>\n",
       "      <td>2.0</td>\n",
       "      <td>39200000.0</td>\n",
       "      <td>15255000.0</td>\n",
       "      <td>17640000.0</td>\n",
       "      <td>10004</td>\n",
       "      <td>85.0</td>\n",
       "      <td>551.0</td>\n",
       "      <td>100</td>\n",
       "      <td>1000</td>\n",
       "    </tr>\n",
       "    <tr>\n",
       "      <th>4</th>\n",
       "      <td>5</td>\n",
       "      <td>1</td>\n",
       "      <td>4</td>\n",
       "      <td>323.0</td>\n",
       "      <td>1260.0</td>\n",
       "      <td>1.0</td>\n",
       "      <td>272300000.0</td>\n",
       "      <td>121050000.0</td>\n",
       "      <td>122535000.0</td>\n",
       "      <td>10004</td>\n",
       "      <td>89.0</td>\n",
       "      <td>57.0</td>\n",
       "      <td>100</td>\n",
       "      <td>1000</td>\n",
       "    </tr>\n",
       "  </tbody>\n",
       "</table>\n",
       "</div>"
      ],
      "text/plain": [
       "   RECORD  B TAXCLASS  LTFRONT  LTDEPTH  STORIES      FULLVAL       AVLAND  \\\n",
       "0       1  1        4    500.0   1046.0     50.0   21400000.0    4225500.0   \n",
       "1       2  1        4     27.0    207.0     50.0  193800000.0   14310000.0   \n",
       "2       3  1        4    709.0    564.0      3.0  104686000.0   39008700.0   \n",
       "3       4  1        4    793.0    551.0      2.0   39200000.0   15255000.0   \n",
       "4       5  1        4    323.0   1260.0      1.0  272300000.0  121050000.0   \n",
       "\n",
       "         AVTOT    ZIP  BLDFRONT  BLDDEPTH ZIP3  ZIP4  \n",
       "0    9630000.0  10004     152.0     207.0  100  1000  \n",
       "1   87210000.0  10004     152.0     207.0  100  1000  \n",
       "2   47108700.0  10004     709.0     564.0  100  1000  \n",
       "3   17640000.0  10004      85.0     551.0  100  1000  \n",
       "4  122535000.0  10004      89.0      57.0  100  1000  "
      ]
     },
     "execution_count": 72,
     "metadata": {},
     "output_type": "execute_result"
    }
   ],
   "source": [
    "mydata.head(5)"
   ]
  },
  {
   "cell_type": "code",
   "execution_count": 73,
   "metadata": {},
   "outputs": [],
   "source": [
    "mydata.to_csv('Filled_data.csv')"
   ]
  },
  {
   "cell_type": "code",
   "execution_count": 531,
   "metadata": {},
   "outputs": [],
   "source": [
    "# We are done!"
   ]
  },
  {
   "cell_type": "code",
   "execution_count": null,
   "metadata": {},
   "outputs": [],
   "source": []
  }
 ],
 "metadata": {
  "kernelspec": {
   "display_name": "Python 3",
   "language": "python",
   "name": "python3"
  },
  "language_info": {
   "codemirror_mode": {
    "name": "ipython",
    "version": 3
   },
   "file_extension": ".py",
   "mimetype": "text/x-python",
   "name": "python",
   "nbconvert_exporter": "python",
   "pygments_lexer": "ipython3",
   "version": "3.7.0"
  }
 },
 "nbformat": 4,
 "nbformat_minor": 2
}
