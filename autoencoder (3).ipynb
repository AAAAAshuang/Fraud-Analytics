{
 "cells": [
  {
   "cell_type": "code",
   "execution_count": 97,
   "metadata": {},
   "outputs": [],
   "source": [
    "import numpy as np\n",
    "import pandas as pd\n",
    "#import tensorflow as tf\n",
    "import scipy \n",
    "import matplotlib.pyplot as plt\n",
    "import seaborn as sns\n",
    "from sklearn import preprocessing\n",
    "from sklearn.decomposition import PCA\n",
    "from sklearn import *\n",
    "from string import *\n",
    "%matplotlib inline"
   ]
  },
  {
   "cell_type": "code",
   "execution_count": 98,
   "metadata": {
    "scrolled": false
   },
   "outputs": [
    {
     "name": "stderr",
     "output_type": "stream",
     "text": [
      "/anaconda3/lib/python3.7/site-packages/IPython/core/interactiveshell.py:3020: DtypeWarning: Columns (3) have mixed types. Specify dtype option on import or set low_memory=False.\n",
      "  interactivity=interactivity, compiler=compiler, result=result)\n"
     ]
    }
   ],
   "source": [
    "df = pd.read_csv('data.csv')"
   ]
  },
  {
   "cell_type": "code",
   "execution_count": 99,
   "metadata": {
    "scrolled": false
   },
   "outputs": [
    {
     "data": {
      "text/plain": [
       "Index(['Unnamed: 0', 'RECORD', 'B', 'TAXCLASS', 'LTFRONT', 'LTDEPTH',\n",
       "       'STORIES', 'FULLVAL', 'AVLAND', 'AVTOT', 'ZIP', 'BLDFRONT', 'BLDDEPTH',\n",
       "       'ZIP3', 'ZIP4'],\n",
       "      dtype='object')"
      ]
     },
     "execution_count": 99,
     "metadata": {},
     "output_type": "execute_result"
    }
   ],
   "source": [
    "df.columns"
   ]
  },
  {
   "cell_type": "code",
   "execution_count": 100,
   "metadata": {},
   "outputs": [],
   "source": [
    "df['S1'] = df['LTFRONT']* df['LTDEPTH']\n",
    "df['S2'] = df['BLDFRONT']* df['BLDDEPTH']\n",
    "df['S3'] = df['S2'] * df['STORIES']\n",
    "\n"
   ]
  },
  {
   "cell_type": "code",
   "execution_count": 101,
   "metadata": {},
   "outputs": [],
   "source": [
    "df['V1'] = df['FULLVAL']\n",
    "df['V2'] = df['AVLAND']\n",
    "df['V3'] = df['AVTOT']"
   ]
  },
  {
   "cell_type": "code",
   "execution_count": 102,
   "metadata": {},
   "outputs": [],
   "source": [
    "df['R1'] = df['V1']/df['S1']\n",
    "\n",
    "df['R2'] = df['V1']/df['S2']\n",
    "\n",
    "df['R3'] = df['V1']/df['S3']\n",
    "\n",
    "df['R4'] = df['V2']/df['S1']\n",
    "\n",
    "df['R5'] = df['V2']/df['S2']\n",
    "\n",
    "df['R6'] = df['V2']/df['S3']\n",
    "\n",
    "df['R7'] = df['V3']/df['S1']\n",
    "\n",
    "df['R8'] = df['V3']/df['S2']\n",
    "\n",
    "df['R9'] = df['V3']/df['S3']\n",
    "\n"
   ]
  },
  {
   "cell_type": "code",
   "execution_count": 103,
   "metadata": {},
   "outputs": [],
   "source": [
    "fraud = pd.DataFrame()\n",
    "fraud  = df[['RECORD']]\n",
    "\n",
    "#fraud['R1Z'] = df['ZIP']"
   ]
  },
  {
   "cell_type": "code",
   "execution_count": 104,
   "metadata": {},
   "outputs": [
    {
     "data": {
      "text/plain": [
       "Index(['Unnamed: 0', 'RECORD', 'B', 'TAXCLASS', 'LTFRONT', 'LTDEPTH',\n",
       "       'STORIES', 'FULLVAL', 'AVLAND', 'AVTOT', 'ZIP', 'BLDFRONT', 'BLDDEPTH',\n",
       "       'ZIP3', 'ZIP4', 'S1', 'S2', 'S3', 'V1', 'V2', 'V3', 'R1', 'R2', 'R3',\n",
       "       'R4', 'R5', 'R6', 'R7', 'R8', 'R9'],\n",
       "      dtype='object')"
      ]
     },
     "execution_count": 104,
     "metadata": {},
     "output_type": "execute_result"
    }
   ],
   "source": [
    "df.columns"
   ]
  },
  {
   "cell_type": "code",
   "execution_count": 105,
   "metadata": {
    "scrolled": true
   },
   "outputs": [
    {
     "name": "stderr",
     "output_type": "stream",
     "text": [
      "/anaconda3/lib/python3.7/site-packages/ipykernel_launcher.py:1: SettingWithCopyWarning: \n",
      "A value is trying to be set on a copy of a slice from a DataFrame.\n",
      "Try using .loc[row_indexer,col_indexer] = value instead\n",
      "\n",
      "See the caveats in the documentation: http://pandas.pydata.org/pandas-docs/stable/indexing.html#indexing-view-versus-copy\n",
      "  \"\"\"Entry point for launching an IPython kernel.\n"
     ]
    }
   ],
   "source": [
    "fraud['REC'] = df['RECORD']"
   ]
  },
  {
   "cell_type": "code",
   "execution_count": 106,
   "metadata": {},
   "outputs": [],
   "source": [
    "df = df[['R1', 'R2', 'R3',\\\n",
    "       'R4', 'R5', 'R6', 'R7', 'R8', 'R9','ZIP', 'B','TAXCLASS', 'RECORD','ZIP3', 'ZIP4' ]]"
   ]
  },
  {
   "cell_type": "code",
   "execution_count": 107,
   "metadata": {},
   "outputs": [
    {
     "data": {
      "text/plain": [
       "Index(['RECORD', 'REC'], dtype='object')"
      ]
     },
     "execution_count": 107,
     "metadata": {},
     "output_type": "execute_result"
    }
   ],
   "source": [
    "fraud.columns"
   ]
  },
  {
   "cell_type": "code",
   "execution_count": 108,
   "metadata": {
    "scrolled": true
   },
   "outputs": [],
   "source": [
    "fraud = fraud.set_index(keys = 'REC')\n",
    "df = df.set_index(keys = 'RECORD')"
   ]
  },
  {
   "cell_type": "code",
   "execution_count": 109,
   "metadata": {},
   "outputs": [],
   "source": [
    "fraud = fraud.sort_index()\n",
    "df = df.sort_index()"
   ]
  },
  {
   "cell_type": "code",
   "execution_count": null,
   "metadata": {},
   "outputs": [],
   "source": []
  },
  {
   "cell_type": "code",
   "execution_count": 110,
   "metadata": {},
   "outputs": [],
   "source": [
    "\n",
    "a = df.groupby(by = ['ZIP']).agg({'R1':'mean', 'R2':'mean', 'R3':'mean', \\\n",
    "                             'R4':'mean', 'R5':'mean', 'R6':'mean',\\\n",
    "                             'R7':'mean', 'R8':'mean', 'R9':'mean'})\n",
    "\n",
    "a = df.merge(a, how = 'left', on = 'ZIP', suffixes = ['_x', '_y'])\n",
    "a.index = range(1,len(a)+1)\n",
    "fraud['R1Z'] = a['R1_y']/a['R1_x'] \n",
    "fraud['R2Z'] = a['R2_y']/a['R2_x'] \n",
    "fraud['R3Z'] = a['R3_y']/a['R3_x'] \n",
    "fraud['R4Z'] = a['R4_y']/a['R4_x'] \n",
    "fraud['R5Z'] = a['R5_y']/a['R5_x'] \n",
    "fraud['R6Z'] = a['R6_y']/a['R6_x'] \n",
    "fraud['R7Z'] = a['R7_y']/a['R7_x'] \n",
    "fraud['R8Z'] = a['R8_y']/a['R8_x'] \n",
    "fraud['R9Z'] = a['R9_y']/a['R9_x'] \n",
    "fraud = fraud.sort_index()\n",
    "df = df.sort_index()"
   ]
  },
  {
   "cell_type": "code",
   "execution_count": 111,
   "metadata": {},
   "outputs": [
    {
     "data": {
      "text/plain": [
       "Index(['R1_x', 'R2_x', 'R3_x', 'R4_x', 'R5_x', 'R6_x', 'R7_x', 'R8_x', 'R9_x',\n",
       "       'ZIP', 'B', 'TAXCLASS', 'ZIP3', 'ZIP4', 'R1_y', 'R2_y', 'R3_y', 'R4_y',\n",
       "       'R5_y', 'R6_y', 'R7_y', 'R8_y', 'R9_y'],\n",
       "      dtype='object')"
      ]
     },
     "execution_count": 111,
     "metadata": {},
     "output_type": "execute_result"
    }
   ],
   "source": [
    "a.columns"
   ]
  },
  {
   "cell_type": "code",
   "execution_count": 112,
   "metadata": {},
   "outputs": [],
   "source": [
    "fraud = fraud.sort_index()\n",
    "df = df.sort_index()"
   ]
  },
  {
   "cell_type": "code",
   "execution_count": null,
   "metadata": {},
   "outputs": [],
   "source": []
  },
  {
   "cell_type": "code",
   "execution_count": 113,
   "metadata": {},
   "outputs": [],
   "source": [
    "a = df.groupby(by = ['B']).agg({'R1':'mean', 'R2':'mean', 'R3':'mean', \\\n",
    "                             'R4':'mean', 'R5':'mean', 'R6':'mean',\\\n",
    "                             'R7':'mean', 'R8':'mean', 'R9':'mean'})\n",
    "\n",
    "a = df.merge(a, how = 'left', on = 'B', suffixes = ['_x', '_y'])\n",
    "a.index = range(1,len(a)+1)\n",
    "\n",
    "\n",
    "fraud['R1B'] = a['R1_y']/a['R1_x'] \n",
    "fraud['R2B'] = a['R2_y']/a['R2_x'] \n",
    "fraud['R3B'] = a['R3_y']/a['R3_x'] \n",
    "fraud['R4B'] = a['R4_y']/a['R4_x'] \n",
    "fraud['R5B'] = a['R5_y']/a['R5_x'] \n",
    "fraud['R6B'] = a['R6_y']/a['R6_x'] \n",
    "fraud['R7B'] = a['R7_y']/a['R7_x'] \n",
    "fraud['R8B'] = a['R8_y']/a['R8_x'] \n",
    "fraud['R9B'] = a['R9_y']/a['R9_x'] \n",
    "\n",
    "\n",
    "fraud = fraud.sort_index()\n",
    "df = df.sort_index()"
   ]
  },
  {
   "cell_type": "code",
   "execution_count": null,
   "metadata": {},
   "outputs": [],
   "source": []
  },
  {
   "cell_type": "code",
   "execution_count": 114,
   "metadata": {},
   "outputs": [],
   "source": [
    "a = df.groupby(by = ['TAXCLASS']).agg({'R1':'mean', 'R2':'mean', 'R3':'mean', \\\n",
    "                             'R4':'mean', 'R5':'mean', 'R6':'mean',\\\n",
    "                             'R7':'mean', 'R8':'mean', 'R9':'mean'})\n",
    "\n",
    "a = df.merge(a, how = 'left', on = 'TAXCLASS', suffixes = ['_x', '_y'])\n",
    "a.index = range(1,len(a)+1)\n",
    "\n",
    "fraud['R1T'] = a['R1_y']/a['R1_x'] \n",
    "fraud['R2T'] = a['R2_y']/a['R2_x'] \n",
    "fraud['R3T'] = a['R3_y']/a['R3_x'] \n",
    "fraud['R4T'] = a['R4_y']/a['R4_x'] \n",
    "fraud['R5T'] = a['R5_y']/a['R5_x'] \n",
    "fraud['R6T'] = a['R6_y']/a['R6_x'] \n",
    "fraud['R7T'] = a['R7_y']/a['R7_x'] \n",
    "fraud['R8T'] = a['R8_y']/a['R8_x'] \n",
    "fraud['R9T'] = a['R9_y']/a['R9_x'] \n",
    "\n",
    "\n",
    "fraud = fraud.sort_index()\n",
    "df = df.sort_index()"
   ]
  },
  {
   "cell_type": "code",
   "execution_count": 115,
   "metadata": {},
   "outputs": [],
   "source": [
    "#ZIP3\n",
    "a = df.groupby(by = ['ZIP3']).agg({'R1':'mean', 'R2':'mean', 'R3':'mean', \\\n",
    "                             'R4':'mean', 'R5':'mean', 'R6':'mean',\\\n",
    "                             'R7':'mean', 'R8':'mean', 'R9':'mean'})\n",
    "\n",
    "a = df.merge(a, how = 'left', on = 'ZIP3', suffixes = ['_x', '_y'])\n",
    "a.index = range(1,len(a)+1)\n",
    "\n",
    "\n",
    "fraud['R1Z3'] = a['R1_y']/a['R1_x'] \n",
    "fraud['R2Z3'] = a['R2_y']/a['R2_x'] \n",
    "fraud['R3Z3'] = a['R3_y']/a['R3_x'] \n",
    "fraud['R4Z3'] = a['R4_y']/a['R4_x'] \n",
    "fraud['R5Z3'] = a['R5_y']/a['R5_x'] \n",
    "fraud['R6Z3'] = a['R6_y']/a['R6_x'] \n",
    "fraud['R7Z3'] = a['R7_y']/a['R7_x'] \n",
    "fraud['R8Z3'] = a['R8_y']/a['R8_x'] \n",
    "fraud['R9Z3'] = a['R9_y']/a['R9_x'] \n",
    "\n",
    "\n",
    "fraud = fraud.sort_index()\n",
    "df = df.sort_index()"
   ]
  },
  {
   "cell_type": "code",
   "execution_count": null,
   "metadata": {},
   "outputs": [],
   "source": []
  },
  {
   "cell_type": "code",
   "execution_count": 116,
   "metadata": {},
   "outputs": [],
   "source": [
    "#all\n",
    "a = df.groupby(by = ['ZIP3','ZIP','B','TAXCLASS']).agg({'R1':'mean', 'R2':'mean', 'R3':'mean', \\\n",
    "                             'R4':'mean', 'R5':'mean', 'R6':'mean',\\\n",
    "                             'R7':'mean', 'R8':'mean', 'R9':'mean'})\n",
    "\n",
    "a = df.merge(a, how = 'left', on =['ZIP3','ZIP','B','TAXCLASS'], suffixes = ['_x', '_y'])\n",
    "a.index = range(1,len(a)+1)\n",
    "\n",
    "\n",
    "\n",
    "\n",
    "fraud['R1A'] = df['R1']/np.mean(df['R1'])\n",
    "\n",
    "fraud['R2A'] = df['R2']/np.mean(df['R2'])\n",
    "fraud['R3A'] = df['R3']/np.mean(df['R3'])\n",
    "fraud['R4A'] = df['R4']/np.mean(df['R4'])\n",
    "fraud['R5A'] = df['R5']/np.mean(df['R5'])\n",
    "\n",
    "fraud['R6A'] = df['R6']/np.mean(df['R6'])\n",
    "fraud['R7A'] = df['R7']/np.mean(df['R7'])\n",
    "fraud['R8A'] = df['R8']/np.mean(df['R8'])\n",
    "\n",
    "fraud['R9A'] = df['R9']/np.mean(df['R9'])\n",
    "\n",
    "fraud = fraud.sort_index()\n",
    "df = df.sort_index()\n"
   ]
  },
  {
   "cell_type": "code",
   "execution_count": 117,
   "metadata": {},
   "outputs": [],
   "source": [
    "x = fraud"
   ]
  },
  {
   "cell_type": "code",
   "execution_count": 118,
   "metadata": {},
   "outputs": [],
   "source": [
    "fraud = x"
   ]
  },
  {
   "cell_type": "code",
   "execution_count": 119,
   "metadata": {},
   "outputs": [
    {
     "data": {
      "text/html": [
       "<div>\n",
       "<style scoped>\n",
       "    .dataframe tbody tr th:only-of-type {\n",
       "        vertical-align: middle;\n",
       "    }\n",
       "\n",
       "    .dataframe tbody tr th {\n",
       "        vertical-align: top;\n",
       "    }\n",
       "\n",
       "    .dataframe thead th {\n",
       "        text-align: right;\n",
       "    }\n",
       "</style>\n",
       "<table border=\"1\" class=\"dataframe\">\n",
       "  <thead>\n",
       "    <tr style=\"text-align: right;\">\n",
       "      <th></th>\n",
       "      <th>R1Z</th>\n",
       "      <th>R2Z</th>\n",
       "      <th>R3Z</th>\n",
       "      <th>R4Z</th>\n",
       "      <th>R5Z</th>\n",
       "      <th>R6Z</th>\n",
       "      <th>R7Z</th>\n",
       "      <th>R8Z</th>\n",
       "      <th>R9Z</th>\n",
       "      <th>R1B</th>\n",
       "      <th>...</th>\n",
       "      <th>R9Z3</th>\n",
       "      <th>R1A</th>\n",
       "      <th>R2A</th>\n",
       "      <th>R3A</th>\n",
       "      <th>R4A</th>\n",
       "      <th>R5A</th>\n",
       "      <th>R6A</th>\n",
       "      <th>R7A</th>\n",
       "      <th>R8A</th>\n",
       "      <th>R9A</th>\n",
       "    </tr>\n",
       "    <tr>\n",
       "      <th>REC</th>\n",
       "      <th></th>\n",
       "      <th></th>\n",
       "      <th></th>\n",
       "      <th></th>\n",
       "      <th></th>\n",
       "      <th></th>\n",
       "      <th></th>\n",
       "      <th></th>\n",
       "      <th></th>\n",
       "      <th></th>\n",
       "      <th></th>\n",
       "      <th></th>\n",
       "      <th></th>\n",
       "      <th></th>\n",
       "      <th></th>\n",
       "      <th></th>\n",
       "      <th></th>\n",
       "      <th></th>\n",
       "      <th></th>\n",
       "      <th></th>\n",
       "      <th></th>\n",
       "    </tr>\n",
       "  </thead>\n",
       "  <tbody>\n",
       "    <tr>\n",
       "      <th>1</th>\n",
       "      <td>8.280451</td>\n",
       "      <td>0.642961</td>\n",
       "      <td>10.127657</td>\n",
       "      <td>5.871127</td>\n",
       "      <td>0.722412</td>\n",
       "      <td>19.710189</td>\n",
       "      <td>7.569794</td>\n",
       "      <td>0.598799</td>\n",
       "      <td>9.629827</td>\n",
       "      <td>9.145094</td>\n",
       "      <td>...</td>\n",
       "      <td>6.265302</td>\n",
       "      <td>0.118639</td>\n",
       "      <td>1.149852</td>\n",
       "      <td>0.050498</td>\n",
       "      <td>0.718429</td>\n",
       "      <td>3.697244</td>\n",
       "      <td>0.150624</td>\n",
       "      <td>0.589036</td>\n",
       "      <td>4.514115</td>\n",
       "      <td>0.219784</td>\n",
       "    </tr>\n",
       "    <tr>\n",
       "      <th>2</th>\n",
       "      <td>0.009771</td>\n",
       "      <td>0.070998</td>\n",
       "      <td>1.118328</td>\n",
       "      <td>0.018526</td>\n",
       "      <td>0.213316</td>\n",
       "      <td>5.820084</td>\n",
       "      <td>0.008933</td>\n",
       "      <td>0.066121</td>\n",
       "      <td>1.063355</td>\n",
       "      <td>0.010791</td>\n",
       "      <td>...</td>\n",
       "      <td>0.691834</td>\n",
       "      <td>100.539073</td>\n",
       "      <td>10.413146</td>\n",
       "      <td>0.457316</td>\n",
       "      <td>227.673718</td>\n",
       "      <td>12.521018</td>\n",
       "      <td>0.510101</td>\n",
       "      <td>499.171502</td>\n",
       "      <td>40.880165</td>\n",
       "      <td>1.990377</td>\n",
       "    </tr>\n",
       "    <tr>\n",
       "      <th>3</th>\n",
       "      <td>1.294204</td>\n",
       "      <td>1.670403</td>\n",
       "      <td>1.578690</td>\n",
       "      <td>0.486252</td>\n",
       "      <td>0.994518</td>\n",
       "      <td>1.628059</td>\n",
       "      <td>1.183131</td>\n",
       "      <td>1.555670</td>\n",
       "      <td>1.501088</td>\n",
       "      <td>1.429345</td>\n",
       "      <td>...</td>\n",
       "      <td>0.976630</td>\n",
       "      <td>0.759064</td>\n",
       "      <td>0.442594</td>\n",
       "      <td>0.323958</td>\n",
       "      <td>8.674481</td>\n",
       "      <td>2.685654</td>\n",
       "      <td>1.823539</td>\n",
       "      <td>3.768716</td>\n",
       "      <td>1.737545</td>\n",
       "      <td>1.409962</td>\n",
       "    </tr>\n",
       "    <tr>\n",
       "      <th>4</th>\n",
       "      <td>3.776633</td>\n",
       "      <td>0.522479</td>\n",
       "      <td>0.329195</td>\n",
       "      <td>1.358659</td>\n",
       "      <td>0.297857</td>\n",
       "      <td>0.325067</td>\n",
       "      <td>3.452509</td>\n",
       "      <td>0.486592</td>\n",
       "      <td>0.313013</td>\n",
       "      <td>4.170988</td>\n",
       "      <td>...</td>\n",
       "      <td>0.203651</td>\n",
       "      <td>0.260122</td>\n",
       "      <td>1.415004</td>\n",
       "      <td>1.553575</td>\n",
       "      <td>3.104522</td>\n",
       "      <td>8.967175</td>\n",
       "      <td>9.132967</td>\n",
       "      <td>1.291491</td>\n",
       "      <td>5.555055</td>\n",
       "      <td>6.761624</td>\n",
       "    </tr>\n",
       "    <tr>\n",
       "      <th>5</th>\n",
       "      <td>0.506397</td>\n",
       "      <td>0.008147</td>\n",
       "      <td>0.002567</td>\n",
       "      <td>0.159480</td>\n",
       "      <td>0.004066</td>\n",
       "      <td>0.002219</td>\n",
       "      <td>0.462937</td>\n",
       "      <td>0.007587</td>\n",
       "      <td>0.002440</td>\n",
       "      <td>0.559275</td>\n",
       "      <td>...</td>\n",
       "      <td>0.001588</td>\n",
       "      <td>1.939947</td>\n",
       "      <td>90.745455</td>\n",
       "      <td>199.264232</td>\n",
       "      <td>26.448382</td>\n",
       "      <td>656.922092</td>\n",
       "      <td>1338.135567</td>\n",
       "      <td>9.631739</td>\n",
       "      <td>356.250579</td>\n",
       "      <td>867.257847</td>\n",
       "    </tr>\n",
       "  </tbody>\n",
       "</table>\n",
       "<p>5 rows × 45 columns</p>\n",
       "</div>"
      ],
      "text/plain": [
       "          R1Z       R2Z        R3Z       R4Z       R5Z        R6Z       R7Z  \\\n",
       "REC                                                                           \n",
       "1    8.280451  0.642961  10.127657  5.871127  0.722412  19.710189  7.569794   \n",
       "2    0.009771  0.070998   1.118328  0.018526  0.213316   5.820084  0.008933   \n",
       "3    1.294204  1.670403   1.578690  0.486252  0.994518   1.628059  1.183131   \n",
       "4    3.776633  0.522479   0.329195  1.358659  0.297857   0.325067  3.452509   \n",
       "5    0.506397  0.008147   0.002567  0.159480  0.004066   0.002219  0.462937   \n",
       "\n",
       "          R8Z       R9Z       R1B     ...          R9Z3         R1A  \\\n",
       "REC                                   ...                             \n",
       "1    0.598799  9.629827  9.145094     ...      6.265302    0.118639   \n",
       "2    0.066121  1.063355  0.010791     ...      0.691834  100.539073   \n",
       "3    1.555670  1.501088  1.429345     ...      0.976630    0.759064   \n",
       "4    0.486592  0.313013  4.170988     ...      0.203651    0.260122   \n",
       "5    0.007587  0.002440  0.559275     ...      0.001588    1.939947   \n",
       "\n",
       "           R2A         R3A         R4A         R5A          R6A         R7A  \\\n",
       "REC                                                                           \n",
       "1     1.149852    0.050498    0.718429    3.697244     0.150624    0.589036   \n",
       "2    10.413146    0.457316  227.673718   12.521018     0.510101  499.171502   \n",
       "3     0.442594    0.323958    8.674481    2.685654     1.823539    3.768716   \n",
       "4     1.415004    1.553575    3.104522    8.967175     9.132967    1.291491   \n",
       "5    90.745455  199.264232   26.448382  656.922092  1338.135567    9.631739   \n",
       "\n",
       "            R8A         R9A  \n",
       "REC                          \n",
       "1      4.514115    0.219784  \n",
       "2     40.880165    1.990377  \n",
       "3      1.737545    1.409962  \n",
       "4      5.555055    6.761624  \n",
       "5    356.250579  867.257847  \n",
       "\n",
       "[5 rows x 45 columns]"
      ]
     },
     "execution_count": 119,
     "metadata": {},
     "output_type": "execute_result"
    }
   ],
   "source": [
    "a = x.columns[0]\n",
    "del fraud['RECORD']\n",
    "x.head()"
   ]
  },
  {
   "cell_type": "code",
   "execution_count": 120,
   "metadata": {
    "scrolled": true
   },
   "outputs": [
    {
     "data": {
      "text/plain": [
       "Index(['R1Z', 'R2Z', 'R3Z', 'R4Z', 'R5Z', 'R6Z', 'R7Z', 'R8Z', 'R9Z', 'R1B',\n",
       "       'R2B', 'R3B', 'R4B', 'R5B', 'R6B', 'R7B', 'R8B', 'R9B', 'R1T', 'R2T',\n",
       "       'R3T', 'R4T', 'R5T', 'R6T', 'R7T', 'R8T', 'R9T', 'R1Z3', 'R2Z3', 'R3Z3',\n",
       "       'R4Z3', 'R5Z3', 'R6Z3', 'R7Z3', 'R8Z3', 'R9Z3', 'R1A', 'R2A', 'R3A',\n",
       "       'R4A', 'R5A', 'R6A', 'R7A', 'R8A', 'R9A'],\n",
       "      dtype='object')"
      ]
     },
     "execution_count": 120,
     "metadata": {},
     "output_type": "execute_result"
    }
   ],
   "source": [
    "x.columns"
   ]
  },
  {
   "cell_type": "code",
   "execution_count": 121,
   "metadata": {},
   "outputs": [],
   "source": [
    "fraud=preprocessing.scale(fraud)#Zscale"
   ]
  },
  {
   "cell_type": "code",
   "execution_count": 122,
   "metadata": {
    "scrolled": true
   },
   "outputs": [
    {
     "data": {
      "text/plain": [
       "(1070994, 45)"
      ]
     },
     "execution_count": 122,
     "metadata": {},
     "output_type": "execute_result"
    }
   ],
   "source": [
    "fraud.shape"
   ]
  },
  {
   "cell_type": "code",
   "execution_count": 123,
   "metadata": {},
   "outputs": [],
   "source": [
    "#fraud.head()"
   ]
  },
  {
   "cell_type": "code",
   "execution_count": 124,
   "metadata": {},
   "outputs": [],
   "source": [
    "pca=PCA(n_components=8,copy=False)\n",
    "fraud=pca.fit_transform(fraud)#pca"
   ]
  },
  {
   "cell_type": "code",
   "execution_count": 125,
   "metadata": {},
   "outputs": [],
   "source": [
    "fraud=pd.DataFrame(preprocessing.scale(fraud),columns = ['component1', 'component2', 'component3', \n",
    "                                                             'component4', 'component5', 'component6', \n",
    "                                                             'component7', 'component8'])#Zscale"
   ]
  },
  {
   "cell_type": "code",
   "execution_count": 126,
   "metadata": {},
   "outputs": [
    {
     "data": {
      "text/html": [
       "<div>\n",
       "<style scoped>\n",
       "    .dataframe tbody tr th:only-of-type {\n",
       "        vertical-align: middle;\n",
       "    }\n",
       "\n",
       "    .dataframe tbody tr th {\n",
       "        vertical-align: top;\n",
       "    }\n",
       "\n",
       "    .dataframe thead th {\n",
       "        text-align: right;\n",
       "    }\n",
       "</style>\n",
       "<table border=\"1\" class=\"dataframe\">\n",
       "  <thead>\n",
       "    <tr style=\"text-align: right;\">\n",
       "      <th></th>\n",
       "      <th>component1</th>\n",
       "      <th>component2</th>\n",
       "      <th>component3</th>\n",
       "      <th>component4</th>\n",
       "      <th>component5</th>\n",
       "      <th>component6</th>\n",
       "      <th>component7</th>\n",
       "      <th>component8</th>\n",
       "    </tr>\n",
       "  </thead>\n",
       "  <tbody>\n",
       "    <tr>\n",
       "      <th>0</th>\n",
       "      <td>-0.027229</td>\n",
       "      <td>0.001825</td>\n",
       "      <td>-0.010052</td>\n",
       "      <td>-0.002117</td>\n",
       "      <td>0.024798</td>\n",
       "      <td>0.010526</td>\n",
       "      <td>-0.031064</td>\n",
       "      <td>0.002539</td>\n",
       "    </tr>\n",
       "    <tr>\n",
       "      <th>1</th>\n",
       "      <td>-0.036909</td>\n",
       "      <td>2.425329</td>\n",
       "      <td>-0.005618</td>\n",
       "      <td>-0.008930</td>\n",
       "      <td>0.107193</td>\n",
       "      <td>0.217079</td>\n",
       "      <td>22.761043</td>\n",
       "      <td>0.000122</td>\n",
       "    </tr>\n",
       "    <tr>\n",
       "      <th>2</th>\n",
       "      <td>-0.029482</td>\n",
       "      <td>0.020831</td>\n",
       "      <td>-0.016816</td>\n",
       "      <td>-0.002371</td>\n",
       "      <td>0.027259</td>\n",
       "      <td>0.012384</td>\n",
       "      <td>0.219620</td>\n",
       "      <td>0.001111</td>\n",
       "    </tr>\n",
       "    <tr>\n",
       "      <th>3</th>\n",
       "      <td>-0.029529</td>\n",
       "      <td>0.094449</td>\n",
       "      <td>-0.013227</td>\n",
       "      <td>-0.002084</td>\n",
       "      <td>0.026511</td>\n",
       "      <td>0.011663</td>\n",
       "      <td>0.015622</td>\n",
       "      <td>0.000242</td>\n",
       "    </tr>\n",
       "    <tr>\n",
       "      <th>4</th>\n",
       "      <td>-0.035169</td>\n",
       "      <td>12.993015</td>\n",
       "      <td>0.184587</td>\n",
       "      <td>0.005430</td>\n",
       "      <td>-0.028909</td>\n",
       "      <td>-0.022051</td>\n",
       "      <td>-2.036868</td>\n",
       "      <td>-0.000031</td>\n",
       "    </tr>\n",
       "    <tr>\n",
       "      <th>5</th>\n",
       "      <td>-0.027970</td>\n",
       "      <td>0.022870</td>\n",
       "      <td>-0.017630</td>\n",
       "      <td>-0.002536</td>\n",
       "      <td>0.024361</td>\n",
       "      <td>0.008708</td>\n",
       "      <td>0.275186</td>\n",
       "      <td>0.009054</td>\n",
       "    </tr>\n",
       "    <tr>\n",
       "      <th>6</th>\n",
       "      <td>-0.032371</td>\n",
       "      <td>6.739750</td>\n",
       "      <td>0.089476</td>\n",
       "      <td>0.001961</td>\n",
       "      <td>-0.003235</td>\n",
       "      <td>-0.008355</td>\n",
       "      <td>-1.358393</td>\n",
       "      <td>-0.000074</td>\n",
       "    </tr>\n",
       "    <tr>\n",
       "      <th>7</th>\n",
       "      <td>-0.030434</td>\n",
       "      <td>0.435500</td>\n",
       "      <td>-0.010675</td>\n",
       "      <td>-0.002840</td>\n",
       "      <td>0.026554</td>\n",
       "      <td>0.013459</td>\n",
       "      <td>0.361300</td>\n",
       "      <td>0.000848</td>\n",
       "    </tr>\n",
       "    <tr>\n",
       "      <th>8</th>\n",
       "      <td>-0.022749</td>\n",
       "      <td>-0.029156</td>\n",
       "      <td>-0.017340</td>\n",
       "      <td>-0.003432</td>\n",
       "      <td>0.015412</td>\n",
       "      <td>-0.000882</td>\n",
       "      <td>0.011972</td>\n",
       "      <td>0.021179</td>\n",
       "    </tr>\n",
       "    <tr>\n",
       "      <th>9</th>\n",
       "      <td>-0.025103</td>\n",
       "      <td>-0.022482</td>\n",
       "      <td>-0.017488</td>\n",
       "      <td>-0.003383</td>\n",
       "      <td>0.019062</td>\n",
       "      <td>0.002928</td>\n",
       "      <td>0.044340</td>\n",
       "      <td>0.014913</td>\n",
       "    </tr>\n",
       "  </tbody>\n",
       "</table>\n",
       "</div>"
      ],
      "text/plain": [
       "   component1  component2  component3  component4  component5  component6  \\\n",
       "0   -0.027229    0.001825   -0.010052   -0.002117    0.024798    0.010526   \n",
       "1   -0.036909    2.425329   -0.005618   -0.008930    0.107193    0.217079   \n",
       "2   -0.029482    0.020831   -0.016816   -0.002371    0.027259    0.012384   \n",
       "3   -0.029529    0.094449   -0.013227   -0.002084    0.026511    0.011663   \n",
       "4   -0.035169   12.993015    0.184587    0.005430   -0.028909   -0.022051   \n",
       "5   -0.027970    0.022870   -0.017630   -0.002536    0.024361    0.008708   \n",
       "6   -0.032371    6.739750    0.089476    0.001961   -0.003235   -0.008355   \n",
       "7   -0.030434    0.435500   -0.010675   -0.002840    0.026554    0.013459   \n",
       "8   -0.022749   -0.029156   -0.017340   -0.003432    0.015412   -0.000882   \n",
       "9   -0.025103   -0.022482   -0.017488   -0.003383    0.019062    0.002928   \n",
       "\n",
       "   component7  component8  \n",
       "0   -0.031064    0.002539  \n",
       "1   22.761043    0.000122  \n",
       "2    0.219620    0.001111  \n",
       "3    0.015622    0.000242  \n",
       "4   -2.036868   -0.000031  \n",
       "5    0.275186    0.009054  \n",
       "6   -1.358393   -0.000074  \n",
       "7    0.361300    0.000848  \n",
       "8    0.011972    0.021179  \n",
       "9    0.044340    0.014913  "
      ]
     },
     "execution_count": 126,
     "metadata": {},
     "output_type": "execute_result"
    }
   ],
   "source": [
    "fraud.head(10)"
   ]
  },
  {
   "cell_type": "code",
   "execution_count": 127,
   "metadata": {},
   "outputs": [],
   "source": [
    "cols = fraud.columns"
   ]
  },
  {
   "cell_type": "code",
   "execution_count": 128,
   "metadata": {},
   "outputs": [],
   "source": [
    "frauds = fraud"
   ]
  },
  {
   "cell_type": "code",
   "execution_count": 129,
   "metadata": {},
   "outputs": [],
   "source": [
    "fraud = frauds"
   ]
  },
  {
   "cell_type": "code",
   "execution_count": 130,
   "metadata": {},
   "outputs": [],
   "source": [
    "for i in cols:\n",
    "    fraud[i] = fraud[i].apply(lambda x: x**2)"
   ]
  },
  {
   "cell_type": "code",
   "execution_count": 131,
   "metadata": {},
   "outputs": [],
   "source": [
    "#del fraud['score']"
   ]
  },
  {
   "cell_type": "code",
   "execution_count": 132,
   "metadata": {},
   "outputs": [],
   "source": [
    "#uu = fraud.apply(lambda x: x.sum()**0.5, axis  = 1)"
   ]
  },
  {
   "cell_type": "code",
   "execution_count": 133,
   "metadata": {},
   "outputs": [],
   "source": [
    "fraud['score']  = fraud.sum(axis = 1)"
   ]
  },
  {
   "cell_type": "code",
   "execution_count": 134,
   "metadata": {},
   "outputs": [],
   "source": [
    "fraud['score'] = fraud['score'].apply(lambda x: x**0.5)"
   ]
  },
  {
   "cell_type": "code",
   "execution_count": 135,
   "metadata": {},
   "outputs": [],
   "source": [
    "#heuristic['score'] = fraud['score']"
   ]
  },
  {
   "cell_type": "code",
   "execution_count": 136,
   "metadata": {},
   "outputs": [],
   "source": [
    "hello = fraud[['score']]"
   ]
  },
  {
   "cell_type": "code",
   "execution_count": 137,
   "metadata": {},
   "outputs": [
    {
     "data": {
      "text/html": [
       "<div>\n",
       "<style scoped>\n",
       "    .dataframe tbody tr th:only-of-type {\n",
       "        vertical-align: middle;\n",
       "    }\n",
       "\n",
       "    .dataframe tbody tr th {\n",
       "        vertical-align: top;\n",
       "    }\n",
       "\n",
       "    .dataframe thead th {\n",
       "        text-align: right;\n",
       "    }\n",
       "</style>\n",
       "<table border=\"1\" class=\"dataframe\">\n",
       "  <thead>\n",
       "    <tr style=\"text-align: right;\">\n",
       "      <th></th>\n",
       "      <th>score</th>\n",
       "    </tr>\n",
       "  </thead>\n",
       "  <tbody>\n",
       "    <tr>\n",
       "      <th>0</th>\n",
       "      <td>0.050472</td>\n",
       "    </tr>\n",
       "    <tr>\n",
       "      <th>1</th>\n",
       "      <td>22.891208</td>\n",
       "    </tr>\n",
       "    <tr>\n",
       "      <th>2</th>\n",
       "      <td>0.225215</td>\n",
       "    </tr>\n",
       "    <tr>\n",
       "      <th>3</th>\n",
       "      <td>0.105142</td>\n",
       "    </tr>\n",
       "    <tr>\n",
       "      <th>4</th>\n",
       "      <td>13.153096</td>\n",
       "    </tr>\n",
       "  </tbody>\n",
       "</table>\n",
       "</div>"
      ],
      "text/plain": [
       "       score\n",
       "0   0.050472\n",
       "1  22.891208\n",
       "2   0.225215\n",
       "3   0.105142\n",
       "4  13.153096"
      ]
     },
     "execution_count": 137,
     "metadata": {},
     "output_type": "execute_result"
    }
   ],
   "source": [
    "hello.head()"
   ]
  },
  {
   "cell_type": "code",
   "execution_count": 138,
   "metadata": {},
   "outputs": [],
   "source": [
    "fraud = frauds\n",
    "#aaa\n",
    "fraud.head()\n",
    "del fraud['score']"
   ]
  },
  {
   "cell_type": "code",
   "execution_count": 139,
   "metadata": {},
   "outputs": [],
   "source": [
    "# import tensorflow and keras for autoencoder neural net work\n",
    "import pickle\n",
    "from scipy import stats\n",
    "import tensorflow as tf\n",
    "# from sklearn.model_selection import train_test_split\n",
    "from keras.models import Model, load_model\n",
    "from keras.layers import Input, Dense\n",
    "from keras.callbacks import ModelCheckpoint, TensorBoard\n",
    "from keras import regularizers"
   ]
  },
  {
   "cell_type": "code",
   "execution_count": 140,
   "metadata": {},
   "outputs": [
    {
     "name": "stdout",
     "output_type": "stream",
     "text": [
      "Epoch 1/30\n",
      "1070994/1070994 [==============================] - 2s 2us/step - loss: 127515.9535 - acc: 0.0510\n",
      "Epoch 2/30\n",
      "  68096/1070994 [>.............................] - ETA: 2s - loss: 19978.0955 - acc: 0.0356"
     ]
    },
    {
     "name": "stderr",
     "output_type": "stream",
     "text": [
      "/anaconda3/lib/python3.7/site-packages/keras/callbacks.py:434: RuntimeWarning: Can save best model only with val_loss available, skipping.\n",
      "  'skipping.' % (self.monitor), RuntimeWarning)\n"
     ]
    },
    {
     "name": "stdout",
     "output_type": "stream",
     "text": [
      "1070994/1070994 [==============================] - 2s 2us/step - loss: 124758.5812 - acc: 0.0405\n",
      "Epoch 3/30\n",
      "1070994/1070994 [==============================] - 2s 2us/step - loss: 122774.1482 - acc: 0.0452\n",
      "Epoch 4/30\n",
      "1070994/1070994 [==============================] - 2s 2us/step - loss: 120071.2351 - acc: 0.0253\n",
      "Epoch 5/30\n",
      "1070994/1070994 [==============================] - 2s 2us/step - loss: 116120.6577 - acc: 0.0090\n",
      "Epoch 6/30\n",
      "1070994/1070994 [==============================] - 2s 2us/step - loss: 112131.9612 - acc: 0.0061\n",
      "Epoch 7/30\n",
      "1070994/1070994 [==============================] - 2s 2us/step - loss: 108547.0599 - acc: 0.0056\n",
      "Epoch 8/30\n",
      "1070994/1070994 [==============================] - 2s 2us/step - loss: 105811.7146 - acc: 0.0053\n",
      "Epoch 9/30\n",
      "1070994/1070994 [==============================] - 2s 2us/step - loss: 102245.0049 - acc: 0.0053\n",
      "Epoch 10/30\n",
      "1070994/1070994 [==============================] - 2s 2us/step - loss: 99281.8852 - acc: 0.0050\n",
      "Epoch 11/30\n",
      "1070994/1070994 [==============================] - 2s 2us/step - loss: 95965.8236 - acc: 0.0049\n",
      "Epoch 12/30\n",
      "1070994/1070994 [==============================] - 2s 2us/step - loss: 92705.4095 - acc: 0.0049\n",
      "Epoch 13/30\n",
      "1070994/1070994 [==============================] - 2s 2us/step - loss: 89432.4404 - acc: 0.0665\n",
      "Epoch 14/30\n",
      "1070994/1070994 [==============================] - 2s 2us/step - loss: 86033.5053 - acc: 0.1533\n",
      "Epoch 15/30\n",
      "1070994/1070994 [==============================] - 2s 2us/step - loss: 83741.3786 - acc: 0.1531\n",
      "Epoch 16/30\n",
      "1070994/1070994 [==============================] - 2s 2us/step - loss: 80843.3767 - acc: 0.1530\n",
      "Epoch 17/30\n",
      "1070994/1070994 [==============================] - 2s 2us/step - loss: 78461.9904 - acc: 0.1532\n",
      "Epoch 18/30\n",
      "1070994/1070994 [==============================] - 2s 2us/step - loss: 76683.2174 - acc: 0.1514\n",
      "Epoch 19/30\n",
      "1070994/1070994 [==============================] - 2s 2us/step - loss: 74697.6858 - acc: 0.1305\n",
      "Epoch 20/30\n",
      "1070994/1070994 [==============================] - 2s 2us/step - loss: 73096.1526 - acc: 0.0610\n",
      "Epoch 21/30\n",
      "1070994/1070994 [==============================] - 2s 2us/step - loss: 71307.5736 - acc: 0.0618\n",
      "Epoch 22/30\n",
      "1070994/1070994 [==============================] - 2s 2us/step - loss: 69856.3056 - acc: 0.0335\n",
      "Epoch 23/30\n",
      "1070994/1070994 [==============================] - 2s 2us/step - loss: 68915.7400 - acc: 0.0397\n",
      "Epoch 24/30\n",
      "1070994/1070994 [==============================] - 2s 2us/step - loss: 67729.5133 - acc: 0.0367\n",
      "Epoch 25/30\n",
      "1070994/1070994 [==============================] - 2s 2us/step - loss: 67505.3669 - acc: 0.0260\n",
      "Epoch 26/30\n",
      "1070994/1070994 [==============================] - 2s 2us/step - loss: 66876.8202 - acc: 0.0317\n",
      "Epoch 27/30\n",
      "1070994/1070994 [==============================] - 2s 2us/step - loss: 66676.0434 - acc: 0.0190\n",
      "Epoch 28/30\n",
      "1070994/1070994 [==============================] - 2s 2us/step - loss: 66551.2266 - acc: 0.0205\n",
      "Epoch 29/30\n",
      "1070994/1070994 [==============================] - 2s 2us/step - loss: 66675.9123 - acc: 0.0353\n",
      "Epoch 30/30\n",
      "1070994/1070994 [==============================] - 2s 2us/step - loss: 65939.8623 - acc: 0.0430\n"
     ]
    }
   ],
   "source": [
    "## autoencoder model  --- takes time to run\n",
    "components_train = fraud.values\n",
    "\n",
    "input_dim = fraud.shape[1]\n",
    "encoding_dim =4\n",
    "\n",
    "\n",
    "\n",
    "input_layer = Input(shape=(input_dim, ))\n",
    "#encoder = Dense(encoding_dim, activation=\"elu\", \n",
    "#               activity_regularizer=regularizers.l1(10e-5))(input_layer)    # for classification variables\n",
    "\n",
    "encoder = Dense(int(encoding_dim ), activation=\"relu\")(input_layer)\n",
    "decoder = Dense(int(encoding_dim ), activation='elu')(encoder)\n",
    "decoder = Dense(input_dim, activation='relu')(decoder)\n",
    "autoencoder = Model(inputs=input_layer, outputs=decoder)\n",
    "\n",
    "\n",
    "nb_epoch = 30\n",
    "batch_size = 512\n",
    "autoencoder.compile(optimizer='adam', \n",
    "                    loss='mean_squared_error', \n",
    "                    metrics=['accuracy'])\n",
    "checkpointer = ModelCheckpoint(filepath=\"model.h5\",\n",
    "                               verbose=0,\n",
    "                               save_best_only=True)\n",
    "tensorboard = TensorBoard(log_dir='./logs',\n",
    "                          histogram_freq=0,\n",
    "                          write_graph=True,\n",
    "                          write_images=True)\n",
    "history = autoencoder.fit(components_train, components_train,\n",
    "                    epochs=nb_epoch,\n",
    "                    batch_size=batch_size,\n",
    "                    shuffle=True,\n",
    "                   # validation_data=(X_test, X_test),\n",
    "                    verbose=1,\n",
    "                   callbacks=[checkpointer, tensorboard]\n",
    "                    ).history"
   ]
  },
  {
   "cell_type": "code",
   "execution_count": 141,
   "metadata": {},
   "outputs": [],
   "source": [
    "#components_train"
   ]
  },
  {
   "cell_type": "code",
   "execution_count": 144,
   "metadata": {},
   "outputs": [
    {
     "data": {
      "text/plain": [
       "array([[0.0000000e+00, 4.2756677e-02, 0.0000000e+00, ..., 0.0000000e+00,\n",
       "        0.0000000e+00, 2.0290017e-03],\n",
       "       [0.0000000e+00, 1.9688210e+02, 0.0000000e+00, ..., 0.0000000e+00,\n",
       "        1.4149045e+02, 0.0000000e+00],\n",
       "       [0.0000000e+00, 7.0408583e-02, 0.0000000e+00, ..., 0.0000000e+00,\n",
       "        0.0000000e+00, 0.0000000e+00],\n",
       "       ...,\n",
       "       [0.0000000e+00, 4.4470191e-02, 0.0000000e+00, ..., 0.0000000e+00,\n",
       "        0.0000000e+00, 1.7015934e-03],\n",
       "       [0.0000000e+00, 4.4206500e-02, 0.0000000e+00, ..., 0.0000000e+00,\n",
       "        0.0000000e+00, 1.7497540e-03],\n",
       "       [0.0000000e+00, 4.3702245e-02, 0.0000000e+00, ..., 0.0000000e+00,\n",
       "        0.0000000e+00, 1.8537045e-03]], dtype=float32)"
      ]
     },
     "execution_count": 144,
     "metadata": {},
     "output_type": "execute_result"
    }
   ],
   "source": [
    "predictions = autoencoder.predict(components_train)\n",
    "predictions"
   ]
  },
  {
   "cell_type": "code",
   "execution_count": 145,
   "metadata": {},
   "outputs": [],
   "source": [
    "\n",
    "predictions = pd.DataFrame.from_records(predictions, columns = ['component1', 'component2', 'component3', \n",
    "                                                             'component4', 'component5', 'component6', \n",
    "                                                             'component7', 'component8'] ) \n"
   ]
  },
  {
   "cell_type": "code",
   "execution_count": 146,
   "metadata": {},
   "outputs": [],
   "source": [
    "names = ['component1', 'component2', 'component3', 'component4', 'component5', 'component6', 'component7', \n",
    "         'component8']\n",
    "for column in names:\n",
    "    predictions[''.join([column, '_', \"diff\"])] = abs(fraud.loc[:,column] - predictions.loc[:,column])"
   ]
  },
  {
   "cell_type": "code",
   "execution_count": 147,
   "metadata": {},
   "outputs": [
    {
     "data": {
      "text/html": [
       "<div>\n",
       "<style scoped>\n",
       "    .dataframe tbody tr th:only-of-type {\n",
       "        vertical-align: middle;\n",
       "    }\n",
       "\n",
       "    .dataframe tbody tr th {\n",
       "        vertical-align: top;\n",
       "    }\n",
       "\n",
       "    .dataframe thead th {\n",
       "        text-align: right;\n",
       "    }\n",
       "</style>\n",
       "<table border=\"1\" class=\"dataframe\">\n",
       "  <thead>\n",
       "    <tr style=\"text-align: right;\">\n",
       "      <th></th>\n",
       "      <th>component1</th>\n",
       "      <th>component2</th>\n",
       "      <th>component3</th>\n",
       "      <th>component4</th>\n",
       "      <th>component5</th>\n",
       "      <th>component6</th>\n",
       "      <th>component7</th>\n",
       "      <th>component8</th>\n",
       "      <th>component1_diff</th>\n",
       "      <th>component2_diff</th>\n",
       "      <th>component3_diff</th>\n",
       "      <th>component4_diff</th>\n",
       "      <th>component5_diff</th>\n",
       "      <th>component6_diff</th>\n",
       "      <th>component7_diff</th>\n",
       "      <th>component8_diff</th>\n",
       "    </tr>\n",
       "  </thead>\n",
       "  <tbody>\n",
       "    <tr>\n",
       "      <th>0</th>\n",
       "      <td>0.0</td>\n",
       "      <td>0.042757</td>\n",
       "      <td>0.0</td>\n",
       "      <td>0.000646</td>\n",
       "      <td>0.000000</td>\n",
       "      <td>0.0</td>\n",
       "      <td>0.000000</td>\n",
       "      <td>0.002029</td>\n",
       "      <td>0.000741</td>\n",
       "      <td>0.042753</td>\n",
       "      <td>0.000101</td>\n",
       "      <td>0.000641</td>\n",
       "      <td>0.000615</td>\n",
       "      <td>0.000111</td>\n",
       "      <td>0.000965</td>\n",
       "      <td>2.022553e-03</td>\n",
       "    </tr>\n",
       "    <tr>\n",
       "      <th>1</th>\n",
       "      <td>0.0</td>\n",
       "      <td>196.882095</td>\n",
       "      <td>0.0</td>\n",
       "      <td>0.000000</td>\n",
       "      <td>6.781524</td>\n",
       "      <td>0.0</td>\n",
       "      <td>141.490448</td>\n",
       "      <td>0.000000</td>\n",
       "      <td>0.001362</td>\n",
       "      <td>190.999877</td>\n",
       "      <td>0.000032</td>\n",
       "      <td>0.000080</td>\n",
       "      <td>6.770034</td>\n",
       "      <td>0.047123</td>\n",
       "      <td>376.574632</td>\n",
       "      <td>1.498176e-08</td>\n",
       "    </tr>\n",
       "    <tr>\n",
       "      <th>2</th>\n",
       "      <td>0.0</td>\n",
       "      <td>0.070409</td>\n",
       "      <td>0.0</td>\n",
       "      <td>0.000000</td>\n",
       "      <td>0.000000</td>\n",
       "      <td>0.0</td>\n",
       "      <td>0.000000</td>\n",
       "      <td>0.000000</td>\n",
       "      <td>0.000869</td>\n",
       "      <td>0.069975</td>\n",
       "      <td>0.000283</td>\n",
       "      <td>0.000006</td>\n",
       "      <td>0.000743</td>\n",
       "      <td>0.000153</td>\n",
       "      <td>0.048233</td>\n",
       "      <td>1.234938e-06</td>\n",
       "    </tr>\n",
       "    <tr>\n",
       "      <th>3</th>\n",
       "      <td>0.0</td>\n",
       "      <td>0.052126</td>\n",
       "      <td>0.0</td>\n",
       "      <td>0.000000</td>\n",
       "      <td>0.000000</td>\n",
       "      <td>0.0</td>\n",
       "      <td>0.000000</td>\n",
       "      <td>0.000900</td>\n",
       "      <td>0.000872</td>\n",
       "      <td>0.043205</td>\n",
       "      <td>0.000175</td>\n",
       "      <td>0.000004</td>\n",
       "      <td>0.000703</td>\n",
       "      <td>0.000136</td>\n",
       "      <td>0.000244</td>\n",
       "      <td>9.003886e-04</td>\n",
       "    </tr>\n",
       "    <tr>\n",
       "      <th>4</th>\n",
       "      <td>0.0</td>\n",
       "      <td>165.205536</td>\n",
       "      <td>0.0</td>\n",
       "      <td>0.000000</td>\n",
       "      <td>0.000000</td>\n",
       "      <td>0.0</td>\n",
       "      <td>12.763168</td>\n",
       "      <td>0.000000</td>\n",
       "      <td>0.001237</td>\n",
       "      <td>3.612903</td>\n",
       "      <td>0.034072</td>\n",
       "      <td>0.000029</td>\n",
       "      <td>0.000836</td>\n",
       "      <td>0.000486</td>\n",
       "      <td>8.614337</td>\n",
       "      <td>9.764320e-10</td>\n",
       "    </tr>\n",
       "  </tbody>\n",
       "</table>\n",
       "</div>"
      ],
      "text/plain": [
       "   component1  component2  component3  component4  component5  component6  \\\n",
       "0         0.0    0.042757         0.0    0.000646    0.000000         0.0   \n",
       "1         0.0  196.882095         0.0    0.000000    6.781524         0.0   \n",
       "2         0.0    0.070409         0.0    0.000000    0.000000         0.0   \n",
       "3         0.0    0.052126         0.0    0.000000    0.000000         0.0   \n",
       "4         0.0  165.205536         0.0    0.000000    0.000000         0.0   \n",
       "\n",
       "   component7  component8  component1_diff  component2_diff  component3_diff  \\\n",
       "0    0.000000    0.002029         0.000741         0.042753         0.000101   \n",
       "1  141.490448    0.000000         0.001362       190.999877         0.000032   \n",
       "2    0.000000    0.000000         0.000869         0.069975         0.000283   \n",
       "3    0.000000    0.000900         0.000872         0.043205         0.000175   \n",
       "4   12.763168    0.000000         0.001237         3.612903         0.034072   \n",
       "\n",
       "   component4_diff  component5_diff  component6_diff  component7_diff  \\\n",
       "0         0.000641         0.000615         0.000111         0.000965   \n",
       "1         0.000080         6.770034         0.047123       376.574632   \n",
       "2         0.000006         0.000743         0.000153         0.048233   \n",
       "3         0.000004         0.000703         0.000136         0.000244   \n",
       "4         0.000029         0.000836         0.000486         8.614337   \n",
       "\n",
       "   component8_diff  \n",
       "0     2.022553e-03  \n",
       "1     1.498176e-08  \n",
       "2     1.234938e-06  \n",
       "3     9.003886e-04  \n",
       "4     9.764320e-10  "
      ]
     },
     "execution_count": 147,
     "metadata": {},
     "output_type": "execute_result"
    }
   ],
   "source": [
    "predictions.head()"
   ]
  },
  {
   "cell_type": "code",
   "execution_count": 148,
   "metadata": {},
   "outputs": [],
   "source": [
    "# autoencoder error score \n",
    "predictions['autoencodererr_score'] =  predictions.loc[:, 'component1_diff':'component8_diff'].apply(lambda x:x*x).apply(sum, axis =1)**0.5\n"
   ]
  },
  {
   "cell_type": "code",
   "execution_count": 149,
   "metadata": {},
   "outputs": [],
   "source": [
    "processed_df= predictions[['autoencodererr_score']]"
   ]
  },
  {
   "cell_type": "code",
   "execution_count": 150,
   "metadata": {
    "scrolled": true
   },
   "outputs": [
    {
     "data": {
      "text/html": [
       "<div>\n",
       "<style scoped>\n",
       "    .dataframe tbody tr th:only-of-type {\n",
       "        vertical-align: middle;\n",
       "    }\n",
       "\n",
       "    .dataframe tbody tr th {\n",
       "        vertical-align: top;\n",
       "    }\n",
       "\n",
       "    .dataframe thead th {\n",
       "        text-align: right;\n",
       "    }\n",
       "</style>\n",
       "<table border=\"1\" class=\"dataframe\">\n",
       "  <thead>\n",
       "    <tr style=\"text-align: right;\">\n",
       "      <th></th>\n",
       "      <th>autoencodererr_score</th>\n",
       "    </tr>\n",
       "  </thead>\n",
       "  <tbody>\n",
       "    <tr>\n",
       "      <th>0</th>\n",
       "      <td>0.042828</td>\n",
       "    </tr>\n",
       "    <tr>\n",
       "      <th>1</th>\n",
       "      <td>422.297575</td>\n",
       "    </tr>\n",
       "    <tr>\n",
       "      <th>2</th>\n",
       "      <td>0.084996</td>\n",
       "    </tr>\n",
       "    <tr>\n",
       "      <th>3</th>\n",
       "      <td>0.043230</td>\n",
       "    </tr>\n",
       "    <tr>\n",
       "      <th>4</th>\n",
       "      <td>9.341361</td>\n",
       "    </tr>\n",
       "  </tbody>\n",
       "</table>\n",
       "</div>"
      ],
      "text/plain": [
       "   autoencodererr_score\n",
       "0              0.042828\n",
       "1            422.297575\n",
       "2              0.084996\n",
       "3              0.043230\n",
       "4              9.341361"
      ]
     },
     "execution_count": 150,
     "metadata": {},
     "output_type": "execute_result"
    }
   ],
   "source": [
    "processed_df.head()\n"
   ]
  },
  {
   "cell_type": "code",
   "execution_count": 151,
   "metadata": {},
   "outputs": [
    {
     "name": "stderr",
     "output_type": "stream",
     "text": [
      "/anaconda3/lib/python3.7/site-packages/ipykernel_launcher.py:1: SettingWithCopyWarning: \n",
      "A value is trying to be set on a copy of a slice from a DataFrame.\n",
      "Try using .loc[row_indexer,col_indexer] = value instead\n",
      "\n",
      "See the caveats in the documentation: http://pandas.pydata.org/pandas-docs/stable/indexing.html#indexing-view-versus-copy\n",
      "  \"\"\"Entry point for launching an IPython kernel.\n"
     ]
    }
   ],
   "source": [
    "processed_df['outlier_score'] = hello\n"
   ]
  },
  {
   "cell_type": "code",
   "execution_count": 152,
   "metadata": {},
   "outputs": [],
   "source": [
    "#processed_df['autoencodererr_rank'] = processed_df.autoencodererr_score.argsort()\n",
    "#processed_df['fraud_rank'] = processed_df[['outlier_rank', 'autoencodererr_rank']].apply(min, axis = 1)\n",
    "#processed_df['fraud_score'] = processed_df[['outlier_score', 'autoencodererr_score']].apply(max, axis = 1)\n",
    "\n",
    "#Top10_FraudRecords = processed_df.sort_values([\"fraud_score\"], ascending = False).head(10)\n"
   ]
  },
  {
   "cell_type": "code",
   "execution_count": 153,
   "metadata": {},
   "outputs": [
    {
     "data": {
      "text/html": [
       "<div>\n",
       "<style scoped>\n",
       "    .dataframe tbody tr th:only-of-type {\n",
       "        vertical-align: middle;\n",
       "    }\n",
       "\n",
       "    .dataframe tbody tr th {\n",
       "        vertical-align: top;\n",
       "    }\n",
       "\n",
       "    .dataframe thead th {\n",
       "        text-align: right;\n",
       "    }\n",
       "</style>\n",
       "<table border=\"1\" class=\"dataframe\">\n",
       "  <thead>\n",
       "    <tr style=\"text-align: right;\">\n",
       "      <th></th>\n",
       "      <th>autoencodererr_score</th>\n",
       "      <th>outlier_score</th>\n",
       "    </tr>\n",
       "  </thead>\n",
       "  <tbody>\n",
       "    <tr>\n",
       "      <th>0</th>\n",
       "      <td>0.042828</td>\n",
       "      <td>0.050472</td>\n",
       "    </tr>\n",
       "    <tr>\n",
       "      <th>1</th>\n",
       "      <td>422.297575</td>\n",
       "      <td>22.891208</td>\n",
       "    </tr>\n",
       "    <tr>\n",
       "      <th>2</th>\n",
       "      <td>0.084996</td>\n",
       "      <td>0.225215</td>\n",
       "    </tr>\n",
       "    <tr>\n",
       "      <th>3</th>\n",
       "      <td>0.043230</td>\n",
       "      <td>0.105142</td>\n",
       "    </tr>\n",
       "    <tr>\n",
       "      <th>4</th>\n",
       "      <td>9.341361</td>\n",
       "      <td>13.153096</td>\n",
       "    </tr>\n",
       "  </tbody>\n",
       "</table>\n",
       "</div>"
      ],
      "text/plain": [
       "   autoencodererr_score  outlier_score\n",
       "0              0.042828       0.050472\n",
       "1            422.297575      22.891208\n",
       "2              0.084996       0.225215\n",
       "3              0.043230       0.105142\n",
       "4              9.341361      13.153096"
      ]
     },
     "execution_count": 153,
     "metadata": {},
     "output_type": "execute_result"
    }
   ],
   "source": [
    "processed_df.head()"
   ]
  },
  {
   "cell_type": "code",
   "execution_count": 154,
   "metadata": {},
   "outputs": [
    {
     "ename": "KeyError",
     "evalue": "'outlier_rank'",
     "output_type": "error",
     "traceback": [
      "\u001b[0;31m---------------------------------------------------------------------------\u001b[0m",
      "\u001b[0;31mKeyError\u001b[0m                                  Traceback (most recent call last)",
      "\u001b[0;32m/anaconda3/lib/python3.7/site-packages/pandas/core/indexes/base.py\u001b[0m in \u001b[0;36mget_loc\u001b[0;34m(self, key, method, tolerance)\u001b[0m\n\u001b[1;32m   3077\u001b[0m             \u001b[0;32mtry\u001b[0m\u001b[0;34m:\u001b[0m\u001b[0;34m\u001b[0m\u001b[0;34m\u001b[0m\u001b[0m\n\u001b[0;32m-> 3078\u001b[0;31m                 \u001b[0;32mreturn\u001b[0m \u001b[0mself\u001b[0m\u001b[0;34m.\u001b[0m\u001b[0m_engine\u001b[0m\u001b[0;34m.\u001b[0m\u001b[0mget_loc\u001b[0m\u001b[0;34m(\u001b[0m\u001b[0mkey\u001b[0m\u001b[0;34m)\u001b[0m\u001b[0;34m\u001b[0m\u001b[0;34m\u001b[0m\u001b[0m\n\u001b[0m\u001b[1;32m   3079\u001b[0m             \u001b[0;32mexcept\u001b[0m \u001b[0mKeyError\u001b[0m\u001b[0;34m:\u001b[0m\u001b[0;34m\u001b[0m\u001b[0;34m\u001b[0m\u001b[0m\n",
      "\u001b[0;32mpandas/_libs/index.pyx\u001b[0m in \u001b[0;36mpandas._libs.index.IndexEngine.get_loc\u001b[0;34m()\u001b[0m\n",
      "\u001b[0;32mpandas/_libs/index.pyx\u001b[0m in \u001b[0;36mpandas._libs.index.IndexEngine.get_loc\u001b[0;34m()\u001b[0m\n",
      "\u001b[0;32mpandas/_libs/hashtable_class_helper.pxi\u001b[0m in \u001b[0;36mpandas._libs.hashtable.PyObjectHashTable.get_item\u001b[0;34m()\u001b[0m\n",
      "\u001b[0;32mpandas/_libs/hashtable_class_helper.pxi\u001b[0m in \u001b[0;36mpandas._libs.hashtable.PyObjectHashTable.get_item\u001b[0;34m()\u001b[0m\n",
      "\u001b[0;31mKeyError\u001b[0m: 'outlier_rank'",
      "\nDuring handling of the above exception, another exception occurred:\n",
      "\u001b[0;31mKeyError\u001b[0m                                  Traceback (most recent call last)",
      "\u001b[0;32m<ipython-input-154-75a6fe0ba2ca>\u001b[0m in \u001b[0;36m<module>\u001b[0;34m\u001b[0m\n\u001b[0;32m----> 1\u001b[0;31m \u001b[0;32mdel\u001b[0m \u001b[0mprocessed_df\u001b[0m\u001b[0;34m[\u001b[0m\u001b[0;34m'outlier_rank'\u001b[0m\u001b[0;34m]\u001b[0m\u001b[0;34m\u001b[0m\u001b[0;34m\u001b[0m\u001b[0m\n\u001b[0m",
      "\u001b[0;32m/anaconda3/lib/python3.7/site-packages/pandas/core/generic.py\u001b[0m in \u001b[0;36m__delitem__\u001b[0;34m(self, key)\u001b[0m\n\u001b[1;32m   2741\u001b[0m             \u001b[0;31m# there was no match, this call should raise the appropriate\u001b[0m\u001b[0;34m\u001b[0m\u001b[0;34m\u001b[0m\u001b[0;34m\u001b[0m\u001b[0m\n\u001b[1;32m   2742\u001b[0m             \u001b[0;31m# exception:\u001b[0m\u001b[0;34m\u001b[0m\u001b[0;34m\u001b[0m\u001b[0;34m\u001b[0m\u001b[0m\n\u001b[0;32m-> 2743\u001b[0;31m             \u001b[0mself\u001b[0m\u001b[0;34m.\u001b[0m\u001b[0m_data\u001b[0m\u001b[0;34m.\u001b[0m\u001b[0mdelete\u001b[0m\u001b[0;34m(\u001b[0m\u001b[0mkey\u001b[0m\u001b[0;34m)\u001b[0m\u001b[0;34m\u001b[0m\u001b[0;34m\u001b[0m\u001b[0m\n\u001b[0m\u001b[1;32m   2744\u001b[0m \u001b[0;34m\u001b[0m\u001b[0m\n\u001b[1;32m   2745\u001b[0m         \u001b[0;31m# delete from the caches\u001b[0m\u001b[0;34m\u001b[0m\u001b[0;34m\u001b[0m\u001b[0;34m\u001b[0m\u001b[0m\n",
      "\u001b[0;32m/anaconda3/lib/python3.7/site-packages/pandas/core/internals.py\u001b[0m in \u001b[0;36mdelete\u001b[0;34m(self, item)\u001b[0m\n\u001b[1;32m   4172\u001b[0m         \u001b[0mDelete\u001b[0m \u001b[0mselected\u001b[0m \u001b[0mitem\u001b[0m \u001b[0;34m(\u001b[0m\u001b[0mitems\u001b[0m \u001b[0;32mif\u001b[0m \u001b[0mnon\u001b[0m\u001b[0;34m-\u001b[0m\u001b[0munique\u001b[0m\u001b[0;34m)\u001b[0m \u001b[0;32min\u001b[0m\u001b[0;34m-\u001b[0m\u001b[0mplace\u001b[0m\u001b[0;34m.\u001b[0m\u001b[0;34m\u001b[0m\u001b[0;34m\u001b[0m\u001b[0m\n\u001b[1;32m   4173\u001b[0m         \"\"\"\n\u001b[0;32m-> 4174\u001b[0;31m         \u001b[0mindexer\u001b[0m \u001b[0;34m=\u001b[0m \u001b[0mself\u001b[0m\u001b[0;34m.\u001b[0m\u001b[0mitems\u001b[0m\u001b[0;34m.\u001b[0m\u001b[0mget_loc\u001b[0m\u001b[0;34m(\u001b[0m\u001b[0mitem\u001b[0m\u001b[0;34m)\u001b[0m\u001b[0;34m\u001b[0m\u001b[0;34m\u001b[0m\u001b[0m\n\u001b[0m\u001b[1;32m   4175\u001b[0m \u001b[0;34m\u001b[0m\u001b[0m\n\u001b[1;32m   4176\u001b[0m         \u001b[0mis_deleted\u001b[0m \u001b[0;34m=\u001b[0m \u001b[0mnp\u001b[0m\u001b[0;34m.\u001b[0m\u001b[0mzeros\u001b[0m\u001b[0;34m(\u001b[0m\u001b[0mself\u001b[0m\u001b[0;34m.\u001b[0m\u001b[0mshape\u001b[0m\u001b[0;34m[\u001b[0m\u001b[0;36m0\u001b[0m\u001b[0;34m]\u001b[0m\u001b[0;34m,\u001b[0m \u001b[0mdtype\u001b[0m\u001b[0;34m=\u001b[0m\u001b[0mnp\u001b[0m\u001b[0;34m.\u001b[0m\u001b[0mbool_\u001b[0m\u001b[0;34m)\u001b[0m\u001b[0;34m\u001b[0m\u001b[0;34m\u001b[0m\u001b[0m\n",
      "\u001b[0;32m/anaconda3/lib/python3.7/site-packages/pandas/core/indexes/base.py\u001b[0m in \u001b[0;36mget_loc\u001b[0;34m(self, key, method, tolerance)\u001b[0m\n\u001b[1;32m   3078\u001b[0m                 \u001b[0;32mreturn\u001b[0m \u001b[0mself\u001b[0m\u001b[0;34m.\u001b[0m\u001b[0m_engine\u001b[0m\u001b[0;34m.\u001b[0m\u001b[0mget_loc\u001b[0m\u001b[0;34m(\u001b[0m\u001b[0mkey\u001b[0m\u001b[0;34m)\u001b[0m\u001b[0;34m\u001b[0m\u001b[0;34m\u001b[0m\u001b[0m\n\u001b[1;32m   3079\u001b[0m             \u001b[0;32mexcept\u001b[0m \u001b[0mKeyError\u001b[0m\u001b[0;34m:\u001b[0m\u001b[0;34m\u001b[0m\u001b[0;34m\u001b[0m\u001b[0m\n\u001b[0;32m-> 3080\u001b[0;31m                 \u001b[0;32mreturn\u001b[0m \u001b[0mself\u001b[0m\u001b[0;34m.\u001b[0m\u001b[0m_engine\u001b[0m\u001b[0;34m.\u001b[0m\u001b[0mget_loc\u001b[0m\u001b[0;34m(\u001b[0m\u001b[0mself\u001b[0m\u001b[0;34m.\u001b[0m\u001b[0m_maybe_cast_indexer\u001b[0m\u001b[0;34m(\u001b[0m\u001b[0mkey\u001b[0m\u001b[0;34m)\u001b[0m\u001b[0;34m)\u001b[0m\u001b[0;34m\u001b[0m\u001b[0;34m\u001b[0m\u001b[0m\n\u001b[0m\u001b[1;32m   3081\u001b[0m \u001b[0;34m\u001b[0m\u001b[0m\n\u001b[1;32m   3082\u001b[0m         \u001b[0mindexer\u001b[0m \u001b[0;34m=\u001b[0m \u001b[0mself\u001b[0m\u001b[0;34m.\u001b[0m\u001b[0mget_indexer\u001b[0m\u001b[0;34m(\u001b[0m\u001b[0;34m[\u001b[0m\u001b[0mkey\u001b[0m\u001b[0;34m]\u001b[0m\u001b[0;34m,\u001b[0m \u001b[0mmethod\u001b[0m\u001b[0;34m=\u001b[0m\u001b[0mmethod\u001b[0m\u001b[0;34m,\u001b[0m \u001b[0mtolerance\u001b[0m\u001b[0;34m=\u001b[0m\u001b[0mtolerance\u001b[0m\u001b[0;34m)\u001b[0m\u001b[0;34m\u001b[0m\u001b[0;34m\u001b[0m\u001b[0m\n",
      "\u001b[0;32mpandas/_libs/index.pyx\u001b[0m in \u001b[0;36mpandas._libs.index.IndexEngine.get_loc\u001b[0;34m()\u001b[0m\n",
      "\u001b[0;32mpandas/_libs/index.pyx\u001b[0m in \u001b[0;36mpandas._libs.index.IndexEngine.get_loc\u001b[0;34m()\u001b[0m\n",
      "\u001b[0;32mpandas/_libs/hashtable_class_helper.pxi\u001b[0m in \u001b[0;36mpandas._libs.hashtable.PyObjectHashTable.get_item\u001b[0;34m()\u001b[0m\n",
      "\u001b[0;32mpandas/_libs/hashtable_class_helper.pxi\u001b[0m in \u001b[0;36mpandas._libs.hashtable.PyObjectHashTable.get_item\u001b[0;34m()\u001b[0m\n",
      "\u001b[0;31mKeyError\u001b[0m: 'outlier_rank'"
     ]
    }
   ],
   "source": [
    "del processed_df['outlier_rank']"
   ]
  },
  {
   "cell_type": "code",
   "execution_count": 155,
   "metadata": {},
   "outputs": [
    {
     "data": {
      "text/plain": [
       "641472.5849701522"
      ]
     },
     "execution_count": 155,
     "metadata": {},
     "output_type": "execute_result"
    }
   ],
   "source": [
    "max(processed_df['autoencodererr_score'])"
   ]
  },
  {
   "cell_type": "code",
   "execution_count": 156,
   "metadata": {},
   "outputs": [],
   "source": [
    "processed_df.columns = ['s1', 's2']"
   ]
  },
  {
   "cell_type": "code",
   "execution_count": 157,
   "metadata": {},
   "outputs": [
    {
     "name": "stderr",
     "output_type": "stream",
     "text": [
      "/anaconda3/lib/python3.7/site-packages/ipykernel_launcher.py:1: SettingWithCopyWarning: \n",
      "A value is trying to be set on a copy of a slice from a DataFrame.\n",
      "Try using .loc[row_indexer,col_indexer] = value instead\n",
      "\n",
      "See the caveats in the documentation: http://pandas.pydata.org/pandas-docs/stable/indexing.html#indexing-view-versus-copy\n",
      "  \"\"\"Entry point for launching an IPython kernel.\n"
     ]
    }
   ],
   "source": [
    "processed_df['rankorder']= processed_df['s1'].rank(method='first', ascending = True)\n",
    "processed_df = processed_df.sort_values(by = 's1', ascending = False)"
   ]
  },
  {
   "cell_type": "code",
   "execution_count": 158,
   "metadata": {},
   "outputs": [
    {
     "data": {
      "text/html": [
       "<div>\n",
       "<style scoped>\n",
       "    .dataframe tbody tr th:only-of-type {\n",
       "        vertical-align: middle;\n",
       "    }\n",
       "\n",
       "    .dataframe tbody tr th {\n",
       "        vertical-align: top;\n",
       "    }\n",
       "\n",
       "    .dataframe thead th {\n",
       "        text-align: right;\n",
       "    }\n",
       "</style>\n",
       "<table border=\"1\" class=\"dataframe\">\n",
       "  <thead>\n",
       "    <tr style=\"text-align: right;\">\n",
       "      <th></th>\n",
       "      <th>s1</th>\n",
       "      <th>s2</th>\n",
       "      <th>rankorder</th>\n",
       "    </tr>\n",
       "  </thead>\n",
       "  <tbody>\n",
       "    <tr>\n",
       "      <th>996721</th>\n",
       "      <td>641472.584970</td>\n",
       "      <td>1013.607085</td>\n",
       "      <td>1070994.0</td>\n",
       "    </tr>\n",
       "    <tr>\n",
       "      <th>132748</th>\n",
       "      <td>153443.395289</td>\n",
       "      <td>430.593719</td>\n",
       "      <td>1070993.0</td>\n",
       "    </tr>\n",
       "    <tr>\n",
       "      <th>565391</th>\n",
       "      <td>98451.946528</td>\n",
       "      <td>441.673571</td>\n",
       "      <td>1070992.0</td>\n",
       "    </tr>\n",
       "    <tr>\n",
       "      <th>7041</th>\n",
       "      <td>68963.995892</td>\n",
       "      <td>308.436071</td>\n",
       "      <td>1070990.0</td>\n",
       "    </tr>\n",
       "    <tr>\n",
       "      <th>7040</th>\n",
       "      <td>68963.995892</td>\n",
       "      <td>308.436071</td>\n",
       "      <td>1070989.0</td>\n",
       "    </tr>\n",
       "  </tbody>\n",
       "</table>\n",
       "</div>"
      ],
      "text/plain": [
       "                   s1           s2  rankorder\n",
       "996721  641472.584970  1013.607085  1070994.0\n",
       "132748  153443.395289   430.593719  1070993.0\n",
       "565391   98451.946528   441.673571  1070992.0\n",
       "7041     68963.995892   308.436071  1070990.0\n",
       "7040     68963.995892   308.436071  1070989.0"
      ]
     },
     "execution_count": 158,
     "metadata": {},
     "output_type": "execute_result"
    }
   ],
   "source": [
    "processed_df.head()"
   ]
  },
  {
   "cell_type": "code",
   "execution_count": 159,
   "metadata": {},
   "outputs": [],
   "source": [
    "auto = processed_df[['s2']]"
   ]
  },
  {
   "cell_type": "code",
   "execution_count": 160,
   "metadata": {},
   "outputs": [],
   "source": [
    "del processed_df['s2']"
   ]
  },
  {
   "cell_type": "code",
   "execution_count": 161,
   "metadata": {},
   "outputs": [],
   "source": [
    "auto['rankorders']= auto['s2'].rank(method='first', ascending = True)\n",
    "auto = auto.sort_values(by = 's2', ascending = False)"
   ]
  },
  {
   "cell_type": "code",
   "execution_count": 162,
   "metadata": {},
   "outputs": [
    {
     "ename": "KeyError",
     "evalue": "'rankorder'",
     "output_type": "error",
     "traceback": [
      "\u001b[0;31m---------------------------------------------------------------------------\u001b[0m",
      "\u001b[0;31mKeyError\u001b[0m                                  Traceback (most recent call last)",
      "\u001b[0;32m/anaconda3/lib/python3.7/site-packages/pandas/core/indexes/base.py\u001b[0m in \u001b[0;36mget_loc\u001b[0;34m(self, key, method, tolerance)\u001b[0m\n\u001b[1;32m   3077\u001b[0m             \u001b[0;32mtry\u001b[0m\u001b[0;34m:\u001b[0m\u001b[0;34m\u001b[0m\u001b[0;34m\u001b[0m\u001b[0m\n\u001b[0;32m-> 3078\u001b[0;31m                 \u001b[0;32mreturn\u001b[0m \u001b[0mself\u001b[0m\u001b[0;34m.\u001b[0m\u001b[0m_engine\u001b[0m\u001b[0;34m.\u001b[0m\u001b[0mget_loc\u001b[0m\u001b[0;34m(\u001b[0m\u001b[0mkey\u001b[0m\u001b[0;34m)\u001b[0m\u001b[0;34m\u001b[0m\u001b[0;34m\u001b[0m\u001b[0m\n\u001b[0m\u001b[1;32m   3079\u001b[0m             \u001b[0;32mexcept\u001b[0m \u001b[0mKeyError\u001b[0m\u001b[0;34m:\u001b[0m\u001b[0;34m\u001b[0m\u001b[0;34m\u001b[0m\u001b[0m\n",
      "\u001b[0;32mpandas/_libs/index.pyx\u001b[0m in \u001b[0;36mpandas._libs.index.IndexEngine.get_loc\u001b[0;34m()\u001b[0m\n",
      "\u001b[0;32mpandas/_libs/index.pyx\u001b[0m in \u001b[0;36mpandas._libs.index.IndexEngine.get_loc\u001b[0;34m()\u001b[0m\n",
      "\u001b[0;32mpandas/_libs/hashtable_class_helper.pxi\u001b[0m in \u001b[0;36mpandas._libs.hashtable.PyObjectHashTable.get_item\u001b[0;34m()\u001b[0m\n",
      "\u001b[0;32mpandas/_libs/hashtable_class_helper.pxi\u001b[0m in \u001b[0;36mpandas._libs.hashtable.PyObjectHashTable.get_item\u001b[0;34m()\u001b[0m\n",
      "\u001b[0;31mKeyError\u001b[0m: 'rankorder'",
      "\nDuring handling of the above exception, another exception occurred:\n",
      "\u001b[0;31mKeyError\u001b[0m                                  Traceback (most recent call last)",
      "\u001b[0;32m<ipython-input-162-eb30c02a82f1>\u001b[0m in \u001b[0;36m<module>\u001b[0;34m\u001b[0m\n\u001b[1;32m      1\u001b[0m \u001b[0mauto\u001b[0m\u001b[0;34m.\u001b[0m\u001b[0mhead\u001b[0m\u001b[0;34m(\u001b[0m\u001b[0;34m)\u001b[0m\u001b[0;34m\u001b[0m\u001b[0;34m\u001b[0m\u001b[0m\n\u001b[0;32m----> 2\u001b[0;31m \u001b[0;32mdel\u001b[0m \u001b[0mauto\u001b[0m\u001b[0;34m[\u001b[0m\u001b[0;34m'rankorder'\u001b[0m\u001b[0;34m]\u001b[0m\u001b[0;34m\u001b[0m\u001b[0;34m\u001b[0m\u001b[0m\n\u001b[0m",
      "\u001b[0;32m/anaconda3/lib/python3.7/site-packages/pandas/core/generic.py\u001b[0m in \u001b[0;36m__delitem__\u001b[0;34m(self, key)\u001b[0m\n\u001b[1;32m   2741\u001b[0m             \u001b[0;31m# there was no match, this call should raise the appropriate\u001b[0m\u001b[0;34m\u001b[0m\u001b[0;34m\u001b[0m\u001b[0;34m\u001b[0m\u001b[0m\n\u001b[1;32m   2742\u001b[0m             \u001b[0;31m# exception:\u001b[0m\u001b[0;34m\u001b[0m\u001b[0;34m\u001b[0m\u001b[0;34m\u001b[0m\u001b[0m\n\u001b[0;32m-> 2743\u001b[0;31m             \u001b[0mself\u001b[0m\u001b[0;34m.\u001b[0m\u001b[0m_data\u001b[0m\u001b[0;34m.\u001b[0m\u001b[0mdelete\u001b[0m\u001b[0;34m(\u001b[0m\u001b[0mkey\u001b[0m\u001b[0;34m)\u001b[0m\u001b[0;34m\u001b[0m\u001b[0;34m\u001b[0m\u001b[0m\n\u001b[0m\u001b[1;32m   2744\u001b[0m \u001b[0;34m\u001b[0m\u001b[0m\n\u001b[1;32m   2745\u001b[0m         \u001b[0;31m# delete from the caches\u001b[0m\u001b[0;34m\u001b[0m\u001b[0;34m\u001b[0m\u001b[0;34m\u001b[0m\u001b[0m\n",
      "\u001b[0;32m/anaconda3/lib/python3.7/site-packages/pandas/core/internals.py\u001b[0m in \u001b[0;36mdelete\u001b[0;34m(self, item)\u001b[0m\n\u001b[1;32m   4172\u001b[0m         \u001b[0mDelete\u001b[0m \u001b[0mselected\u001b[0m \u001b[0mitem\u001b[0m \u001b[0;34m(\u001b[0m\u001b[0mitems\u001b[0m \u001b[0;32mif\u001b[0m \u001b[0mnon\u001b[0m\u001b[0;34m-\u001b[0m\u001b[0munique\u001b[0m\u001b[0;34m)\u001b[0m \u001b[0;32min\u001b[0m\u001b[0;34m-\u001b[0m\u001b[0mplace\u001b[0m\u001b[0;34m.\u001b[0m\u001b[0;34m\u001b[0m\u001b[0;34m\u001b[0m\u001b[0m\n\u001b[1;32m   4173\u001b[0m         \"\"\"\n\u001b[0;32m-> 4174\u001b[0;31m         \u001b[0mindexer\u001b[0m \u001b[0;34m=\u001b[0m \u001b[0mself\u001b[0m\u001b[0;34m.\u001b[0m\u001b[0mitems\u001b[0m\u001b[0;34m.\u001b[0m\u001b[0mget_loc\u001b[0m\u001b[0;34m(\u001b[0m\u001b[0mitem\u001b[0m\u001b[0;34m)\u001b[0m\u001b[0;34m\u001b[0m\u001b[0;34m\u001b[0m\u001b[0m\n\u001b[0m\u001b[1;32m   4175\u001b[0m \u001b[0;34m\u001b[0m\u001b[0m\n\u001b[1;32m   4176\u001b[0m         \u001b[0mis_deleted\u001b[0m \u001b[0;34m=\u001b[0m \u001b[0mnp\u001b[0m\u001b[0;34m.\u001b[0m\u001b[0mzeros\u001b[0m\u001b[0;34m(\u001b[0m\u001b[0mself\u001b[0m\u001b[0;34m.\u001b[0m\u001b[0mshape\u001b[0m\u001b[0;34m[\u001b[0m\u001b[0;36m0\u001b[0m\u001b[0;34m]\u001b[0m\u001b[0;34m,\u001b[0m \u001b[0mdtype\u001b[0m\u001b[0;34m=\u001b[0m\u001b[0mnp\u001b[0m\u001b[0;34m.\u001b[0m\u001b[0mbool_\u001b[0m\u001b[0;34m)\u001b[0m\u001b[0;34m\u001b[0m\u001b[0;34m\u001b[0m\u001b[0m\n",
      "\u001b[0;32m/anaconda3/lib/python3.7/site-packages/pandas/core/indexes/base.py\u001b[0m in \u001b[0;36mget_loc\u001b[0;34m(self, key, method, tolerance)\u001b[0m\n\u001b[1;32m   3078\u001b[0m                 \u001b[0;32mreturn\u001b[0m \u001b[0mself\u001b[0m\u001b[0;34m.\u001b[0m\u001b[0m_engine\u001b[0m\u001b[0;34m.\u001b[0m\u001b[0mget_loc\u001b[0m\u001b[0;34m(\u001b[0m\u001b[0mkey\u001b[0m\u001b[0;34m)\u001b[0m\u001b[0;34m\u001b[0m\u001b[0;34m\u001b[0m\u001b[0m\n\u001b[1;32m   3079\u001b[0m             \u001b[0;32mexcept\u001b[0m \u001b[0mKeyError\u001b[0m\u001b[0;34m:\u001b[0m\u001b[0;34m\u001b[0m\u001b[0;34m\u001b[0m\u001b[0m\n\u001b[0;32m-> 3080\u001b[0;31m                 \u001b[0;32mreturn\u001b[0m \u001b[0mself\u001b[0m\u001b[0;34m.\u001b[0m\u001b[0m_engine\u001b[0m\u001b[0;34m.\u001b[0m\u001b[0mget_loc\u001b[0m\u001b[0;34m(\u001b[0m\u001b[0mself\u001b[0m\u001b[0;34m.\u001b[0m\u001b[0m_maybe_cast_indexer\u001b[0m\u001b[0;34m(\u001b[0m\u001b[0mkey\u001b[0m\u001b[0;34m)\u001b[0m\u001b[0;34m)\u001b[0m\u001b[0;34m\u001b[0m\u001b[0;34m\u001b[0m\u001b[0m\n\u001b[0m\u001b[1;32m   3081\u001b[0m \u001b[0;34m\u001b[0m\u001b[0m\n\u001b[1;32m   3082\u001b[0m         \u001b[0mindexer\u001b[0m \u001b[0;34m=\u001b[0m \u001b[0mself\u001b[0m\u001b[0;34m.\u001b[0m\u001b[0mget_indexer\u001b[0m\u001b[0;34m(\u001b[0m\u001b[0;34m[\u001b[0m\u001b[0mkey\u001b[0m\u001b[0;34m]\u001b[0m\u001b[0;34m,\u001b[0m \u001b[0mmethod\u001b[0m\u001b[0;34m=\u001b[0m\u001b[0mmethod\u001b[0m\u001b[0;34m,\u001b[0m \u001b[0mtolerance\u001b[0m\u001b[0;34m=\u001b[0m\u001b[0mtolerance\u001b[0m\u001b[0;34m)\u001b[0m\u001b[0;34m\u001b[0m\u001b[0;34m\u001b[0m\u001b[0m\n",
      "\u001b[0;32mpandas/_libs/index.pyx\u001b[0m in \u001b[0;36mpandas._libs.index.IndexEngine.get_loc\u001b[0;34m()\u001b[0m\n",
      "\u001b[0;32mpandas/_libs/index.pyx\u001b[0m in \u001b[0;36mpandas._libs.index.IndexEngine.get_loc\u001b[0;34m()\u001b[0m\n",
      "\u001b[0;32mpandas/_libs/hashtable_class_helper.pxi\u001b[0m in \u001b[0;36mpandas._libs.hashtable.PyObjectHashTable.get_item\u001b[0;34m()\u001b[0m\n",
      "\u001b[0;32mpandas/_libs/hashtable_class_helper.pxi\u001b[0m in \u001b[0;36mpandas._libs.hashtable.PyObjectHashTable.get_item\u001b[0;34m()\u001b[0m\n",
      "\u001b[0;31mKeyError\u001b[0m: 'rankorder'"
     ]
    }
   ],
   "source": [
    "auto.head()\n",
    "del auto['rankorder']"
   ]
  },
  {
   "cell_type": "code",
   "execution_count": 163,
   "metadata": {},
   "outputs": [],
   "source": [
    "#auto = (auto['rankorder'] + processed_df['rankorder'])/2"
   ]
  },
  {
   "cell_type": "code",
   "execution_count": 164,
   "metadata": {},
   "outputs": [],
   "source": [
    "auto = auto.merge(processed_df, left_index=True, right_index=True)"
   ]
  },
  {
   "cell_type": "code",
   "execution_count": 165,
   "metadata": {},
   "outputs": [],
   "source": [
    "auto['final'] = auto.apply(lambda x: (x['rankorder'] + x['rankorders'])/2, axis = 1)"
   ]
  },
  {
   "cell_type": "code",
   "execution_count": 166,
   "metadata": {},
   "outputs": [],
   "source": [
    "auto = auto.sort_values(by = 'final', ascending=False)"
   ]
  },
  {
   "cell_type": "code",
   "execution_count": 170,
   "metadata": {},
   "outputs": [
    {
     "data": {
      "text/plain": [
       "(1070994, 5)"
      ]
     },
     "execution_count": 170,
     "metadata": {},
     "output_type": "execute_result"
    }
   ],
   "source": [
    "auto.shape"
   ]
  },
  {
   "cell_type": "code",
   "execution_count": 167,
   "metadata": {},
   "outputs": [
    {
     "data": {
      "text/html": [
       "<div>\n",
       "<style scoped>\n",
       "    .dataframe tbody tr th:only-of-type {\n",
       "        vertical-align: middle;\n",
       "    }\n",
       "\n",
       "    .dataframe tbody tr th {\n",
       "        vertical-align: top;\n",
       "    }\n",
       "\n",
       "    .dataframe thead th {\n",
       "        text-align: right;\n",
       "    }\n",
       "</style>\n",
       "<table border=\"1\" class=\"dataframe\">\n",
       "  <thead>\n",
       "    <tr style=\"text-align: right;\">\n",
       "      <th></th>\n",
       "      <th>s2</th>\n",
       "      <th>rankorders</th>\n",
       "      <th>s1</th>\n",
       "      <th>rankorder</th>\n",
       "      <th>final</th>\n",
       "    </tr>\n",
       "  </thead>\n",
       "  <tbody>\n",
       "    <tr>\n",
       "      <th>996721</th>\n",
       "      <td>1013.607085</td>\n",
       "      <td>1070994.0</td>\n",
       "      <td>641472.584970</td>\n",
       "      <td>1070994.0</td>\n",
       "      <td>1070994.0</td>\n",
       "    </tr>\n",
       "    <tr>\n",
       "      <th>565391</th>\n",
       "      <td>441.673571</td>\n",
       "      <td>1070987.0</td>\n",
       "      <td>98451.946528</td>\n",
       "      <td>1070992.0</td>\n",
       "      <td>1070989.5</td>\n",
       "    </tr>\n",
       "    <tr>\n",
       "      <th>132748</th>\n",
       "      <td>430.593719</td>\n",
       "      <td>1070986.0</td>\n",
       "      <td>153443.395289</td>\n",
       "      <td>1070993.0</td>\n",
       "      <td>1070989.5</td>\n",
       "    </tr>\n",
       "    <tr>\n",
       "      <th>7042</th>\n",
       "      <td>308.436071</td>\n",
       "      <td>1070983.0</td>\n",
       "      <td>68963.995892</td>\n",
       "      <td>1070991.0</td>\n",
       "      <td>1070987.0</td>\n",
       "    </tr>\n",
       "    <tr>\n",
       "      <th>649716</th>\n",
       "      <td>554.183014</td>\n",
       "      <td>1070991.0</td>\n",
       "      <td>60257.193276</td>\n",
       "      <td>1070980.0</td>\n",
       "      <td>1070985.5</td>\n",
       "    </tr>\n",
       "    <tr>\n",
       "      <th>691985</th>\n",
       "      <td>540.237284</td>\n",
       "      <td>1070990.0</td>\n",
       "      <td>56787.285393</td>\n",
       "      <td>1070979.0</td>\n",
       "      <td>1070984.5</td>\n",
       "    </tr>\n",
       "    <tr>\n",
       "      <th>632815</th>\n",
       "      <td>726.029373</td>\n",
       "      <td>1070993.0</td>\n",
       "      <td>31729.127907</td>\n",
       "      <td>1070975.0</td>\n",
       "      <td>1070984.0</td>\n",
       "    </tr>\n",
       "    <tr>\n",
       "      <th>1053858</th>\n",
       "      <td>487.268887</td>\n",
       "      <td>1070989.0</td>\n",
       "      <td>51006.035005</td>\n",
       "      <td>1070978.0</td>\n",
       "      <td>1070983.5</td>\n",
       "    </tr>\n",
       "    <tr>\n",
       "      <th>718882</th>\n",
       "      <td>695.222613</td>\n",
       "      <td>1070992.0</td>\n",
       "      <td>16673.406191</td>\n",
       "      <td>1070974.0</td>\n",
       "      <td>1070983.0</td>\n",
       "    </tr>\n",
       "    <tr>\n",
       "      <th>111419</th>\n",
       "      <td>450.295884</td>\n",
       "      <td>1070988.0</td>\n",
       "      <td>43260.522471</td>\n",
       "      <td>1070977.0</td>\n",
       "      <td>1070982.5</td>\n",
       "    </tr>\n",
       "    <tr>\n",
       "      <th>7038</th>\n",
       "      <td>308.436071</td>\n",
       "      <td>1070976.0</td>\n",
       "      <td>68963.995892</td>\n",
       "      <td>1070987.0</td>\n",
       "      <td>1070981.5</td>\n",
       "    </tr>\n",
       "    <tr>\n",
       "      <th>7037</th>\n",
       "      <td>308.436071</td>\n",
       "      <td>1070977.0</td>\n",
       "      <td>68963.995892</td>\n",
       "      <td>1070986.0</td>\n",
       "      <td>1070981.5</td>\n",
       "    </tr>\n",
       "  </tbody>\n",
       "</table>\n",
       "</div>"
      ],
      "text/plain": [
       "                  s2  rankorders             s1  rankorder      final\n",
       "996721   1013.607085   1070994.0  641472.584970  1070994.0  1070994.0\n",
       "565391    441.673571   1070987.0   98451.946528  1070992.0  1070989.5\n",
       "132748    430.593719   1070986.0  153443.395289  1070993.0  1070989.5\n",
       "7042      308.436071   1070983.0   68963.995892  1070991.0  1070987.0\n",
       "649716    554.183014   1070991.0   60257.193276  1070980.0  1070985.5\n",
       "691985    540.237284   1070990.0   56787.285393  1070979.0  1070984.5\n",
       "632815    726.029373   1070993.0   31729.127907  1070975.0  1070984.0\n",
       "1053858   487.268887   1070989.0   51006.035005  1070978.0  1070983.5\n",
       "718882    695.222613   1070992.0   16673.406191  1070974.0  1070983.0\n",
       "111419    450.295884   1070988.0   43260.522471  1070977.0  1070982.5\n",
       "7038      308.436071   1070976.0   68963.995892  1070987.0  1070981.5\n",
       "7037      308.436071   1070977.0   68963.995892  1070986.0  1070981.5"
      ]
     },
     "execution_count": 167,
     "metadata": {},
     "output_type": "execute_result"
    }
   ],
   "source": [
    "auto[:12]"
   ]
  },
  {
   "cell_type": "code",
   "execution_count": 1,
   "metadata": {},
   "outputs": [
    {
     "ename": "NameError",
     "evalue": "name 'auto' is not defined",
     "output_type": "error",
     "traceback": [
      "\u001b[0;31m---------------------------------------------------------------------------\u001b[0m",
      "\u001b[0;31mNameError\u001b[0m                                 Traceback (most recent call last)",
      "\u001b[0;32m<ipython-input-1-aafa6a4d20bc>\u001b[0m in \u001b[0;36m<module>\u001b[0;34m\u001b[0m\n\u001b[0;32m----> 1\u001b[0;31m \u001b[0mplotdata\u001b[0m\u001b[0;34m=\u001b[0m\u001b[0mauto\u001b[0m\u001b[0;34m.\u001b[0m\u001b[0mreset_index\u001b[0m\u001b[0;34m(\u001b[0m\u001b[0;34m)\u001b[0m\u001b[0;34m\u001b[0m\u001b[0;34m\u001b[0m\u001b[0m\n\u001b[0m\u001b[1;32m      2\u001b[0m \u001b[0mxhigh\u001b[0m\u001b[0;34m=\u001b[0m\u001b[0;36m100000\u001b[0m\u001b[0;34m\u001b[0m\u001b[0;34m\u001b[0m\u001b[0m\n\u001b[1;32m      3\u001b[0m \u001b[0mtemp\u001b[0m\u001b[0;34m=\u001b[0m\u001b[0mplotdata\u001b[0m\u001b[0;34m[\u001b[0m\u001b[0mplotdata\u001b[0m\u001b[0;34m[\u001b[0m\u001b[0;34m's1'\u001b[0m\u001b[0;34m]\u001b[0m\u001b[0;34m>=\u001b[0m\u001b[0;36m10000\u001b[0m\u001b[0;34m]\u001b[0m\u001b[0;34m\u001b[0m\u001b[0;34m\u001b[0m\u001b[0m\n\u001b[1;32m      4\u001b[0m \u001b[0msns\u001b[0m\u001b[0;34m.\u001b[0m\u001b[0mdistplot\u001b[0m\u001b[0;34m(\u001b[0m\u001b[0mtemp\u001b[0m\u001b[0;34m[\u001b[0m\u001b[0;34m's1'\u001b[0m\u001b[0;34m]\u001b[0m\u001b[0;34m,\u001b[0m\u001b[0mbins\u001b[0m\u001b[0;34m=\u001b[0m\u001b[0;36m50\u001b[0m\u001b[0;34m,\u001b[0m\u001b[0mkde\u001b[0m\u001b[0;34m=\u001b[0m\u001b[0;32mTrue\u001b[0m\u001b[0;34m)\u001b[0m\u001b[0;34m\u001b[0m\u001b[0;34m\u001b[0m\u001b[0m\n\u001b[1;32m      5\u001b[0m \u001b[0mplt\u001b[0m\u001b[0;34m.\u001b[0m\u001b[0mylabel\u001b[0m\u001b[0;34m(\u001b[0m\u001b[0;34m''\u001b[0m\u001b[0;34m)\u001b[0m\u001b[0;34m\u001b[0m\u001b[0;34m\u001b[0m\u001b[0m\n",
      "\u001b[0;31mNameError\u001b[0m: name 'auto' is not defined"
     ]
    }
   ],
   "source": [
    "plotdata=auto.reset_index()\n",
    "xhigh=100000\n",
    "temp=plotdata[plotdata['s1']>=10000]\n",
    "sns.distplot(temp['s1'],bins=50,kde=True)\n",
    "plt.ylabel('')\n",
    "plt.xlabel('Score 1 above 10000')\n",
    "plt.xlim(0,xhigh)"
   ]
  },
  {
   "cell_type": "code",
   "execution_count": 181,
   "metadata": {},
   "outputs": [
    {
     "data": {
      "text/plain": [
       "<matplotlib.axes._subplots.AxesSubplot at 0x1e0dffa898>"
      ]
     },
     "execution_count": 181,
     "metadata": {},
     "output_type": "execute_result"
    },
    {
     "data": {
      "image/png": "[encoded data removed]",
      "text/plain": [
       "<Figure size 432x288 with 1 Axes>"
      ]
     },
     "metadata": {
      "needs_background": "light"
     },
     "output_type": "display_data"
    }
   ],
   "source": [
    "import seaborn as sns\n",
    "#xhigh=250\n",
    "#plt.xlim(0,xhigh)\n",
    "#temp=auto[auto['LTFRONT']<= xhigh]\n",
    "sns.distplot(auto.s1,bins=40, kde=False)\n",
    "#plt.ylabel('')"
   ]
  },
  {
   "cell_type": "code",
   "execution_count": null,
   "metadata": {},
   "outputs": [],
   "source": []
  }
 ],
 "metadata": {
  "kernelspec": {
   "display_name": "Python 3",
   "language": "python",
   "name": "python3"
  },
  "language_info": {
   "codemirror_mode": {
    "name": "ipython",
    "version": 3
   },
   "file_extension": ".py",
   "mimetype": "text/x-python",
   "name": "python",
   "nbconvert_exporter": "python",
   "pygments_lexer": "ipython3",
   "version": "3.7.1"
  }
 },
 "nbformat": 4,
 "nbformat_minor": 2
}
